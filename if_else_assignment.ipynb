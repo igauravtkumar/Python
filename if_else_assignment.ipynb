{
  "nbformat": 4,
  "nbformat_minor": 0,
  "metadata": {
    "colab": {
      "provenance": []
    },
    "kernelspec": {
      "name": "python3",
      "display_name": "Python 3"
    },
    "language_info": {
      "name": "python"
    }
  },
  "cells": [
    {
      "cell_type": "code",
      "execution_count": null,
      "metadata": {
        "colab": {
          "base_uri": "https://localhost:8080/"
        },
        "id": "r8ymqEZs-Gg7",
        "outputId": "130639a8-64f7-4861-cd4a-82bbbaed4ab3"
      },
      "outputs": [
        {
          "output_type": "stream",
          "name": "stdout",
          "text": [
            "enter  a number 4\n",
            "even\n"
          ]
        }
      ],
      "source": [
        "# Q1 Write a program that takes an integer input from the user and checks whether the number is odd or even.\n",
        "num=int(input('enter  a number'))\n",
        "if num%2==0:\n",
        "    print('even')\n",
        "else:\n",
        "    print('odd')"
      ]
    },
    {
      "cell_type": "code",
      "source": [
        "# Q2 Write a program that takes three numbers as input and prints the largest of the three.\n",
        "num1=int(input('enter a number 1 '))\n",
        "num2=int(input('enter a number 2 '))\n",
        "num3=int(input('enter a number 3 '))\n",
        "if num1>num2 and num1>num3:\n",
        "  print('num1 is largest')\n",
        "elif num2>num1 and num2>num3:\n",
        "  print('num2 is largest')\n",
        "else:\n",
        "      print('num3 is largest')"
      ],
      "metadata": {
        "colab": {
          "base_uri": "https://localhost:8080/"
        },
        "id": "GzE5WSVM-fMi",
        "outputId": "453b6f36-a11f-4f64-9e2f-d34cce77acb5"
      },
      "execution_count": null,
      "outputs": [
        {
          "output_type": "stream",
          "name": "stdout",
          "text": [
            "enter a number 1 19\n",
            "enter a number 2 29\n",
            "enter a number 3 20\n",
            "num2 is largest\n"
          ]
        }
      ]
    },
    {
      "cell_type": "code",
      "source": [
        "# Q3 Write a program to check if a given year is a leap year. A leap year is divisible by 4 but not by 100 unless it is also divisible by 400.\n",
        "year=int(input('enter a year'))\n",
        "if year%4==0 and year%100!=0 or year%400==0:\n",
        "    print('leap year')\n",
        "else:\n",
        "    print('not a leap year')\n"
      ],
      "metadata": {
        "colab": {
          "base_uri": "https://localhost:8080/"
        },
        "id": "VJdu0pIr_S9I",
        "outputId": "dab8c210-c740-4060-d4e4-fc9d8b65a0d1"
      },
      "execution_count": null,
      "outputs": [
        {
          "output_type": "stream",
          "name": "stdout",
          "text": [
            "enter a year 2020\n",
            "leap year\n"
          ]
        }
      ]
    },
    {
      "cell_type": "code",
      "source": [
        "# Q4 Write a program that takes a percentage (integer) as input and prints the corresponding grade based on the following criteria:\n",
        "marks=int(input('enter your marks'))\n",
        "\n",
        "if marks>90:\n",
        "   print('Grade : A')\n",
        "elif marks>=80:\n",
        "   print('Grade : B')\n",
        "elif marks>=70:\n",
        "   print('Grade : C')\n",
        "elif marks>=60:\n",
        "   print('Grade : D')\n",
        "else:\n",
        "  print('Grade : F')\n"
      ],
      "metadata": {
        "colab": {
          "base_uri": "https://localhost:8080/"
        },
        "id": "vaWiyXuz_bm8",
        "outputId": "026cc21d-3c6e-4189-efff-0b70b4507fd4"
      },
      "execution_count": null,
      "outputs": [
        {
          "output_type": "stream",
          "name": "stdout",
          "text": [
            "enter your marks 95\n",
            "Grade : A\n"
          ]
        }
      ]
    },
    {
      "cell_type": "code",
      "source": [
        "# Q5 Write a program that checks if a given letter is a vowel (a, e, i, o, u) or a consonant.\n",
        "letter = input(\"Enter a letter: \")\n",
        "if letter in \"aeiouAEIOU\":\n",
        "    print(f\"{letter} is a vowel.\")\n",
        "else:\n",
        "    print(f\"{letter} is a consonant.\")\n",
        "\n"
      ],
      "metadata": {
        "colab": {
          "base_uri": "https://localhost:8080/"
        },
        "id": "aepeWWXeBmt1",
        "outputId": "34e410a4-b292-4a38-af67-d8c18144f6db"
      },
      "execution_count": null,
      "outputs": [
        {
          "output_type": "stream",
          "name": "stdout",
          "text": [
            "Enter a letter: a\n",
            "a is a vowel.\n"
          ]
        }
      ]
    },
    {
      "cell_type": "code",
      "source": [
        "# Q6 Write a basic calculator program that takes two numbers and an operator (+, -, *, /) as input and performs the specified operation. Print the result based on the operation.\n",
        "num1=int(input('enter a number1'))\n",
        "num2=int(input('enter a number2'))\n",
        "operator=input('enter a operator(+,-,*,/):')\n",
        "if operator=='+':\n",
        "    print(num1+num2)\n",
        "elif operator=='-':\n",
        "    print(num1-num2)\n",
        "elif operator=='*':\n",
        "    print(num1*num2)\n",
        "elif operator=='/':\n",
        "  print(num1/num2)\n",
        "else:\n",
        "  print('invalid operator')"
      ],
      "metadata": {
        "colab": {
          "base_uri": "https://localhost:8080/"
        },
        "id": "uVMwrwVYDls8",
        "outputId": "6d4324ef-10a5-4d13-b9d7-5a2ce6758750"
      },
      "execution_count": null,
      "outputs": [
        {
          "output_type": "stream",
          "name": "stdout",
          "text": [
            "enter a number1 30\n",
            "enter a number2 32\n",
            "enter a operator(+,-,*,/):+\n",
            "62\n"
          ]
        }
      ]
    },
    {
      "cell_type": "code",
      "source": [
        "# Q7 Write a program that takes a number as input and checks whether it is positive, negative, or zero.\n",
        "n=int(input('enter a number'))\n",
        "if n>0:\n",
        "  print('positive')\n",
        "elif n<0:\n",
        "  print('negative')\n",
        "else:\n",
        "  print('zero')"
      ],
      "metadata": {
        "colab": {
          "base_uri": "https://localhost:8080/"
        },
        "id": "2gnj0fqewAiR",
        "outputId": "6d105146-fe10-4cb0-c59e-440f05f6176d"
      },
      "execution_count": null,
      "outputs": [
        {
          "output_type": "stream",
          "name": "stdout",
          "text": [
            "enter a number -3\n",
            "negative\n"
          ]
        }
      ]
    },
    {
      "cell_type": "code",
      "source": [
        "# Q8 Write a program that checks if a username and password entered by the user match the pre-set values\n",
        " # username = \"admin\" and password = \"1234\". If both match, print \"Login Successful\", otherwise print\"Login Failed\".\n",
        "user_name = input(\"Enter the username: \")\n",
        "password = input(\"Enter the password: \")\n",
        "if user_name == \"admin\" and password == \"1234\":\n",
        "  print(\"Login Successful\")\n",
        "else:\n",
        "  print(\"Login Failed\")"
      ],
      "metadata": {
        "colab": {
          "base_uri": "https://localhost:8080/"
        },
        "id": "qqgQPuMvwZX2",
        "outputId": "b12c02ee-97cc-4201-e4c0-c4f27788dbd1"
      },
      "execution_count": null,
      "outputs": [
        {
          "output_type": "stream",
          "name": "stdout",
          "text": [
            "Enter the username: admin\n",
            "Enter the password: 1234\n",
            "Login Successful\n"
          ]
        }
      ]
    },
    {
      "cell_type": "code",
      "source": [
        "# Q9 Write a program that takes three sides of a triangle as input and checks if those sides form a valid triangle. A triangle is valid if the sum of any two sides is greater than the third side. Check conditions like a + b > c, b + c > a, and a + c > b.\n",
        "a=float(input(\"enter the number a :\"))\n",
        "b=float(input(\"enter the number b :\"))\n",
        "c=float(input(\"enter the number c :\"))\n",
        "if (a + b > c and  b + c > a and a + c > b):\n",
        "  print(\"The sides form a valid triangle.\")\n",
        "else:\n",
        "  print(\"The sides do not valid triangle\")"
      ],
      "metadata": {
        "colab": {
          "base_uri": "https://localhost:8080/"
        },
        "id": "tj0hN_7UJDHp",
        "outputId": "c26181c4-ce7e-4cc0-c43d-609609141a10"
      },
      "execution_count": null,
      "outputs": [
        {
          "output_type": "stream",
          "name": "stdout",
          "text": [
            "enter the number a :12\n",
            "enter the number b :13\n",
            "enter the number c :14\n",
            "The sides form a valid triangle.\n"
          ]
        }
      ]
    },
    {
      "cell_type": "code",
      "source": [
        "# Q10 Write a program that calculates the Body Mass Index (BMI) based on user input for weight (in kilograms) and height (in meters). Then categorize the BMI into:\n",
        "weight=float(input(\"enter the weight in kilogram:\"))\n",
        "height=float(input(\"enter the height in meter:\"))\n",
        "bmi=weight/(height**2)\n",
        "if (bmi<18.5):\n",
        "  print(\"Underweight\")\n",
        "elif (18.5 <= bmi < 24.9):\n",
        "  print(\"normal weight\")\n",
        "elif (25 <= bmi < 29.9):\n",
        "  print(\"overwight\")\n",
        "else:\n",
        "  print(\"obesity\")"
      ],
      "metadata": {
        "colab": {
          "base_uri": "https://localhost:8080/"
        },
        "id": "9YmssNsCKPre",
        "outputId": "c19ac100-f4c3-43a1-958d-ea74c01a8446"
      },
      "execution_count": null,
      "outputs": [
        {
          "output_type": "stream",
          "name": "stdout",
          "text": [
            "enter the weight in kilogram:67\n",
            "enter the height in meter:1.79\n",
            "normal weight\n"
          ]
        }
      ]
    },
    {
      "cell_type": "code",
      "source": [
        "#Q11 Write a program that calculates the discount for a product based on its price:\n",
        "price = float(input(\"Enter the price of the product: \"))\n",
        "\n",
        "if price > 1000:\n",
        "    discount = 0.10 * price\n",
        "elif 500 <= price <= 1000:\n",
        "    discount = 0.05 * price\n",
        "else:\n",
        "    discount = 0\n",
        "\n",
        "final_price = price - discount\n",
        "\n",
        "print(f\"The final price after discount is: {final_price:.2f}\")"
      ],
      "metadata": {
        "colab": {
          "base_uri": "https://localhost:8080/"
        },
        "id": "oAcstyLbLrUT",
        "outputId": "be1b11ad-4ead-454a-a887-cde4a2c19482"
      },
      "execution_count": null,
      "outputs": [
        {
          "output_type": "stream",
          "name": "stdout",
          "text": [
            "Enter the price of the product: 1500\n",
            "The final price after discount is: 1350.00\n"
          ]
        }
      ]
    },
    {
      "cell_type": "code",
      "source": [
        "# Q12 Write a program that takes the name of a month as input and prints the number of days in that month. Consider leap years for February.\n",
        "month=input(\"enter the month :\")\n",
        "year = int(input(\"Enter the year: \"))\n",
        "\n",
        "leap_year = (year % 4 == 0 and year % 100 != 0) or (year % 400 == 0)\n",
        "\n",
        "days_in_months = {\n",
        "    \"January\": 31,\n",
        "    \"February\": 28,\n",
        "    \"March\": 31,\n",
        "    \"April\": 30,\n",
        "    \"May\": 31,\n",
        "    \"June\": 30,\n",
        "    \"July\": 31,\n",
        "    \"August\": 31,\n",
        "    \"September\": 30,\n",
        "    \"October\": 31,\n",
        "    \"November\": 30,\n",
        "    \"December\": 31\n",
        "}\n",
        "\n",
        "if month == \"February\" and leap_year:\n",
        "    print(f\"{month} has 29 days in the year {year}.\")\n",
        "elif month in days_in_months:\n",
        "    print(f\"{month} has {days_in_months[month]} days in the year {year}.\")\n",
        "else:\n",
        "    print(\"Please enter a valid month name.\")"
      ],
      "metadata": {
        "colab": {
          "base_uri": "https://localhost:8080/"
        },
        "id": "k1HevbT0MqoM",
        "outputId": "1fa73e46-44c0-4fde-baa6-70f876188aa3"
      },
      "execution_count": null,
      "outputs": [
        {
          "output_type": "stream",
          "name": "stdout",
          "text": [
            "enter the month :May\n",
            "Enter the year: 2004\n",
            "May has 31 days in the year 2004.\n"
          ]
        }
      ]
    },
    {
      "cell_type": "code",
      "source": [
        "# Q13 Write a program that simulates a simple ATM. The user should be able to:\n",
        "# Check balance\n",
        "# Deposit money\n",
        "# Withdraw money (ensure the balance doesn't go negative) Use an if-else structure to handle the user's choices\n",
        "balance=1000\n",
        "print(\"ATM Menu:\")\n",
        "print(\"1. Check Balance\")\n",
        "print(\"2. Deposit Money\")\n",
        "print(\"3. Withdraw Money\")\n",
        "print(\"4. Exit\")\n",
        "choice=input(\"please enter the choice (1-4)\")\n",
        "if choice==1:\n",
        "  print(f\"Your current balance is: {balance}\")\n",
        "\n",
        "elif choice == '2':\n",
        "    deposit = float(input(\"Enter amount to deposit: \"))\n",
        "    if deposit > 0:\n",
        "        balance = balance + deposit\n",
        "        print(f\"{deposit} has been deposited. New balance: {balance}\")\n",
        "    else:\n",
        "        print(\"Invalid deposit amount. Please enter a positive value.\")\n",
        "\n",
        "elif choice == '3':\n",
        "    withdraw = float(input(\"Enter amount to withdraw: \"))\n",
        "    if withdraw > balance:\n",
        "        print(\"Insufficient balance!\")\n",
        "    elif withdraw > 0:\n",
        "        balance = balance - withdraw\n",
        "        print(f\"{withdraw} has been withdrawn. New balance: {balance}\")\n",
        "    else:\n",
        "        print(\"Invalid withdrawal amount. Please enter a positive value.\")\n",
        "\n",
        "elif choice == '4':\n",
        "    print(\"Thank you for using the ATM. Goodbye!\")\n",
        "\n",
        "else:\n",
        "    print(\"Invalid choice. Please select a valid option.\")"
      ],
      "metadata": {
        "colab": {
          "base_uri": "https://localhost:8080/"
        },
        "id": "9YLriMOrOBK6",
        "outputId": "e7db538d-a0b2-454d-e6c3-54cec10f54a7"
      },
      "execution_count": null,
      "outputs": [
        {
          "output_type": "stream",
          "name": "stdout",
          "text": [
            "ATM Menu:\n",
            "1. Check Balance\n",
            "2. Deposit Money\n",
            "3. Withdraw Money\n",
            "4. Exit\n",
            "please enter the choice (1-4)2\n",
            "Enter amount to deposit: 1000\n",
            "1000.0 has been deposited. New balance: 2000.0\n"
          ]
        }
      ]
    },
    {
      "cell_type": "code",
      "source": [
        "# Q14 Write a program that categorizes a given age into different groups:\n",
        "age=int(input(\"enter the age :\"))\n",
        "if age>=0 and age<1:\n",
        "  print(\"infant\")\n",
        "elif age>=2 and age<4:\n",
        "  print(\"toddler\")\n",
        "elif age>=5 and age<12:\n",
        "  print(\"child\")\n",
        "elif age>=13 and age<19:\n",
        "  print(\"teenager\")\n",
        "elif age>=20 and age<59:\n",
        "  print(\"adult\")\n",
        "else:\n",
        "  print(\"senior\")"
      ],
      "metadata": {
        "colab": {
          "base_uri": "https://localhost:8080/"
        },
        "id": "NyBSbD8kPnE-",
        "outputId": "627177a5-efcc-4f5b-d6e2-513004ab1ec8"
      },
      "execution_count": null,
      "outputs": [
        {
          "output_type": "stream",
          "name": "stdout",
          "text": [
            "enter the age :35\n",
            "adult\n"
          ]
        }
      ]
    },
    {
      "cell_type": "code",
      "source": [
        "# Q15 Write a program that takes an integer (1-7) as input and prints the corresponding day of the week (1 for Monday, 2 for Tuesday, etc.).\n",
        "days=int(input(\"enter the days(1-7) :\"))\n",
        "if days==1:\n",
        "  print(\"monday\")\n",
        "elif days==2:\n",
        "  print(\"tuesday\")\n",
        "elif days==3:\n",
        "  print(\"wednesday\")\n",
        "elif days==4:\n",
        "  print(\"thrusday\")\n",
        "elif days==5:\n",
        "  print(\"friday\")\n",
        "elif days==6:\n",
        "  print(\"saturday\")\n",
        "else:\n",
        "  print(\"sunday\")"
      ],
      "metadata": {
        "colab": {
          "base_uri": "https://localhost:8080/"
        },
        "id": "DSANxR-vQwLz",
        "outputId": "8268b5a6-21ed-4be9-cc39-91d72f67ce5d"
      },
      "execution_count": null,
      "outputs": [
        {
          "output_type": "stream",
          "name": "stdout",
          "text": [
            "enter the days(1-7) :3\n",
            "wednesday\n"
          ]
        }
      ]
    }
  ]
}