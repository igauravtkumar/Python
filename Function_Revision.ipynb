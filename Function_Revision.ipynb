{
  "nbformat": 4,
  "nbformat_minor": 0,
  "metadata": {
    "colab": {
      "provenance": []
    },
    "kernelspec": {
      "name": "python3",
      "display_name": "Python 3"
    },
    "language_info": {
      "name": "python"
    }
  },
  "cells": [
    {
      "cell_type": "code",
      "execution_count": null,
      "metadata": {
        "id": "FzT6GqDxTjTT"
      },
      "outputs": [],
      "source": [
        "# Function\n",
        "# Block of code\n",
        "# reusable"
      ]
    },
    {
      "cell_type": "code",
      "source": [
        "def func(x):\n",
        "  print(x)\n",
        "func(10)"
      ],
      "metadata": {
        "colab": {
          "base_uri": "https://localhost:8080/"
        },
        "id": "07OXbr7ZUjyz",
        "outputId": "5ec75db1-85b5-4df1-b08d-9dfdb80f5586"
      },
      "execution_count": null,
      "outputs": [
        {
          "output_type": "stream",
          "name": "stdout",
          "text": [
            "10\n"
          ]
        }
      ]
    },
    {
      "cell_type": "code",
      "source": [
        "def func(x,y): # required argument\n",
        "  print(x,y)\n",
        "func(10,20)"
      ],
      "metadata": {
        "colab": {
          "base_uri": "https://localhost:8080/"
        },
        "id": "1G4XjJrWUpCI",
        "outputId": "1d017bfd-3b35-4c3a-cc54-0c24d4a7d867"
      },
      "execution_count": null,
      "outputs": [
        {
          "output_type": "stream",
          "name": "stdout",
          "text": [
            "10 20\n"
          ]
        }
      ]
    },
    {
      "cell_type": "code",
      "source": [
        "# position\n",
        "def func(x,y):\n",
        "  print(x,y)\n",
        "func(20,10)"
      ],
      "metadata": {
        "colab": {
          "base_uri": "https://localhost:8080/"
        },
        "id": "dQiFcSKvU7ZW",
        "outputId": "61ccb39c-89ab-4c0d-e72b-21a7c522f68d"
      },
      "execution_count": null,
      "outputs": [
        {
          "output_type": "stream",
          "name": "stdout",
          "text": [
            "20 10\n"
          ]
        }
      ]
    },
    {
      "cell_type": "code",
      "source": [
        "func(x=10,y=20)  # keyword argument"
      ],
      "metadata": {
        "colab": {
          "base_uri": "https://localhost:8080/"
        },
        "id": "i7QzOFcUVB-L",
        "outputId": "ccfcc6d5-6e41-400f-f078-6afe1638ed32"
      },
      "execution_count": null,
      "outputs": [
        {
          "output_type": "stream",
          "name": "stdout",
          "text": [
            "10 20\n"
          ]
        }
      ]
    },
    {
      "cell_type": "code",
      "source": [
        "def func(x,y=18): # default argument\n",
        "  print(x,y)\n",
        "func(20)"
      ],
      "metadata": {
        "colab": {
          "base_uri": "https://localhost:8080/"
        },
        "id": "POSJEYtgVHz7",
        "outputId": "608b5b3a-4f87-4974-eda7-46ea9953838d"
      },
      "execution_count": null,
      "outputs": [
        {
          "output_type": "stream",
          "name": "stdout",
          "text": [
            "20 18\n"
          ]
        }
      ]
    },
    {
      "cell_type": "code",
      "source": [
        "def func(*a):  #*args - variable length argument\n",
        "  print(a)\n",
        "func()\n",
        "func(20)\n",
        "func(11,12,1,3,14)"
      ],
      "metadata": {
        "colab": {
          "base_uri": "https://localhost:8080/"
        },
        "id": "W72icnzgVilH",
        "outputId": "48da2b76-ffd1-4ca4-8c20-0caf6e813899"
      },
      "execution_count": null,
      "outputs": [
        {
          "output_type": "stream",
          "name": "stdout",
          "text": [
            "()\n",
            "(20,)\n",
            "(11, 12, 1, 3, 14)\n"
          ]
        }
      ]
    },
    {
      "cell_type": "code",
      "source": [
        "# **kwargs\n",
        "\n",
        "def func(**a):\n",
        "  print(a)\n",
        "func(user_id=10)\n",
        "func(salary=199,userid=10)"
      ],
      "metadata": {
        "colab": {
          "base_uri": "https://localhost:8080/"
        },
        "id": "uvP48gEAXFcl",
        "outputId": "b67dc24e-3c28-49c0-be9a-b498cb5571d8"
      },
      "execution_count": null,
      "outputs": [
        {
          "output_type": "stream",
          "name": "stdout",
          "text": [
            "{'user_id': 10}\n",
            "{'salary': 199, 'userid': 10}\n"
          ]
        }
      ]
    },
    {
      "cell_type": "code",
      "source": [
        "numbers = [1, 2, 3, 4, 5]\n",
        "evens = list(filter(lambda x: x % 2 == 0, numbers))\n",
        "print(evens)\n"
      ],
      "metadata": {
        "colab": {
          "base_uri": "https://localhost:8080/"
        },
        "id": "QXejKodNVzS5",
        "outputId": "b35a7a62-5ed5-4b8f-98bb-a34bea6ebce9"
      },
      "execution_count": null,
      "outputs": [
        {
          "output_type": "stream",
          "name": "stdout",
          "text": [
            "[2, 4]\n"
          ]
        }
      ]
    },
    {
      "cell_type": "code",
      "source": [
        "# first class function\n",
        "def func():\n",
        "  print('hey')\n",
        "a = func\n",
        "print(func,a)"
      ],
      "metadata": {
        "colab": {
          "base_uri": "https://localhost:8080/"
        },
        "id": "Qyq7yb4JXEzk",
        "outputId": "cdbd0bfc-9a4f-4cd7-bd8f-52b620ee6a4a"
      },
      "execution_count": null,
      "outputs": [
        {
          "output_type": "stream",
          "name": "stdout",
          "text": [
            "<function func at 0x7b4e09a81940> <function func at 0x7b4e09a81940>\n"
          ]
        }
      ]
    },
    {
      "cell_type": "code",
      "source": [
        "a()"
      ],
      "metadata": {
        "colab": {
          "base_uri": "https://localhost:8080/"
        },
        "id": "jiK7-os0YnqO",
        "outputId": "506f9a23-d68a-4ede-deb2-2c8bfec872f9"
      },
      "execution_count": null,
      "outputs": [
        {
          "output_type": "stream",
          "name": "stdout",
          "text": [
            "hey\n"
          ]
        }
      ]
    },
    {
      "cell_type": "code",
      "source": [
        "# high order func\n",
        "def test():\n",
        "  print('this is test function')\n",
        "def regex(x):\n",
        "  print('This is regex function',x)\n",
        "\n",
        "regex( test )"
      ],
      "metadata": {
        "colab": {
          "base_uri": "https://localhost:8080/"
        },
        "id": "6O2Ui2yJZY9l",
        "outputId": "277324f1-2e1a-47ee-9fe3-7d4201707d15"
      },
      "execution_count": null,
      "outputs": [
        {
          "output_type": "stream",
          "name": "stdout",
          "text": [
            "This is regex function <function test at 0x7b4e09a80400>\n"
          ]
        }
      ]
    },
    {
      "cell_type": "code",
      "source": [
        "# Lambda Function --> Annonymous function\n",
        "#  one line function\n",
        "# code readable\n",
        "\n",
        "def func(x):\n",
        "  print('abc')\n",
        "print(func)"
      ],
      "metadata": {
        "colab": {
          "base_uri": "https://localhost:8080/"
        },
        "id": "V3Aj20akZzO0",
        "outputId": "844bdcd0-9522-47f5-8eaa-f5cc5f1ce65f"
      },
      "execution_count": null,
      "outputs": [
        {
          "output_type": "stream",
          "name": "stdout",
          "text": [
            "<function func at 0x7b4e09af3920>\n"
          ]
        }
      ]
    },
    {
      "cell_type": "code",
      "source": [
        "lambda x: 'abc'"
      ],
      "metadata": {
        "colab": {
          "base_uri": "https://localhost:8080/"
        },
        "id": "jFZ6iCpfaVIb",
        "outputId": "c58bc683-7908-447d-928f-8920e00fe84b"
      },
      "execution_count": null,
      "outputs": [
        {
          "output_type": "execute_result",
          "data": {
            "text/plain": [
              "<function __main__.<lambda>(x)>"
            ]
          },
          "metadata": {},
          "execution_count": 25
        }
      ]
    },
    {
      "cell_type": "code",
      "source": [
        "u1 = lambda x : 'abc'\n",
        "u1(10)"
      ],
      "metadata": {
        "colab": {
          "base_uri": "https://localhost:8080/",
          "height": 36
        },
        "id": "tIpl5xDcanj5",
        "outputId": "6948a755-9f38-4616-e594-bc6fb2e69056"
      },
      "execution_count": null,
      "outputs": [
        {
          "output_type": "execute_result",
          "data": {
            "text/plain": [
              "'abc'"
            ],
            "application/vnd.google.colaboratory.intrinsic+json": {
              "type": "string"
            }
          },
          "metadata": {},
          "execution_count": 27
        }
      ]
    },
    {
      "cell_type": "code",
      "source": [
        "# lambda parameter : expression"
      ],
      "metadata": {
        "id": "TzsfJIOSa2Lz"
      },
      "execution_count": null,
      "outputs": []
    },
    {
      "cell_type": "code",
      "source": [
        "def func(x):\n",
        "  print('last word : ',x.split(\" \")[-1])\n",
        "\n",
        "func('hey Gaurav this side')"
      ],
      "metadata": {
        "colab": {
          "base_uri": "https://localhost:8080/"
        },
        "id": "PHsr8U2XbBox",
        "outputId": "f9d17c83-8f69-4ba6-ac24-bab1c4a2b573"
      },
      "execution_count": null,
      "outputs": [
        {
          "output_type": "stream",
          "name": "stdout",
          "text": [
            "last word :  side\n"
          ]
        }
      ]
    },
    {
      "cell_type": "code",
      "source": [
        "u2 = lambda x: x.split(\" \")[-1]\n",
        "u2('hey Gaurav this side')"
      ],
      "metadata": {
        "colab": {
          "base_uri": "https://localhost:8080/",
          "height": 36
        },
        "id": "OQU0qO_UbLof",
        "outputId": "4fe77d4f-ca0e-42bf-af18-d6b36aaa96c4"
      },
      "execution_count": null,
      "outputs": [
        {
          "output_type": "execute_result",
          "data": {
            "text/plain": [
              "'side'"
            ],
            "application/vnd.google.colaboratory.intrinsic+json": {
              "type": "string"
            }
          },
          "metadata": {},
          "execution_count": 36
        }
      ]
    },
    {
      "cell_type": "code",
      "source": [
        "mylist=\"hey tushar here user\".split(\" \")\n",
        "mylist[-1] , mylist[1:len(mylist)-1] ,mylist[0]\n"
      ],
      "metadata": {
        "colab": {
          "base_uri": "https://localhost:8080/"
        },
        "id": "_8kw1BAqcCBI",
        "outputId": "b15804c8-12a4-4a54-c953-d5de260cf9c9"
      },
      "execution_count": null,
      "outputs": [
        {
          "output_type": "execute_result",
          "data": {
            "text/plain": [
              "('user', ['tushar', 'here'], 'hey')"
            ]
          },
          "metadata": {},
          "execution_count": 48
        }
      ]
    },
    {
      "cell_type": "code",
      "source": [
        "str1=''.join(['hey user'])\n",
        "str1"
      ],
      "metadata": {
        "colab": {
          "base_uri": "https://localhost:8080/",
          "height": 36
        },
        "id": "cRpOLbeycqAr",
        "outputId": "9515446c-35a1-40ba-d369-8a137569b8d1"
      },
      "execution_count": null,
      "outputs": [
        {
          "output_type": "execute_result",
          "data": {
            "text/plain": [
              "'hey user'"
            ],
            "application/vnd.google.colaboratory.intrinsic+json": {
              "type": "string"
            }
          },
          "metadata": {},
          "execution_count": 52
        }
      ]
    },
    {
      "cell_type": "code",
      "source": [
        "def func(a):\n",
        "  print('inside: ',a+5)\n",
        "print( func(18) )"
      ],
      "metadata": {
        "colab": {
          "base_uri": "https://localhost:8080/"
        },
        "id": "lq91rMSedfPj",
        "outputId": "48a8b709-4357-4cf4-ea9c-e287c82eabb6"
      },
      "execution_count": null,
      "outputs": [
        {
          "output_type": "stream",
          "name": "stdout",
          "text": [
            "inside:  23\n",
            "None\n"
          ]
        }
      ]
    },
    {
      "cell_type": "code",
      "source": [
        "def func(a):\n",
        "  return 'inside: ',a+5\n",
        "print( func(18) )"
      ],
      "metadata": {
        "colab": {
          "base_uri": "https://localhost:8080/"
        },
        "id": "DoI22jA5ebKb",
        "outputId": "3f2dd55a-a319-46db-8376-5590a4e27bfd"
      },
      "execution_count": null,
      "outputs": [
        {
          "output_type": "stream",
          "name": "stdout",
          "text": [
            "('inside: ', 23)\n"
          ]
        }
      ]
    },
    {
      "cell_type": "code",
      "source": [
        "def func(a):\n",
        "  return a\n",
        "print( func(18) )"
      ],
      "metadata": {
        "colab": {
          "base_uri": "https://localhost:8080/"
        },
        "id": "_hxbmtPuelFp",
        "outputId": "384fd4f1-89df-49a4-9277-3f65c6805508"
      },
      "execution_count": null,
      "outputs": [
        {
          "output_type": "stream",
          "name": "stdout",
          "text": [
            "18\n"
          ]
        }
      ]
    },
    {
      "cell_type": "code",
      "source": [
        "def func(a):\n",
        "  return a+5\n",
        "out = func(18)\n",
        "print(out)"
      ],
      "metadata": {
        "colab": {
          "base_uri": "https://localhost:8080/"
        },
        "id": "ZVjtkaFve4fm",
        "outputId": "81d95d2e-e688-4cae-ceae-369d7eb93d88"
      },
      "execution_count": null,
      "outputs": [
        {
          "output_type": "stream",
          "name": "stdout",
          "text": [
            "23\n"
          ]
        }
      ]
    },
    {
      "cell_type": "code",
      "source": [
        "def func(a):\n",
        "  return a+5\n"
      ],
      "metadata": {
        "id": "VyygOmg_fKdp"
      },
      "execution_count": null,
      "outputs": []
    },
    {
      "cell_type": "code",
      "source": [
        "mylist = [10,102,3,4]"
      ],
      "metadata": {
        "id": "7YvuT98afN1J"
      },
      "execution_count": null,
      "outputs": []
    },
    {
      "cell_type": "code",
      "source": [
        "x=(map( func, mylist))\n",
        "print(next(x))\n",
        "print(next(x))\n",
        "print(next(x))\n",
        "print(next(x))"
      ],
      "metadata": {
        "colab": {
          "base_uri": "https://localhost:8080/"
        },
        "id": "dZQOH-GXfuUn",
        "outputId": "1c6d496b-36e7-4d7c-9afb-e81bcc7ba4fe"
      },
      "execution_count": null,
      "outputs": [
        {
          "output_type": "stream",
          "name": "stdout",
          "text": [
            "15\n",
            "107\n",
            "8\n",
            "9\n"
          ]
        }
      ]
    },
    {
      "cell_type": "code",
      "source": [
        "x=(map( lambda a:a+5, mylist))\n",
        "print(next(x))\n",
        "print(next(x))\n",
        "print(next(x))\n",
        "print(next(x))"
      ],
      "metadata": {
        "colab": {
          "base_uri": "https://localhost:8080/"
        },
        "id": "R_uyFIWEgaRg",
        "outputId": "c467c972-e4bf-44b3-a5e0-956139165307"
      },
      "execution_count": null,
      "outputs": [
        {
          "output_type": "stream",
          "name": "stdout",
          "text": [
            "15\n",
            "107\n",
            "8\n",
            "9\n"
          ]
        }
      ]
    },
    {
      "cell_type": "code",
      "source": [
        "mylist=[1,2,3,4,5]\n",
        "list(map(lambda a: a%2==0, mylist))\n"
      ],
      "metadata": {
        "colab": {
          "base_uri": "https://localhost:8080/"
        },
        "id": "GCRh-QgfhGi-",
        "outputId": "47d07180-afd2-4b33-9f7e-6714980e97c9"
      },
      "execution_count": null,
      "outputs": [
        {
          "output_type": "execute_result",
          "data": {
            "text/plain": [
              "[False, True, False, True, False]"
            ]
          },
          "metadata": {},
          "execution_count": 72
        }
      ]
    },
    {
      "cell_type": "code",
      "source": [
        "mylist=[1,2,3,4,5]\n",
        "list(filter(lambda a: a%2==0, mylist))"
      ],
      "metadata": {
        "colab": {
          "base_uri": "https://localhost:8080/"
        },
        "id": "rgO5ntaAhst1",
        "outputId": "16b60e88-e75b-41ce-e1f0-04f545069fdf"
      },
      "execution_count": null,
      "outputs": [
        {
          "output_type": "execute_result",
          "data": {
            "text/plain": [
              "[2, 4]"
            ]
          },
          "metadata": {},
          "execution_count": 73
        }
      ]
    },
    {
      "cell_type": "code",
      "source": [],
      "metadata": {
        "id": "sXunfrA9iLBQ"
      },
      "execution_count": null,
      "outputs": []
    }
  ]
}