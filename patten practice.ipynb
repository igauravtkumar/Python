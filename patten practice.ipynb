{
  "nbformat": 4,
  "nbformat_minor": 0,
  "metadata": {
    "colab": {
      "provenance": []
    },
    "kernelspec": {
      "name": "python3",
      "display_name": "Python 3"
    },
    "language_info": {
      "name": "python"
    }
  },
  "cells": [
    {
      "cell_type": "code",
      "execution_count": null,
      "metadata": {
        "colab": {
          "base_uri": "https://localhost:8080/"
        },
        "id": "4WQCIM2Xbs8u",
        "outputId": "5ff039d7-3e26-4c47-a27c-926515372f12"
      },
      "outputs": [
        {
          "output_type": "stream",
          "name": "stdout",
          "text": [
            "*  *  *  *  \n",
            "*  *  *  *  \n",
            "*  *  *  *  \n",
            "*  *  *  *  \n"
          ]
        }
      ],
      "source": [
        "for row in range(0,4):\n",
        "  for col in range(0,4):\n",
        "    print(\"*\",end=\"  \")\n",
        "  print()"
      ]
    },
    {
      "cell_type": "code",
      "source": [
        "n=4\n",
        "for row in range(0,n):\n",
        "  for col in range(0,row+1):\n",
        "    print(\"*\",end=\" \")\n",
        "  print()"
      ],
      "metadata": {
        "colab": {
          "base_uri": "https://localhost:8080/"
        },
        "id": "1ZZ1p_n3darj",
        "outputId": "868793b4-1706-40a0-c486-1a3f13839970"
      },
      "execution_count": null,
      "outputs": [
        {
          "output_type": "stream",
          "name": "stdout",
          "text": [
            "* \n",
            "* * \n",
            "* * * \n",
            "* * * * \n"
          ]
        }
      ]
    },
    {
      "cell_type": "code",
      "source": [
        "n=4\n",
        "for row in range(0,n):\n",
        "  for col in range(0,row+1):\n",
        "    print(col,end=\" \")\n",
        "  print()"
      ],
      "metadata": {
        "colab": {
          "base_uri": "https://localhost:8080/"
        },
        "id": "pJfIZsSReoMi",
        "outputId": "6c72c32c-2a0e-4c1c-9dc7-2f59ead42985"
      },
      "execution_count": null,
      "outputs": [
        {
          "output_type": "stream",
          "name": "stdout",
          "text": [
            "0 \n",
            "0 1 \n",
            "0 1 2 \n",
            "0 1 2 3 \n"
          ]
        }
      ]
    },
    {
      "cell_type": "code",
      "source": [
        "n=6\n",
        "for row in range(2,n):\n",
        "  for col in range(2,row+1):\n",
        "    print(col,end=\" \")\n",
        "  print()"
      ],
      "metadata": {
        "colab": {
          "base_uri": "https://localhost:8080/"
        },
        "id": "ZDib7LSKe1Qp",
        "outputId": "fa3b7a83-0b65-4852-d143-e9b42764719b"
      },
      "execution_count": null,
      "outputs": [
        {
          "output_type": "stream",
          "name": "stdout",
          "text": [
            "2 \n",
            "2 3 \n",
            "2 3 4 \n",
            "2 3 4 5 \n"
          ]
        }
      ]
    },
    {
      "cell_type": "code",
      "source": [
        "n=4\n",
        "for row in range(0,n):\n",
        "  for col in range(0,row+1):\n",
        "    col+=2\n",
        "    print(col,end=\" \")\n",
        "  print()"
      ],
      "metadata": {
        "colab": {
          "base_uri": "https://localhost:8080/"
        },
        "id": "Ke8FmQ5CfC_E",
        "outputId": "043a02e6-c67f-4cd5-b9fc-2df942832987"
      },
      "execution_count": null,
      "outputs": [
        {
          "output_type": "stream",
          "name": "stdout",
          "text": [
            "2 \n",
            "2 3 \n",
            "2 3 4 \n",
            "2 3 4 5 \n"
          ]
        }
      ]
    },
    {
      "cell_type": "code",
      "source": [
        "n=4\n",
        "num=65\n",
        "for row in range(0,n):\n",
        "  for col in range(0,row+1):\n",
        "    print(num,end=\"  \")\n",
        "    num+=1\n",
        "  print()"
      ],
      "metadata": {
        "colab": {
          "base_uri": "https://localhost:8080/"
        },
        "id": "DszaIopkf5DF",
        "outputId": "4ad679bf-2caa-4c5b-dfcd-03033bbb1e9a"
      },
      "execution_count": null,
      "outputs": [
        {
          "output_type": "stream",
          "name": "stdout",
          "text": [
            "65  \n",
            "66  67  \n",
            "68  69  70  \n",
            "71  72  73  74  \n"
          ]
        }
      ]
    },
    {
      "cell_type": "code",
      "source": [
        "n=4\n",
        "num=65\n",
        "for row in range(0,n):\n",
        "  for col in range(0,row+1):\n",
        "    print(chr(num),end=\"  \")\n",
        "    num+=1\n",
        "  print()"
      ],
      "metadata": {
        "colab": {
          "base_uri": "https://localhost:8080/"
        },
        "id": "enYMstURgVHf",
        "outputId": "e20fd0ae-5ed8-4d1c-f730-a8f7588ee63e"
      },
      "execution_count": null,
      "outputs": [
        {
          "output_type": "stream",
          "name": "stdout",
          "text": [
            "A  \n",
            "B  C  \n",
            "D  E  F  \n",
            "G  H  I  J  \n"
          ]
        }
      ]
    },
    {
      "cell_type": "code",
      "source": [
        "n=4\n",
        "for row in range(n,0,-1):\n",
        "  for col in range(1,row+1):\n",
        "    print(\"*\",end=\" \")\n",
        "  print()"
      ],
      "metadata": {
        "colab": {
          "base_uri": "https://localhost:8080/"
        },
        "id": "uJSS5MvBg34b",
        "outputId": "972420ed-d815-452f-dead-511ab2beb366"
      },
      "execution_count": null,
      "outputs": [
        {
          "output_type": "stream",
          "name": "stdout",
          "text": [
            "* * * * \n",
            "* * * \n",
            "* * \n",
            "* \n"
          ]
        }
      ]
    },
    {
      "cell_type": "code",
      "source": [
        "n=4\n",
        "for row in range(0,n):\n",
        "  num=65\n",
        "  for col in range(0,row+1):\n",
        "\n",
        "    print(chr(num),end=\"  \")\n",
        "    num+=1\n",
        "  print()"
      ],
      "metadata": {
        "colab": {
          "base_uri": "https://localhost:8080/"
        },
        "id": "KLEPqbWthG2S",
        "outputId": "f3f03f6e-cf62-4443-8825-72e57d5f040b"
      },
      "execution_count": null,
      "outputs": [
        {
          "output_type": "stream",
          "name": "stdout",
          "text": [
            "A  \n",
            "A  B  \n",
            "A  B  C  \n",
            "A  B  C  D  \n"
          ]
        }
      ]
    },
    {
      "cell_type": "code",
      "source": [
        "n=4\n",
        "for row in range(n,-1,-1):\n",
        "  for col in range(0,row+1):\n",
        "    print(col,end=\" \")\n",
        "  print()"
      ],
      "metadata": {
        "colab": {
          "base_uri": "https://localhost:8080/"
        },
        "id": "Ofnfm8efhh5s",
        "outputId": "ac35d601-f1a0-4962-b80c-a338074f7ef2"
      },
      "execution_count": null,
      "outputs": [
        {
          "output_type": "stream",
          "name": "stdout",
          "text": [
            "0 1 2 3 4 \n",
            "0 1 2 3 \n",
            "0 1 2 \n",
            "0 1 \n",
            "0 \n"
          ]
        }
      ]
    },
    {
      "cell_type": "code",
      "source": [
        "n=5\n",
        "x=10\n",
        "for row in range(n,0,-1):\n",
        "  for col in range(0,row):\n",
        "    print(x,end=\" \")\n",
        "    x+=1\n",
        "  print()"
      ],
      "metadata": {
        "colab": {
          "base_uri": "https://localhost:8080/"
        },
        "id": "3aTaTqLRh-om",
        "outputId": "0c1030f8-eb5c-4469-f1d5-3cc4baa9dd2b"
      },
      "execution_count": null,
      "outputs": [
        {
          "output_type": "stream",
          "name": "stdout",
          "text": [
            "10 11 12 13 14 \n",
            "15 16 17 18 \n",
            "19 20 21 \n",
            "22 23 \n",
            "24 \n"
          ]
        }
      ]
    },
    {
      "cell_type": "code",
      "source": [
        "n = 4\n",
        "for row in range(0,n):\n",
        "    for col in range(row + 1, n + 1):\n",
        "        print(col, end=\" \")\n",
        "    print()"
      ],
      "metadata": {
        "colab": {
          "base_uri": "https://localhost:8080/"
        },
        "id": "Zro4PEVYizZS",
        "outputId": "44725022-806b-4193-9852-512c9680153f"
      },
      "execution_count": null,
      "outputs": [
        {
          "output_type": "stream",
          "name": "stdout",
          "text": [
            "1 2 3 4 \n",
            "2 3 4 \n",
            "3 4 \n",
            "4 \n"
          ]
        }
      ]
    },
    {
      "cell_type": "code",
      "source": [
        "n=5\n",
        "for i in range(1,n+1):\n",
        "  for j in range(1,i+1):\n",
        "    if j%2==0:\n",
        "      print(1,end=\" \")\n",
        "    else:\n",
        "      print(0,end=\" \")\n",
        "  print()"
      ],
      "metadata": {
        "colab": {
          "base_uri": "https://localhost:8080/"
        },
        "id": "IMnXNK4Vj1WM",
        "outputId": "17850766-a7eb-4298-d994-6a330886dd1e"
      },
      "execution_count": null,
      "outputs": [
        {
          "output_type": "stream",
          "name": "stdout",
          "text": [
            "0 \n",
            "0 1 \n",
            "0 1 0 \n",
            "0 1 0 1 \n",
            "0 1 0 1 0 \n"
          ]
        }
      ]
    },
    {
      "cell_type": "code",
      "source": [
        "n=5\n",
        "for i in range(n,0,-1):\n",
        "  for j in range(0,i):\n",
        "    if j%2==0:\n",
        "      print(1,end=\" \")\n",
        "    else:\n",
        "      print(0,end=\" \")\n",
        "  print()"
      ],
      "metadata": {
        "colab": {
          "base_uri": "https://localhost:8080/"
        },
        "id": "blyBTMYxkS32",
        "outputId": "9884c3fd-aef2-45a4-c17c-7a796ea79520"
      },
      "execution_count": null,
      "outputs": [
        {
          "output_type": "stream",
          "name": "stdout",
          "text": [
            "1 0 1 0 1 \n",
            "1 0 1 0 \n",
            "1 0 1 \n",
            "1 0 \n",
            "1 \n"
          ]
        }
      ]
    },
    {
      "cell_type": "code",
      "source": [
        "n=5\n",
        "for i in range(n,0,-1):\n",
        "  for j in range(1,i+1):\n",
        "    print(j%2,end=\" \")\n",
        "  print()"
      ],
      "metadata": {
        "colab": {
          "base_uri": "https://localhost:8080/"
        },
        "id": "EhnNYnM7k1YX",
        "outputId": "b8837337-3d94-4b5c-d87e-4bf654c3e6d2"
      },
      "execution_count": null,
      "outputs": [
        {
          "output_type": "stream",
          "name": "stdout",
          "text": [
            "1 0 1 0 1 \n",
            "1 0 1 0 \n",
            "1 0 1 \n",
            "1 0 \n",
            "1 \n"
          ]
        }
      ]
    },
    {
      "cell_type": "code",
      "source": [
        "n=4\n",
        "for i in range(1,n+1):\n",
        "  for s in range(n-i):\n",
        "    print(\" \",end=\" \")\n",
        "  for j in range(1,i+1):\n",
        "    print(\"*\",end=\" \")\n",
        "  print()"
      ],
      "metadata": {
        "colab": {
          "base_uri": "https://localhost:8080/"
        },
        "id": "vKkkCQcPnvB_",
        "outputId": "9d5daf70-d664-4c9e-d58d-7559ef93bf1e"
      },
      "execution_count": null,
      "outputs": [
        {
          "output_type": "stream",
          "name": "stdout",
          "text": [
            "      * \n",
            "    * * \n",
            "  * * * \n",
            "* * * * \n"
          ]
        }
      ]
    },
    {
      "cell_type": "code",
      "source": [
        "n=5\n",
        "for i in range(n,0,-1):\n",
        "  for s in range(n-i):\n",
        "    print(\"-\",end=\"  \")\n",
        "  for j in range(1,i+1):\n",
        "    print(\"*\",end=\"  \")\n",
        "  print()"
      ],
      "metadata": {
        "colab": {
          "base_uri": "https://localhost:8080/"
        },
        "id": "jn04fDyJo2qu",
        "outputId": "ce25405c-fbd8-4a41-c509-d6e071197510"
      },
      "execution_count": null,
      "outputs": [
        {
          "output_type": "stream",
          "name": "stdout",
          "text": [
            "*  *  *  *  *  \n",
            "-  *  *  *  *  \n",
            "-  -  *  *  *  \n",
            "-  -  -  *  *  \n",
            "-  -  -  -  *  \n"
          ]
        }
      ]
    },
    {
      "cell_type": "code",
      "source": [
        "n = 5\n",
        "\n",
        "for i in range(n, 0, -1):\n",
        "    for s in range(n - i):\n",
        "        print(\" \", end=\" \")\n",
        "\n",
        "    for j in range(1, i + 1):\n",
        "        if j == 1 or j == i or i == 5:\n",
        "            print(\"*\", end=\" \")\n",
        "        else:\n",
        "            print(\" \", end=\" \")\n",
        "\n",
        "    print()\n"
      ],
      "metadata": {
        "colab": {
          "base_uri": "https://localhost:8080/"
        },
        "id": "4M4MaPIZs50l",
        "outputId": "bb4a07d7-142e-45ca-fdb5-c1bcde2a5537"
      },
      "execution_count": null,
      "outputs": [
        {
          "output_type": "stream",
          "name": "stdout",
          "text": [
            "* * * * * \n",
            "  *     * \n",
            "    *   * \n",
            "      * * \n",
            "        * \n"
          ]
        }
      ]
    },
    {
      "cell_type": "code",
      "source": [
        "n=5\n",
        "for i in range(n,0,-1):\n",
        "  for s in range(n-i):\n",
        "    print(\" \",end=\" \")\n",
        "  for j in range(1,i+1):\n",
        "    if i==5 or j==1 or i==j:\n",
        "      print(\"*\",end=\" \")\n",
        "    else:\n",
        "      print(\" \",end=\" \")\n",
        "  print()"
      ],
      "metadata": {
        "colab": {
          "base_uri": "https://localhost:8080/"
        },
        "id": "EhbPXm2ctLb-",
        "outputId": "0f89e4cf-faf6-4c52-aa10-2fd434725ae0"
      },
      "execution_count": null,
      "outputs": [
        {
          "output_type": "stream",
          "name": "stdout",
          "text": [
            "* * * * * \n",
            "  *     * \n",
            "    *   * \n",
            "      * * \n",
            "        * \n"
          ]
        }
      ]
    },
    {
      "cell_type": "code",
      "source": [
        "n=4\n",
        "for i in range(1,n+1):\n",
        "  for s in range(n-i):\n",
        "    print(\" \",end=\" \")\n",
        "  for j in range(1,i+1):\n",
        "    if i==4 or j==1 or i==j:\n",
        "      print(\"*\",end=\" \")\n",
        "    else:\n",
        "      print(\" \",end=\" \")\n",
        "  print()"
      ],
      "metadata": {
        "colab": {
          "base_uri": "https://localhost:8080/"
        },
        "id": "jb4u9ZCNu8TW",
        "outputId": "f85b60af-7cf4-4864-93fc-6f91b92d0dd8"
      },
      "execution_count": null,
      "outputs": [
        {
          "output_type": "stream",
          "name": "stdout",
          "text": [
            "      * \n",
            "    * * \n",
            "  *   * \n",
            "* * * * \n"
          ]
        }
      ]
    },
    {
      "cell_type": "code",
      "source": [
        "n=4\n",
        "for i in range(1,n+1):\n",
        "  for j in range(1,i+1):\n",
        "    if i==4 or j==1 or i==j:\n",
        "      print(\"*\",end=\" \")\n",
        "    else:\n",
        "      print(\" \",end=\" \")\n",
        "  print()"
      ],
      "metadata": {
        "colab": {
          "base_uri": "https://localhost:8080/"
        },
        "id": "wYOr1K_9vVyZ",
        "outputId": "61901f5a-2723-4889-a0d5-9c4c1ce0ed2a"
      },
      "execution_count": null,
      "outputs": [
        {
          "output_type": "stream",
          "name": "stdout",
          "text": [
            "* \n",
            "* * \n",
            "*   * \n",
            "* * * * \n"
          ]
        }
      ]
    },
    {
      "cell_type": "code",
      "source": [
        "n=1\n",
        "num=5\n",
        "for i in range(num,0,-1):\n",
        "  for j in range(1,i+1):\n",
        "    if i==5 or j==1 or i==j:\n",
        "      print(n,end=\" \")\n",
        "    else:\n",
        "      print(\" \",end=\" \")\n",
        "    n+=1\n",
        "  print()"
      ],
      "metadata": {
        "colab": {
          "base_uri": "https://localhost:8080/"
        },
        "id": "fHg3oGFWv4DW",
        "outputId": "36070d7d-a967-4b0f-be98-691c4ebb4cf5"
      },
      "execution_count": null,
      "outputs": [
        {
          "output_type": "stream",
          "name": "stdout",
          "text": [
            "1 2 3 4 5 \n",
            "6     9 \n",
            "10   12 \n",
            "13 14 \n",
            "15 \n"
          ]
        }
      ]
    },
    {
      "cell_type": "code",
      "source": [
        "n=5\n",
        "\n",
        "for i in range(n,0,-1):\n",
        "  num=1\n",
        "  for j in range(0,i):\n",
        "    if j%2==0:\n",
        "      print(num,end=\" \")\n",
        "    else:\n",
        "      print(0,end=\" \")\n",
        "    num+=1\n",
        "  print()"
      ],
      "metadata": {
        "colab": {
          "base_uri": "https://localhost:8080/"
        },
        "id": "nyGxNrrgxZ5A",
        "outputId": "611c9d27-7418-4ce9-e9bf-b21dfc1d39d2"
      },
      "execution_count": null,
      "outputs": [
        {
          "output_type": "stream",
          "name": "stdout",
          "text": [
            "1 0 3 0 5 \n",
            "1 0 3 0 \n",
            "1 0 3 \n",
            "1 0 \n",
            "1 \n"
          ]
        }
      ]
    }
  ]
}