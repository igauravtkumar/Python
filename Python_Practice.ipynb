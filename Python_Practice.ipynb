{
  "nbformat": 4,
  "nbformat_minor": 0,
  "metadata": {
    "colab": {
      "provenance": []
    },
    "kernelspec": {
      "name": "python3",
      "display_name": "Python 3"
    },
    "language_info": {
      "name": "python"
    }
  },
  "cells": [
    {
      "cell_type": "code",
      "execution_count": 1,
      "metadata": {
        "colab": {
          "base_uri": "https://localhost:8080/"
        },
        "id": "BkSUPWE3ypcu",
        "outputId": "2cf8b8ff-4ce6-4516-a590-6e38f8c641d3"
      },
      "outputs": [
        {
          "output_type": "stream",
          "name": "stdout",
          "text": [
            "Armstrong Number\n"
          ]
        }
      ],
      "source": [
        "# Armstrong using While Loop\n",
        "a=153\n",
        "sum=0\n",
        "temp=a\n",
        "while a>0:\n",
        "  rem = a%10\n",
        "  sum=sum+rem*rem*rem\n",
        "  a=a//10\n",
        "if sum==temp:\n",
        "  print('Armstrong Number')\n",
        "else:\n",
        "  print('Not')"
      ]
    },
    {
      "cell_type": "code",
      "source": [
        "# Armstrong using For loop\n",
        "for i in range(100,1000):\n",
        "  sum=0\n",
        "  temp=i\n",
        "  while temp>0:\n",
        "    rem=temp%10\n",
        "    sum=sum+rem*rem*rem\n",
        "    temp=temp//10\n",
        "  if sum==i:\n",
        "    print('armstrong',i)\n",
        ""
      ],
      "metadata": {
        "colab": {
          "base_uri": "https://localhost:8080/"
        },
        "id": "jJlDHGUDzhAO",
        "outputId": "ed5f3050-820a-4b17-be13-d511316bbbd2"
      },
      "execution_count": 7,
      "outputs": [
        {
          "output_type": "stream",
          "name": "stdout",
          "text": [
            "armstrong 153\n",
            "armstrong 370\n",
            "armstrong 371\n",
            "armstrong 407\n"
          ]
        }
      ]
    },
    {
      "cell_type": "code",
      "source": [
        "# Prime number\n",
        "num=int(input('enter the number : '))\n",
        "a=True\n",
        "for i in range(2,num):\n",
        "  if i%num==0:\n",
        "    a=False\n",
        "    break\n",
        "if a==True:\n",
        "  print('Prime')\n",
        "else:\n",
        "  print('not')\n"
      ],
      "metadata": {
        "colab": {
          "base_uri": "https://localhost:8080/"
        },
        "id": "HlHHIObl0ddh",
        "outputId": "e545a727-94e8-4e2a-9c9f-ddcfa038d983"
      },
      "execution_count": 8,
      "outputs": [
        {
          "output_type": "stream",
          "name": "stdout",
          "text": [
            "enter the number : 13\n",
            "Prime\n"
          ]
        }
      ]
    },
    {
      "cell_type": "code",
      "source": [
        "# factorial number\n",
        "a=0\n",
        "b=1\n",
        "for i in range(1,11):\n",
        "\n",
        "  print(a,end=' ')\n",
        "  a,b=b,a+b"
      ],
      "metadata": {
        "colab": {
          "base_uri": "https://localhost:8080/"
        },
        "id": "IGgUf1p61g6v",
        "outputId": "12655b43-0439-497c-b4ea-528f95bba8a1"
      },
      "execution_count": 10,
      "outputs": [
        {
          "output_type": "stream",
          "name": "stdout",
          "text": [
            "0 1 1 2 3 5 8 13 21 34 "
          ]
        }
      ]
    },
    {
      "cell_type": "code",
      "source": [
        "# LCm\n",
        "num1=3\n",
        "num2=5\n",
        "if num1>num2:\n",
        "  greatest=num1\n",
        "else:\n",
        "  greatest=num2\n",
        "while True:\n",
        "  if greatest%num1==0 and greatest%num2==0:\n",
        "    print('Lcm is ',greatest)\n",
        "    break\n",
        "  else:\n",
        "    greatest+=1"
      ],
      "metadata": {
        "colab": {
          "base_uri": "https://localhost:8080/"
        },
        "id": "tTTky8IO1xxG",
        "outputId": "e2765941-2128-4dbd-d3c2-74f08bbd01ae"
      },
      "execution_count": 11,
      "outputs": [
        {
          "output_type": "stream",
          "name": "stdout",
          "text": [
            "Lcm is  15\n"
          ]
        }
      ]
    },
    {
      "cell_type": "code",
      "source": [
        "# Hcf / GCd\n",
        "num1=2\n",
        "num2=4\n",
        "while num2 != 0:\n",
        "  num1 , num2 = num2 ,num1%num2\n",
        "print('HCF is :',num1)"
      ],
      "metadata": {
        "colab": {
          "base_uri": "https://localhost:8080/"
        },
        "id": "58iFGH5q2YEZ",
        "outputId": "881c4ab4-e9af-446b-973c-7e7269e044f2"
      },
      "execution_count": 4,
      "outputs": [
        {
          "output_type": "stream",
          "name": "stdout",
          "text": [
            "HCF is : 2\n"
          ]
        }
      ]
    },
    {
      "cell_type": "code",
      "source": [
        "#  Factorial using While loop\n",
        "n=int(input('Enter the number  :'))\n",
        "fact=1\n",
        "for i in range(1,n+1):\n",
        "  fact=fact*i\n",
        "print(fact)"
      ],
      "metadata": {
        "colab": {
          "base_uri": "https://localhost:8080/"
        },
        "id": "HVJ3G9Wc3MrM",
        "outputId": "a9ed6174-56b7-48d4-80b0-759e8f16259d"
      },
      "execution_count": 6,
      "outputs": [
        {
          "output_type": "stream",
          "name": "stdout",
          "text": [
            "Enter the number  :5\n",
            "120\n"
          ]
        }
      ]
    },
    {
      "cell_type": "code",
      "source": [
        "# Fact using while loop\n",
        "n=int(input('Enter the number  :'))\n",
        "fact=1\n",
        "while n>0:\n",
        "  fact = fact*n\n",
        "  n-=1\n",
        "print(fact)"
      ],
      "metadata": {
        "colab": {
          "base_uri": "https://localhost:8080/"
        },
        "id": "zg5DWy2F3u67",
        "outputId": "a3b465ae-0534-4471-b92e-56f90653848a"
      },
      "execution_count": 8,
      "outputs": [
        {
          "output_type": "stream",
          "name": "stdout",
          "text": [
            "Enter the number  :5\n",
            "120\n"
          ]
        }
      ]
    },
    {
      "cell_type": "code",
      "source": [
        "# Palindrome\n",
        "num = 151\n",
        "sum=0\n",
        "temp = num\n",
        "while num>0:\n",
        "  rem=num%10\n",
        "  sum=sum*10+rem\n",
        "  num=num//10\n",
        "if temp == sum:\n",
        "  print('Palindrom',temp)\n",
        "else:\n",
        "  print('not')"
      ],
      "metadata": {
        "colab": {
          "base_uri": "https://localhost:8080/"
        },
        "id": "HfdkerSn4c-C",
        "outputId": "97c66afb-ebf2-4634-d1a5-33afa975d00b"
      },
      "execution_count": 11,
      "outputs": [
        {
          "output_type": "stream",
          "name": "stdout",
          "text": [
            "Palindrom 151\n"
          ]
        }
      ]
    }
  ]
}