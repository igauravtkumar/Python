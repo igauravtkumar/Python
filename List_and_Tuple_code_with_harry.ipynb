{
  "nbformat": 4,
  "nbformat_minor": 0,
  "metadata": {
    "colab": {
      "provenance": []
    },
    "kernelspec": {
      "name": "python3",
      "display_name": "Python 3"
    },
    "language_info": {
      "name": "python"
    }
  },
  "cells": [
    {
      "cell_type": "code",
      "execution_count": 1,
      "metadata": {
        "id": "qbinzXubTC1O"
      },
      "outputs": [],
      "source": [
        "# List --> collection of items\n",
        "# List are mutable datatype"
      ]
    },
    {
      "cell_type": "code",
      "source": [
        "friends = ['Apple','Orange',5,345,False,'Aakash','Rohan']\n",
        "friends[0]"
      ],
      "metadata": {
        "colab": {
          "base_uri": "https://localhost:8080/",
          "height": 36
        },
        "id": "BdDng3F7TUpl",
        "outputId": "3543dbcf-d5db-4af0-8343-f3c5ab77da18"
      },
      "execution_count": 2,
      "outputs": [
        {
          "output_type": "execute_result",
          "data": {
            "text/plain": [
              "'Apple'"
            ],
            "application/vnd.google.colaboratory.intrinsic+json": {
              "type": "string"
            }
          },
          "metadata": {},
          "execution_count": 2
        }
      ]
    },
    {
      "cell_type": "code",
      "source": [
        "friends[0]='Grapes'\n",
        "print(friends)"
      ],
      "metadata": {
        "colab": {
          "base_uri": "https://localhost:8080/"
        },
        "id": "ukcFqsg3T38M",
        "outputId": "5d087b36-2625-451e-dad6-31aa36286fbb"
      },
      "execution_count": 4,
      "outputs": [
        {
          "output_type": "stream",
          "name": "stdout",
          "text": [
            "['Grapes', 'Orange', 5, 345, False, 'Aakash', 'Rohan']\n"
          ]
        }
      ]
    },
    {
      "cell_type": "code",
      "source": [
        "print(friends[6])"
      ],
      "metadata": {
        "colab": {
          "base_uri": "https://localhost:8080/"
        },
        "id": "_Fnd3XQzUCQH",
        "outputId": "1c1ee32c-2c25-4e21-d7ef-52e73a052c9c"
      },
      "execution_count": 5,
      "outputs": [
        {
          "output_type": "stream",
          "name": "stdout",
          "text": [
            "Rohan\n"
          ]
        }
      ]
    },
    {
      "cell_type": "code",
      "source": [
        "print(friends[1:6])"
      ],
      "metadata": {
        "colab": {
          "base_uri": "https://localhost:8080/"
        },
        "id": "_TXDcGZHUTOk",
        "outputId": "d400ff4c-d099-48c2-c1de-e7ac88bde0ee"
      },
      "execution_count": 6,
      "outputs": [
        {
          "output_type": "stream",
          "name": "stdout",
          "text": [
            "['Orange', 5, 345, False, 'Aakash']\n"
          ]
        }
      ]
    },
    {
      "cell_type": "code",
      "source": [
        "friends.append('Gaurav')\n",
        "print(friends)"
      ],
      "metadata": {
        "colab": {
          "base_uri": "https://localhost:8080/"
        },
        "id": "wMDz5Gw7UaKO",
        "outputId": "b6e1f88a-8684-4724-a8f7-60871008766f"
      },
      "execution_count": 7,
      "outputs": [
        {
          "output_type": "stream",
          "name": "stdout",
          "text": [
            "['Grapes', 'Orange', 5, 345, False, 'Aakash', 'Rohan', 'Gaurav']\n"
          ]
        }
      ]
    },
    {
      "cell_type": "code",
      "source": [
        "l1 = [1,32,31,34,2,6]\n",
        "l1.sort()\n",
        "print(l1)"
      ],
      "metadata": {
        "colab": {
          "base_uri": "https://localhost:8080/"
        },
        "id": "8uBPOq1rVAyF",
        "outputId": "6d5dc9de-a7be-4f5f-b12c-2e34db43577c"
      },
      "execution_count": 10,
      "outputs": [
        {
          "output_type": "stream",
          "name": "stdout",
          "text": [
            "[1, 2, 6, 31, 32, 34]\n"
          ]
        }
      ]
    },
    {
      "cell_type": "code",
      "source": [
        "l1.reverse()\n",
        "print(l1)"
      ],
      "metadata": {
        "colab": {
          "base_uri": "https://localhost:8080/"
        },
        "id": "LVg_3paRVJEn",
        "outputId": "52496600-062d-47a6-9452-6667d5f3b44e"
      },
      "execution_count": 11,
      "outputs": [
        {
          "output_type": "stream",
          "name": "stdout",
          "text": [
            "[34, 32, 31, 6, 2, 1]\n"
          ]
        }
      ]
    },
    {
      "cell_type": "code",
      "source": [
        "list1=[1,3,5,46,77,43]\n",
        "list1.insert(3,99)\n",
        "print(list1)"
      ],
      "metadata": {
        "colab": {
          "base_uri": "https://localhost:8080/"
        },
        "id": "aVCbRYEuVPwR",
        "outputId": "7e3ce0a6-70fa-4510-8d13-68932aa1d5fb"
      },
      "execution_count": 18,
      "outputs": [
        {
          "output_type": "stream",
          "name": "stdout",
          "text": [
            "[1, 3, 5, 99, 46, 77, 43]\n"
          ]
        }
      ]
    },
    {
      "cell_type": "code",
      "source": [
        "list1.pop(4)   # remove define index value\n",
        "print(list1)"
      ],
      "metadata": {
        "colab": {
          "base_uri": "https://localhost:8080/"
        },
        "id": "lp5HLlDJVqSg",
        "outputId": "133f3862-2390-42e7-95a5-3b3a8ca4ff1f"
      },
      "execution_count": 19,
      "outputs": [
        {
          "output_type": "stream",
          "name": "stdout",
          "text": [
            "[1, 3, 5, 99, 77, 43]\n"
          ]
        }
      ]
    },
    {
      "cell_type": "code",
      "source": [
        "list1.pop()   # last value remove if we can not define index\n",
        "print(list1)"
      ],
      "metadata": {
        "colab": {
          "base_uri": "https://localhost:8080/"
        },
        "id": "uSWDPLgOWG1R",
        "outputId": "cde4e1df-5df2-4ba8-b9d2-05ba3af1f286"
      },
      "execution_count": 20,
      "outputs": [
        {
          "output_type": "stream",
          "name": "stdout",
          "text": [
            "[1, 3, 5, 99, 77]\n"
          ]
        }
      ]
    },
    {
      "cell_type": "code",
      "source": [
        "# Tuple --> collection of data\n",
        "# immutable datatype"
      ],
      "metadata": {
        "id": "uQzDQ6JIWSyV"
      },
      "execution_count": null,
      "outputs": []
    },
    {
      "cell_type": "code",
      "source": [
        "a = (1,2,3,5)\n",
        "print(type(a))"
      ],
      "metadata": {
        "colab": {
          "base_uri": "https://localhost:8080/"
        },
        "id": "PtT3-hspW7Ot",
        "outputId": "9068c1d6-da6f-4527-a4b7-5a540d559b1d"
      },
      "execution_count": 21,
      "outputs": [
        {
          "output_type": "stream",
          "name": "stdout",
          "text": [
            "<class 'tuple'>\n"
          ]
        }
      ]
    },
    {
      "cell_type": "code",
      "source": [
        "a=()\n",
        "print(type(a))"
      ],
      "metadata": {
        "colab": {
          "base_uri": "https://localhost:8080/"
        },
        "id": "PCA6w_bEW_MP",
        "outputId": "01aa387c-ea7f-4be9-976d-49dcbc77ef5d"
      },
      "execution_count": 22,
      "outputs": [
        {
          "output_type": "stream",
          "name": "stdout",
          "text": [
            "<class 'tuple'>\n"
          ]
        }
      ]
    },
    {
      "cell_type": "code",
      "source": [
        "a=(1)\n",
        "print(type(a))"
      ],
      "metadata": {
        "colab": {
          "base_uri": "https://localhost:8080/"
        },
        "id": "-pXjltViXHS3",
        "outputId": "49cfb972-0f51-48e1-b3db-a149807ead41"
      },
      "execution_count": 23,
      "outputs": [
        {
          "output_type": "stream",
          "name": "stdout",
          "text": [
            "<class 'int'>\n"
          ]
        }
      ]
    },
    {
      "cell_type": "code",
      "source": [
        "a=(1,)\n",
        "print(type(a))"
      ],
      "metadata": {
        "colab": {
          "base_uri": "https://localhost:8080/"
        },
        "id": "q1NaLt6XXJ3T",
        "outputId": "c952659a-e53b-442c-88b9-2b3bb61a5a7b"
      },
      "execution_count": 24,
      "outputs": [
        {
          "output_type": "stream",
          "name": "stdout",
          "text": [
            "<class 'tuple'>\n"
          ]
        }
      ]
    },
    {
      "cell_type": "code",
      "source": [
        "a=(1,45,342,3432,False,45,'Rohan','Shivam')\n",
        "print(a)"
      ],
      "metadata": {
        "colab": {
          "base_uri": "https://localhost:8080/"
        },
        "id": "m_GxQWD-XNcJ",
        "outputId": "f32c53b1-86b4-49eb-aa9c-c490e3f4ec79"
      },
      "execution_count": 27,
      "outputs": [
        {
          "output_type": "stream",
          "name": "stdout",
          "text": [
            "(1, 45, 342, 3432, False, 45, 'Rohan', 'Shivam')\n"
          ]
        }
      ]
    },
    {
      "cell_type": "code",
      "source": [
        "v=a.count(45)\n",
        "print(v)"
      ],
      "metadata": {
        "colab": {
          "base_uri": "https://localhost:8080/"
        },
        "id": "P2EZj4F8XbNA",
        "outputId": "5baf963e-c2f1-487b-9f58-282578fa9433"
      },
      "execution_count": 28,
      "outputs": [
        {
          "output_type": "stream",
          "name": "stdout",
          "text": [
            "2\n"
          ]
        }
      ]
    },
    {
      "cell_type": "code",
      "source": [
        "i = a.index(45)\n",
        "print(i)"
      ],
      "metadata": {
        "colab": {
          "base_uri": "https://localhost:8080/"
        },
        "id": "_6aotb1rXze4",
        "outputId": "655acbfa-3afc-47c1-e24b-d98dc7a88735"
      },
      "execution_count": 29,
      "outputs": [
        {
          "output_type": "stream",
          "name": "stdout",
          "text": [
            "1\n"
          ]
        }
      ]
    },
    {
      "cell_type": "code",
      "source": [
        "# que 1  - Write a python programe to store 7 fruits in a list entered\n",
        "#  by the users\n",
        "fruits = []\n",
        "f1=input(\"Enter fruits name : \")\n",
        "fruits.append(f1)\n",
        "f2=input(\"Enter fruits name : \")\n",
        "fruits.append(f2)\n",
        "f3=input(\"Enter fruits name : \")\n",
        "fruits.append(f3)\n",
        "f4=input(\"Enter fruits name : \")\n",
        "fruits.append(f4)\n",
        "f5=input(\"Enter fruits name : \")\n",
        "fruits.append(f5)\n",
        "f6=input(\"Enter fruits name : \")\n",
        "fruits.append(f6)\n",
        "f7=input(\"Enter fruits name : \")\n",
        "fruits.append(f7)\n",
        "print(fruits)"
      ],
      "metadata": {
        "colab": {
          "base_uri": "https://localhost:8080/"
        },
        "id": "ZZUGv6dMX62C",
        "outputId": "aa25e324-0f32-497f-8bc3-7603d7288f26"
      },
      "execution_count": 31,
      "outputs": [
        {
          "output_type": "stream",
          "name": "stdout",
          "text": [
            "Enter fruits name : mango\n",
            "Enter fruits name : water malon\n",
            "Enter fruits name : grapes\n",
            "Enter fruits name : apple\n",
            "Enter fruits name : papaya\n",
            "Enter fruits name : orange\n",
            "Enter fruits name : pineapple\n",
            "['mango', 'water malon', 'grapes', 'apple', 'papaya', 'orange', 'pineapple']\n"
          ]
        }
      ]
    },
    {
      "cell_type": "code",
      "source": [
        "# que 2 - Write a python programe to accept marks of 6 students and display\n",
        "# them in a sorted manner\n",
        "marks = []\n",
        "m1=int(input(\"Enter marks : \"))\n",
        "marks.append(m1)\n",
        "m2=int(input(\"Enter marks : \"))\n",
        "marks.append(m2)\n",
        "m3=int(input(\"Enter marks : \"))\n",
        "marks.append(m3)\n",
        "m4=int(input(\"Enter marks : \"))\n",
        "marks.append(m4)\n",
        "m5=int(input(\"Enter marks : \"))\n",
        "marks.append(m5)\n",
        "m6=int(input(\"Enter marks : \"))\n",
        "marks.append(m6)\n",
        "marks.sort()\n",
        "print(marks)\n"
      ],
      "metadata": {
        "colab": {
          "base_uri": "https://localhost:8080/"
        },
        "id": "aYXsXX0bYK1n",
        "outputId": "343f0312-7fc5-450a-fe26-89dc26b85607"
      },
      "execution_count": 34,
      "outputs": [
        {
          "output_type": "stream",
          "name": "stdout",
          "text": [
            "Enter marks : 65\n",
            "Enter marks : 32\n",
            "Enter marks : 45\n",
            "Enter marks : 99\n",
            "Enter marks : 86\n",
            "Enter marks : 78\n",
            "[32, 45, 65, 78, 86, 99]\n"
          ]
        }
      ]
    },
    {
      "cell_type": "code",
      "source": [
        "# que 3 - Check that a tuple type cannot changed in python\n",
        "a = (34,343,'Harry')\n",
        "a[2]='larry'\n",
        "print(a)"
      ],
      "metadata": {
        "colab": {
          "base_uri": "https://localhost:8080/",
          "height": 200
        },
        "id": "7TMk5sYdYWPa",
        "outputId": "f150e1ac-8409-48dc-aaba-7734244fa6db"
      },
      "execution_count": 36,
      "outputs": [
        {
          "output_type": "error",
          "ename": "TypeError",
          "evalue": "'tuple' object does not support item assignment",
          "traceback": [
            "\u001b[0;31m---------------------------------------------------------------------------\u001b[0m",
            "\u001b[0;31mTypeError\u001b[0m                                 Traceback (most recent call last)",
            "\u001b[0;32m<ipython-input-36-6d41a6e41f18>\u001b[0m in \u001b[0;36m<cell line: 0>\u001b[0;34m()\u001b[0m\n\u001b[1;32m      1\u001b[0m \u001b[0;31m# que 3 - Check that a tuple type cannot changed in python\u001b[0m\u001b[0;34m\u001b[0m\u001b[0;34m\u001b[0m\u001b[0m\n\u001b[1;32m      2\u001b[0m \u001b[0ma\u001b[0m \u001b[0;34m=\u001b[0m \u001b[0;34m(\u001b[0m\u001b[0;36m34\u001b[0m\u001b[0;34m,\u001b[0m\u001b[0;36m343\u001b[0m\u001b[0;34m,\u001b[0m\u001b[0;34m'Harry'\u001b[0m\u001b[0;34m)\u001b[0m\u001b[0;34m\u001b[0m\u001b[0;34m\u001b[0m\u001b[0m\n\u001b[0;32m----> 3\u001b[0;31m \u001b[0ma\u001b[0m\u001b[0;34m[\u001b[0m\u001b[0;36m2\u001b[0m\u001b[0;34m]\u001b[0m\u001b[0;34m=\u001b[0m\u001b[0;34m'larry'\u001b[0m\u001b[0;34m\u001b[0m\u001b[0;34m\u001b[0m\u001b[0m\n\u001b[0m\u001b[1;32m      4\u001b[0m \u001b[0mprint\u001b[0m\u001b[0;34m(\u001b[0m\u001b[0ma\u001b[0m\u001b[0;34m)\u001b[0m\u001b[0;34m\u001b[0m\u001b[0;34m\u001b[0m\u001b[0m\n",
            "\u001b[0;31mTypeError\u001b[0m: 'tuple' object does not support item assignment"
          ]
        }
      ]
    },
    {
      "cell_type": "code",
      "source": [
        "# que 4 -- Write a programe to sum a list with 4 number\n",
        "list1=[2,3,6,2]\n",
        "print(sum(list1))"
      ],
      "metadata": {
        "colab": {
          "base_uri": "https://localhost:8080/"
        },
        "id": "IXpcdzMaYfF4",
        "outputId": "4ef1f0fb-09f1-481f-e866-7a2a490896b4"
      },
      "execution_count": 39,
      "outputs": [
        {
          "output_type": "stream",
          "name": "stdout",
          "text": [
            "13\n"
          ]
        }
      ]
    },
    {
      "cell_type": "code",
      "source": [
        "# que 5 - Write a programe to count the number of zeros the following tuple\n",
        "a=(7,0,8,0,9)\n",
        "n=a.count(0)\n",
        "print(n)"
      ],
      "metadata": {
        "colab": {
          "base_uri": "https://localhost:8080/"
        },
        "id": "Nl1TYQ9eYkrv",
        "outputId": "437dec5b-afa1-4ef5-a568-1599d99ab7dc"
      },
      "execution_count": 41,
      "outputs": [
        {
          "output_type": "stream",
          "name": "stdout",
          "text": [
            "2\n"
          ]
        }
      ]
    }
  ]
}