{
  "nbformat": 4,
  "nbformat_minor": 0,
  "metadata": {
    "colab": {
      "provenance": []
    },
    "kernelspec": {
      "name": "python3",
      "display_name": "Python 3"
    },
    "language_info": {
      "name": "python"
    }
  },
  "cells": [
    {
      "cell_type": "code",
      "execution_count": null,
      "metadata": {
        "colab": {
          "base_uri": "https://localhost:8080/"
        },
        "id": "U846w0dDKu0i",
        "outputId": "e5b34788-507c-475c-8a67-6cdbc640659b"
      },
      "outputs": [
        {
          "output_type": "stream",
          "name": "stdout",
          "text": [
            "a : 8\n",
            "b : 5\n"
          ]
        }
      ],
      "source": [
        "# 1. Swap Two Variables Without a Temporary Variable\n",
        "a=5\n",
        "b=8\n",
        "a,b=b,a\n",
        "print('a :',a)\n",
        "print('b :',b)"
      ]
    },
    {
      "cell_type": "code",
      "source": [
        "# 2. Check if a Number is Even or Odd\n",
        "num=int(input('Enter the number : '))\n",
        "if num%2==0:\n",
        "  print('Even')\n",
        "else:\n",
        "  print('odd')"
      ],
      "metadata": {
        "colab": {
          "base_uri": "https://localhost:8080/"
        },
        "id": "QGssaEuDM87F",
        "outputId": "3ee01a08-ef1c-4c58-b3b2-9858ca14f240"
      },
      "execution_count": null,
      "outputs": [
        {
          "output_type": "stream",
          "name": "stdout",
          "text": [
            "Enter the number : 5\n",
            "odd\n"
          ]
        }
      ]
    },
    {
      "cell_type": "code",
      "source": [
        "# 3. Check if a Number is Prime\n",
        "num=int(input('Enter the number : '))\n",
        "a=True\n",
        "for i in range(2 , num):\n",
        "  if num % i==0:\n",
        "    a=False\n",
        "    break\n",
        "if a==True:\n",
        "  print('prime number',num)\n",
        "else:\n",
        "  print('not prime',num)"
      ],
      "metadata": {
        "colab": {
          "base_uri": "https://localhost:8080/"
        },
        "id": "YvaJ1ZA9NJ-J",
        "outputId": "3bad2b1d-3540-4470-ecb2-344b116d65f9"
      },
      "execution_count": null,
      "outputs": [
        {
          "output_type": "stream",
          "name": "stdout",
          "text": [
            "Enter the number : 5\n",
            "prime number 5\n"
          ]
        }
      ]
    },
    {
      "cell_type": "code",
      "source": [
        "# 4 Find the Factorial of a Number\n",
        "num=int(input('Enter the number : '))\n",
        "fact = 1\n",
        "for i in range(1 , num+1):\n",
        "  fact = fact*i\n",
        "print(fact)"
      ],
      "metadata": {
        "colab": {
          "base_uri": "https://localhost:8080/"
        },
        "id": "WdyyKnwmNvm4",
        "outputId": "29534b78-d3e9-413f-a7e4-eff6e686d912"
      },
      "execution_count": null,
      "outputs": [
        {
          "output_type": "stream",
          "name": "stdout",
          "text": [
            "Enter the number : 5\n",
            "120\n"
          ]
        }
      ]
    },
    {
      "cell_type": "code",
      "source": [
        "# 5. Generate Fibonacci Sequence\n",
        "a = 0\n",
        "b = 1\n",
        "num = int(input('Enter the number : '))\n",
        "for i in range(1,num+1):\n",
        "  print(a , end=' ')\n",
        "  a,b=b,a+b"
      ],
      "metadata": {
        "colab": {
          "base_uri": "https://localhost:8080/"
        },
        "id": "-W-GeMMRP1I9",
        "outputId": "a6721ca4-bc6a-45f6-aec3-8bc38ec80da5"
      },
      "execution_count": null,
      "outputs": [
        {
          "output_type": "stream",
          "name": "stdout",
          "text": [
            "Enter the number : 7\n",
            "0 1 1 2 3 5 8 "
          ]
        }
      ]
    },
    {
      "cell_type": "code",
      "source": [
        "# 6. Reverse a String\n",
        "s='hello'\n",
        "print(s[::-1])"
      ],
      "metadata": {
        "colab": {
          "base_uri": "https://localhost:8080/"
        },
        "id": "GP8ZHLxgQOJV",
        "outputId": "a34787cd-cd1e-4494-86d9-267628b985c5"
      },
      "execution_count": null,
      "outputs": [
        {
          "output_type": "stream",
          "name": "stdout",
          "text": [
            "olleh\n"
          ]
        }
      ]
    },
    {
      "cell_type": "code",
      "source": [
        "# 7. Find the Largest Number in a List\n",
        "list1=[1,10,21,32,43,54]\n",
        "max=list1[0]\n",
        "for i in list1:\n",
        "  if i > max :\n",
        "    max=i\n",
        "print(max)"
      ],
      "metadata": {
        "colab": {
          "base_uri": "https://localhost:8080/"
        },
        "id": "O7GXo75XQUMc",
        "outputId": "92c5bd77-3c8d-4075-cb63-999740caad25"
      },
      "execution_count": null,
      "outputs": [
        {
          "output_type": "stream",
          "name": "stdout",
          "text": [
            "54\n"
          ]
        }
      ]
    },
    {
      "cell_type": "code",
      "source": [
        "# 8. Find the Smallest Number in a List\n",
        "list1=[1,10,21,32,43,54]\n",
        "min = list1[0]\n",
        "for i in list1:\n",
        "  if i < min:\n",
        "    min = i\n",
        "print(min)\n"
      ],
      "metadata": {
        "colab": {
          "base_uri": "https://localhost:8080/"
        },
        "id": "uvJVs_X9Rug4",
        "outputId": "f28c2cdc-04f6-4357-dd92-098f23a024ad"
      },
      "execution_count": null,
      "outputs": [
        {
          "output_type": "stream",
          "name": "stdout",
          "text": [
            "1\n"
          ]
        }
      ]
    },
    {
      "cell_type": "code",
      "source": [
        "# 9. Check if a String is Palindrome\n",
        "def palindrome(s):\n",
        "  return s==s[::-1]\n",
        "print(palindrome('radar'))"
      ],
      "metadata": {
        "colab": {
          "base_uri": "https://localhost:8080/"
        },
        "id": "9xzexNanSAcU",
        "outputId": "76ac0506-c4d0-439a-dbfc-026e2b86e59c"
      },
      "execution_count": null,
      "outputs": [
        {
          "output_type": "stream",
          "name": "stdout",
          "text": [
            "True\n"
          ]
        }
      ]
    },
    {
      "cell_type": "code",
      "source": [
        "# 10. Count the Number of Vowels in a String\n",
        "str1='hello world'\n",
        "vowels='aeiouAEIOU'\n",
        "count=0\n",
        "for i in str1:\n",
        "  if i in vowels:\n",
        "    count+=1\n",
        "print(count)\n"
      ],
      "metadata": {
        "colab": {
          "base_uri": "https://localhost:8080/"
        },
        "id": "X_9w57uzUSb8",
        "outputId": "897264eb-403f-4c60-9581-d9d0a64eae5d"
      },
      "execution_count": null,
      "outputs": [
        {
          "output_type": "stream",
          "name": "stdout",
          "text": [
            "3\n"
          ]
        }
      ]
    },
    {
      "cell_type": "code",
      "source": [
        "# 11. Find the Sum of Digits in a Number\n",
        "num=1234\n",
        "sum=0\n",
        "while num >0:\n",
        "  rem=num%10\n",
        "  sum=sum+rem\n",
        "  num=num//10\n",
        "print(sum)"
      ],
      "metadata": {
        "colab": {
          "base_uri": "https://localhost:8080/"
        },
        "id": "oE5y_38iu5B5",
        "outputId": "a17ecc91-3548-4390-bd27-2296f8a1d111"
      },
      "execution_count": 1,
      "outputs": [
        {
          "output_type": "stream",
          "name": "stdout",
          "text": [
            "10\n"
          ]
        }
      ]
    },
    {
      "cell_type": "code",
      "source": [
        "# 12. Find the GCD of Two Numbers\n",
        "a=4\n",
        "b=6\n",
        "while b!=0:\n",
        "  a,b=b,a%b\n",
        "print(a)\n"
      ],
      "metadata": {
        "colab": {
          "base_uri": "https://localhost:8080/"
        },
        "id": "aSq7sE1nvGBN",
        "outputId": "c133e5cd-ed7b-457c-e669-782d569f4059"
      },
      "execution_count": 4,
      "outputs": [
        {
          "output_type": "stream",
          "name": "stdout",
          "text": [
            "2\n"
          ]
        }
      ]
    },
    {
      "cell_type": "code",
      "source": [
        "# 13. Find the LCM of Two Numbers\n",
        "a=5\n",
        "b=7\n",
        "if a>b:\n",
        "  greatest=a\n",
        "else:\n",
        "  greatest=b\n",
        "while True:\n",
        "  if greatest%a==0 and greatest%b==0:\n",
        "    print('Lcm is ', greatest)\n",
        "    break\n",
        "  else:\n",
        "    greatest+=1"
      ],
      "metadata": {
        "colab": {
          "base_uri": "https://localhost:8080/"
        },
        "id": "t5VBxZtLvV7-",
        "outputId": "9e2ae4dd-3af5-4652-db23-ea917b8841f1"
      },
      "execution_count": 1,
      "outputs": [
        {
          "output_type": "stream",
          "name": "stdout",
          "text": [
            "Lcm is  35\n"
          ]
        }
      ]
    },
    {
      "cell_type": "code",
      "source": [
        "# 14. Remove Duplicates from a List\n",
        "list1=[1,1,2,2,3,3,4,4,5,6,7]\n",
        "set1=set(list1)\n",
        "print(set1)\n"
      ],
      "metadata": {
        "colab": {
          "base_uri": "https://localhost:8080/"
        },
        "id": "VYszSXAewb66",
        "outputId": "ec088a8c-9728-418b-a3a7-c240666b7df5"
      },
      "execution_count": 2,
      "outputs": [
        {
          "output_type": "stream",
          "name": "stdout",
          "text": [
            "{1, 2, 3, 4, 5, 6, 7}\n"
          ]
        }
      ]
    },
    {
      "cell_type": "code",
      "source": [
        "# 15. Find the Second Largest Number in a List\n",
        "list1=[1,23,43,44,65,46]\n",
        "l=0\n",
        "s=0\n",
        "for i in list1:\n",
        "  if i > l:\n",
        "    s=l\n",
        "    l=i\n",
        "  elif i > s and i !=l:\n",
        "    s=i\n",
        "print('largest number : ',l)\n",
        "print('Second largest : ',s)\n"
      ],
      "metadata": {
        "colab": {
          "base_uri": "https://localhost:8080/"
        },
        "id": "Du-DtxalwlgL",
        "outputId": "dac40e1e-95b7-401c-f227-191ed6cfa9be"
      },
      "execution_count": 3,
      "outputs": [
        {
          "output_type": "stream",
          "name": "stdout",
          "text": [
            "largest number :  65\n",
            "Second largest :  46\n"
          ]
        }
      ]
    },
    {
      "cell_type": "code",
      "source": [
        "# 16. Find the Most Frequent Element in a List\n",
        "lst = [1, 3, 2, 3, 4, 3, 5, 2, 1, 2, 2]\n",
        "\n",
        "freq = {}  # Dictionary to store frequency of each element\n",
        "\n",
        "for num in lst:\n",
        "    freq[num] = freq.get(num, 0) + 1  # Increment count of the element\n",
        "\n",
        "max_freq = max(freq.values())  # Find the maximum frequency\n",
        "\n",
        "for key, value in freq.items():\n",
        "    if value == max_freq:\n",
        "        print(\"Most Frequent Element:\", key)\n",
        "        break  # Stop after finding the first most frequent element\n"
      ],
      "metadata": {
        "colab": {
          "base_uri": "https://localhost:8080/"
        },
        "id": "qEglLLpCxDRN",
        "outputId": "5366375a-f193-4165-ab6c-b73f13e40ef0"
      },
      "execution_count": 4,
      "outputs": [
        {
          "output_type": "stream",
          "name": "stdout",
          "text": [
            "Most Frequent Element: 2\n"
          ]
        }
      ]
    },
    {
      "cell_type": "code",
      "source": [
        "# 17. Check if Two Strings are Anagrams\n",
        "s1='listen'\n",
        "s2='silent'\n",
        "if sorted(s1)==sorted(s2):\n",
        "   print('Both are anagram : ',s1,s2)\n",
        "else:\n",
        "  print('not anagram')"
      ],
      "metadata": {
        "colab": {
          "base_uri": "https://localhost:8080/"
        },
        "id": "Cx8nIAkpxrGQ",
        "outputId": "c2fc1af1-e411-4023-a3a4-bb9612621b9e"
      },
      "execution_count": 6,
      "outputs": [
        {
          "output_type": "stream",
          "name": "stdout",
          "text": [
            "Both are anagram :  listen silent\n"
          ]
        }
      ]
    },
    {
      "cell_type": "code",
      "source": [
        "# 18. Find the Intersection of Two Lists\n",
        "list1=[1,2,3,4]\n",
        "list2=[3,4,5,6]\n",
        "set1=set(list1)\n",
        "set2=set(list2)\n",
        "set1.intersection(set2)"
      ],
      "metadata": {
        "colab": {
          "base_uri": "https://localhost:8080/"
        },
        "id": "dI80lXswyJ9J",
        "outputId": "83e67cfc-991e-4348-9174-b2fddbdda07a"
      },
      "execution_count": 7,
      "outputs": [
        {
          "output_type": "execute_result",
          "data": {
            "text/plain": [
              "{3, 4}"
            ]
          },
          "metadata": {},
          "execution_count": 7
        }
      ]
    },
    {
      "cell_type": "code",
      "source": [
        "# 19. Merge Two Sorted Lists\n",
        "list1=[1,2,3,4]\n",
        "list2=[5,6,7,8]\n",
        "merge=sorted(list1+list2)\n",
        "print(merge)"
      ],
      "metadata": {
        "colab": {
          "base_uri": "https://localhost:8080/"
        },
        "id": "MKd0IYSpyf-X",
        "outputId": "f94c28d5-7875-4eee-b938-feee362c257d"
      },
      "execution_count": 12,
      "outputs": [
        {
          "output_type": "stream",
          "name": "stdout",
          "text": [
            "[1, 2, 3, 4, 5, 6, 7, 8]\n"
          ]
        }
      ]
    },
    {
      "cell_type": "code",
      "source": [
        "# 20. Find the Missing Number in a List\n",
        "list1=[1,2,4,5,6]\n",
        "n=len(list1)+1\n",
        "expect_sum=n*(n+1)//2\n",
        "actual_sum=sum(list1)\n",
        "missing_sum=expect_sum-actual_sum\n",
        "print(missing_sum)"
      ],
      "metadata": {
        "colab": {
          "base_uri": "https://localhost:8080/"
        },
        "id": "ce9f4iBcy7ov",
        "outputId": "e8991847-456d-4e6d-dcc8-5e576b06d24b"
      },
      "execution_count": 14,
      "outputs": [
        {
          "output_type": "stream",
          "name": "stdout",
          "text": [
            "3\n"
          ]
        }
      ]
    },
    {
      "cell_type": "code",
      "source": [
        "# 21. Find the First Non-Repeating Character in a String\n",
        "s='abbacde'\n",
        "for char in s:\n",
        "  if s.count(char)==1:\n",
        "    print('First non repeating character : ',char)\n",
        "    break"
      ],
      "metadata": {
        "colab": {
          "base_uri": "https://localhost:8080/"
        },
        "id": "tlnfBZYW0KSh",
        "outputId": "28e5e894-2ca3-4dc3-a38e-caf21bb19ad9"
      },
      "execution_count": 15,
      "outputs": [
        {
          "output_type": "stream",
          "name": "stdout",
          "text": [
            "First non repeating character :  c\n"
          ]
        }
      ]
    },
    {
      "cell_type": "code",
      "source": [
        "# 22. Find the Length of the Longest Word in a Sentence\n",
        "sentence = \"Python is amazing\"\n",
        "longest=max(sentence.split(),key=len)\n",
        "print(longest)\n"
      ],
      "metadata": {
        "colab": {
          "base_uri": "https://localhost:8080/"
        },
        "id": "bkM8Brxk0jTs",
        "outputId": "fc329aaf-3d45-4132-aad0-a7e5b31575c0"
      },
      "execution_count": 22,
      "outputs": [
        {
          "output_type": "stream",
          "name": "stdout",
          "text": [
            "amazing\n"
          ]
        }
      ]
    },
    {
      "cell_type": "code",
      "source": [
        "# 23. Find the frequency in a String\n",
        "words = \"apple banana apple orange banana apple\"\n",
        "list1=words.split()\n",
        "dict={}\n",
        "for i in list1:\n",
        "  if i in dict:\n",
        "    dict[i]+=1\n",
        "  else:\n",
        "    dict[i]=1\n",
        "print(dict)\n",
        "\n",
        "\n"
      ],
      "metadata": {
        "colab": {
          "base_uri": "https://localhost:8080/"
        },
        "id": "KCZ_-iW-1viJ",
        "outputId": "b507ea24-b217-4097-b2bd-b19cf732accf"
      },
      "execution_count": 39,
      "outputs": [
        {
          "output_type": "stream",
          "name": "stdout",
          "text": [
            "{'apple': 3, 'banana': 2, 'orange': 1}\n"
          ]
        }
      ]
    },
    {
      "cell_type": "code",
      "source": [
        "# 24. Find the fmost frequent word in a String\n",
        "words = \"apple banana apple orange banana apple\"\n",
        "list1=words.split()\n",
        "dict={}\n",
        "for i in list1:\n",
        "  dict[i]=dict.get(i,0)+1\n",
        "most_freq=max(dict,key=dict.get)\n",
        "print('Most Freq : ',most_freq)"
      ],
      "metadata": {
        "colab": {
          "base_uri": "https://localhost:8080/"
        },
        "id": "F6XgSmc23Qwt",
        "outputId": "0dbcb22a-7482-4fae-d2ad-0f3eaf81ae0e"
      },
      "execution_count": 40,
      "outputs": [
        {
          "output_type": "stream",
          "name": "stdout",
          "text": [
            "Most Freq :  apple\n"
          ]
        }
      ]
    },
    {
      "cell_type": "code",
      "source": [
        "# 25. Check if a Number is a Power of Two\n",
        "number = 16\n",
        "if number > 0 and (number & (number - 1)) == 0:\n",
        "    print(f\"{number} is a power of two.\")\n",
        "else:\n",
        "    print(f\"{number} is not a power of two.\")\n"
      ],
      "metadata": {
        "colab": {
          "base_uri": "https://localhost:8080/"
        },
        "id": "r__PC8jg3uo6",
        "outputId": "e9ff17c1-e5c6-4b19-9ca3-75601100f1db"
      },
      "execution_count": 41,
      "outputs": [
        {
          "output_type": "stream",
          "name": "stdout",
          "text": [
            "16 is a power of two.\n"
          ]
        }
      ]
    },
    {
      "cell_type": "code",
      "source": [
        "# 26. Write a program that can multiply 2 numbers provided by the user without using the ( * multiply) operator\n",
        "num1=5\n",
        "num2=7\n",
        "result=0\n",
        "for i in range(num2):\n",
        "  result=result+num1\n",
        "print(result)"
      ],
      "metadata": {
        "colab": {
          "base_uri": "https://localhost:8080/"
        },
        "id": "kz6B-_2H4NSo",
        "outputId": "fd5103f8-2d9d-4f87-c330-4c5ccad942ed"
      },
      "execution_count": 43,
      "outputs": [
        {
          "output_type": "stream",
          "name": "stdout",
          "text": [
            "35\n"
          ]
        }
      ]
    },
    {
      "cell_type": "code",
      "source": [
        "# 27 Write a program to count the total number of digits in a number using a while loop. a.\n",
        "#  For example, the number is 75869, so the output should be 5.\n",
        "num=75869\n",
        "count=0\n",
        "while num>0:\n",
        "  rem=num%10\n",
        "  count+=1\n",
        "  num=num//10\n",
        "print(count)"
      ],
      "metadata": {
        "colab": {
          "base_uri": "https://localhost:8080/"
        },
        "id": "Lf8c-XdX4btG",
        "outputId": "0b545240-d26b-4e1c-f720-d8e3424acaf4"
      },
      "execution_count": 44,
      "outputs": [
        {
          "output_type": "stream",
          "name": "stdout",
          "text": [
            "5\n"
          ]
        }
      ]
    },
    {
      "cell_type": "code",
      "source": [
        "# 28 Write a program to print multiplication table of a given number For example, num = 2 so the output should be 2,4,6,8....20\n",
        "num=int(input('Enter the number : '))\n",
        "for i in range(1 , 11):\n",
        "  print(num*i)"
      ],
      "metadata": {
        "colab": {
          "base_uri": "https://localhost:8080/"
        },
        "id": "0EitlGb44sP5",
        "outputId": "23e46e83-76a4-4ee4-8c68-df8f479c65c1"
      },
      "execution_count": 45,
      "outputs": [
        {
          "output_type": "stream",
          "name": "stdout",
          "text": [
            "Enter the number : 2\n",
            "2\n",
            "4\n",
            "6\n",
            "8\n",
            "10\n",
            "12\n",
            "14\n",
            "16\n",
            "18\n",
            "20\n"
          ]
        }
      ]
    },
    {
      "cell_type": "code",
      "source": [
        "# 29. Write a program to print the first 25 odd numbers in list\n",
        "list1=[]\n",
        "for i in range(1,51):\n",
        "  if i %2!=0:\n",
        "    list1.append(i)\n",
        "print(list1)"
      ],
      "metadata": {
        "colab": {
          "base_uri": "https://localhost:8080/"
        },
        "id": "VLw5yDto5At4",
        "outputId": "7bb2128d-c416-40ee-a514-e41ca45b9e66"
      },
      "execution_count": 46,
      "outputs": [
        {
          "output_type": "stream",
          "name": "stdout",
          "text": [
            "[1, 3, 5, 7, 9, 11, 13, 15, 17, 19, 21, 23, 25, 27, 29, 31, 33, 35, 37, 39, 41, 43, 45, 47, 49]\n"
          ]
        }
      ]
    },
    {
      "cell_type": "code",
      "source": [
        "# 30. Write a program to print the first 25 even numbers in list\n",
        "list1=[]\n",
        "for i in range(1,51):\n",
        "  if i %2==0:\n",
        "    list1.append(i)\n",
        "print(list1)"
      ],
      "metadata": {
        "colab": {
          "base_uri": "https://localhost:8080/"
        },
        "id": "ESpGQz0Y5VkS",
        "outputId": "44cb3bad-f2e1-4e26-e7da-efd4f114c010"
      },
      "execution_count": 47,
      "outputs": [
        {
          "output_type": "stream",
          "name": "stdout",
          "text": [
            "[2, 4, 6, 8, 10, 12, 14, 16, 18, 20, 22, 24, 26, 28, 30, 32, 34, 36, 38, 40, 42, 44, 46, 48, 50]\n"
          ]
        }
      ]
    },
    {
      "cell_type": "code",
      "source": [
        "# 31. Arrange string characters such that lowercase letters should come first\n",
        "s = 'Hii My Name GAURAv'\n",
        "lower=''\n",
        "upper=''\n",
        "for i in s:\n",
        "  if i.islower():\n",
        "    lower+=i\n",
        "  else:\n",
        "    upper+=i\n",
        "combined=lower+upper\n",
        "print(combined)"
      ],
      "metadata": {
        "colab": {
          "base_uri": "https://localhost:8080/"
        },
        "id": "hPPS7_zd5dN7",
        "outputId": "70506593-ea87-4eab-d688-ec123ccbd9f9"
      },
      "execution_count": 49,
      "outputs": [
        {
          "output_type": "stream",
          "name": "stdout",
          "text": [
            "iiyamevH M N GAURA\n"
          ]
        }
      ]
    },
    {
      "cell_type": "code",
      "source": [
        "# 32  Count all letters, digits, and special symbols from a given string\n",
        "str1 = \"P@#yn26at^&i5ve\"\n",
        "digit=0\n",
        "special=0\n",
        "letter=0\n",
        "for i in str1:\n",
        "  if i.isalpha():\n",
        "    letter+=1\n",
        "  elif i.isdigit():\n",
        "    digit+=1\n",
        "  else:\n",
        "    special+=1\n",
        "print('Digit : ',digit)\n",
        "print('letter : ',letter)\n",
        "print('Special : ',special)\n"
      ],
      "metadata": {
        "colab": {
          "base_uri": "https://localhost:8080/"
        },
        "id": "V8XwwcPa533q",
        "outputId": "f1aee51c-ee7a-473e-aef1-19d889aa41db"
      },
      "execution_count": 50,
      "outputs": [
        {
          "output_type": "stream",
          "name": "stdout",
          "text": [
            "Digit :  3\n",
            "letter :  8\n",
            "Special :  4\n"
          ]
        }
      ]
    },
    {
      "cell_type": "code",
      "source": [
        "# 33  Remove empty strings from a list of strings\n",
        "list1=[\"python\",\"is\",\"\",\"high level\",\"\",\"programming language\"]\n",
        "new=[]\n",
        "for i in list1:\n",
        "  if i!='':\n",
        "    new.append(i)\n",
        "print(new)"
      ],
      "metadata": {
        "colab": {
          "base_uri": "https://localhost:8080/"
        },
        "id": "YcpeXApu7AGT",
        "outputId": "07101a98-05a8-4408-8489-0ed9b0df0a5f"
      },
      "execution_count": 51,
      "outputs": [
        {
          "output_type": "stream",
          "name": "stdout",
          "text": [
            "['python', 'is', 'high level', 'programming language']\n"
          ]
        }
      ]
    },
    {
      "cell_type": "code",
      "source": [
        "# 34 Removal all characters from a string except integer\n",
        "str1 = 'I am 25 years and 10 months old'\n",
        "inte=''\n",
        "for i in str1:\n",
        "  if i.isdigit():\n",
        "    inte+=i\n",
        "print(inte)"
      ],
      "metadata": {
        "colab": {
          "base_uri": "https://localhost:8080/"
        },
        "id": "fsxsk3UU7MJ7",
        "outputId": "de3878a6-f071-41cb-fb24-8c452e680e08"
      },
      "execution_count": 53,
      "outputs": [
        {
          "output_type": "stream",
          "name": "stdout",
          "text": [
            "2510\n"
          ]
        }
      ]
    },
    {
      "cell_type": "code",
      "source": [
        "# 35  extract the email service provider name\n",
        "emaillist=\"KSR@datavizion.com\" ,\"mymail@yahoo.com\",\"milindmali@google.com\",\"snehal@health\"\n",
        "provider_name=[]\n",
        "for email in emaillist:\n",
        "  provider=email.split(\"@\")\n",
        "  provider_name.append(provider)\n",
        "print(provider_name)"
      ],
      "metadata": {
        "colab": {
          "base_uri": "https://localhost:8080/"
        },
        "id": "vKEZ9wOV7f6Z",
        "outputId": "e69c0333-c0d7-4c09-dfaa-986f5be62156"
      },
      "execution_count": 54,
      "outputs": [
        {
          "output_type": "stream",
          "name": "stdout",
          "text": [
            "[['KSR', 'datavizion.com'], ['mymail', 'yahoo.com'], ['milindmali', 'google.com'], ['snehal', 'health']]\n"
          ]
        }
      ]
    },
    {
      "cell_type": "code",
      "source": [
        "# 36. extract all the emailid for the given string\n",
        "string = \"Hi my name is Govind Das and my mail id is milindmali108@gmail.com and my org\"\n",
        "str=string.split()\n",
        "email=\"\"\n",
        "for char in str:\n",
        "  if \"@\" in char and \".\" in char:\n",
        "    email=char\n",
        "    break\n",
        "print(email)\n",
        "\n",
        "\n"
      ],
      "metadata": {
        "colab": {
          "base_uri": "https://localhost:8080/"
        },
        "id": "Fre23Wob8M9Y",
        "outputId": "0478d797-ff1d-42d0-937d-3bd8d55ec362"
      },
      "execution_count": 57,
      "outputs": [
        {
          "output_type": "stream",
          "name": "stdout",
          "text": [
            "milindmali108@gmail.com\n"
          ]
        }
      ]
    },
    {
      "cell_type": "code",
      "source": [
        "# 37  Create a Python set such that it shows the element from both lists in a pair\n",
        "first_list = [2, 3, 4, 5, 6, 7, 8]\n",
        "second_list = [4, 9, 16, 25, 36, 49, 64]\n",
        "pair = set(zip(first_list , second_list))\n",
        "print(pair)"
      ],
      "metadata": {
        "colab": {
          "base_uri": "https://localhost:8080/"
        },
        "id": "4pYr5Xav948I",
        "outputId": "ffec322a-a9b6-47fe-8c1b-598c009e59c3"
      },
      "execution_count": 58,
      "outputs": [
        {
          "output_type": "stream",
          "name": "stdout",
          "text": [
            "{(7, 49), (2, 4), (4, 16), (8, 64), (6, 36), (3, 9), (5, 25)}\n"
          ]
        }
      ]
    },
    {
      "cell_type": "code",
      "source": [
        "# 38  Write a program to reverse a List in Python\n",
        "list=[1,2,3,4,5]\n",
        "list.sort(reverse=True)\n",
        "print(list)"
      ],
      "metadata": {
        "colab": {
          "base_uri": "https://localhost:8080/"
        },
        "id": "NKgLjUZ8-MVh",
        "outputId": "a50a3a6f-c841-4a24-93ac-f6fd9e6d0383"
      },
      "execution_count": 62,
      "outputs": [
        {
          "output_type": "stream",
          "name": "stdout",
          "text": [
            "[5, 4, 3, 2, 1]\n"
          ]
        }
      ]
    },
    {
      "cell_type": "code",
      "source": [
        "# 39  Write a program to get sum of number of digit in a list\n",
        "list1=[1,2,4,3,5]\n",
        "sum=0\n",
        "for i in list1:\n",
        "  sum=sum+i\n",
        "print(sum)"
      ],
      "metadata": {
        "colab": {
          "base_uri": "https://localhost:8080/"
        },
        "id": "cyxjkLBW-dJU",
        "outputId": "6c44cff4-f7ee-4ad4-e22a-06553c90fbf9"
      },
      "execution_count": 63,
      "outputs": [
        {
          "output_type": "stream",
          "name": "stdout",
          "text": [
            "15\n"
          ]
        }
      ]
    },
    {
      "cell_type": "code",
      "source": [
        "# 40  Write a program to get the smallest number in a list\n",
        "# Note => without using reverse(), sort() and slicing operator\n",
        "list1=[34,54,65,76,2,45]\n",
        "smallest_num=list1[0]\n",
        "for i in list1:\n",
        "  if i < smallest_num:\n",
        "    smallest_num=i\n",
        "print(smallest_num)"
      ],
      "metadata": {
        "colab": {
          "base_uri": "https://localhost:8080/"
        },
        "id": "S2NtwhyK-qf4",
        "outputId": "7647331c-324c-4cac-fad7-7228764c32ae"
      },
      "execution_count": 64,
      "outputs": [
        {
          "output_type": "stream",
          "name": "stdout",
          "text": [
            "2\n"
          ]
        }
      ]
    }
  ]
}