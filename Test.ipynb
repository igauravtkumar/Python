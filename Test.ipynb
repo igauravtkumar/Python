{
  "nbformat": 4,
  "nbformat_minor": 0,
  "metadata": {
    "colab": {
      "provenance": []
    },
    "kernelspec": {
      "name": "python3",
      "display_name": "Python 3"
    },
    "language_info": {
      "name": "python"
    }
  },
  "cells": [
    {
      "cell_type": "code",
      "execution_count": null,
      "metadata": {
        "colab": {
          "base_uri": "https://localhost:8080/"
        },
        "id": "mtYRPQCKEYtc",
        "outputId": "551aaf1f-8813-4afc-8f2e-ef92351a0387"
      },
      "outputs": [
        {
          "output_type": "stream",
          "name": "stdout",
          "text": [
            "10\n"
          ]
        }
      ],
      "source": [
        "# Q.1 Write a function that takes a list of numbers and returns the sum.\n",
        "def func(li):\n",
        "  sum=0\n",
        "  for i in li:\n",
        "    sum+=i\n",
        "  print(sum)\n",
        "func([1,2,3,4])"
      ]
    },
    {
      "cell_type": "code",
      "source": [
        "# Q.2 How can you remove duplicates from a list?\n",
        "list=[1,2,2,2,3,3,4,4,5]\n",
        "duplicate=[]\n",
        "for i in range(len(list)):\n",
        "  if list[i] not in duplicate:\n",
        "    duplicate.append(list[i])\n",
        "print(duplicate)"
      ],
      "metadata": {
        "colab": {
          "base_uri": "https://localhost:8080/"
        },
        "id": "LYZ7s_qUEv_e",
        "outputId": "558ff921-d06d-4ffd-bff4-3b990ca49fe5"
      },
      "execution_count": null,
      "outputs": [
        {
          "output_type": "stream",
          "name": "stdout",
          "text": [
            "[1, 2, 3, 4, 5]\n"
          ]
        }
      ]
    },
    {
      "cell_type": "code",
      "source": [
        "# Q.5 Write a program to rotate a list n positions to the right without using slicing ([:]) or any predefined rotation methods.\n",
        "list=[1, 2, 3, 4, 5]\n",
        "n=2\n",
        "size1=len(list)\n",
        "n=n%size1\n",
        "mylist=[0]*size1\n",
        "for index in range(len(list)):\n",
        "  total = (index+n)%size1\n",
        "  mylist[total]=list[index]\n",
        "print(mylist)\n"
      ],
      "metadata": {
        "colab": {
          "base_uri": "https://localhost:8080/"
        },
        "id": "5yFUbnKQFDZk",
        "outputId": "79ea89ac-0b9c-4558-a451-7bf46d1963ab"
      },
      "execution_count": null,
      "outputs": [
        {
          "output_type": "stream",
          "name": "stdout",
          "text": [
            "[4, 5, 1, 2, 3]\n"
          ]
        }
      ]
    },
    {
      "cell_type": "code",
      "source": [
        "# Q.6 Convert a dictionary into a nested list of keys and values without using any predefined dictionary methods?\n",
        "dict={\"a\":1,\"b\":2}\n",
        "\n",
        "nested_list = []\n",
        "for key in dict:\n",
        "    nested_list.append([key, dict[key]])\n",
        "\n",
        "print(nested_list)\n"
      ],
      "metadata": {
        "colab": {
          "base_uri": "https://localhost:8080/"
        },
        "id": "MzIZ0rroF9tw",
        "outputId": "e3a076fa-d39f-4fff-b071-0b093e2ddc4c"
      },
      "execution_count": null,
      "outputs": [
        {
          "output_type": "stream",
          "name": "stdout",
          "text": [
            "[['a', 1], ['b', 2]]\n"
          ]
        }
      ]
    },
    {
      "cell_type": "code",
      "source": [
        "# Q.8 Write a program to generate all possible pairs from two tuples without using libraries like itertools.\n",
        "tuple1 = (1, 2)\n",
        "tuple2 = (3, 4)\n",
        "li=[]\n",
        "for i in tuple1:\n",
        "  for j in tuple2:\n",
        "    li.append((i,j))\n",
        "print(li)\n"
      ],
      "metadata": {
        "colab": {
          "base_uri": "https://localhost:8080/"
        },
        "id": "AaG8tJPGGagk",
        "outputId": "3a8effb8-4270-49ed-bcd8-faa71a669868"
      },
      "execution_count": null,
      "outputs": [
        {
          "output_type": "stream",
          "name": "stdout",
          "text": [
            "[(1, 3), (1, 4), (2, 3), (2, 4)]\n"
          ]
        }
      ]
    },
    {
      "cell_type": "code",
      "source": [
        "# Q.10 Generate the first n rows of Pascal&#39;s Triangle without using predefined methods or recursion.\n",
        "n=5\n",
        "mylist=[]\n",
        "for i in range(n):\n",
        "  temp=[]\n",
        "  for j in range(i+1):\n",
        "    if (j==0 or j==i):\n",
        "      temp.append(1)\n",
        "    else:\n",
        "      temp.append(mylist[i-1][j-1]+mylist[i-1][j])\n",
        "  mylist.append(temp)\n",
        "print(mylist)\n",
        "for i in range(n):\n",
        "  for j in range(i+1):\n",
        "    print(mylist[i][j],end=\" \")\n",
        "  print()"
      ],
      "metadata": {
        "colab": {
          "base_uri": "https://localhost:8080/"
        },
        "id": "hMu3s5HeGxwP",
        "outputId": "7de0fb31-a475-4f7c-8a19-800917688b88"
      },
      "execution_count": null,
      "outputs": [
        {
          "output_type": "stream",
          "name": "stdout",
          "text": [
            "[[1], [1, 1], [1, 2, 1], [1, 3, 3, 1], [1, 4, 6, 4, 1]]\n",
            "1 \n",
            "1 1 \n",
            "1 2 1 \n",
            "1 3 3 1 \n",
            "1 4 6 4 1 \n"
          ]
        }
      ]
    },
    {
      "cell_type": "code",
      "source": [
        "# Q.3 What is a lambda function? Provide an example.\n",
        "square = lambda x:x**2\n",
        "print(square(10))"
      ],
      "metadata": {
        "colab": {
          "base_uri": "https://localhost:8080/"
        },
        "id": "rPEn6Fz1Hnd1",
        "outputId": "4644fe38-4cd8-4f34-89d6-f8d8fb6d715e"
      },
      "execution_count": null,
      "outputs": [
        {
          "output_type": "stream",
          "name": "stdout",
          "text": [
            "100\n"
          ]
        }
      ]
    }
  ]
}