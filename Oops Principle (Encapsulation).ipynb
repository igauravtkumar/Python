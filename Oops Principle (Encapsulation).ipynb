{
  "nbformat": 4,
  "nbformat_minor": 0,
  "metadata": {
    "colab": {
      "provenance": []
    },
    "kernelspec": {
      "name": "python3",
      "display_name": "Python 3"
    },
    "language_info": {
      "name": "python"
    }
  },
  "cells": [
    {
      "cell_type": "code",
      "execution_count": null,
      "metadata": {
        "id": "ziQapVX3Gxle"
      },
      "outputs": [],
      "source": [
        "# Encapsulation =>\n",
        "#              Encapsulation is the process of bundling data and methods that operate on the data into a single unit called a class.It also\n",
        "# involve restricting direct acess  to some of the object attribute and method to protect the integrity of the data.\n",
        "# This is typically done by making attributes private and exposing them through public methods(getters and setters)."
      ]
    },
    {
      "cell_type": "code",
      "source": [
        "#Question - Why is Encapsulation Important ?\n",
        "# 1> It Improve data security by restricting unauthorise access\n",
        "# 2> Its promotes modularity by hiding implementation details\n",
        "# 3> It unable control over the data by providing controol access througs methods\n",
        "# 4> It enhance code mentability and reusability by protecting data from unintended modifications.\n"
      ],
      "metadata": {
        "id": "3TNlet-ck-UI"
      },
      "execution_count": null,
      "outputs": []
    },
    {
      "cell_type": "code",
      "source": [
        "# Encapsulation Implement in Python -->\n",
        "#                               Encapsulation in python is implement by declaring attribute private using a (__)providing public method like getter and setter\n",
        "# to access and modify private attributes"
      ],
      "metadata": {
        "id": "piNwqLZ0lx2x"
      },
      "execution_count": null,
      "outputs": []
    },
    {
      "cell_type": "code",
      "source": [
        "#Question -- How do pprivate and protected attribute relate to encapsulation ?\n",
        "# 1 Private attribute(__attribute__) -->   Fully encapsulated the data and they can only be access with in the class\n",
        "# 2 Protected attribute(_attribute_)-->   Provide partial encapsulation indicating that they should be access only with in the class or subclass"
      ],
      "metadata": {
        "id": "vNDaJ9Gzmks8"
      },
      "execution_count": null,
      "outputs": []
    },
    {
      "cell_type": "code",
      "source": [
        "# Que - Can Encapsulation be achieve without using private attributes ?\n",
        "#  Yes Encapsulation can still be achieve without private attribute by using public methods to inforce data integrity however private attributes provided an additional layer\n",
        "# of secure key to prevent accidental or unauthorised access"
      ],
      "metadata": {
        "id": "WNkX7iSPnWiw"
      },
      "execution_count": null,
      "outputs": []
    },
    {
      "cell_type": "code",
      "source": [
        "# Que--- How does encapsulation help in debugging and maintaining code ?\n",
        "#  Encapsulation helps maintaing and debugging     1> Restricting direct access to sensitive data , reducing unintended side effect\n",
        "# 2> Allowing Changes to the internal implementation without affecting other part of the programs\n",
        "# 3> It is providing a clear interphase for intereacting with in object data and behaviour"
      ],
      "metadata": {
        "id": "oryBlDqYoKdT"
      },
      "execution_count": null,
      "outputs": []
    },
    {
      "cell_type": "code",
      "source": [
        "# Disadvantage of Encapsulation ==>\n",
        "#                          1> It increase complexity in implementation as developes need to create getter and setter\n",
        "# 2>  slight performance overhead due to methods fall for accessing attributes\n",
        "# 3> It may lead to overenginnering if used unneccessrly in simple program ."
      ],
      "metadata": {
        "id": "TOaXlEnOpE3L"
      },
      "execution_count": null,
      "outputs": []
    },
    {
      "cell_type": "code",
      "source": [
        "#Que-- How can Encapsulation violate the dry(do not repeat yourself) principles ?\n",
        "#  Encapsulation can violate the dry principle when getter and setter are return redundently for every private attribute specially in cases where direct access\n",
        "# to the data would suffix(simple data objects without criticle security concern)"
      ],
      "metadata": {
        "id": "7STPlHWRqNXS"
      },
      "execution_count": null,
      "outputs": []
    },
    {
      "cell_type": "code",
      "source": [
        "# Que-- It is possible to access private attribute outside the class in python ?\n",
        "#  Yes private attribute can be access using name mangling python internally changes the name of private attributes to _classname  and\n",
        "# __attribute name"
      ],
      "metadata": {
        "id": "5vY1imXBrG6U"
      },
      "execution_count": null,
      "outputs": []
    },
    {
      "cell_type": "code",
      "source": [
        "class Example:\n",
        "  def __init__(self):\n",
        "    self.__private=\"Secret\"\n",
        "\n",
        "obj=Example()\n",
        "print(obj._Example__private)   # accessing private attribute using name mangling\n"
      ],
      "metadata": {
        "colab": {
          "base_uri": "https://localhost:8080/"
        },
        "id": "W7Jr4g_fsB3m",
        "outputId": "b424be37-2926-49d9-bd9c-889b7ac6ea7d"
      },
      "execution_count": null,
      "outputs": [
        {
          "output_type": "stream",
          "name": "stdout",
          "text": [
            "Secret\n"
          ]
        }
      ]
    },
    {
      "cell_type": "code",
      "source": [
        "class BankAccount:\n",
        "  def __init__(self,account_holder,balance): # Private attribute\n",
        "    self.__account_holder = account_holder\n",
        "    self.__balance = balance\n",
        "\n",
        "   # Getter for account holder\n",
        "  def get_account_holder(self):\n",
        "    return self.__account_holder\n",
        "\n",
        "  def get_balance(self):\n",
        "    return self.__balance\n",
        "\n",
        "  def deposit(self,amount):\n",
        "    if amount >0:\n",
        "      self.__balance +=amount\n",
        "      return f\"deposit sucessfull ! New Balance : {self.__balance}\"\n",
        "    else:\n",
        "      return f\"Invalid deposit amount \"\n",
        "\n",
        "  def withdraw(self,amount):\n",
        "    if amount <= self.__balance:\n",
        "      self.__balance-=amount\n",
        "      return f\"Withdrawl sucessfull ! New Balance : {self.__balance}\"\n",
        "    else:\n",
        "      return \"Insufficient Balance\"\n",
        "\n",
        "account = BankAccount(\"Gaurav\",5000)\n",
        "print(account.get_account_holder())\n",
        "print(account.get_balance())\n",
        "print(account.deposit(1000))\n",
        "print(account.withdraw(2000))\n",
        "\n",
        "# Attempt to acess private attribute directly not allowed\n",
        "#print(account.__balance) # Error : AttributeError"
      ],
      "metadata": {
        "colab": {
          "base_uri": "https://localhost:8080/"
        },
        "id": "dIm1Frk5tVRg",
        "outputId": "4d043512-9185-4336-d709-0fc3c497f626"
      },
      "execution_count": null,
      "outputs": [
        {
          "output_type": "stream",
          "name": "stdout",
          "text": [
            "Gaurav\n",
            "5000\n",
            "deposit sucessfull ! New Balance : 6000\n",
            "Withdrawl sucessfull ! New Balance : 4000\n"
          ]
        }
      ]
    },
    {
      "cell_type": "code",
      "source": [
        "class Student:\n",
        "  def __init__(self,name,grade):\n",
        "    self.name=name\n",
        "    self.__grade=grade\n",
        "\n",
        "  #  Getter for grade\n",
        "  def get_grade(self):\n",
        "    return self.__grade\n",
        "\n",
        "  # Setter for grade(with validation)\n",
        "  def set_grade(self,new_grade):\n",
        "    if 0<=new_grade <= 100:\n",
        "      self.__grade =  new_grade\n",
        "      return \"Grade Updated Sucessfully\"\n",
        "    else:\n",
        "      return \"Invalid Grade! Must be between 0 and 100\"\n",
        "\n",
        "student=Student(\"Ram\",85)\n",
        "print(student.name)\n",
        "print(student.get_grade())\n",
        "print(student.set_grade(90))\n",
        "print(student.get_grade())\n",
        "# Attempt to set an invalid grade\n",
        "print(student.set_grade(150))"
      ],
      "metadata": {
        "colab": {
          "base_uri": "https://localhost:8080/"
        },
        "id": "NB6rNUdqvwhC",
        "outputId": "edcdcc8f-efa6-47c9-bb5f-8c2cc5dc27fd"
      },
      "execution_count": null,
      "outputs": [
        {
          "output_type": "stream",
          "name": "stdout",
          "text": [
            "Ram\n",
            "85\n",
            "Grade Updated Sucessfully\n",
            "90\n",
            "Invalid Grade! Must be between 0 and 100\n"
          ]
        }
      ]
    }
  ]
}