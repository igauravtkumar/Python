{
  "cells": [
    {
      "cell_type": "code",
      "execution_count": null,
      "metadata": {
        "colab": {
          "base_uri": "https://localhost:8080/"
        },
        "id": "-9_uE19ANX86",
        "outputId": "e3e27091-6fad-4ee6-ca84-b9cf4a793cfb"
      },
      "outputs": [
        {
          "name": "stdout",
          "output_type": "stream",
          "text": [
            "[2, 3]\n"
          ]
        }
      ],
      "source": [
        "mylist=[1,2,2,3,3,4]\n",
        "duplicate=[]\n",
        "for i in range(0,len(mylist)):\n",
        "  for j in range(i+1,len(mylist)):\n",
        "    if (mylist[i]==mylist[j]):\n",
        "      if mylist[i] not in duplicate:\n",
        "        duplicate.append(mylist[i])\n",
        "print(duplicate)"
      ]
    },
    {
      "cell_type": "code",
      "execution_count": null,
      "metadata": {
        "colab": {
          "base_uri": "https://localhost:8080/"
        },
        "id": "2dxoyWw1OqUy",
        "outputId": "4a335fc1-47fe-4f66-c1cc-2cf5c906405d"
      },
      "outputs": [
        {
          "name": "stdout",
          "output_type": "stream",
          "text": [
            "      * \n",
            "    * * \n",
            "  * * * \n",
            "* * * * \n"
          ]
        }
      ],
      "source": [
        "n=4\n",
        "for i in range(1,n+1):\n",
        "  for s in range(n-i):\n",
        "    print(\" \",end=\" \")\n",
        "  for j in range(1,i+1):\n",
        "    print(\"*\",end=\" \")\n",
        "  print()"
      ]
    },
    {
      "cell_type": "code",
      "execution_count": null,
      "metadata": {
        "colab": {
          "base_uri": "https://localhost:8080/"
        },
        "id": "wv51lCvrPBrj",
        "outputId": "ecdbac70-1285-495e-f706-5572a81c0a25"
      },
      "outputs": [
        {
          "name": "stdout",
          "output_type": "stream",
          "text": [
            "* * * * \n",
            "  * * * \n",
            "    * * \n",
            "      * \n"
          ]
        }
      ],
      "source": [
        "n=4\n",
        "for i in range(n,0,-1):\n",
        "  for s in range(n-i):\n",
        "    print(\" \",end=\" \")\n",
        "  for j in range(i,0,-1):\n",
        "    print(\"*\",end=\" \")\n",
        "  print()"
      ]
    },
    {
      "cell_type": "code",
      "execution_count": null,
      "metadata": {
        "colab": {
          "base_uri": "https://localhost:8080/"
        },
        "id": "ewiwfIQoPW7o",
        "outputId": "a0820c0f-3401-4cf3-abe2-f523d4f5e45d"
      },
      "outputs": [
        {
          "name": "stdout",
          "output_type": "stream",
          "text": [
            "A \n",
            "A B \n",
            "A B C \n",
            "A B C D \n",
            "A B C D E \n"
          ]
        }
      ],
      "source": [
        "n=5\n",
        "for i in range(1,n+1):\n",
        "\n",
        "  num=65\n",
        "  for j in range(1,i+1):\n",
        "    print(chr(num),end=\" \")\n",
        "    num+=1\n",
        "  print()"
      ]
    },
    {
      "cell_type": "code",
      "execution_count": null,
      "metadata": {
        "colab": {
          "base_uri": "https://localhost:8080/"
        },
        "id": "snhiu68aQHsb",
        "outputId": "53d34bd0-19fc-4560-e209-7e2f996be105"
      },
      "outputs": [
        {
          "name": "stdout",
          "output_type": "stream",
          "text": [
            "1 \n",
            "1 2 \n",
            "1   3 \n",
            "1     4 \n",
            "1 2 3 4 5 \n"
          ]
        }
      ],
      "source": [
        "n=5\n",
        "for i in range(1,n+1):\n",
        "  for j in range(1,i+1):\n",
        "    if i==5 or j==1 or ((i==j) and j>1 and j<5):\n",
        "      print(j,end=\" \")\n",
        "    else:\n",
        "      print(\" \",end=\" \")\n",
        "  print()\n"
      ]
    },
    {
      "cell_type": "code",
      "execution_count": null,
      "metadata": {
        "colab": {
          "base_uri": "https://localhost:8080/"
        },
        "id": "E8xWLn0_RJYi",
        "outputId": "e1b36eef-f1e0-4781-fa04-a0fe6dcc7671"
      },
      "outputs": [
        {
          "name": "stdout",
          "output_type": "stream",
          "text": [
            "1 2 3 4 5 \n",
            "2     5   \n",
            "3   5     \n",
            "4 5       \n",
            "5         \n"
          ]
        }
      ],
      "source": [
        "n=5\n",
        "for i in range(1,6):\n",
        "  for j in range(1,6):\n",
        "    if i==1:\n",
        "      print(j,end=\" \")\n",
        "    elif j==1:\n",
        "      print(i,end=\" \")\n",
        "    elif ((i+j==6) and j>1 and j<5):\n",
        "      print(\"5\",end=\" \")\n",
        "    else:\n",
        "      print(\" \",end=\" \")\n",
        "  print()"
      ]
    },
    {
      "cell_type": "code",
      "execution_count": null,
      "metadata": {
        "colab": {
          "base_uri": "https://localhost:8080/"
        },
        "id": "tC582xlxSRGT",
        "outputId": "0a7f240b-440c-4147-9bbd-f3d3956db869"
      },
      "outputs": [
        {
          "name": "stdout",
          "output_type": "stream",
          "text": [
            "        * \n",
            "      * * * \n",
            "    * * * * * \n",
            "  * * * * * * * \n",
            "* * * * * * * * * \n",
            "  * * * * * * * \n",
            "    * * * * * \n",
            "      * * * \n",
            "        * \n"
          ]
        }
      ],
      "source": [
        "n=5\n",
        "for i in range(1,n):\n",
        "  for s in range(n-i):\n",
        "    print(\" \",end=\" \")\n",
        "  for j in range(1,2*i):\n",
        "    print(\"*\",end=\" \")\n",
        "  print()\n",
        "for i in range(n,0,-1):\n",
        "  for s in range(n-i):\n",
        "    print(\" \",end=\" \")\n",
        "  for j in range(1,2*i):\n",
        "    print(\"*\",end=\" \")\n",
        "  print()"
      ]
    },
    {
      "cell_type": "code",
      "execution_count": null,
      "metadata": {
        "colab": {
          "base_uri": "https://localhost:8080/"
        },
        "id": "_PqGIEXfTYAv",
        "outputId": "af6c1d80-3622-422b-9a04-b9953117a016"
      },
      "outputs": [
        {
          "name": "stdout",
          "output_type": "stream",
          "text": [
            "        1 \n",
            "      1 2 3 \n",
            "    1 2 3 4 5 \n",
            "  1 2 3 4 5 6 7 \n",
            "1 2 3 4 5 6 7 8 9 \n",
            "  1 2 3 4 5 6 7 \n",
            "    1 2 3 4 5 \n",
            "      1 2 3 \n",
            "        1 \n"
          ]
        }
      ],
      "source": [
        "n=5\n",
        "for row in range(1,n):\n",
        "  for s in range(n-row):\n",
        "    print(\" \",end=\" \")\n",
        "  for col in range(1,2*row):\n",
        "    print(col,end=\" \")\n",
        "  print()\n",
        "for row in range(n,0,-1):\n",
        "  for s in range(n-row):\n",
        "    print(\" \",end=\" \")\n",
        "  for col in range(1,2*row):\n",
        "    print(col,end=\" \")\n",
        "  print()"
      ]
    },
    {
      "cell_type": "code",
      "execution_count": null,
      "metadata": {
        "colab": {
          "base_uri": "https://localhost:8080/"
        },
        "id": "HKcHhVRzUP7l",
        "outputId": "46f6b02c-4580-4cd0-ad1b-eab77fd8d7de"
      },
      "outputs": [
        {
          "name": "stdout",
          "output_type": "stream",
          "text": [
            "A B C D E F G H I \n",
            "  A B C D E F G \n",
            "    A B C D E \n",
            "      A B C \n",
            "        A \n",
            "      A B C \n",
            "    A B C D E \n",
            "  A B C D E F G \n",
            "A B C D E F G H I \n"
          ]
        }
      ],
      "source": [
        "n=5\n",
        "for row in range(n,0,-1):\n",
        "  for s in range(n-row):\n",
        "    print(\" \",end=\" \")\n",
        "  num=65\n",
        "  for col in range(1,2*row):\n",
        "    print(chr(num),end=\" \")\n",
        "    num+=1\n",
        "  print()\n",
        "for row in range(2,n+1):\n",
        "  for s in range(n-row):\n",
        "    print(\" \",end=\" \")\n",
        "  num=65\n",
        "  for col in range(1,2*row):\n",
        "    print(chr(num),end=\" \")\n",
        "    num+=1\n",
        "  print()"
      ]
    },
    {
      "cell_type": "code",
      "execution_count": null,
      "metadata": {
        "colab": {
          "base_uri": "https://localhost:8080/"
        },
        "id": "1LGITjvHXBZS",
        "outputId": "3db4c6ec-9fd1-420f-d47f-e8fbd8298297"
      },
      "outputs": [
        {
          "name": "stdout",
          "output_type": "stream",
          "text": [
            "      * \n",
            "    * * \n",
            "  * * * \n",
            "* * * * \n",
            "  * * * \n",
            "    * * \n",
            "      * \n"
          ]
        }
      ],
      "source": [
        "n=4\n",
        "for i in range(1,n+1):\n",
        "  for s in range(n-i):\n",
        "    print(\" \",end=\" \")\n",
        "\n",
        "  for j in range(1,i+1):\n",
        "    print(\"*\",end=\" \")\n",
        "  print()\n",
        "for i in range(n-1,0,-1):\n",
        "  for s in range(n-i):\n",
        "      print(\" \",end=\" \")\n",
        "\n",
        "  for j in range(1,i+1):\n",
        "    print(\"*\",end=\" \")\n",
        "  print()"
      ]
    },
    {
      "cell_type": "code",
      "execution_count": null,
      "metadata": {
        "colab": {
          "base_uri": "https://localhost:8080/"
        },
        "id": "cCYZ4Sfaor0l",
        "outputId": "d3d24774-39b9-48d0-aab6-6ef375cd65d6"
      },
      "outputs": [
        {
          "name": "stdout",
          "output_type": "stream",
          "text": [
            "armstrong number : 153\n",
            "armstrong number : 370\n",
            "armstrong number : 371\n",
            "armstrong number : 407\n"
          ]
        }
      ],
      "source": [
        "for num in range(100,1000):\n",
        "  sum=0\n",
        "  temp=num\n",
        "  while num>0:\n",
        "    rem=num%10\n",
        "    sum=sum+rem*rem*rem\n",
        "    num=num//10\n",
        "  if (temp==sum):\n",
        "      print(\"armstrong number :\",temp)"
      ]
    },
    {
      "cell_type": "code",
      "execution_count": null,
      "metadata": {
        "colab": {
          "base_uri": "https://localhost:8080/"
        },
        "id": "kiuU6sHWqCqn",
        "outputId": "f5d57897-ad6d-4369-e073-b5f00e2e6135"
      },
      "outputs": [
        {
          "name": "stdout",
          "output_type": "stream",
          "text": [
            "121\n"
          ]
        }
      ],
      "source": [
        "num=121\n",
        "sum=0\n",
        "temp=num\n",
        "while num>0:\n",
        "  rem=num%10\n",
        "  sum=sum*10+rem\n",
        "  num=num//10\n",
        "print(sum)\n"
      ]
    },
    {
      "cell_type": "code",
      "execution_count": null,
      "metadata": {
        "colab": {
          "base_uri": "https://localhost:8080/"
        },
        "id": "QI3bIJ8dTIE2",
        "outputId": "8f2091b9-6930-4860-ac34-f2441960970a"
      },
      "outputs": [
        {
          "name": "stdout",
          "output_type": "stream",
          "text": [
            "* * * * * * * \n",
            "  *       *   \n",
            "    *   *     \n",
            "      *       \n"
          ]
        }
      ],
      "source": [
        "for i in range(1,5):\n",
        "  for j in range(1,8):\n",
        "    if i==1 or  i==j or ((i+j==8) and j>4 and j<7):\n",
        "      print(\"*\",end=\" \")\n",
        "    else:\n",
        "      print(\" \",end=\" \")\n",
        "  print()\n"
      ]
    },
    {
      "cell_type": "code",
      "execution_count": null,
      "metadata": {
        "colab": {
          "base_uri": "https://localhost:8080/"
        },
        "id": "jZ5DsSnXUaRj",
        "outputId": "abca71ce-fe9a-4fd3-aa9b-1971f6853c91"
      },
      "outputs": [
        {
          "name": "stdout",
          "output_type": "stream",
          "text": [
            "* \n",
            "* * \n",
            "* * * \n",
            "* * * * \n",
            "* * * \n",
            "* * \n",
            "* \n"
          ]
        }
      ],
      "source": [
        "n=4\n",
        "for i in range(1,n):\n",
        "  for j in range(1,i+1):\n",
        "    print(\"*\",end=\" \")\n",
        "  print()\n",
        "for i in range(n,0,-1):\n",
        "  for j in range(1,i+1):\n",
        "    print(\"*\",end=\" \")\n",
        "  print()"
      ]
    },
    {
      "cell_type": "code",
      "execution_count": null,
      "metadata": {
        "colab": {
          "base_uri": "https://localhost:8080/"
        },
        "id": "72mj-PoKVBel",
        "outputId": "c7a6e1ef-2c60-4434-df90-0a393dfcba87"
      },
      "outputs": [
        {
          "name": "stdout",
          "output_type": "stream",
          "text": [
            "[2, 3]\n"
          ]
        }
      ],
      "source": [
        "mylist=[1,2,2,3,3,4]\n",
        "duplicate=[]\n",
        "for i in range(1,len(mylist)):\n",
        "  for j in range(i+1,len(mylist)):\n",
        "    if (mylist[i]==mylist[j]):\n",
        "      if mylist[i] not in duplicate:\n",
        "        duplicate.append(mylist[i])\n",
        "print(duplicate)"
      ]
    },
    {
      "cell_type": "code",
      "execution_count": null,
      "metadata": {
        "colab": {
          "base_uri": "https://localhost:8080/"
        },
        "id": "WaVpMajXW9yU",
        "outputId": "83c69824-c36a-4d54-a30a-53e2b721114e"
      },
      "outputs": [
        {
          "name": "stdout",
          "output_type": "stream",
          "text": [
            "armstrong number : 153\n"
          ]
        }
      ],
      "source": [
        "num=153\n",
        "sum=0\n",
        "temp=num\n",
        "while num>0:\n",
        "  rem=num%10\n",
        "  sum=sum+rem*rem*rem\n",
        "  num=num//10\n",
        "if temp==sum:\n",
        "  print(\"armstrong number :\",sum)"
      ]
    },
    {
      "cell_type": "code",
      "execution_count": null,
      "metadata": {
        "colab": {
          "base_uri": "https://localhost:8080/"
        },
        "id": "z4jHcOOrg_yR",
        "outputId": "ee23767a-8998-420f-ee0d-0678a8cef74d"
      },
      "outputs": [
        {
          "name": "stdout",
          "output_type": "stream",
          "text": [
            "[20, 30]\n"
          ]
        }
      ],
      "source": [
        "mylist=[10,20,20,30,30,40]\n",
        "duplicate=[]\n",
        "for i in range(1,len(mylist)):\n",
        "  for j in range(i+1,len(mylist)):\n",
        "    if (mylist[i]==mylist[j]):\n",
        "      if mylist[i] not in duplicate:\n",
        "        duplicate.append(mylist[i])\n",
        "print(duplicate)"
      ]
    },
    {
      "cell_type": "code",
      "execution_count": null,
      "metadata": {
        "colab": {
          "base_uri": "https://localhost:8080/"
        },
        "id": "SFKcvM-EiuUP",
        "outputId": "981576fc-2490-4bda-cde0-f4954ce05cba"
      },
      "outputs": [
        {
          "name": "stdout",
          "output_type": "stream",
          "text": [
            "* \n",
            "* * \n",
            "* * * \n",
            "* * * * \n",
            "* * * \n",
            "* * \n",
            "* \n"
          ]
        }
      ],
      "source": [
        "n=4\n",
        "for i in range(1,n):\n",
        "  for j in range(1,i+1):\n",
        "    print(\"*\",end=\" \")\n",
        "  print()\n",
        "for i in range(n,0,-1):\n",
        "  for j in range(1,i+1):\n",
        "    print(\"*\",end=\" \")\n",
        "  print()"
      ]
    },
    {
      "cell_type": "code",
      "execution_count": null,
      "metadata": {
        "colab": {
          "base_uri": "https://localhost:8080/"
        },
        "id": "B7zWMEaZkcB-",
        "outputId": "051c325b-3288-4e85-d6fb-c09b81d41717"
      },
      "outputs": [
        {
          "name": "stdout",
          "output_type": "stream",
          "text": [
            "        * \n",
            "      * * * \n",
            "    * * * * * \n",
            "  * * * * * * * \n",
            "* * * * * * * * * \n",
            "  * * * * * * * \n",
            "    * * * * * \n",
            "      * * * \n",
            "        * \n"
          ]
        }
      ],
      "source": [
        "n=5\n",
        "for i in range(1,n):\n",
        "  for s in range(n-i):\n",
        "    print(\" \",end=\" \")\n",
        "  for j in range(2*i-1):\n",
        "    print(\"*\",end=\" \")\n",
        "  print()\n",
        "for i in range(n,0,-1):\n",
        "  for s in range(n-i):\n",
        "    print(\" \",end=\" \")\n",
        "  for j in range(2*i-1):\n",
        "    print(\"*\",end=\" \")\n",
        "  print()"
      ]
    },
    {
      "cell_type": "code",
      "execution_count": null,
      "metadata": {
        "colab": {
          "base_uri": "https://localhost:8080/"
        },
        "id": "7FprQ6JM0Aty",
        "outputId": "1e477856-d06c-49d6-88f3-8107dcdb9ef3"
      },
      "outputs": [
        {
          "name": "stdout",
          "output_type": "stream",
          "text": [
            "enter the number :34567\n",
            "not armstrong\n"
          ]
        }
      ],
      "source": [
        "n=int(input(\"enter the number :\"))\n",
        "count=0\n",
        "sum=0\n",
        "temp=n\n",
        "while n>0:\n",
        "  rem=n%10\n",
        "  count=count+1\n",
        "  n=n//10\n",
        "n=temp\n",
        "while n>0:\n",
        "  rem=n%10\n",
        "  sum+=rem**count\n",
        "  n=n//10\n",
        "if (temp==sum):\n",
        "  print(\"armstrong :\",temp)\n",
        "else:\n",
        "  print(\"not armstrong\")"
      ]
    },
    {
      "cell_type": "code",
      "execution_count": null,
      "metadata": {
        "colab": {
          "base_uri": "https://localhost:8080/"
        },
        "id": "4vxsQ4kt3BIH",
        "outputId": "62acb05a-4a7a-4797-b167-fd8ef291ae7c"
      },
      "outputs": [
        {
          "name": "stdout",
          "output_type": "stream",
          "text": [
            "1 \n",
            "2 3 \n",
            "4   5 \n",
            "6     7 \n",
            "8 9 10 11 12 \n"
          ]
        }
      ],
      "source": [
        "n=1\n",
        "for i in range(1,6):\n",
        "  for j in range(1,i+1):\n",
        "    if i==5 or j==1 or i==j:\n",
        "      print(n,end=\" \")\n",
        "      n+=1\n",
        "    else:\n",
        "      print(\" \",end=\" \")\n",
        "  print()\n"
      ]
    },
    {
      "cell_type": "code",
      "execution_count": null,
      "metadata": {
        "colab": {
          "base_uri": "https://localhost:8080/"
        },
        "id": "IScHa63eJzZn",
        "outputId": "f561947a-828b-4455-8071-9b21075b22b4"
      },
      "outputs": [
        {
          "name": "stdout",
          "output_type": "stream",
          "text": [
            "* * * * * * * \n",
            "  *       *   \n",
            "    *   *     \n",
            "      *       \n"
          ]
        }
      ],
      "source": [
        "for i in range(1,5):\n",
        "  for j in range(1,8):\n",
        "    if i==1 or i==j or i+j==8:\n",
        "      print(\"*\",end=\" \")\n",
        "    else:\n",
        "      print(\" \",end=\" \")\n",
        "  print()"
      ]
    },
    {
      "cell_type": "code",
      "execution_count": null,
      "metadata": {
        "colab": {
          "base_uri": "https://localhost:8080/"
        },
        "id": "2hTHnsJFKIYt",
        "outputId": "94cdd0db-a573-43ac-a231-6f6596230444"
      },
      "outputs": [
        {
          "name": "stdout",
          "output_type": "stream",
          "text": [
            "[2, 3]\n"
          ]
        }
      ],
      "source": [
        "list=[1,2,2,3,3,4]\n",
        "duplicate=[]\n",
        "for i in range(1,len(list)):\n",
        "  for j in range(i+1,len(list)):\n",
        "    if list[i]==list[j]:\n",
        "      if list[i] not in duplicate:\n",
        "        duplicate.append(list[i])\n",
        "print(duplicate)"
      ]
    },
    {
      "cell_type": "code",
      "execution_count": null,
      "metadata": {
        "colab": {
          "base_uri": "https://localhost:8080/"
        },
        "id": "jtza6x9BKiPp",
        "outputId": "27b98682-6f7a-4503-ce48-ca9a55e5fb6c"
      },
      "outputs": [
        {
          "name": "stdout",
          "output_type": "stream",
          "text": [
            "1 \n",
            "2 3 \n",
            "4   5 \n",
            "6     7 \n",
            "8 9 10 11 12 \n"
          ]
        }
      ],
      "source": [
        "n=1\n",
        "for i in range(1,6):\n",
        "  for j in range(1,i+1):\n",
        "    if i==5 or j==1 or i==j:\n",
        "      print(n,end=\" \")\n",
        "      n+=1\n",
        "    else:\n",
        "      print(\" \",end=\" \")\n",
        "  print()"
      ]
    },
    {
      "cell_type": "code",
      "execution_count": null,
      "metadata": {
        "colab": {
          "background_save": true
        },
        "id": "KPVNn6h4K0qF",
        "outputId": "3568955f-d24d-4777-d7d2-fe261695dd85"
      },
      "outputs": [
        {
          "name": "stdout",
          "output_type": "stream",
          "text": [
            "narcestic number : 1634\n"
          ]
        }
      ],
      "source": [
        "num=int(input(\"enter the number :\"))\n",
        "sum=0\n",
        "count=0\n",
        "temp=num\n",
        "while num>0:\n",
        "  count+=1\n",
        "  num=num//10\n",
        "num=temp\n",
        "while num>0:\n",
        "  rem=num%10\n",
        "  sum=sum+rem**count\n",
        "  num=num//10\n",
        "if (temp==sum):\n",
        "  print(\"narcestic number :\",sum)\n",
        "else:\n",
        "  print(\"\")"
      ]
    }
  ],
  "metadata": {
    "colab": {
      "provenance": []
    },
    "kernelspec": {
      "display_name": "Python 3",
      "name": "python3"
    },
    "language_info": {
      "name": "python"
    }
  },
  "nbformat": 4,
  "nbformat_minor": 0
}