{
  "nbformat": 4,
  "nbformat_minor": 0,
  "metadata": {
    "colab": {
      "provenance": []
    },
    "kernelspec": {
      "name": "python3",
      "display_name": "Python 3"
    },
    "language_info": {
      "name": "python"
    }
  },
  "cells": [
    {
      "cell_type": "code",
      "execution_count": null,
      "metadata": {
        "id": "E7Tzz-fMIULm"
      },
      "outputs": [],
      "source": [
        "# Genrator =>\n",
        "#           genrator is a special type of iterator that is used to yield values one at a time , as they are requested\n",
        "#           this make memory efficient they do not store all the values in memory at once .\n",
        "#           genrator are defined using a function with yield statement instead of return\n",
        "#           genrator a powerfull tool for workng large and complex data\n"
      ]
    },
    {
      "cell_type": "code",
      "source": [
        "# Genrator uses=>\n",
        "#               memory efficient -- genrator don`t store all the data in memory\n",
        "#               genrator work on large and complex data\n",
        "#               genrator lazy in nature and faster execution\n",
        "#               genrator can generate infinite sequences without running out of memory."
      ],
      "metadata": {
        "id": "TE1ciz-sALmo"
      },
      "execution_count": null,
      "outputs": []
    },
    {
      "cell_type": "code",
      "source": [
        "# differnce between yield and return keyword\n",
        "\n",
        "#                              yield                                      ||                                return\n",
        "# 1> yield use to value and pause the function                            ||  1> return ends the function and send the value back to caller\n",
        "# 2> yield creates genrator                                               ||  2>  return creates a normal function\n",
        "# 3> function execution is paused and can resumed                         ||  3> function execution stop completely\n",
        "# 4> returns a genrator object                                            ||  4> returns a single value or a list / tuple\n",
        "# 5> more efficient does not store all result in memory                   ||  5> store all result in memory\n",
        "# 6> useful for  genrating a sequence value or a time                     ||  6> Useful for getting a final result immediately."
      ],
      "metadata": {
        "id": "LtCiXDMzBMgx"
      },
      "execution_count": null,
      "outputs": []
    },
    {
      "cell_type": "code",
      "source": [
        "# list comprehension => multiple line of code create a single line using a clear and readable syntax\n",
        "# [expression for item in iterable if condition]  expresion-- value / operation to include in the list\n",
        "# example--\n",
        "chars = [char for char in \"hello\"]\n",
        "print(chars)"
      ],
      "metadata": {
        "colab": {
          "base_uri": "https://localhost:8080/"
        },
        "id": "zpfi93MaE9ML",
        "outputId": "9a0651fc-3d2d-4443-840d-ad61d0309f72"
      },
      "execution_count": 2,
      "outputs": [
        {
          "output_type": "stream",
          "name": "stdout",
          "text": [
            "['h', 'e', 'l', 'l', 'o']\n"
          ]
        }
      ]
    },
    {
      "cell_type": "code",
      "source": [
        "# Dictionary comprehension => create a dictionary in single line code\n",
        "#       {key_expression: value_expression for item in iterable if condition}\n",
        "# example\n",
        "squares = {x: x * x for x in range(1, 6)}\n",
        "print(squares)"
      ],
      "metadata": {
        "colab": {
          "base_uri": "https://localhost:8080/"
        },
        "id": "4492L3nDGe8d",
        "outputId": "bdd6139a-1b7e-4bd6-896c-6646a13e84f1"
      },
      "execution_count": 1,
      "outputs": [
        {
          "output_type": "stream",
          "name": "stdout",
          "text": [
            "{1: 1, 2: 4, 3: 9, 4: 16, 5: 25}\n"
          ]
        }
      ]
    },
    {
      "cell_type": "code",
      "source": [
        "# set comprehension --> create a set in single line code\n",
        "# {expression for item in iterable if condition}\n",
        "squares = {x * x for x in range(1, 6)}\n",
        "print(squares)"
      ],
      "metadata": {
        "colab": {
          "base_uri": "https://localhost:8080/"
        },
        "id": "vyme7MswGtYg",
        "outputId": "aefe4a14-e79d-4e4c-d9c6-1ff667f1f03f"
      },
      "execution_count": 3,
      "outputs": [
        {
          "output_type": "stream",
          "name": "stdout",
          "text": [
            "{1, 4, 9, 16, 25}\n"
          ]
        }
      ]
    },
    {
      "cell_type": "code",
      "source": [],
      "metadata": {
        "id": "odnn5PALHDOw"
      },
      "execution_count": null,
      "outputs": []
    }
  ]
}