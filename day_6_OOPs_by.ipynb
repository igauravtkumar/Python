{
  "nbformat": 4,
  "nbformat_minor": 0,
  "metadata": {
    "colab": {
      "provenance": []
    },
    "kernelspec": {
      "name": "python3",
      "display_name": "Python 3"
    },
    "language_info": {
      "name": "python"
    }
  },
  "cells": [
    {
      "cell_type": "code",
      "execution_count": null,
      "metadata": {
        "id": "TrOlmsv9BMTs"
      },
      "outputs": [],
      "source": [
        "def func_add( x ):\n",
        "  def add_one():\n",
        "    print(\"Hii\",x)\n",
        "\n",
        "  return add_one\n",
        "\n",
        "\n",
        "def test():\n",
        "  return 'Hello Gaurav'"
      ]
    },
    {
      "cell_type": "code",
      "source": [
        "test=func_add(10)\n",
        "test()"
      ],
      "metadata": {
        "colab": {
          "base_uri": "https://localhost:8080/"
        },
        "id": "6qcczYWaE7TU",
        "outputId": "fd68d210-3365-4e7e-8a57-13ca0aa0b0c5"
      },
      "execution_count": null,
      "outputs": [
        {
          "output_type": "stream",
          "name": "stdout",
          "text": [
            "Hii 10\n"
          ]
        }
      ]
    },
    {
      "cell_type": "code",
      "source": [
        "# closure -->  a closure is a function that you define in and return\n",
        "#  from another function. This inner function can retain\n",
        "#   the objects defined in the non-local\n",
        "# scope right before the inner function's definition."
      ],
      "metadata": {
        "id": "0wqTAoR9HJRU"
      },
      "execution_count": null,
      "outputs": []
    },
    {
      "cell_type": "code",
      "source": [
        "# oops\n",
        "# object oriented programming system\n",
        "# object : an instance of class\n",
        "# real time entity -> characterstics and behaviour\n",
        "# objectname= class()"
      ],
      "metadata": {
        "id": "_eNxEK9xFQJq"
      },
      "execution_count": null,
      "outputs": []
    },
    {
      "cell_type": "code",
      "source": [
        "# class --> blueprint for an object\n",
        "# collection of object is called class"
      ],
      "metadata": {
        "id": "4PNSwns9GAM2"
      },
      "execution_count": null,
      "outputs": []
    },
    {
      "cell_type": "code",
      "source": [
        "class StudentRegister:\n",
        "  s_name=\"Gaurav\"\n",
        "  s_Email='gaurav@gmail.com'\n"
      ],
      "metadata": {
        "id": "Wf7C7pJPGDOR"
      },
      "execution_count": null,
      "outputs": []
    },
    {
      "cell_type": "code",
      "source": [
        "s1=StudentRegister()\n",
        "print(s1.s_name)"
      ],
      "metadata": {
        "colab": {
          "base_uri": "https://localhost:8080/"
        },
        "id": "FlwV5ZiLHr4P",
        "outputId": "7095472d-e0a4-4a3a-83ae-59380c920a72"
      },
      "execution_count": null,
      "outputs": [
        {
          "output_type": "stream",
          "name": "stdout",
          "text": [
            "Gaurav\n"
          ]
        }
      ]
    },
    {
      "cell_type": "code",
      "source": [
        "class BikeDesign:\n",
        "  company='hero'    #class variable\n",
        "  model='splendor'\n"
      ],
      "metadata": {
        "id": "I4KNi59-H6IA"
      },
      "execution_count": null,
      "outputs": []
    },
    {
      "cell_type": "code",
      "source": [
        "# class variable -> associated with the class\n",
        "# class variable ko class se access kr skte h or object se bhi\n",
        "# class variable me change to class ke name se change krege\n",
        "# class agar change kr reh h to sbko effect dikhege or agar object\n",
        "# change kr rha h to object ko dikhege sbko nhi"
      ],
      "metadata": {
        "id": "xi_nBFkCIikX"
      },
      "execution_count": null,
      "outputs": []
    },
    {
      "cell_type": "code",
      "source": [
        "b1=BikeDesign()\n",
        "print(b1.company, BikeDesign.company)\n",
        "BikeDesign.company = 'Bajaj'\n",
        "print(BikeDesign.company)\n"
      ],
      "metadata": {
        "colab": {
          "base_uri": "https://localhost:8080/"
        },
        "id": "DkRZ8paWICYa",
        "outputId": "fff5ee6b-cb43-4c29-a1e0-7536dd43b917"
      },
      "execution_count": null,
      "outputs": [
        {
          "output_type": "stream",
          "name": "stdout",
          "text": [
            "hero hero\n",
            "Bajaj\n"
          ]
        }
      ]
    },
    {
      "cell_type": "code",
      "source": [
        "b1.company=\"Bajaj\"\n",
        "print(b1.company,BikeDesign.company)"
      ],
      "metadata": {
        "colab": {
          "base_uri": "https://localhost:8080/"
        },
        "id": "Y7NdqkcAJR6m",
        "outputId": "98a72391-80b2-4d5a-ed08-c451fe874835"
      },
      "execution_count": null,
      "outputs": [
        {
          "output_type": "stream",
          "name": "stdout",
          "text": [
            "Bajaj hero\n"
          ]
        }
      ]
    },
    {
      "cell_type": "code",
      "source": [
        "b2=BikeDesign()\n",
        "print(b2.company)"
      ],
      "metadata": {
        "colab": {
          "base_uri": "https://localhost:8080/"
        },
        "id": "rCCekjBDIJWN",
        "outputId": "f890ec39-bc6c-46b5-b1c5-2cabed575178"
      },
      "execution_count": null,
      "outputs": [
        {
          "output_type": "stream",
          "name": "stdout",
          "text": [
            "hero\n"
          ]
        }
      ]
    },
    {
      "cell_type": "code",
      "source": [
        "class BikeDesign:\n",
        "  company='hero'\n",
        "\n",
        "  def __init__(self):\n",
        "    print('bike model',self)"
      ],
      "metadata": {
        "id": "SDu0KbpvIRQn"
      },
      "execution_count": null,
      "outputs": []
    },
    {
      "cell_type": "code",
      "source": [
        "# agar constructor humne bnaya to parameterised constructor\n",
        "# agar constructor apne aap aaye to usse default constructor"
      ],
      "metadata": {
        "id": "AknaUwqIKbEr"
      },
      "execution_count": null,
      "outputs": []
    },
    {
      "cell_type": "code",
      "source": [
        "b1=BikeDesign()\n",
        "print('object value',b1)"
      ],
      "metadata": {
        "colab": {
          "base_uri": "https://localhost:8080/"
        },
        "id": "Pf1x1NuOKObC",
        "outputId": "5d618778-96ae-489f-fda3-7432f71e535b"
      },
      "execution_count": null,
      "outputs": [
        {
          "output_type": "stream",
          "name": "stdout",
          "text": [
            "bike model <__main__.BikeDesign object at 0x7e798b293d90>\n",
            "object value <__main__.BikeDesign object at 0x7e798b293d90>\n"
          ]
        }
      ]
    },
    {
      "cell_type": "code",
      "source": [
        "# constructor is type of function which initialize the memory address of object"
      ],
      "metadata": {
        "id": "8C2325_NNBFm"
      },
      "execution_count": null,
      "outputs": []
    },
    {
      "cell_type": "code",
      "source": [
        "b2=BikeDesign()\n",
        "print('object value',b2)"
      ],
      "metadata": {
        "colab": {
          "base_uri": "https://localhost:8080/"
        },
        "id": "N_0cG48eLckT",
        "outputId": "ae32c21b-29ea-4f65-b0ea-e8e25562905b"
      },
      "execution_count": null,
      "outputs": [
        {
          "output_type": "stream",
          "name": "stdout",
          "text": [
            "bike model <__main__.BikeDesign object at 0x7e798b367310>\n",
            "object value <__main__.BikeDesign object at 0x7e798b367310>\n"
          ]
        }
      ]
    },
    {
      "cell_type": "code",
      "source": [
        "# self is a variable to store current object refernce\n",
        "# we can change self parameter with other"
      ],
      "metadata": {
        "id": "6WJ5Bup9Lin1"
      },
      "execution_count": null,
      "outputs": []
    },
    {
      "cell_type": "code",
      "source": [
        "class BikeDesign:\n",
        "  company='hero'\n",
        "\n",
        "  def __init__(a):\n",
        "    print('bike model',a)\n"
      ],
      "metadata": {
        "id": "sCY39tPbL2br"
      },
      "execution_count": null,
      "outputs": []
    },
    {
      "cell_type": "code",
      "source": [
        "b2=BikeDesign()\n",
        "print('object value',b2)"
      ],
      "metadata": {
        "colab": {
          "base_uri": "https://localhost:8080/"
        },
        "id": "9g8-9ZZ7L59E",
        "outputId": "9a93c89d-ac61-4541-b14d-6b8f7f379a93"
      },
      "execution_count": null,
      "outputs": [
        {
          "output_type": "stream",
          "name": "stdout",
          "text": [
            "bike model <__main__.BikeDesign object at 0x7e798b283b10>\n",
            "object value <__main__.BikeDesign object at 0x7e798b283b10>\n"
          ]
        }
      ]
    },
    {
      "cell_type": "code",
      "source": [
        "class BikeDesign:\n",
        "  company='hero'\n",
        "\n",
        "  def __init__(self,model):\n",
        "    self.model = model #--> instance variable\n",
        "    # self.model -> instance   model --> local variable"
      ],
      "metadata": {
        "id": "fonlsL52MHUG"
      },
      "execution_count": null,
      "outputs": []
    },
    {
      "cell_type": "code",
      "source": [
        "b2=BikeDesign(\"splendor\")\n",
        "print(b2.model, b1.company)"
      ],
      "metadata": {
        "colab": {
          "base_uri": "https://localhost:8080/"
        },
        "id": "vHjCFdUpMSze",
        "outputId": "32632606-bfbd-4654-9e9c-8dd9878ee717"
      },
      "execution_count": null,
      "outputs": [
        {
          "output_type": "stream",
          "name": "stdout",
          "text": [
            "splendor hero\n"
          ]
        }
      ]
    },
    {
      "cell_type": "code",
      "source": [
        "# self ke sath jo variable bnaya usse instance variable/object variable"
      ],
      "metadata": {
        "id": "D5EGptP6MjdQ"
      },
      "execution_count": null,
      "outputs": []
    },
    {
      "cell_type": "code",
      "source": [
        "# class only access class variable not accenss object variable"
      ],
      "metadata": {
        "id": "1W4TiQZbN0tN"
      },
      "execution_count": null,
      "outputs": []
    },
    {
      "cell_type": "code",
      "source": [
        "class Student:\n",
        "  college='regex'\n",
        "\n",
        "  def __init__(self,eid,name,email):\n",
        "    self.eid=eid\n",
        "    self.name=name\n",
        "    self.email=email\n",
        "\n",
        "  def info(self):\n",
        "    print(\"Student details : => \",self.eid , self.name)"
      ],
      "metadata": {
        "id": "Th9gTDvLPI1I"
      },
      "execution_count": null,
      "outputs": []
    },
    {
      "cell_type": "code",
      "source": [
        "s1=Student(10,'Gaurav','gauravtailor@gmail.com')\n",
        "s1.info()\n",
        "s2=Student(11,'raj','raj@gmail.com')\n",
        "s2.info()"
      ],
      "metadata": {
        "colab": {
          "base_uri": "https://localhost:8080/"
        },
        "id": "LtMS5axCPf-3",
        "outputId": "cd05bac6-467f-4ce6-9a3b-5eb8d17cd766"
      },
      "execution_count": null,
      "outputs": [
        {
          "output_type": "stream",
          "name": "stdout",
          "text": [
            "Student details : =>  10 Gaurav\n",
            "Student details : =>  11 raj\n"
          ]
        }
      ]
    },
    {
      "cell_type": "code",
      "source": [
        "class CollegeAddmission:\n",
        "  def __init__(self,subject):\n",
        "    self.subject=subject\n",
        "\n",
        "c1 = CollegeAddmission('science')\n",
        "c1.subject"
      ],
      "metadata": {
        "colab": {
          "base_uri": "https://localhost:8080/",
          "height": 36
        },
        "id": "1I-PZt7WP1BU",
        "outputId": "caef44d3-4de7-4f55-d394-08408842fc61"
      },
      "execution_count": null,
      "outputs": [
        {
          "output_type": "execute_result",
          "data": {
            "text/plain": [
              "'science'"
            ],
            "application/vnd.google.colaboratory.intrinsic+json": {
              "type": "string"
            }
          },
          "metadata": {},
          "execution_count": 51
        }
      ]
    },
    {
      "cell_type": "code",
      "source": [
        "# Inheritance -> a mechanism to access/Inherit all\n",
        "# properties from  one class to another class"
      ],
      "metadata": {
        "id": "vk_aab8-R0Dr"
      },
      "execution_count": null,
      "outputs": []
    },
    {
      "cell_type": "code",
      "source": [
        "class Student:\n",
        "  college='regex'\n",
        "\n",
        "  def __init__(self,eid,name,email):\n",
        "    self.eid=eid\n",
        "    self.name=name\n",
        "    self.email=email\n",
        "\n",
        "  def info(self):\n",
        "    print(\"Student details : => \",self.eid , self.name)"
      ],
      "metadata": {
        "id": "pTG0WVPiSAmy"
      },
      "execution_count": null,
      "outputs": []
    },
    {
      "cell_type": "code",
      "source": [
        "class CollegeAddmission(Student):\n",
        "  def __init__(self,eid,name,email,subject):\n",
        "    self.subject=subject\n",
        "    super().__init__(eid,name,email)\n",
        "c1 = CollegeAddmission(19,'Jai','jai@gmail.com','science')\n",
        "print(c1.eid)\n",
        "print(c1.name)\n",
        "print(c1.email)\n",
        "print(c1.subject)"
      ],
      "metadata": {
        "colab": {
          "base_uri": "https://localhost:8080/"
        },
        "id": "8OjdtCDmSgoH",
        "outputId": "98586b28-e480-4930-a414-34059301cee9"
      },
      "execution_count": null,
      "outputs": [
        {
          "output_type": "stream",
          "name": "stdout",
          "text": [
            "19\n",
            "Jai\n",
            "jai@gmail.com\n",
            "science\n"
          ]
        }
      ]
    },
    {
      "cell_type": "code",
      "source": [
        "# super --> to access parent class data for child class\n",
        "# super() keyword"
      ],
      "metadata": {
        "id": "Zim8MR_oSw8r"
      },
      "execution_count": null,
      "outputs": []
    }
  ]
}