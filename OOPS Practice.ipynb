{
  "nbformat": 4,
  "nbformat_minor": 0,
  "metadata": {
    "colab": {
      "provenance": []
    },
    "kernelspec": {
      "name": "python3",
      "display_name": "Python 3"
    },
    "language_info": {
      "name": "python"
    }
  },
  "cells": [
    {
      "cell_type": "code",
      "execution_count": 1,
      "metadata": {
        "colab": {
          "base_uri": "https://localhost:8080/"
        },
        "id": "1vaPjWbrQ0NS",
        "outputId": "3ddf86cd-c7d3-4e27-ed03-f521ccff04e4"
      },
      "outputs": [
        {
          "output_type": "stream",
          "name": "stdout",
          "text": [
            "Buddy says Woof!\n",
            "Golden Retriever this is breed \n",
            "Max says Woof!\n",
            "Labrador this is breed \n"
          ]
        }
      ],
      "source": [
        "#Que 1> - Example with self =>\n",
        "\n",
        "class Dog:\n",
        "  def __init__(self,name,breed): # constructor with self\n",
        "    self.name = name\n",
        "    self.breed = breed\n",
        "\n",
        "  def bark(self):\n",
        "    print(f\"{self.name} says Woof!\")\n",
        "    print(f\"{self.breed} this is breed \")\n",
        "\n",
        "Dog1 = Dog(\"Buddy\",\"Golden Retriever\")\n",
        "Dog2 = Dog(\"Max\",\"Labrador\")\n",
        "\n",
        "# acess attributes and methods\n",
        "Dog1.bark()\n",
        "Dog2.bark()\n"
      ]
    },
    {
      "cell_type": "code",
      "source": [
        "# Que 2> -Employee salary\n",
        "class employee:\n",
        "  salary = 500\n",
        "\n",
        "Rohit=employee()\n",
        "Rohit.salary=1000\n",
        "Punit = employee()\n",
        "print(\"Rohit salary is =\",Rohit.salary)\n",
        "print(\"Punit salary is =\",Punit.salary)"
      ],
      "metadata": {
        "colab": {
          "base_uri": "https://localhost:8080/"
        },
        "id": "KEjP26RFQ_R3",
        "outputId": "d2fc82c2-960b-40f0-b814-aaaff119a085"
      },
      "execution_count": 2,
      "outputs": [
        {
          "output_type": "stream",
          "name": "stdout",
          "text": [
            "Rohit salary is = 1000\n",
            "Punit salary is = 500\n"
          ]
        }
      ]
    },
    {
      "cell_type": "code",
      "source": [
        "# quetion 3 -- Create a calculator\n",
        "\n",
        "class calculator:\n",
        "  def __init__(self,num1,num2):\n",
        "    self.num1=num1\n",
        "    self.num2=num2\n",
        "\n",
        "  def add(self):\n",
        "    return self.num1 + self.num2\n",
        "\n",
        "  def subtract(self):\n",
        "    return self.num1 - self.num2\n",
        "\n",
        "  def multiply(self):\n",
        "    return self.num1 * self.num2\n",
        "\n",
        "  def divide(self):\n",
        "    if self.num2 !=0:\n",
        "      return self.num1/self.num2\n",
        "    else:\n",
        "      return \"divided by zero not allowed \"\n",
        "\n",
        "# Test the calculator class\n",
        "cls=calculator(10,5)\n",
        "\n",
        "print(cls.add())\n",
        "print(cls.subtract())\n",
        "print(cls.multiply())\n",
        "print(cls.divide())"
      ],
      "metadata": {
        "colab": {
          "base_uri": "https://localhost:8080/"
        },
        "id": "Le5nvyqyRLpf",
        "outputId": "8362f573-8637-405a-c99d-9c4c41f6c551"
      },
      "execution_count": 3,
      "outputs": [
        {
          "output_type": "stream",
          "name": "stdout",
          "text": [
            "15\n",
            "5\n",
            "50\n",
            "2.0\n"
          ]
        }
      ]
    },
    {
      "cell_type": "code",
      "source": [
        "# que 4  Create a bank account\n",
        "\n",
        "class BankAccount:\n",
        "  def __init__(self,holder_name,balance=0):\n",
        "    self.holder_name = holder_name\n",
        "    self.balance = balance\n",
        "\n",
        "  def deposit(self,amount):\n",
        "    self.balance+=amount\n",
        "    print(f\"{amount} deposited . New balance: {self.balance}\")\n",
        "\n",
        "  def withdraw(self,amount):\n",
        "    if amount <= self.balance:\n",
        "      self.balance-=amount\n",
        "      print(f\"{amount} withdrawn. Remaining balance: {self.balance}\")\n",
        "    else:\n",
        "      print(\"Insufficient funds!\")\n",
        "\n",
        "  def check_balance(self):\n",
        "    return f\"Account balance for {self.holder_name}: {self.balance}\"\n",
        "\n",
        "account = BankAccount(\"Gaurav\",1000)\n",
        "account.deposit(500)\n",
        "account.withdraw(300)\n",
        "print(account.check_balance())"
      ],
      "metadata": {
        "colab": {
          "base_uri": "https://localhost:8080/"
        },
        "id": "27SQLAtERVBi",
        "outputId": "89a43f9d-1de1-4434-a20e-d3a13dbf6560"
      },
      "execution_count": 4,
      "outputs": [
        {
          "output_type": "stream",
          "name": "stdout",
          "text": [
            "500 deposited . New balance: 1500\n",
            "300 withdrawn. Remaining balance: 1200\n",
            "Account balance for Gaurav: 1200\n"
          ]
        }
      ]
    },
    {
      "cell_type": "code",
      "source": [
        "# que 5 Create a student class\n",
        "\n",
        "class student:\n",
        "  def __init__(self,name,age,marks):\n",
        "    self.name=name\n",
        "    self.age=age\n",
        "    self.marks=marks\n",
        "\n",
        "  def display_detail(self):\n",
        "    print(f\"name: {self.name}\")\n",
        "    print(f\"age: {self.age} \")\n",
        "    print(f\"marks:{self.marks}\")\n",
        "\n",
        "  def result(self):\n",
        "    if self.marks >=40:\n",
        "      print(f\"{self.name} passed\")\n",
        "    else:\n",
        "      return f\"{self.name} fail\"\n",
        "\n",
        "s1=student(\"Jai\",22,89)\n",
        "s1.display_detail()\n",
        "\n",
        "s1.result()\n"
      ],
      "metadata": {
        "colab": {
          "base_uri": "https://localhost:8080/"
        },
        "id": "wpvlQlINRYFD",
        "outputId": "8aa41458-9ad0-4e48-b42c-2af1a954f604"
      },
      "execution_count": 5,
      "outputs": [
        {
          "output_type": "stream",
          "name": "stdout",
          "text": [
            "name: Jai\n",
            "age: 22 \n",
            "marks:89\n",
            "Jai passed\n"
          ]
        }
      ]
    },
    {
      "cell_type": "code",
      "source": [
        "# Que 6 Create an Employ managment system\n",
        "\n",
        "class employee:\n",
        "  def __init__(self,name,id,salary):\n",
        "    self.name =  name\n",
        "    self.id = id\n",
        "    self.salary = salary\n",
        "\n",
        "  def display_detail(self):\n",
        "      print(f\"name: {self.name}\")\n",
        "      print(f\"age: {self.id} \")\n",
        "      print(f\"marks:{self.salary}\")\n",
        "\n",
        "  def annual_salary(self):\n",
        "    self.annual_salary = self.salary*12\n",
        "    print(\"annual salary\",self.annual_salary)\n",
        "\n",
        "s1=employee(\"Ram\",12321,25000)\n",
        "s1.display_detail()\n",
        "s1.annual_salary()"
      ],
      "metadata": {
        "colab": {
          "base_uri": "https://localhost:8080/"
        },
        "id": "5sOt7JAnRgN7",
        "outputId": "b6b82721-8e98-41b9-ac33-32252b34e813"
      },
      "execution_count": 6,
      "outputs": [
        {
          "output_type": "stream",
          "name": "stdout",
          "text": [
            "name: Ram\n",
            "age: 12321 \n",
            "marks:25000\n",
            "annual salary 300000\n"
          ]
        }
      ]
    },
    {
      "cell_type": "code",
      "source": [
        "# Que 7 create a library system\n",
        "\n",
        "class Library:\n",
        "  def __init__(self,title,author,availability=True):\n",
        "    self.title=title\n",
        "    self.author = author\n",
        "    self.availability = availability\n",
        "  def check_availability(self):\n",
        "    if self.availability:\n",
        "      print(f\"{self.title} by {self.author} is available.\")\n",
        "    else:\n",
        "      print(f\"{self.title} by {self.author} is not available.\")\n",
        "  def borrow(self):\n",
        "    if self.is_available:\n",
        "      self.is_available = False\n",
        "      print(f\"You have borrowed {self.title} by {self.author}\")\n",
        "    else:\n",
        "      self.is_available = True\n",
        "      print(f\"You have borrowed {self.title} by {self.author}\")\n",
        "  def display_detail(self):\n",
        "      print(f\"Title: {self.title}\")\n",
        "      print(f\"Author: {self.author} \")\n",
        "  def return_book(self):\n",
        "    if not self.availability:\n",
        "      self.availability = True\n",
        "      print(f\"You have returned {self.title} by {self.author}.\")\n",
        "\n",
        "\n",
        "book = Library(\"Making India Awesome\",\"chetan Bagat\")\n",
        "book.display_detail()\n",
        "book.check_availability()\n",
        "book.availability=False\n",
        "book.check_availability()"
      ],
      "metadata": {
        "id": "gqNkIRT6RlSM",
        "outputId": "e9413ba4-690f-4fc2-f3e9-c9a251d6d67b",
        "colab": {
          "base_uri": "https://localhost:8080/"
        }
      },
      "execution_count": 7,
      "outputs": [
        {
          "output_type": "stream",
          "name": "stdout",
          "text": [
            "Title: Making India Awesome\n",
            "Author: chetan Bagat \n",
            "Making India Awesome by chetan Bagat is available.\n",
            "Making India Awesome by chetan Bagat is not available.\n"
          ]
        }
      ]
    }
  ]
}