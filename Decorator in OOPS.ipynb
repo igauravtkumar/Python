{
  "nbformat": 4,
  "nbformat_minor": 0,
  "metadata": {
    "colab": {
      "provenance": []
    },
    "kernelspec": {
      "name": "python3",
      "display_name": "Python 3"
    },
    "language_info": {
      "name": "python"
    }
  },
  "cells": [
    {
      "cell_type": "code",
      "source": [
        "# Game System\n",
        "class User:\n",
        "    def __init__(self, name):\n",
        "        self.name = name\n",
        "        self.points = 0\n",
        "        self.level = 1\n",
        "        self.badges = []\n",
        "\n",
        "    def earn_points(self, points):\n",
        "        self.points += points\n",
        "        self.check_level_up()\n",
        "        self.assign_badge()\n",
        "\n",
        "    def check_level_up(self):\n",
        "        if self.points >= self.level * 100:\n",
        "            self.level += 1\n",
        "            print(f\"{self.name} leveled up to Level {self.level}!\")\n",
        "\n",
        "    def assign_badge(self):\n",
        "\n",
        "      if self.points >= 200 and \"Expert\" not in self.badges:\n",
        "        self.badges.append(\"Expert\")\n",
        "      elif self.points >= 100 and \"Intermediate\" not in self.badges:\n",
        "        self.badges.append(\"Intermediate\")\n",
        "      elif self.points >= 50 and \"Beginner\" not in self.badges:\n",
        "        self.badges.append(\"Beginner\")\n",
        "\n",
        "    def show_progress(self):\n",
        "        print(f\"Name: {self.name}, Level: {self.level}, Points: {self.points}, Badges: {', '.join(self.badges)}\")\n",
        "\n",
        "\n",
        "user = User(\"Ram\")\n",
        "user.earn_points(60)\n",
        "user.show_progress()\n",
        "user.earn_points(50)\n",
        "user.show_progress()\n",
        "user.earn_points(100)\n",
        "user.show_progress()"
      ],
      "metadata": {
        "colab": {
          "base_uri": "https://localhost:8080/"
        },
        "id": "kbrP5o2acv3r",
        "outputId": "0a9fddff-a277-4923-cb94-80882c3e4ac1"
      },
      "execution_count": null,
      "outputs": [
        {
          "output_type": "stream",
          "name": "stdout",
          "text": [
            "Name: Ram, Level: 1, Points: 60, Badges: Beginner\n",
            "Ram leveled up to Level 2!\n",
            "Name: Ram, Level: 2, Points: 110, Badges: Beginner, Intermediate\n",
            "Ram leveled up to Level 3!\n",
            "Name: Ram, Level: 3, Points: 210, Badges: Beginner, Intermediate, Expert\n"
          ]
        }
      ]
    },
    {
      "cell_type": "code",
      "source": [
        "# Face Recognise System\n",
        "class FaceRecognitionSystem:\n",
        "    def __init__(self):\n",
        "        self.faces = []\n",
        "\n",
        "    def register_face(self, name):\n",
        "        if name in self.faces:\n",
        "            print(f\"{name} is already registered.\")\n",
        "        else:\n",
        "            self.faces.append(name)\n",
        "            print(f\"{name} has been successfully registered!\")\n",
        "\n",
        "    def recognize_face(self, name):\n",
        "        if name in self.faces:\n",
        "            print(f\"Welcome back, {name}!\")\n",
        "        else:\n",
        "            print(\"Face not recognized. Please register first.\")\n",
        "\n",
        "    def start(self):\n",
        "        print(\"Face Recognition System Activated!\")\n",
        "        while True:\n",
        "            print(\"\\nOptions:\")\n",
        "            print(\"1. Register Face\")\n",
        "            print(\"2. Recognize Face\")\n",
        "            print(\"3. Exit\")\n",
        "            choice = input(\"Enter your choice: \")\n",
        "\n",
        "            if choice == '1':\n",
        "                name = input(\"Enter the name to register: \")\n",
        "                self.register_face(name)\n",
        "\n",
        "            elif choice == '2':\n",
        "                name = input(\"Enter the name to recognize: \")\n",
        "                self.recognize_face(name)\n",
        "\n",
        "            elif choice == '3':\n",
        "                print(\"Exiting the system. Goodbye!\")\n",
        "                break\n",
        "\n",
        "            else:\n",
        "                print(\"Invalid choice! Please try again.\")\n",
        "\n",
        "\n",
        "system = FaceRecognitionSystem()\n",
        "system.start()\n"
      ],
      "metadata": {
        "colab": {
          "base_uri": "https://localhost:8080/"
        },
        "id": "w7EJmLgnoYnR",
        "outputId": "c72c0799-c293-4cc0-bfaa-67614a71bd1a"
      },
      "execution_count": null,
      "outputs": [
        {
          "output_type": "stream",
          "name": "stdout",
          "text": [
            "Face Recognition System Activated!\n",
            "\n",
            "Options:\n",
            "1. Register Face\n",
            "2. Recognize Face\n",
            "3. Exit\n",
            "Enter your choice: 1\n",
            "Enter the name to register: gaurav\n",
            "gaurav has been successfully registered!\n",
            "\n",
            "Options:\n",
            "1. Register Face\n",
            "2. Recognize Face\n",
            "3. Exit\n",
            "Enter your choice: 2\n",
            "Enter the name to recognize: gaurav\n",
            "Welcome back, gaurav!\n",
            "\n",
            "Options:\n",
            "1. Register Face\n",
            "2. Recognize Face\n",
            "3. Exit\n",
            "Enter your choice: 3\n",
            "Exiting the system. Goodbye!\n"
          ]
        }
      ]
    },
    {
      "cell_type": "code",
      "source": [
        "# 1> Class Method-->\n",
        "#               A class method is a method that operates on the class itself rather than an instance of the class It is define using the @classmethod\n",
        "# decorator and takes class refence as it first parameter"
      ],
      "metadata": {
        "id": "MUmu9Mt8pN3G"
      },
      "execution_count": null,
      "outputs": []
    },
    {
      "cell_type": "code",
      "source": [
        "# Features Of Class method -->\n",
        "#                            operates on the class rather than instance specific data\n",
        "#                            We can modify the class state using cls class refernce\n",
        "#                            We can be called on both the class and its object\n",
        "#"
      ],
      "metadata": {
        "id": "jH3e_UbU_lkD"
      },
      "execution_count": null,
      "outputs": []
    },
    {
      "cell_type": "code",
      "source": [
        "class Employee:\n",
        "  company_name = \"Tech solution\"\n",
        "\n",
        "  def __init__(self,name,salary):\n",
        "    self.name=name\n",
        "    self.salary= salary\n",
        "\n",
        "  @classmethod\n",
        "  def change_company_name(cls,new_name):\n",
        "    cls.company_name = new_name\n",
        "\n",
        "emp1=Employee(\"Sam\",50000)\n",
        "emp2=Employee(\"Rahul\",60000)\n",
        "# Acess the class attribute\n",
        "print(Employee.company_name)\n",
        "\n",
        "Employee.change_company_name(\"Future Tech\")\n",
        "print(Employee.company_name)"
      ],
      "metadata": {
        "colab": {
          "base_uri": "https://localhost:8080/"
        },
        "id": "ncJJVDbvAkc0",
        "outputId": "ee31ae3e-bf2b-4e9b-d463-69fcb8abf50a"
      },
      "execution_count": null,
      "outputs": [
        {
          "output_type": "stream",
          "name": "stdout",
          "text": [
            "Tech solution\n",
            "Future Tech\n"
          ]
        }
      ]
    },
    {
      "cell_type": "code",
      "source": [
        "#2> Static Method-->\n",
        "#  A static method is a method that does not operate on either the class of the instance. It behaves like a regular function but its define inside a class\n",
        "#  for logical grouping . It is mark with the @staticmethod decorator\n"
      ],
      "metadata": {
        "id": "FMSOGed9B5XT"
      },
      "execution_count": null,
      "outputs": []
    },
    {
      "cell_type": "code",
      "source": [
        "# Feature of Static method -->\n",
        "# 1> It does not require self or cls as parameter\n",
        "# 2> It can not modify class or instance attribute\n",
        "# 3> It is useful for utility of helper method that do not rely on the class or instance"
      ],
      "metadata": {
        "id": "xRJ5S8ycCWgN"
      },
      "execution_count": null,
      "outputs": []
    },
    {
      "cell_type": "code",
      "source": [
        "class MathOperations:\n",
        "  @staticmethod\n",
        "  def add(a,b):\n",
        "    return a+b\n",
        "\n",
        "  @staticmethod\n",
        "  def subtract(a,b):\n",
        "    return a-b\n",
        "print(MathOperations.add(4,7))\n",
        "print(MathOperations.subtract(11,7))"
      ],
      "metadata": {
        "colab": {
          "base_uri": "https://localhost:8080/"
        },
        "id": "QnWjVWaFDEAX",
        "outputId": "5bfa92cb-2b67-4176-ad0c-8c0c9fddeafe"
      },
      "execution_count": null,
      "outputs": [
        {
          "output_type": "stream",
          "name": "stdout",
          "text": [
            "11\n",
            "4\n"
          ]
        }
      ]
    },
    {
      "cell_type": "code",
      "source": [
        "# 3 Super Method-->\n",
        "#            Super method is use to call a method from the parent class in the contest of inheritance. It allows us to avoide explisity refering\n",
        "# to the aprent class and makes the core more maintainable"
      ],
      "metadata": {
        "id": "ECyzi7QLDsqF"
      },
      "execution_count": null,
      "outputs": []
    },
    {
      "cell_type": "code",
      "source": [
        "# Feature Super Method -->\n",
        "# It can acess parent class or attribute .\n",
        "# It is useful in multilevel or multiple inheritance\n",
        "# It helps in avoiding code repetation"
      ],
      "metadata": {
        "id": "pMPVHqZdEaOB"
      },
      "execution_count": null,
      "outputs": []
    },
    {
      "cell_type": "code",
      "source": [
        "class Parent:\n",
        "  def __init__(self,name):\n",
        "    self.name=name\n",
        "\n",
        "  def greet(self):\n",
        "    print(f\"Hello, I am {self.name} from the Parent Class\")\n",
        "\n",
        "class Child(Parent):\n",
        "  def __init__(self,name,age):\n",
        "    super().__init__(name) # call the parents __init__method\n",
        "    self.age=age\n",
        "  def greet(self):\n",
        "    super().greet()\n",
        "    print(f\"I am {self.age} years old from the child class\")\n",
        "\n",
        "child=Child(\"Sam\",10)\n",
        "child.greet()"
      ],
      "metadata": {
        "colab": {
          "base_uri": "https://localhost:8080/"
        },
        "id": "-ESPD9WsEy1i",
        "outputId": "0f3890e7-5d5b-4aaa-8560-68ae7b8cf076"
      },
      "execution_count": null,
      "outputs": [
        {
          "output_type": "stream",
          "name": "stdout",
          "text": [
            "Hello, I am Sam from the Parent Class\n",
            "I am 10 years old from the child class\n"
          ]
        }
      ]
    },
    {
      "cell_type": "code",
      "source": [
        "# case study--- Online Education Platform\n",
        "# Scenario design a class hierarchy for an online education platform\n",
        "\n",
        "#scenario.design a class hierachy for a online education platform\n",
        "class Course_class:\n",
        "    def __init__(self, course_name, duration):\n",
        "        self.course_name = course_name\n",
        "        self.duration = duration\n",
        "\n",
        "    def course_detail(self):\n",
        "        return f\"The course name is {self.course_name} and the duration is {self.duration}\"\n",
        "\n",
        "\n",
        "class Instructor(Course_class):\n",
        "    def __init__(self, instructor_name, course_name, duration):\n",
        "        super().__init__(course_name, duration)\n",
        "        self.instructor_name = instructor_name\n",
        "\n",
        "    def instructor_details(self):\n",
        "        return f\"The instructor name is {self.instructor_name} and the course taught by the instructor is {self.course_name}\"\n",
        "\n",
        "\n",
        "class Live_Course(Instructor):\n",
        "    def show_details(self):\n",
        "        print(super().course_detail())\n",
        "        print(super().instructor_details())\n",
        "\n",
        "\n",
        "\n",
        "cou = Live_Course(\"Ajay\", \"AI\", \"30 days\")\n",
        "print(cou.course_detail())\n",
        "print(cou.instructor_details())\n",
        "\n"
      ],
      "metadata": {
        "colab": {
          "base_uri": "https://localhost:8080/"
        },
        "id": "REE3vVqCGN7z",
        "outputId": "c4b91d49-4d0c-4fcd-eb8a-7f9623ec1dde"
      },
      "execution_count": 8,
      "outputs": [
        {
          "output_type": "stream",
          "name": "stdout",
          "text": [
            "The course name is AI and the duration is 30 days\n",
            "The instructor name is Ajay and the course taught by the instructor is AI\n"
          ]
        }
      ]
    },
    {
      "cell_type": "code",
      "source": [
        "class Course:\n",
        "  course_name=\"AI\"\n",
        "  course_duration = \"10 months\"\n",
        "  def show_course_details(self):\n",
        "    print(f\"course name is {self.course_name} and duration is {self.course_duration}\")\n",
        "\n",
        "class Instructor:\n",
        "  instructor_name=\"sam\"\n",
        "  def display_instructor_details(self):\n",
        "    print(f\"instructor name is {self.instructor_name}\")\n",
        "\n",
        "class CourseDetails(Course,Instructor):\n",
        "  def show_course_details(self):\n",
        "    super().show_course_details()\n",
        "    super().display_instructor_details()\n",
        "\n",
        "cd=CourseDetails()\n",
        "cd.show_course_details()"
      ],
      "metadata": {
        "colab": {
          "base_uri": "https://localhost:8080/"
        },
        "id": "lamkrwtPKVd4",
        "outputId": "bbfe83c9-b4d8-48ba-8c22-ac5ee9472064"
      },
      "execution_count": null,
      "outputs": [
        {
          "output_type": "stream",
          "name": "stdout",
          "text": [
            "course name is AI and duration is 10 months\n",
            "instructor name is sam\n"
          ]
        }
      ]
    }
  ]
}