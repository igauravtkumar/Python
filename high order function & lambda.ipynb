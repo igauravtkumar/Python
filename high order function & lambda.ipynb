{
  "nbformat": 4,
  "nbformat_minor": 0,
  "metadata": {
    "colab": {
      "provenance": []
    },
    "kernelspec": {
      "name": "python3",
      "display_name": "Python 3"
    },
    "language_info": {
      "name": "python"
    }
  },
  "cells": [
    {
      "cell_type": "code",
      "execution_count": 1,
      "metadata": {
        "id": "Ei0Gqsaynniu"
      },
      "outputs": [],
      "source": [
        "#high order function\n",
        "# if we can pass a function as a argument to another function\n",
        "# all high order function are first class function"
      ]
    },
    {
      "cell_type": "code",
      "source": [
        "def func(a,b):\n",
        "  print(a+b)\n",
        "\n",
        "x=func(10,20)\n",
        "print(x)"
      ],
      "metadata": {
        "colab": {
          "base_uri": "https://localhost:8080/"
        },
        "id": "Ctqr3yShom1c",
        "outputId": "fdf4fe94-c151-4981-8123-119472f84dfb"
      },
      "execution_count": 5,
      "outputs": [
        {
          "output_type": "stream",
          "name": "stdout",
          "text": [
            "30\n",
            "None\n"
          ]
        }
      ]
    },
    {
      "cell_type": "code",
      "source": [
        "def func(a,b):\n",
        "  print(a+b)\n",
        "\n",
        "x=func\n",
        "print(x)"
      ],
      "metadata": {
        "colab": {
          "base_uri": "https://localhost:8080/"
        },
        "id": "QJQTQx62pP5v",
        "outputId": "ec53e75c-8d1b-4f05-d879-4ec767107b7f"
      },
      "execution_count": 6,
      "outputs": [
        {
          "output_type": "stream",
          "name": "stdout",
          "text": [
            "<function func at 0x7e0787026f80>\n"
          ]
        }
      ]
    },
    {
      "cell_type": "code",
      "source": [
        "def func(a,b):\n",
        "  print(a+b)\n",
        "\n",
        "def addNumber(x,y):\n",
        "  print(x,y)\n",
        "\n",
        "addNumber(40,func(10,20))    #addNumber(40,None)"
      ],
      "metadata": {
        "colab": {
          "base_uri": "https://localhost:8080/"
        },
        "id": "ykJnfejppVBY",
        "outputId": "b51bf2dd-d0b5-497b-cd29-436abbe27179"
      },
      "execution_count": 9,
      "outputs": [
        {
          "output_type": "stream",
          "name": "stdout",
          "text": [
            "30\n",
            "40 None\n"
          ]
        }
      ]
    },
    {
      "cell_type": "code",
      "source": [
        "def func(a,b):\n",
        "  print(a+b)\n",
        "\n",
        "def addNumber(x,y):\n",
        "  print(x,y)\n",
        "\n",
        "addNumber(40,func)"
      ],
      "metadata": {
        "colab": {
          "base_uri": "https://localhost:8080/"
        },
        "id": "vTna7rQZqVKX",
        "outputId": "25eab9d5-721d-41c0-9e1a-9a8291ea249c"
      },
      "execution_count": 10,
      "outputs": [
        {
          "output_type": "stream",
          "name": "stdout",
          "text": [
            "40 <function func at 0x7e07400fb9a0>\n"
          ]
        }
      ]
    },
    {
      "cell_type": "code",
      "source": [
        "def func(a,b):\n",
        "  print(a+b)\n",
        "\n",
        "def addNumber(x,y):\n",
        "\n",
        "  print(x,y(10,20))\n",
        "\n",
        "addNumber(40,func)"
      ],
      "metadata": {
        "colab": {
          "base_uri": "https://localhost:8080/"
        },
        "id": "iCbjxX0wqYzW",
        "outputId": "3956d0be-91c0-475b-f7e5-f3d972afcd3f"
      },
      "execution_count": 12,
      "outputs": [
        {
          "output_type": "stream",
          "name": "stdout",
          "text": [
            "30\n",
            "40 None\n"
          ]
        }
      ]
    },
    {
      "cell_type": "code",
      "source": [
        "def func(a,b):\n",
        "  return a+b\n",
        "\n",
        "def addNumber(x,y):\n",
        "\n",
        "  print(x,y(10,20))\n",
        "\n",
        "addNumber(40,func)"
      ],
      "metadata": {
        "colab": {
          "base_uri": "https://localhost:8080/"
        },
        "id": "VugNc-98rIfI",
        "outputId": "c8ddcffe-bd15-4fad-a657-a9912799a005"
      },
      "execution_count": 13,
      "outputs": [
        {
          "output_type": "stream",
          "name": "stdout",
          "text": [
            "40 30\n"
          ]
        }
      ]
    },
    {
      "cell_type": "code",
      "source": [
        "def square(x):\n",
        "  return (x**2)\n",
        "\n",
        "def cube(n,fnt): # n=> 4   fnt=> square\n",
        "  print(n*fnt(n))\n",
        "\n",
        "cube(6,square)"
      ],
      "metadata": {
        "colab": {
          "base_uri": "https://localhost:8080/"
        },
        "id": "ma3won4er51d",
        "outputId": "7847a7e5-c1c9-45d8-b399-72cd935919e4"
      },
      "execution_count": 20,
      "outputs": [
        {
          "output_type": "stream",
          "name": "stdout",
          "text": [
            "216\n"
          ]
        }
      ]
    },
    {
      "cell_type": "code",
      "source": [
        "# lambda function\n",
        "# lambda => annonymous functions  use for code readability\n",
        "# same as normal"
      ],
      "metadata": {
        "id": "9DdG_0_otJa2"
      },
      "execution_count": 21,
      "outputs": []
    },
    {
      "cell_type": "code",
      "source": [
        "def func(x,y):\n",
        "  return x+y\n",
        "\n",
        "lambda x,y: x+y"
      ],
      "metadata": {
        "colab": {
          "base_uri": "https://localhost:8080/"
        },
        "id": "TTaHHCTxt4gQ",
        "outputId": "789a5f16-9d09-4d16-8e46-292eec4de79e"
      },
      "execution_count": 28,
      "outputs": [
        {
          "output_type": "execute_result",
          "data": {
            "text/plain": [
              "<function __main__.<lambda>(x, y)>"
            ]
          },
          "metadata": {},
          "execution_count": 28
        }
      ]
    },
    {
      "cell_type": "code",
      "source": [
        "func=lambda x,y: x+y\n",
        "func(1,12)"
      ],
      "metadata": {
        "colab": {
          "base_uri": "https://localhost:8080/"
        },
        "id": "f4NcwJ9fuPD2",
        "outputId": "3c2f4c1e-050c-4640-e4af-cd8340956c3b"
      },
      "execution_count": 31,
      "outputs": [
        {
          "output_type": "execute_result",
          "data": {
            "text/plain": [
              "13"
            ]
          },
          "metadata": {},
          "execution_count": 31
        }
      ]
    },
    {
      "cell_type": "code",
      "source": [
        "def cube(x):\n",
        "  out=lambda x: x**2\n",
        "  print(\"lambda value :\",out(x))\n",
        "\n",
        "cube(4)"
      ],
      "metadata": {
        "colab": {
          "base_uri": "https://localhost:8080/"
        },
        "id": "L4SgM96LuxV1",
        "outputId": "227656bb-83dc-4deb-f099-d46cdbeab8a0"
      },
      "execution_count": 34,
      "outputs": [
        {
          "output_type": "stream",
          "name": "stdout",
          "text": [
            "lambda value : 16\n"
          ]
        }
      ]
    },
    {
      "cell_type": "code",
      "source": [
        "def cube(x):\n",
        "  out=lambda x: x**2\n",
        "  print(\"lambda value :\",x*out(x))\n",
        "\n",
        "cube(4)"
      ],
      "metadata": {
        "colab": {
          "base_uri": "https://localhost:8080/"
        },
        "id": "JQwe9UwevWJt",
        "outputId": "cb667ed9-9f2a-4a77-d57e-28dcd23ed553"
      },
      "execution_count": 43,
      "outputs": [
        {
          "output_type": "stream",
          "name": "stdout",
          "text": [
            "lambda value : 64\n"
          ]
        }
      ]
    },
    {
      "cell_type": "code",
      "source": [
        "for x in enumerate([10,20,30]):  # enumerate a iterables (list tuple dictionary)\n",
        "  print(x)"
      ],
      "metadata": {
        "colab": {
          "base_uri": "https://localhost:8080/"
        },
        "id": "SlOaQ_9M3F5K",
        "outputId": "0de0bcab-3e46-41f2-f83f-b063ecc96071"
      },
      "execution_count": 44,
      "outputs": [
        {
          "output_type": "stream",
          "name": "stdout",
          "text": [
            "(0, 10)\n",
            "(1, 20)\n",
            "(2, 30)\n"
          ]
        }
      ]
    },
    {
      "cell_type": "code",
      "source": [
        "mydict={}\n",
        "k=40\n",
        "for x in enumerate([10,20,30]):\n",
        "  value,key=x\n",
        "\n",
        "\n",
        "  if key not in mydict:\n",
        "    mydict[key]=value\n",
        "print(mydict)\n",
        "\n",
        "for value,key in enumerate([10,20,30]):\n",
        "  if k-key in mydict and mydict[k-key]!=value:\n",
        "    print(value,mydict[k-key])\n",
        "    break"
      ],
      "metadata": {
        "colab": {
          "base_uri": "https://localhost:8080/"
        },
        "id": "pYp9QykT31-O",
        "outputId": "bb485bc1-1804-4323-c5fc-1f0577c4d73f"
      },
      "execution_count": 51,
      "outputs": [
        {
          "output_type": "stream",
          "name": "stdout",
          "text": [
            "{10: 0, 20: 1, 30: 2}\n",
            "0 2\n"
          ]
        }
      ]
    },
    {
      "cell_type": "code",
      "source": [
        "buy=0\n",
        "sell=1\n",
        "maxi=0\n",
        "mylist=[7,10,5,3,6,4]\n",
        "no_days=len(mylist)\n",
        "\n",
        "while (sell<no_days):\n",
        "  if(mylist[sell] > mylist[buy]):\n",
        "    profit_margin=mylist[sell]-mylist[buy]\n",
        "    maxi=max(maxi, profit_margin)\n",
        "  else:\n",
        "    buy=sell\n",
        "  sell+=1\n",
        "\n",
        "print(maxi)"
      ],
      "metadata": {
        "colab": {
          "base_uri": "https://localhost:8080/"
        },
        "id": "gzFMeODZGhEg",
        "outputId": "3fb2374b-454b-4aaa-e8ee-95a61174213e"
      },
      "execution_count": 5,
      "outputs": [
        {
          "output_type": "stream",
          "name": "stdout",
          "text": [
            "3\n"
          ]
        }
      ]
    }
  ]
}