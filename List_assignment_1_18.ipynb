{
  "nbformat": 4,
  "nbformat_minor": 0,
  "metadata": {
    "colab": {
      "provenance": []
    },
    "kernelspec": {
      "name": "python3",
      "display_name": "Python 3"
    },
    "language_info": {
      "name": "python"
    }
  },
  "cells": [
    {
      "cell_type": "code",
      "execution_count": null,
      "metadata": {
        "colab": {
          "base_uri": "https://localhost:8080/"
        },
        "id": "E0SZZI-sxvdr",
        "outputId": "05520fe1-4c7c-4845-e644-fa5beaddbfc2"
      },
      "outputs": [
        {
          "output_type": "stream",
          "name": "stdout",
          "text": [
            "99\n"
          ]
        }
      ],
      "source": [
        "# 1. Write a Python program to find the maximum element in a list of numbers without max functions\n",
        "# numbers = [10, 20, 4, 45, 99]\n",
        "# The maximum element is: 99\n",
        "\n",
        "numbers = [10, 20, 4, 45, 99]\n",
        "maximum=numbers[0]\n",
        "for i in numbers:\n",
        "  if i >= maximum:\n",
        "    maximum=i\n",
        "print(maximum)"
      ]
    },
    {
      "cell_type": "code",
      "source": [
        "# 2. Write a Python program to sum all the elements in a list of numbers.\n",
        "# a. numbers = [10, 20, 30, 40]\n",
        "# b. The sum of all elements is: 100\n",
        "\n",
        "numbers = [10, 20, 30, 40]\n",
        "sum=0\n",
        "for i in numbers:\n",
        "  sum=sum+i\n",
        "print(sum)"
      ],
      "metadata": {
        "colab": {
          "base_uri": "https://localhost:8080/"
        },
        "id": "8aPyaNtDyUOR",
        "outputId": "4df8411a-8819-46c2-b430-5e27b317a03b"
      },
      "execution_count": null,
      "outputs": [
        {
          "output_type": "stream",
          "name": "stdout",
          "text": [
            "100\n"
          ]
        }
      ]
    },
    {
      "cell_type": "code",
      "source": [
        "# 3. Write a Python program to reverse a list without reverse or slicing operator\n",
        "# a. numbers = [1, 2, 3, 4, 5]\n",
        "# b. Reversed list: [5, 4, 3, 2, 1]\n",
        "\n",
        "numbers = [1, 2, 3, 4, 5]\n",
        "rev=[]\n",
        "for i in range(len(numbers)-1,-1,-1):\n",
        "  rev.append(numbers[i])\n",
        "print(rev)\n",
        "\n"
      ],
      "metadata": {
        "colab": {
          "base_uri": "https://localhost:8080/"
        },
        "id": "oXodL04Vys9K",
        "outputId": "7760437b-d26b-48f5-a348-e1370e99c6c7"
      },
      "execution_count": null,
      "outputs": [
        {
          "output_type": "stream",
          "name": "stdout",
          "text": [
            "[5, 4, 3, 2, 1]\n"
          ]
        }
      ]
    },
    {
      "cell_type": "code",
      "source": [
        "# 4 Write a Python program to sort a list in ascending order without sort functions\n",
        "list1=[5,3, 4, 6, 2, 1]\n",
        "for i in range(len(list1)):\n",
        "  for j in range(i+1,len(list1)):\n",
        "    if list1[i]>list1[j]:\n",
        "      list1[i],list1[j]=list1[j],list1[i]\n",
        "print(list1)\n",
        "\n"
      ],
      "metadata": {
        "colab": {
          "base_uri": "https://localhost:8080/"
        },
        "id": "FSlPAq-PzqmB",
        "outputId": "cf204452-beee-431f-d522-ba710dcde9ca"
      },
      "execution_count": null,
      "outputs": [
        {
          "output_type": "stream",
          "name": "stdout",
          "text": [
            "[1, 2, 3, 4, 5, 6]\n"
          ]
        }
      ]
    },
    {
      "cell_type": "code",
      "source": [
        "# 5 Write a Python program to remove duplicates from a list while maintaining the order\n",
        "# of elements.\n",
        "# a. numbers = [1, 2, 2, 3, 4, 4, 5]\n",
        "# b. List after removing duplicates: [1, 2, 3, 4, 5]\n",
        "\n",
        "numbers = [1, 2, 2, 3, 4, 4, 5]\n",
        "\n",
        "set1=set(numbers)\n",
        "\n",
        "list1=list(set1)\n",
        "print(list1)"
      ],
      "metadata": {
        "colab": {
          "base_uri": "https://localhost:8080/"
        },
        "id": "IMq2EVtT1cRC",
        "outputId": "3e6e6f67-659c-49aa-c26e-2c075918fc1f"
      },
      "execution_count": null,
      "outputs": [
        {
          "output_type": "stream",
          "name": "stdout",
          "text": [
            "[1, 2, 3, 4, 5]\n"
          ]
        }
      ]
    },
    {
      "cell_type": "code",
      "source": [
        "# 6. Write a Python program to find all pairs of numbers in a list that add up to a specific\n",
        "# target sum.\n",
        "# a. numbers = [1, 2, 3, 4, 3, 5, 6] target_sum = 6\n",
        "# b. Pairs that add up to 6: [(3, 3), (2, 4), (1, 5)]\n",
        "\n",
        "numbers = [1, 2, 3, 4, 3, 5, 6]\n",
        "target_sum = 6\n",
        "pair=[]\n",
        "for i in range(len(numbers)):\n",
        "  for j in range(i+1,len(numbers)):\n",
        "    if numbers[i]+numbers[j]==target_sum:\n",
        "      pair.append((numbers[i],numbers[j]))\n",
        "print(\" Pairs that add up to 6 : \",pair)"
      ],
      "metadata": {
        "colab": {
          "base_uri": "https://localhost:8080/"
        },
        "id": "1j0fd1KH1vNf",
        "outputId": "b36525cc-b221-46e7-a236-eaba09bd8ffc"
      },
      "execution_count": null,
      "outputs": [
        {
          "output_type": "stream",
          "name": "stdout",
          "text": [
            " Pairs that add up to 6 :  [(1, 5), (2, 4), (3, 3)]\n"
          ]
        }
      ]
    },
    {
      "cell_type": "code",
      "source": [
        "#  7. Write a Python program to flatten a nested list (list within lists) into a single list.\n",
        "# a. nested_list = [1, [2, 3], [4, [5, 6], 7], 8]\n",
        "#  b. Flattened list: [1, 2, 3, 4, 5, 6, 7, 8"
      ],
      "metadata": {
        "id": "uBnSYrb92bj-"
      },
      "execution_count": null,
      "outputs": []
    },
    {
      "cell_type": "code",
      "source": [
        "# 8. Write a Python program to find the sum of the elements in a list, excluding the largest\n",
        "# and smallest element. Don’t use max or min functions\n",
        "# a. numbers = [1, 2, 3, 4, 5]\n",
        "# b. Sum excluding the largest and smallest element: 9\n",
        "\n",
        "numbers = [1, 2, 3, 4, 5]\n",
        "sum=0\n",
        "for i in range(1,len(numbers)-1):\n",
        "  sum = sum+numbers[i]\n",
        "print(sum)"
      ],
      "metadata": {
        "colab": {
          "base_uri": "https://localhost:8080/"
        },
        "id": "uidemQzI0dJ9",
        "outputId": "048bc9fb-1067-4c4d-bf8c-464fbcf37ff6"
      },
      "execution_count": null,
      "outputs": [
        {
          "output_type": "stream",
          "name": "stdout",
          "text": [
            "9\n"
          ]
        }
      ]
    },
    {
      "cell_type": "code",
      "source": [
        "# 9. Write a Python program to check if a list is a palindrome (reads the same backward\n",
        "# as forward) using two pointer approach\n",
        "# a. numbers = [1, 2, 3, 2, 1]\n",
        "# b. True\n",
        "\n",
        "numbers = [1, 2, 3, 3, 2, 1]\n",
        "i = 0\n",
        "j = len(numbers)-1\n",
        "flag = 1\n",
        "while i<=j:\n",
        "    if numbers[i]==numbers[j]:\n",
        "        i+=1\n",
        "        j-=1\n",
        "    else:\n",
        "        flag = 0\n",
        "        break\n",
        "if flag:\n",
        "    print(\"list is palindrome :\",True)\n",
        "else:\n",
        "    print(\"list is palindrome :\",False)"
      ],
      "metadata": {
        "colab": {
          "base_uri": "https://localhost:8080/"
        },
        "id": "9EMSs2j00vqE",
        "outputId": "c6a22d7a-c692-4865-a961-49b26001c624"
      },
      "execution_count": null,
      "outputs": [
        {
          "output_type": "stream",
          "name": "stdout",
          "text": [
            "list is palindrome : True\n"
          ]
        }
      ]
    },
    {
      "cell_type": "code",
      "source": [
        "# 10. Write a function to remove duplicate elements from a list.\n",
        "# a. numbers = [1, 2, 3, 2, 4, 5, 1, 6]\n",
        "# b. [1, 2, 3, 4, 5, 6]\n",
        "def func(numbers):\n",
        "  duplicate=[]\n",
        "  for i in numbers:\n",
        "    if i not in duplicate:\n",
        "      duplicate.append(i)\n",
        "  return duplicate\n",
        "numbers = [1, 2, 3, 2, 4, 5, 1, 6]\n",
        "print(func(numbers))"
      ],
      "metadata": {
        "colab": {
          "base_uri": "https://localhost:8080/"
        },
        "id": "ZD5hJvcE053N",
        "outputId": "e953460c-a7cf-4d8e-aac7-9370d0c2f392"
      },
      "execution_count": null,
      "outputs": [
        {
          "output_type": "stream",
          "name": "stdout",
          "text": [
            "[1, 2, 3, 4, 5, 6]\n"
          ]
        }
      ]
    },
    {
      "cell_type": "code",
      "source": [
        "# 11. Find Common Elements in Two Lists\n",
        "# a. list1 = [1, 2, 3, 4, 5]\n",
        "# b. list2 = [3, 4, 5, 6, 7]\n",
        "# c. Result: [3, 4, 5]\n",
        "\n",
        "list1=[1,2,3,4,6]\n",
        "list2=[3,4,5,6,7]\n",
        "list3=[]\n",
        "for i in list1:\n",
        "  for j in list2:\n",
        "    if i==j:\n",
        "      list3.append(i)\n",
        "print(list3)"
      ],
      "metadata": {
        "colab": {
          "base_uri": "https://localhost:8080/"
        },
        "id": "wmjRDEbx0--6",
        "outputId": "dc69ccad-b9fd-4f9a-abff-98c22814adc0"
      },
      "execution_count": null,
      "outputs": [
        {
          "output_type": "stream",
          "name": "stdout",
          "text": [
            "[3, 4, 6]\n"
          ]
        }
      ]
    },
    {
      "cell_type": "code",
      "source": [
        "# 12. Find the Longest Word in a List\n",
        "# a. words = [\"apple\", \"banana\", \"strawberry\", \"kiwi\"]\n",
        "# b. Strawberry\n",
        "\n",
        "words = [\"apple\", \"banana\", \"strawberry\", \"kiwi\"]\n",
        "di={}\n",
        "for i in words:\n",
        "    a=len(i)\n",
        "    if i not in di:\n",
        "        di[i]=a\n",
        "b=0\n",
        "di1=\"\"\n",
        "for j in di:\n",
        "    if di[j]>b:\n",
        "        b=di[j]\n",
        "        di1=j\n",
        "di1"
      ],
      "metadata": {
        "colab": {
          "base_uri": "https://localhost:8080/",
          "height": 36
        },
        "id": "X0WO6Dpa1BoL",
        "outputId": "5d63a6eb-6734-4039-c637-ae69bf74b033"
      },
      "execution_count": null,
      "outputs": [
        {
          "output_type": "execute_result",
          "data": {
            "text/plain": [
              "'strawberry'"
            ],
            "application/vnd.google.colaboratory.intrinsic+json": {
              "type": "string"
            }
          },
          "metadata": {},
          "execution_count": 6
        }
      ]
    },
    {
      "cell_type": "code",
      "source": [
        "# 13. Find Missing Number in a List\n",
        "nums=[40,41,43,44,45]\n",
        "for i in range(40,46):\n",
        "  if i not in nums:\n",
        "    print(i)"
      ],
      "metadata": {
        "colab": {
          "base_uri": "https://localhost:8080/"
        },
        "id": "l5Zw-uKb1FSx",
        "outputId": "58fde20a-033a-47d3-de21-73436f4d561a"
      },
      "execution_count": null,
      "outputs": [
        {
          "output_type": "stream",
          "name": "stdout",
          "text": [
            "42\n"
          ]
        }
      ]
    },
    {
      "cell_type": "code",
      "source": [
        "# 14. Find Missing Number in a List\n",
        "# You are given a list of n-1 numbers in the range 1 to n. One number is missing\n",
        "# from the sequence. Find the missing number.\n",
        "# a. numbers = [1, 2, 4, 5, 6]\n",
        "# b. 3\n",
        "\n",
        "numbers = [1, 2, 4, 5, 6]\n",
        "for i in range(1,len(numbers)):\n",
        "  if i not in numbers:\n",
        "    print(i)"
      ],
      "metadata": {
        "colab": {
          "base_uri": "https://localhost:8080/"
        },
        "id": "WuoZgtIg1Ij6",
        "outputId": "510a5e19-8d3e-45c0-f2bc-ab3d55374a4c"
      },
      "execution_count": null,
      "outputs": [
        {
          "output_type": "stream",
          "name": "stdout",
          "text": [
            "3\n"
          ]
        }
      ]
    },
    {
      "cell_type": "code",
      "source": [
        "# 15. Find the First Non-Repeating Element\n",
        "# Given a list of integers, find the first element that appears only once.\n",
        "# a. numbers = [4, 5, 1, 2, 0, 4, 5, 2]\n",
        "# b. Expected Output: 1\n",
        "\n",
        "numbers = [4, 5, 1, 2, 0, 4, 5, 2]\n",
        "\n",
        "for i in numbers:\n",
        "    if numbers.count(i) == 1:\n",
        "        print(i)\n",
        "        break\n"
      ],
      "metadata": {
        "colab": {
          "base_uri": "https://localhost:8080/"
        },
        "id": "vPFYet9Y1hhp",
        "outputId": "92cbe917-be91-41ed-96a9-9bd62df5069e"
      },
      "execution_count": 18,
      "outputs": [
        {
          "output_type": "stream",
          "name": "stdout",
          "text": [
            "1\n"
          ]
        }
      ]
    },
    {
      "cell_type": "code",
      "source": [
        "# 16. Move All Zeros to the End\n",
        "# Given a list of integers, move all zeros to the end while maintaining the relative order\n",
        "# of non-zero elements. Don’t use any inbuilt functions\n",
        "# a. numbers = [0, 1, 0, 3, 12]\n",
        "# b. [1, 3, 12, 0, 0]\n",
        "numbers = [0, 1, 0, 3, 12]\n",
        "i=0\n",
        "for j in range(0,len(numbers)):\n",
        "    if numbers[j]!=0:\n",
        "        numbers[i],numbers[j]=numbers[j],numbers[i]\n",
        "        i+=1\n",
        "print(numbers)"
      ],
      "metadata": {
        "colab": {
          "base_uri": "https://localhost:8080/"
        },
        "id": "yt8q5Pp33bla",
        "outputId": "c1664b53-4b2f-4eb8-94ee-1d3802b41b49"
      },
      "execution_count": 15,
      "outputs": [
        {
          "output_type": "stream",
          "name": "stdout",
          "text": [
            "[1, 3, 12, 0, 0]\n"
          ]
        }
      ]
    },
    {
      "cell_type": "code",
      "source": [
        "# 17. Find Elements Greater Than Their Left Neighbor\n",
        "# # a. numbers = [1, 3, 2, 6, 5, 8, 7]\n",
        "# # b. [3, 6, 8]\n",
        "numbers = [1, 3, 2, 6, 5, 8, 7]\n",
        "li=[]\n",
        "for i in range(0,len(numbers)):\n",
        "    for j in range(i+1,len(numbers)):\n",
        "        if numbers[i]<numbers[i+1] and numbers[i+1] not in li:\n",
        "            li.append(numbers[i+1])\n",
        "print(li)"
      ],
      "metadata": {
        "colab": {
          "base_uri": "https://localhost:8080/"
        },
        "id": "yay0n7Kx4akx",
        "outputId": "9e1b810b-5f7f-452f-f53c-9d2eafc2e59c"
      },
      "execution_count": 13,
      "outputs": [
        {
          "output_type": "stream",
          "name": "stdout",
          "text": [
            "[3, 6, 8]\n"
          ]
        }
      ]
    },
    {
      "cell_type": "code",
      "source": [
        "# 18. Find Triplets That Sum to Zero\n",
        "# Given a list of numbers, find all unique triplets (a, b, c) such that a + b + c = 0.\n",
        "# a. numbers = [-1, 0, 1, 2, -1, -4]\n",
        "# b. Expected Output: [(-1, -1, 2), (-1, 0, 1)]\n",
        "numbers = [-1, 0, 1, 2, -1, -4]\n",
        "li=[]\n",
        "numbers.sort()\n",
        "for i in range(0,len(numbers)):\n",
        "    k=i+1\n",
        "    j=len(numbers)-1\n",
        "    while k<j:\n",
        "        if numbers[i]+numbers[j]+numbers[k]==0:\n",
        "            if [numbers[i],numbers[j],numbers[k]] not in li:\n",
        "                li.append((numbers[i],numbers[j],numbers[k]))\n",
        "            k+=1\n",
        "            j-=1\n",
        "        elif numbers[i]+numbers[j]+numbers[k]<0:\n",
        "            k+=1\n",
        "        else:\n",
        "            j-=1\n",
        "print(li)"
      ],
      "metadata": {
        "colab": {
          "base_uri": "https://localhost:8080/"
        },
        "id": "H3xIeJPq4oui",
        "outputId": "3e862129-9e60-4468-e5d2-4a05e112f691"
      },
      "execution_count": 17,
      "outputs": [
        {
          "output_type": "stream",
          "name": "stdout",
          "text": [
            "[(-1, 2, -1), (-1, 1, 0), (-1, 1, 0)]\n"
          ]
        }
      ]
    }
  ]
}