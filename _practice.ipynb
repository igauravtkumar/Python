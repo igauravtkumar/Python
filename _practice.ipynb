{
  "nbformat": 4,
  "nbformat_minor": 0,
  "metadata": {
    "colab": {
      "provenance": []
    },
    "kernelspec": {
      "name": "python3",
      "display_name": "Python 3"
    },
    "language_info": {
      "name": "python"
    }
  },
  "cells": [
    {
      "cell_type": "code",
      "execution_count": null,
      "metadata": {
        "colab": {
          "base_uri": "https://localhost:8080/"
        },
        "id": "5-SvnbBHBr5k",
        "outputId": "ca2b6c51-290f-49da-b772-0b885e7de8e2"
      },
      "outputs": [
        {
          "output_type": "stream",
          "name": "stdout",
          "text": [
            "6\n",
            "27\n"
          ]
        }
      ],
      "source": [
        "# Write a Python program to calculate the sum of three given numbers. If the values are equal, return three times their sum.\n",
        "def triple(x,y,z):\n",
        "\n",
        "  sum = x+y+z\n",
        "  if x==y==z:\n",
        "    sum=sum*3\n",
        "  return sum\n",
        "print(triple(1,2,3))\n",
        "print(triple(3,3,3))"
      ]
    },
    {
      "cell_type": "code",
      "source": [
        "# Write a Python program to count the number 4 in a given list.\n",
        "\n",
        "list1=[1,2,3,2,4,4,4,3]\n",
        "count=0\n",
        "for i in list1:\n",
        "  if i==4:\n",
        "    count+=1\n",
        "print(count)"
      ],
      "metadata": {
        "colab": {
          "base_uri": "https://localhost:8080/"
        },
        "id": "pkUwzhG8CPkF",
        "outputId": "103d26ed-9a6d-4115-f91a-70e67eca35d8"
      },
      "execution_count": null,
      "outputs": [
        {
          "output_type": "stream",
          "name": "stdout",
          "text": [
            "3\n"
          ]
        }
      ]
    },
    {
      "cell_type": "code",
      "source": [
        "# Write a Python program to test whether a passed letter is a vowel or not.\n",
        "\n",
        "char=\"E\"\n",
        "vowels=\"aeiouAEIOU\"\n",
        "if char in vowels:\n",
        "  print(\"vowels present\")\n",
        "else:\n",
        "  print(\"vowels absent\")"
      ],
      "metadata": {
        "colab": {
          "base_uri": "https://localhost:8080/"
        },
        "id": "sMmSiJaWC2Rv",
        "outputId": "85393026-d19f-4e76-dded-94c393e51509"
      },
      "execution_count": null,
      "outputs": [
        {
          "output_type": "stream",
          "name": "stdout",
          "text": [
            "vowels present\n"
          ]
        }
      ]
    },
    {
      "cell_type": "code",
      "source": [
        "# Write a Python program that concatenates all elements in a list into a string and returns it.\n",
        "list1=[1,5,2,3,4]\n",
        "str1=\"\"\n",
        "for i in list1:\n",
        "  str1=str1+str(i)\n",
        "print(str1)\n"
      ],
      "metadata": {
        "colab": {
          "base_uri": "https://localhost:8080/"
        },
        "id": "ZgiQJxXRdrsT",
        "outputId": "448c3eed-4fa7-4cb1-b016-2dfbecc1517b"
      },
      "execution_count": null,
      "outputs": [
        {
          "output_type": "stream",
          "name": "stdout",
          "text": [
            "15234\n"
          ]
        }
      ]
    },
    {
      "cell_type": "code",
      "source": [
        "# Write a Python program to print all even numbers from a given list of numbers in the same order and stop printing any after 237 in the sequence\n",
        "numbers = [\n",
        "    386, 462, 47, 418, 907, 344, 236, 375, 823, 566, 597, 978, 328, 615, 953, 345,\n",
        "    399, 162, 758, 219, 918, 237, 412, 566, 826, 248, 866, 950, 626, 949, 687, 217,\n",
        "    815, 67, 104, 58, 512, 24, 892, 894, 767, 553, 81, 379, 843, 831, 445, 742, 717,\n",
        "    958,743, 527\n",
        "    ]\n",
        "for i in numbers:\n",
        "  if i==237:\n",
        "    print(i)\n",
        "  elif i%2==0:\n",
        "    print(i,end=\" \")"
      ],
      "metadata": {
        "colab": {
          "base_uri": "https://localhost:8080/"
        },
        "id": "1EpTyDdieUjo",
        "outputId": "20908ea2-ea65-4c40-b7e8-472e931f8f39"
      },
      "execution_count": null,
      "outputs": [
        {
          "output_type": "stream",
          "name": "stdout",
          "text": [
            "386 462 418 344 236 566 978 328 162 758 918 237\n",
            "412 566 826 248 866 950 626 104 58 512 24 892 894 742 958 "
          ]
        }
      ]
    },
    {
      "cell_type": "code",
      "source": [
        "# Write a Python program that prints out all colors from color_list_1 that are not present in color_list_2.\n",
        "\n",
        "color_list_1 = set([\"White\", \"Black\", \"Red\"])\n",
        "color_list_2 = set([\"Red\", \"Green\"])\n",
        "\n",
        "color_list_1.difference(color_list_2)"
      ],
      "metadata": {
        "colab": {
          "base_uri": "https://localhost:8080/"
        },
        "id": "m285MzX_e1Ty",
        "outputId": "2fc8662c-6d67-4495-aacb-e3061c87f75d"
      },
      "execution_count": null,
      "outputs": [
        {
          "output_type": "execute_result",
          "data": {
            "text/plain": [
              "{'Black', 'White'}"
            ]
          },
          "metadata": {},
          "execution_count": 9
        }
      ]
    },
    {
      "cell_type": "code",
      "source": [
        "# Write a Python program that will accept the base and height of a triangle and compute its area.\n",
        "\n",
        "base=int(input(\"enter the triangle of base:\"))\n",
        "height=int(input(\"enter the triangle of height:\"))\n",
        "area=0.5*base*height\n",
        "print(\"area of triangle\",area)"
      ],
      "metadata": {
        "colab": {
          "base_uri": "https://localhost:8080/"
        },
        "id": "sNkVe-DTfihx",
        "outputId": "f2ca0656-6e61-4613-bb1c-84937e47006e"
      },
      "execution_count": null,
      "outputs": [
        {
          "output_type": "stream",
          "name": "stdout",
          "text": [
            "enter the triangle of base:10\n",
            "enter the triangle of height:5\n",
            "area of triangle 25.0\n"
          ]
        }
      ]
    },
    {
      "cell_type": "code",
      "source": [
        "# Write a Python program that computes the greatest common divisor (GCD) of two positive integers.\n",
        "a=4\n",
        "b=6\n",
        "while b!=0:\n",
        "\n",
        "  a,b=b,a%b\n",
        "print(a,end=\" \")"
      ],
      "metadata": {
        "colab": {
          "base_uri": "https://localhost:8080/"
        },
        "id": "_GZVR6INgV-y",
        "outputId": "7833906d-6993-4f02-8543-06d910e9bdbd"
      },
      "execution_count": null,
      "outputs": [
        {
          "output_type": "stream",
          "name": "stdout",
          "text": [
            "2 "
          ]
        }
      ]
    },
    {
      "cell_type": "code",
      "source": [
        "# Write a Python program to find the least common multiple (LCM) of two positive integers.\n",
        "a=7\n",
        "b=9\n",
        "if a>b:\n",
        "  greatest = a\n",
        "else:\n",
        "  greatest=b\n",
        "while (True):\n",
        "  if greatest%a==0 and greatest%b==0:\n",
        "    print(greatest)\n",
        "    break\n",
        "  else:\n",
        "    greatest+=1"
      ],
      "metadata": {
        "colab": {
          "base_uri": "https://localhost:8080/"
        },
        "id": "4MtRLHMwhrc_",
        "outputId": "07d889f4-ea51-42fe-d08e-043332744c06"
      },
      "execution_count": null,
      "outputs": [
        {
          "output_type": "stream",
          "name": "stdout",
          "text": [
            "63\n"
          ]
        }
      ]
    },
    {
      "cell_type": "code",
      "source": [
        "# Write a Python program to solve (x + y) * (x + y).\n",
        "x=4\n",
        "y=3\n",
        "total = (x+y)*(x+y)\n",
        "print(total)"
      ],
      "metadata": {
        "colab": {
          "base_uri": "https://localhost:8080/"
        },
        "id": "WmwBvp22ij0n",
        "outputId": "9f7f2d72-53bc-4cbf-932e-c42c0db616de"
      },
      "execution_count": null,
      "outputs": [
        {
          "output_type": "stream",
          "name": "stdout",
          "text": [
            "49\n"
          ]
        }
      ]
    },
    {
      "cell_type": "code",
      "source": [
        "# Write a Python program that displays your name, age, and address on three different lines.\n",
        "name = input(\"Enter your name: \")\n",
        "age = input(\"Enter your age: \")\n",
        "address = input(\"enter your address:\")\n",
        "print(\"Name:\",name)\n",
        "print(\"Age:\",age)\n",
        "print(\"Address:\",address)"
      ],
      "metadata": {
        "colab": {
          "base_uri": "https://localhost:8080/"
        },
        "id": "EnNhjSoliuxd",
        "outputId": "50abe509-0951-4c4d-8af3-78aee61634bc"
      },
      "execution_count": null,
      "outputs": [
        {
          "output_type": "stream",
          "name": "stdout",
          "text": [
            "Enter your name: Gaurav Tailor\n",
            "Enter your age: 22\n",
            "enter your address:Jaipur\n",
            "Name: Gaurav Tailor\n",
            "Age: 22\n",
            "Address: Jaipur\n"
          ]
        }
      ]
    },
    {
      "cell_type": "code",
      "source": [
        "# Write a Python program to sum two given integers. However, if the sum is between 15 and 20 it will return 20.\n",
        "x=10\n",
        "y=73\n",
        "sum = x+y\n",
        "if sum in range(15,20):\n",
        "  print(\"20\")\n",
        "else:\n",
        "  print(sum)"
      ],
      "metadata": {
        "colab": {
          "base_uri": "https://localhost:8080/"
        },
        "id": "Yl9h4XErjoZu",
        "outputId": "38936e8e-941b-4a43-c2ba-70ebaaec9ea1"
      },
      "execution_count": null,
      "outputs": [
        {
          "output_type": "stream",
          "name": "stdout",
          "text": [
            "83\n"
          ]
        }
      ]
    },
    {
      "cell_type": "code",
      "source": [],
      "metadata": {
        "id": "2fCCCi4ZwkQy"
      },
      "execution_count": null,
      "outputs": []
    }
  ]
}