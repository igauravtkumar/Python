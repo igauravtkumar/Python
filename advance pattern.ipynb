{
  "nbformat": 4,
  "nbformat_minor": 0,
  "metadata": {
    "colab": {
      "provenance": []
    },
    "kernelspec": {
      "name": "python3",
      "display_name": "Python 3"
    },
    "language_info": {
      "name": "python"
    }
  },
  "cells": [
    {
      "cell_type": "code",
      "execution_count": null,
      "metadata": {
        "colab": {
          "base_uri": "https://localhost:8080/"
        },
        "id": "qa9pequgZ_H4",
        "outputId": "92f4723a-8647-42f0-c2e0-6ad73dd22c67"
      },
      "outputs": [
        {
          "output_type": "stream",
          "name": "stdout",
          "text": [
            "        * \n",
            "      * * * \n",
            "    * * * * * \n",
            "  * * * * * * * \n",
            "* * * * * * * * * \n"
          ]
        }
      ],
      "source": [
        "num=5\n",
        "for i in range(1,num+1):\n",
        "  for s in range(i,num):\n",
        "    print(\" \",end=\" \")\n",
        "  for j in range(1,2*i):\n",
        "    print(\"*\",end=\" \")\n",
        "  print()"
      ]
    },
    {
      "cell_type": "code",
      "source": [
        "n=5\n",
        "for i in range(n):\n",
        "  for j in range(i+1):\n",
        "    if (i+j) %2==0:\n",
        "      print(1,end=' ')\n",
        "    else:\n",
        "      print(0,end=' ')\n",
        "  print()"
      ],
      "metadata": {
        "colab": {
          "base_uri": "https://localhost:8080/"
        },
        "id": "1cCDWh6Uc2fs",
        "outputId": "c468ffec-44f1-4c4f-9709-ca81181f2e1e"
      },
      "execution_count": null,
      "outputs": [
        {
          "output_type": "stream",
          "name": "stdout",
          "text": [
            "1 \n",
            "0 1 \n",
            "1 0 1 \n",
            "0 1 0 1 \n",
            "1 0 1 0 1 \n"
          ]
        }
      ]
    },
    {
      "cell_type": "code",
      "source": [
        "n=5\n",
        "for i in range(n):\n",
        "  for j in range(i+1):\n",
        "    if  j%2==0:\n",
        "      print(1,end=' ')\n",
        "    else:\n",
        "      print(0,end=' ')\n",
        "  print()"
      ],
      "metadata": {
        "colab": {
          "base_uri": "https://localhost:8080/"
        },
        "id": "GwGDkAhUebbs",
        "outputId": "9ed5c537-330b-42a3-cb09-12bd6079e8a2"
      },
      "execution_count": null,
      "outputs": [
        {
          "output_type": "stream",
          "name": "stdout",
          "text": [
            "1 \n",
            "1 0 \n",
            "1 0 1 \n",
            "1 0 1 0 \n",
            "1 0 1 0 1 \n"
          ]
        }
      ]
    },
    {
      "cell_type": "code",
      "source": [
        "n=5\n",
        "for i in range(n,0,-1):\n",
        "  for s in range(i,n):\n",
        "    print(\"-\",end=\" \")\n",
        "  for j in range(2*i,1,-1):\n",
        "    print(\"*\",end=\" \")\n",
        "  print()"
      ],
      "metadata": {
        "colab": {
          "base_uri": "https://localhost:8080/"
        },
        "id": "1pRp_O6-fp2V",
        "outputId": "de736120-b0d1-43e1-ba5a-7337cd03a129"
      },
      "execution_count": null,
      "outputs": [
        {
          "output_type": "stream",
          "name": "stdout",
          "text": [
            "* * * * * * * * * \n",
            "- * * * * * * * \n",
            "- - * * * * * \n",
            "- - - * * * \n",
            "- - - - * \n"
          ]
        }
      ]
    },
    {
      "cell_type": "code",
      "source": [
        "n=3\n",
        "for i in range(n,0,-1):\n",
        "  for s in range(i,n):\n",
        "    print(\" \",end=\" \")\n",
        "  for j in range(1,2*i):\n",
        "    print(j,end=\" \")\n",
        "  print()"
      ],
      "metadata": {
        "colab": {
          "base_uri": "https://localhost:8080/"
        },
        "id": "Y_bFjr4HhQn9",
        "outputId": "1caa396c-4b4f-46cc-cf59-abf76d48e849"
      },
      "execution_count": null,
      "outputs": [
        {
          "output_type": "stream",
          "name": "stdout",
          "text": [
            "1 2 3 4 5 \n",
            "  1 2 3 \n",
            "    1 \n"
          ]
        }
      ]
    },
    {
      "cell_type": "code",
      "source": [
        "n=4\n",
        "for i in range(1,n+1):\n",
        "  for s in range(i,n):\n",
        "    print(\" \",end=\"\")\n",
        "  for j in range(1,i+1):\n",
        "    print(\"*\",end=\" \")\n",
        "  print()"
      ],
      "metadata": {
        "colab": {
          "base_uri": "https://localhost:8080/"
        },
        "id": "14Q1BWfxiQyR",
        "outputId": "394acb6e-6df6-4f3f-8a7b-bbfb575ce3fb"
      },
      "execution_count": null,
      "outputs": [
        {
          "output_type": "stream",
          "name": "stdout",
          "text": [
            "   * \n",
            "  * * \n",
            " * * * \n",
            "* * * * \n"
          ]
        }
      ]
    },
    {
      "cell_type": "code",
      "source": [
        "n=6\n",
        "for i in range(1,n+1):\n",
        "  for s in range(1,i):\n",
        "    print(\" \",end=\"\")\n",
        "  for j in range(i,n+1):\n",
        "    print(j,end=\" \")\n",
        "  print()"
      ],
      "metadata": {
        "colab": {
          "base_uri": "https://localhost:8080/"
        },
        "id": "2e74OkgQjwQl",
        "outputId": "7c54d03c-264f-4c85-ffeb-834b989a062a"
      },
      "execution_count": null,
      "outputs": [
        {
          "output_type": "stream",
          "name": "stdout",
          "text": [
            "1 2 3 4 5 6 \n",
            " 2 3 4 5 6 \n",
            "  3 4 5 6 \n",
            "   4 5 6 \n",
            "    5 6 \n",
            "     6 \n"
          ]
        }
      ]
    },
    {
      "cell_type": "code",
      "source": [
        "n=1\n",
        "for i in range(1,7):\n",
        "  for j in range(i,0,-1):\n",
        "      print(i,end=\" \")\n",
        "      i-=1\n",
        "  print()\n",
        "\n"
      ],
      "metadata": {
        "colab": {
          "base_uri": "https://localhost:8080/"
        },
        "id": "dshSbYQRmQrh",
        "outputId": "f056d52a-9386-45a1-affd-34faefd62367"
      },
      "execution_count": null,
      "outputs": [
        {
          "output_type": "stream",
          "name": "stdout",
          "text": [
            "1 \n",
            "2 1 \n",
            "3 2 1 \n",
            "4 3 2 1 \n",
            "5 4 3 2 1 \n",
            "6 5 4 3 2 1 \n"
          ]
        }
      ]
    },
    {
      "cell_type": "code",
      "source": [
        "num=5\n",
        "for i in range(2,num+1):\n",
        "  for j in range(2,i+1):\n",
        "    print(j,end=\" \")\n",
        "    num+=1\n",
        "  print()"
      ],
      "metadata": {
        "colab": {
          "base_uri": "https://localhost:8080/"
        },
        "id": "oWnakc8colXZ",
        "outputId": "d26a08fd-5170-4c1b-89ae-e657d0e58e7b"
      },
      "execution_count": null,
      "outputs": [
        {
          "output_type": "stream",
          "name": "stdout",
          "text": [
            "2 \n",
            "2 3 \n",
            "2 3 4 \n",
            "2 3 4 5 \n"
          ]
        }
      ]
    },
    {
      "cell_type": "code",
      "source": [
        "n=4\n",
        "for i in range(1,n+1):\n",
        "  for j in range(1,2*n):\n",
        "    if i==4 or i+j==n+1 or j-i==n-1:\n",
        "      print(\"*\",end=\" \")\n",
        "    else:\n",
        "      print(\" \",end=\" \")\n",
        "  print()\n",
        "\n",
        "\n",
        "\n"
      ],
      "metadata": {
        "id": "ZnInukSAq5hG",
        "colab": {
          "base_uri": "https://localhost:8080/"
        },
        "outputId": "c95767ce-5ea0-4ed3-d294-f9392557fdb9"
      },
      "execution_count": null,
      "outputs": [
        {
          "output_type": "stream",
          "name": "stdout",
          "text": [
            "      *       \n",
            "    *   *     \n",
            "  *       *   \n",
            "* * * * * * * \n"
          ]
        }
      ]
    },
    {
      "cell_type": "code",
      "source": [
        "n=4\n",
        "k=2\n",
        "for i in range(1,n+1):\n",
        "  for j in range(1,2*n):\n",
        "    if  i+j==n+1 or j-i==n-1:\n",
        "      print(\"*\",end=\" \")\n",
        "    elif i==n and j!=k:\n",
        "      print(\"*\",end=\" \")\n",
        "      k+=2\n",
        "    else:\n",
        "      print(\" \",end=\" \")\n",
        "  print()"
      ],
      "metadata": {
        "colab": {
          "base_uri": "https://localhost:8080/"
        },
        "id": "3UP0h-U8BT2d",
        "outputId": "e3625ec9-69f0-4bba-dde3-40a03ca198fc"
      },
      "execution_count": null,
      "outputs": [
        {
          "output_type": "stream",
          "name": "stdout",
          "text": [
            "      *       \n",
            "    *   *     \n",
            "  *       *   \n",
            "*   *   *   * \n"
          ]
        }
      ]
    },
    {
      "cell_type": "code",
      "source": [
        "num=input(\"enter an odd length number\")\n",
        "length=len(num)\n",
        "for i in range(length):\n",
        "  for j in range(length):\n",
        "    if i==j or i+j==length-1:\n",
        "      print(num[j],end=\" \")\n",
        "    else:\n",
        "      print(\" \",end=\" \")\n",
        "  print()"
      ],
      "metadata": {
        "colab": {
          "base_uri": "https://localhost:8080/"
        },
        "id": "0h2ZbUSeFIKY",
        "outputId": "44afb21a-02ce-4a45-cd0c-dbb6cd4e7cd2"
      },
      "execution_count": 13,
      "outputs": [
        {
          "output_type": "stream",
          "name": "stdout",
          "text": [
            "enter an odd length number12345\n",
            "1       5 \n",
            "  2   4   \n",
            "    3     \n",
            "  2   4   \n",
            "1       5 \n"
          ]
        }
      ]
    },
    {
      "cell_type": "code",
      "source": [
        "num=input(\"enter an odd length number\")\n",
        "length=len(num)\n",
        "for i in range(length):\n",
        "  for j in range(length):\n",
        "    if i==j or i+j==length-1:\n",
        "      print(num[i],end=\" \")\n",
        "    else:\n",
        "      print(\" \",end=\" \")\n",
        "  print()"
      ],
      "metadata": {
        "colab": {
          "base_uri": "https://localhost:8080/"
        },
        "id": "TmxVeKfMGm6U",
        "outputId": "ad43bfca-b28a-420b-8a86-3ca3c16ec952"
      },
      "execution_count": 14,
      "outputs": [
        {
          "output_type": "stream",
          "name": "stdout",
          "text": [
            "enter an odd length number12345\n",
            "1       1 \n",
            "  2   2   \n",
            "    3     \n",
            "  4   4   \n",
            "5       5 \n"
          ]
        }
      ]
    }
  ]
}