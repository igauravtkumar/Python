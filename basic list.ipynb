{
  "nbformat": 4,
  "nbformat_minor": 0,
  "metadata": {
    "colab": {
      "provenance": []
    },
    "kernelspec": {
      "name": "python3",
      "display_name": "Python 3"
    },
    "language_info": {
      "name": "python"
    }
  },
  "cells": [
    {
      "cell_type": "code",
      "execution_count": null,
      "metadata": {
        "colab": {
          "base_uri": "https://localhost:8080/",
          "height": 36
        },
        "id": "bXePxc81w_VG",
        "outputId": "db3d5bd6-cac1-4776-d59c-ccd6da2c7e65"
      },
      "outputs": [
        {
          "output_type": "execute_result",
          "data": {
            "text/plain": [
              "'e'"
            ],
            "application/vnd.google.colaboratory.intrinsic+json": {
              "type": "string"
            }
          },
          "metadata": {},
          "execution_count": 1
        }
      ],
      "source": [
        "#string indexing and slicing\n",
        "# list\n",
        "\n",
        "msg=\"hello\"\n",
        "msg[1]"
      ]
    },
    {
      "cell_type": "code",
      "source": [
        "# [starting,stopping,stepsize]\n",
        "\n",
        "msg=\"jaipur\"\n",
        "msg[1:6:2]"
      ],
      "metadata": {
        "colab": {
          "base_uri": "https://localhost:8080/",
          "height": 36
        },
        "id": "hX-CzPG-zGlG",
        "outputId": "623c2b62-907f-4bc7-c770-a67e69f2a72a"
      },
      "execution_count": null,
      "outputs": [
        {
          "output_type": "execute_result",
          "data": {
            "text/plain": [
              "'apr'"
            ],
            "application/vnd.google.colaboratory.intrinsic+json": {
              "type": "string"
            }
          },
          "metadata": {},
          "execution_count": 2
        }
      ]
    },
    {
      "cell_type": "code",
      "source": [
        "msg='jaipur'\n",
        "msg[1:3]"
      ],
      "metadata": {
        "colab": {
          "base_uri": "https://localhost:8080/",
          "height": 36
        },
        "id": "F8LDWJVO0F2P",
        "outputId": "0f4ac2b1-1d4a-4f54-9b3c-fb54eccfaa77"
      },
      "execution_count": null,
      "outputs": [
        {
          "output_type": "execute_result",
          "data": {
            "text/plain": [
              "'ai'"
            ],
            "application/vnd.google.colaboratory.intrinsic+json": {
              "type": "string"
            }
          },
          "metadata": {},
          "execution_count": 3
        }
      ]
    },
    {
      "cell_type": "code",
      "source": [
        "msg=\"hey tushar\"\n",
        "msg[6:4:-1]"
      ],
      "metadata": {
        "colab": {
          "base_uri": "https://localhost:8080/",
          "height": 36
        },
        "id": "9f6YczlI1Bgi",
        "outputId": "214377fb-b0c6-4c79-8776-8d412bb29376"
      },
      "execution_count": null,
      "outputs": [
        {
          "output_type": "execute_result",
          "data": {
            "text/plain": [
              "'su'"
            ],
            "application/vnd.google.colaboratory.intrinsic+json": {
              "type": "string"
            }
          },
          "metadata": {},
          "execution_count": 5
        }
      ]
    },
    {
      "cell_type": "code",
      "source": [
        "msg=\"hey tushar\"\n",
        "msg[-1:-3:-1]"
      ],
      "metadata": {
        "colab": {
          "base_uri": "https://localhost:8080/",
          "height": 36
        },
        "id": "YMjXLIs-2DxH",
        "outputId": "58e45e52-ccf4-4fbe-9c8e-c919c038dfb8"
      },
      "execution_count": null,
      "outputs": [
        {
          "output_type": "execute_result",
          "data": {
            "text/plain": [
              "'ra'"
            ],
            "application/vnd.google.colaboratory.intrinsic+json": {
              "type": "string"
            }
          },
          "metadata": {},
          "execution_count": 6
        }
      ]
    },
    {
      "cell_type": "code",
      "source": [
        "msg[-4:-2]"
      ],
      "metadata": {
        "colab": {
          "base_uri": "https://localhost:8080/",
          "height": 36
        },
        "id": "9EgbAWn02xKP",
        "outputId": "d34a3083-eceb-4ded-ca0a-20bdd5dc09dd"
      },
      "execution_count": null,
      "outputs": [
        {
          "output_type": "execute_result",
          "data": {
            "text/plain": [
              "'sh'"
            ],
            "application/vnd.google.colaboratory.intrinsic+json": {
              "type": "string"
            }
          },
          "metadata": {},
          "execution_count": 7
        }
      ]
    },
    {
      "cell_type": "code",
      "source": [
        "# list data type\n",
        "#collection of values\n",
        "#mutable data type\n",
        "#ordered => sequence of element"
      ],
      "metadata": {
        "id": "bZWHWn022220"
      },
      "execution_count": null,
      "outputs": []
    },
    {
      "cell_type": "code",
      "source": [
        "mylist=[10,2,3,\"abc\"]\n",
        "mylist[0]"
      ],
      "metadata": {
        "colab": {
          "base_uri": "https://localhost:8080/"
        },
        "id": "B-74n_Vx5nMz",
        "outputId": "d30ad300-2a09-4508-c4e7-3588453d3216"
      },
      "execution_count": null,
      "outputs": [
        {
          "output_type": "execute_result",
          "data": {
            "text/plain": [
              "10"
            ]
          },
          "metadata": {},
          "execution_count": 8
        }
      ]
    },
    {
      "cell_type": "code",
      "source": [
        "mylist[0]=500\n",
        "print(mylist)"
      ],
      "metadata": {
        "colab": {
          "base_uri": "https://localhost:8080/"
        },
        "id": "uNFbG-gH5xGY",
        "outputId": "8920431a-a218-4761-ca64-968b7cd2929e"
      },
      "execution_count": null,
      "outputs": [
        {
          "output_type": "stream",
          "name": "stdout",
          "text": [
            "[500, 2, 3, 'abc']\n"
          ]
        }
      ]
    },
    {
      "cell_type": "code",
      "source": [
        "mylist[0:2]=[\"a\",\"b\"]\n",
        "print(mylist)"
      ],
      "metadata": {
        "colab": {
          "base_uri": "https://localhost:8080/"
        },
        "id": "R06L7W1t52XY",
        "outputId": "e3d1398a-18e7-4cbd-b015-4a4c105785d5"
      },
      "execution_count": null,
      "outputs": [
        {
          "output_type": "stream",
          "name": "stdout",
          "text": [
            "['a', 'b', 3, 'abc']\n"
          ]
        }
      ]
    },
    {
      "cell_type": "code",
      "source": [
        "mylist.append(19)\n",
        "print(mylist)\n",
        "# append add only one element"
      ],
      "metadata": {
        "colab": {
          "base_uri": "https://localhost:8080/"
        },
        "id": "eHep7Z4r5_MU",
        "outputId": "5711cef8-02c6-442d-b087-a6ab4fc5437d"
      },
      "execution_count": null,
      "outputs": [
        {
          "output_type": "stream",
          "name": "stdout",
          "text": [
            "['a', 'b', 3, 'abc', 19]\n"
          ]
        }
      ]
    },
    {
      "cell_type": "code",
      "source": [
        "mylist.extend([99,88,100])\n",
        "print(mylist)\n",
        "# extend= add multiple value"
      ],
      "metadata": {
        "colab": {
          "base_uri": "https://localhost:8080/"
        },
        "id": "o3fqTj8N6KsZ",
        "outputId": "695e2b45-635f-4260-f6af-e55ae3ccd1cc"
      },
      "execution_count": null,
      "outputs": [
        {
          "output_type": "stream",
          "name": "stdout",
          "text": [
            "['a', 'b', 3, 'abc', 19, 99, 88, 100]\n"
          ]
        }
      ]
    },
    {
      "cell_type": "code",
      "source": [
        "x=mylist.pop()\n",
        "print(mylist)"
      ],
      "metadata": {
        "colab": {
          "base_uri": "https://localhost:8080/"
        },
        "id": "_cJ4r-8A6bQM",
        "outputId": "5710f0fd-4930-4a25-9669-71221470c3c0"
      },
      "execution_count": null,
      "outputs": [
        {
          "output_type": "stream",
          "name": "stdout",
          "text": [
            "['a', 'b', 3, 'abc', 19]\n"
          ]
        }
      ]
    },
    {
      "cell_type": "code",
      "source": [
        "print(x)"
      ],
      "metadata": {
        "colab": {
          "base_uri": "https://localhost:8080/"
        },
        "id": "F5Zx6Yee68Cy",
        "outputId": "4069a806-7707-4e01-ab6e-0cf757d176ff"
      },
      "execution_count": null,
      "outputs": [
        {
          "output_type": "stream",
          "name": "stdout",
          "text": [
            "99\n"
          ]
        }
      ]
    },
    {
      "cell_type": "code",
      "source": [
        "# loop on list\n",
        "# directly\n",
        "\n",
        "for i in [10,20,4,5,\"hey\"]:\n",
        "  print(i)"
      ],
      "metadata": {
        "colab": {
          "base_uri": "https://localhost:8080/"
        },
        "id": "lIUbsMNc6_Wy",
        "outputId": "26b6f8b9-2d83-45ee-be7a-924c7430b94d"
      },
      "execution_count": null,
      "outputs": [
        {
          "output_type": "stream",
          "name": "stdout",
          "text": [
            "10\n",
            "20\n",
            "4\n",
            "5\n",
            "hey\n"
          ]
        }
      ]
    },
    {
      "cell_type": "code",
      "source": [
        "mylist=[10,20,4,5,\"hey\"]\n",
        "len(mylist)"
      ],
      "metadata": {
        "colab": {
          "base_uri": "https://localhost:8080/"
        },
        "id": "mikpO1wA7e5P",
        "outputId": "9988fedc-a628-40db-e3fb-53161d254da0"
      },
      "execution_count": null,
      "outputs": [
        {
          "output_type": "execute_result",
          "data": {
            "text/plain": [
              "5"
            ]
          },
          "metadata": {},
          "execution_count": 18
        }
      ]
    },
    {
      "cell_type": "code",
      "source": [
        "mylist=[10,20,4,5,\"hey\",88]\n",
        "for index in range(0,6):\n",
        "  print(index,mylist[index])\n"
      ],
      "metadata": {
        "colab": {
          "base_uri": "https://localhost:8080/"
        },
        "id": "rXoTltCb7kzz",
        "outputId": "9ad9e0e6-3cfc-4d61-a7a2-82cbe5f6801f"
      },
      "execution_count": null,
      "outputs": [
        {
          "output_type": "stream",
          "name": "stdout",
          "text": [
            "0 10\n",
            "1 20\n",
            "2 4\n",
            "3 5\n",
            "4 hey\n",
            "5 88\n"
          ]
        }
      ]
    },
    {
      "cell_type": "code",
      "source": [
        "mylist=[10,20,3,5,4]\n",
        "for i in mylist:\n",
        "  if i%2==0:\n",
        "    print(i)"
      ],
      "metadata": {
        "colab": {
          "base_uri": "https://localhost:8080/"
        },
        "id": "mVmYjLXb8Xi5",
        "outputId": "1ed603fb-f3b0-4674-9c36-474d58b4dad3"
      },
      "execution_count": null,
      "outputs": [
        {
          "output_type": "stream",
          "name": "stdout",
          "text": [
            "10\n",
            "20\n",
            "4\n"
          ]
        }
      ]
    },
    {
      "cell_type": "code",
      "source": [
        "mylist=[2,3,4,2.5,\"a\",\"b\"]\n",
        "for i in mylist:\n",
        "  if(type(i)==int):\n",
        "    print(i**2)"
      ],
      "metadata": {
        "colab": {
          "base_uri": "https://localhost:8080/"
        },
        "id": "T5p_G7JX9hCw",
        "outputId": "6f22c15d-3dbf-487a-fea3-f8529247f765"
      },
      "execution_count": null,
      "outputs": [
        {
          "output_type": "stream",
          "name": "stdout",
          "text": [
            "4\n",
            "9\n",
            "16\n"
          ]
        }
      ]
    },
    {
      "cell_type": "code",
      "source": [
        "mylist=[2,3,4,2.5,\"a\",\"b\"]\n",
        "list1=[]\n",
        "for i in mylist:\n",
        "  if(type(i)==int):\n",
        "    list1.append(i**2)\n",
        "print(list1)"
      ],
      "metadata": {
        "colab": {
          "base_uri": "https://localhost:8080/"
        },
        "id": "butpEbKV_sGE",
        "outputId": "c0a0dbdd-a50e-40a5-a47e-43f8fe2e350b"
      },
      "execution_count": null,
      "outputs": [
        {
          "output_type": "stream",
          "name": "stdout",
          "text": [
            "[4, 9, 16]\n"
          ]
        }
      ]
    },
    {
      "cell_type": "code",
      "source": [
        "x=11\n",
        "mylist=[10,11,12,223,101,11,11]\n",
        "for i in mylist:\n",
        "  if i is x:\n",
        "    print(\"true\")\n",
        "  else:\n",
        "    print(\"false\")"
      ],
      "metadata": {
        "colab": {
          "base_uri": "https://localhost:8080/"
        },
        "id": "OOpMBzIcAX2F",
        "outputId": "99ca96b8-73fc-42fe-ff41-58274166b591"
      },
      "execution_count": null,
      "outputs": [
        {
          "output_type": "stream",
          "name": "stdout",
          "text": [
            "false\n",
            "true\n",
            "false\n",
            "false\n",
            "false\n",
            "true\n",
            "true\n"
          ]
        }
      ]
    },
    {
      "cell_type": "code",
      "source": [
        "mylist=[10,12,223,101,11,9]\n",
        "for i in range(0,len(mylist)):\n",
        "\n",
        "  for j in range(i+1,len(mylist)):\n",
        "\n",
        "    print(mylist[i] , mylist[j])\n",
        "  print(\"----\")"
      ],
      "metadata": {
        "colab": {
          "base_uri": "https://localhost:8080/"
        },
        "id": "7jepvLoQD9fW",
        "outputId": "9ec997fe-0b2f-4e5a-9f22-76b969c3a336"
      },
      "execution_count": null,
      "outputs": [
        {
          "output_type": "stream",
          "name": "stdout",
          "text": [
            "10 12\n",
            "10 223\n",
            "10 101\n",
            "10 11\n",
            "10 9\n",
            "----\n",
            "12 223\n",
            "12 101\n",
            "12 11\n",
            "12 9\n",
            "----\n",
            "223 101\n",
            "223 11\n",
            "223 9\n",
            "----\n",
            "101 11\n",
            "101 9\n",
            "----\n",
            "11 9\n",
            "----\n",
            "----\n"
          ]
        }
      ]
    },
    {
      "cell_type": "code",
      "source": [
        "mylist=[10,10,12,223,10,101,11,9]\n",
        "x=0\n",
        "for i in range(0,len(mylist)):\n",
        "  for j in range(i+1,len(mylist)):\n",
        "    if(mylist[i]==mylist[j]):\n",
        "      x+=1\n",
        "      break\n",
        "print(\"duplicate value\")\n"
      ],
      "metadata": {
        "colab": {
          "base_uri": "https://localhost:8080/"
        },
        "id": "JJPv9ZwvF-Hq",
        "outputId": "af6ec663-cf60-4cf0-d5d7-e2d2dc0865d1"
      },
      "execution_count": null,
      "outputs": [
        {
          "output_type": "stream",
          "name": "stdout",
          "text": [
            "duplicate value\n"
          ]
        }
      ]
    },
    {
      "cell_type": "code",
      "source": [
        "list=[1,2,2,3,3,3,4,4,5,6,7]\n",
        "duplicate=[]\n",
        "\n",
        "for i in range(0,len(list)):\n",
        "\n",
        "  for j in range(i+1, len(list)):\n",
        "    if (list[i]==list[j]):\n",
        "      if list[i] not in duplicate:\n",
        "        duplicate.append(list[i])\n",
        "print(duplicate)\n",
        "\n"
      ],
      "metadata": {
        "colab": {
          "base_uri": "https://localhost:8080/"
        },
        "id": "oYkl1nRaG-AM",
        "outputId": "f3fbb6dd-8087-41d6-8134-e52a7f374684"
      },
      "execution_count": null,
      "outputs": [
        {
          "output_type": "stream",
          "name": "stdout",
          "text": [
            "[2, 3, 4]\n"
          ]
        }
      ]
    },
    {
      "cell_type": "code",
      "source": [
        "list=[10,9,8,16,2,7]\n",
        "m=list[0]\n",
        "for i in list:\n",
        "  if i > m:\n",
        "    m=i\n",
        "print(m)\n"
      ],
      "metadata": {
        "colab": {
          "base_uri": "https://localhost:8080/"
        },
        "id": "LqG-nzO_Ik9X",
        "outputId": "957671e4-56fc-4dd7-934b-277fc5bcd409"
      },
      "execution_count": null,
      "outputs": [
        {
          "output_type": "stream",
          "name": "stdout",
          "text": [
            "16\n"
          ]
        }
      ]
    }
  ]
}