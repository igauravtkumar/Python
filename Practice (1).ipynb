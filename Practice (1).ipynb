{
  "nbformat": 4,
  "nbformat_minor": 0,
  "metadata": {
    "colab": {
      "provenance": []
    },
    "kernelspec": {
      "name": "python3",
      "display_name": "Python 3"
    },
    "language_info": {
      "name": "python"
    }
  },
  "cells": [
    {
      "cell_type": "code",
      "execution_count": null,
      "metadata": {
        "colab": {
          "base_uri": "https://localhost:8080/"
        },
        "id": "sf-cNZoNaiTm",
        "outputId": "b18808ed-1476-472b-c9e8-5e40c25b9992"
      },
      "outputs": [
        {
          "output_type": "stream",
          "name": "stdout",
          "text": [
            "6 8 "
          ]
        }
      ],
      "source": [
        "# sol 6\n",
        "list=[2,4,6,8,10,12]\n",
        "for i in range(len(list)):\n",
        "  if i==len(list)//2 or i==len(list)//2-1:\n",
        "    print(list[i],end=\" \")"
      ]
    },
    {
      "cell_type": "code",
      "source": [
        "# sol 9\n",
        "list=[1,2,2,3,2,4,5]\n",
        "specific_value=2\n",
        "for i in list:\n",
        "  if i==specific_value:\n",
        "    list.remove(i)\n",
        "print(list)"
      ],
      "metadata": {
        "colab": {
          "base_uri": "https://localhost:8080/"
        },
        "id": "TnBRgpFHbLsV",
        "outputId": "8bdde88c-dec2-47d5-e280-fb4c30d0f76e"
      },
      "execution_count": null,
      "outputs": [
        {
          "output_type": "stream",
          "name": "stdout",
          "text": [
            "[1, 3, 2, 4, 5]\n"
          ]
        }
      ]
    },
    {
      "cell_type": "code",
      "source": [
        "# sol 15\n",
        "list=[1,2,3,2,1]\n",
        "new_list=[]\n",
        "list1=list.copy()\n",
        "for i in range(len(list)):\n",
        "  new_list.append(list.pop())\n",
        "if list1==new_list:\n",
        "  print(\"palindrome\")\n",
        "else:\n",
        "  print(\"not palindrome\")\n"
      ],
      "metadata": {
        "colab": {
          "base_uri": "https://localhost:8080/"
        },
        "id": "igurSGqobgiD",
        "outputId": "d050ec06-d6b2-4671-ec43-a7e5feb755ca"
      },
      "execution_count": null,
      "outputs": [
        {
          "output_type": "stream",
          "name": "stdout",
          "text": [
            "palindrome\n"
          ]
        }
      ]
    },
    {
      "cell_type": "code",
      "source": [
        "# sol 19\n",
        "list=[1,2,3,4,5]\n",
        "new_list=[]\n",
        "for i in list:\n",
        "  new_list.append(i*2)\n",
        "print(new_list)"
      ],
      "metadata": {
        "colab": {
          "base_uri": "https://localhost:8080/"
        },
        "id": "dY7YiZgZb4C3",
        "outputId": "721bb351-3e19-4f8d-ea0b-cf845db703da"
      },
      "execution_count": null,
      "outputs": [
        {
          "output_type": "stream",
          "name": "stdout",
          "text": [
            "[2, 4, 6, 8, 10]\n"
          ]
        }
      ]
    },
    {
      "cell_type": "code",
      "source": [
        "# sol 20\n",
        "list=[1,2,3,4,5]\n",
        "new_list=[]\n",
        "for i in range(len(list)-1,-1,-1):\n",
        "  new_list.append(list[i])\n",
        "print(new_list)"
      ],
      "metadata": {
        "colab": {
          "base_uri": "https://localhost:8080/"
        },
        "id": "jKs3F6TRcJHf",
        "outputId": "f4d78e86-45af-4a67-e156-242ff44db535"
      },
      "execution_count": null,
      "outputs": [
        {
          "output_type": "stream",
          "name": "stdout",
          "text": [
            "[5, 4, 3, 2, 1]\n"
          ]
        }
      ]
    },
    {
      "cell_type": "code",
      "source": [
        "# sol 17\n",
        "list=[1,2,3,3,4,3,5]\n",
        "specific_value=3\n",
        "for i in range(len(list)-1,-1,-1):\n",
        "  if list[i]==specific_value:\n",
        "    print(i)\n",
        "    break\n",
        "\n"
      ],
      "metadata": {
        "colab": {
          "base_uri": "https://localhost:8080/"
        },
        "id": "WKU2SUQ_fDiz",
        "outputId": "f259678e-d6a0-4832-a009-3e691cda4698"
      },
      "execution_count": null,
      "outputs": [
        {
          "output_type": "stream",
          "name": "stdout",
          "text": [
            "5\n"
          ]
        }
      ]
    }
  ]
}