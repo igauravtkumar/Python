{
  "nbformat": 4,
  "nbformat_minor": 0,
  "metadata": {
    "colab": {
      "provenance": []
    },
    "kernelspec": {
      "name": "python3",
      "display_name": "Python 3"
    },
    "language_info": {
      "name": "python"
    }
  },
  "cells": [
    {
      "cell_type": "code",
      "execution_count": null,
      "metadata": {
        "colab": {
          "base_uri": "https://localhost:8080/"
        },
        "id": "4KcjHl29tScI",
        "outputId": "f4c692e1-7ea1-4305-80b0-48e71e2c5e19"
      },
      "outputs": [
        {
          "output_type": "stream",
          "name": "stdout",
          "text": [
            "[1, 2, 3, 4, 5, 6]\n"
          ]
        }
      ],
      "source": [
        "#  Merge Two Sorted Lists\n",
        "def func(list1,list2):\n",
        "  i=j=0\n",
        "  merged=[]\n",
        "  while i < len(list1) and j < len(list2):\n",
        "    if list1[i] < list2[j]:\n",
        "      merged.append(list1[i])\n",
        "      i+=1\n",
        "    else:\n",
        "      merged.append(list2[j])\n",
        "      j+=1\n",
        "  merged.extend(list1[i:])\n",
        "  merged.extend(list2[j:])\n",
        "  return merged\n",
        "\n",
        "print(func([1, 2, 3], [4, 5, 6]))\n"
      ]
    },
    {
      "cell_type": "code",
      "source": [
        "# Find the Intersection\n",
        "set1={1,2,3,4}\n",
        "set2={3,4,5,6}\n",
        "print(set1.intersection(set2))"
      ],
      "metadata": {
        "colab": {
          "base_uri": "https://localhost:8080/"
        },
        "id": "JZS_HoUtvs-t",
        "outputId": "d74ed905-b7dd-4ba1-e28f-bb7f3ad675cd"
      },
      "execution_count": null,
      "outputs": [
        {
          "output_type": "stream",
          "name": "stdout",
          "text": [
            "{3, 4}\n"
          ]
        }
      ]
    },
    {
      "cell_type": "code",
      "source": [
        "# Rotate Array\n",
        "nums = [1,2,3,4,5,6,7]\n",
        "k = 3\n",
        "size1=len(nums)\n",
        "k = k%size1\n",
        "myarr=[0]*size1\n",
        "\n",
        "for index in range(len(nums)):\n",
        "  pos=(k+index)%size1\n",
        "  myarr[pos]=nums[index]\n",
        "print(myarr)\n"
      ],
      "metadata": {
        "colab": {
          "base_uri": "https://localhost:8080/"
        },
        "id": "7_iIJ-A6v068",
        "outputId": "2b34f918-d1da-48d9-9a43-d4545295a7f1"
      },
      "execution_count": null,
      "outputs": [
        {
          "output_type": "stream",
          "name": "stdout",
          "text": [
            "[5, 6, 7, 1, 2, 3, 4]\n"
          ]
        }
      ]
    },
    {
      "cell_type": "code",
      "source": [
        "nums = [1,2,3,4,5,6,7]\n",
        "k = 4\n",
        "size1=len(nums)\n",
        "k = k%size1\n",
        "myarr=[0]*size1\n",
        "\n",
        "for index in range(len(nums)):\n",
        "  pos = (k+index)%size1\n",
        "  myarr[pos]=nums[index]\n",
        "print(myarr)"
      ],
      "metadata": {
        "colab": {
          "base_uri": "https://localhost:8080/"
        },
        "id": "gLgHX5i_wzOD",
        "outputId": "5f115076-a489-4549-e837-bde3dc86e306"
      },
      "execution_count": null,
      "outputs": [
        {
          "output_type": "stream",
          "name": "stdout",
          "text": [
            "[4, 5, 6, 7, 1, 2, 3]\n"
          ]
        }
      ]
    },
    {
      "cell_type": "code",
      "source": [
        "# Find the First Non-Repeating Character\n",
        "list1=[1,2,2,3,3,1,4,5,5,6,6]\n",
        "for i in list1:\n",
        "  if list1.count(i)==1:\n",
        "    print(i)"
      ],
      "metadata": {
        "colab": {
          "base_uri": "https://localhost:8080/"
        },
        "id": "0rHyA1iHxMsG",
        "outputId": "4d387f9d-2bc2-4bb5-de39-603752fa04bb"
      },
      "execution_count": null,
      "outputs": [
        {
          "output_type": "stream",
          "name": "stdout",
          "text": [
            "4\n"
          ]
        }
      ]
    },
    {
      "cell_type": "code",
      "source": [
        "# Longest Common Prefix\n",
        "def prefix(words):\n",
        "  if not words:\n",
        "    return ' '\n",
        "  prefix=words[0]\n",
        "\n",
        "  for word in words[1:len(words)]:\n",
        "    while not word.startswith(prefix):\n",
        "      prefix=prefix[0:-1]\n",
        "      if not prefix:\n",
        "        return \" \"\n",
        "  return prefix\n",
        "\n",
        "words=['apple','apricot','apology']\n",
        "print(prefix(words))\n"
      ],
      "metadata": {
        "colab": {
          "base_uri": "https://localhost:8080/"
        },
        "id": "OXk3z6bBxeSM",
        "outputId": "b9785d3e-c8fe-47fe-a0bd-29cc812570d9"
      },
      "execution_count": null,
      "outputs": [
        {
          "output_type": "stream",
          "name": "stdout",
          "text": [
            "ap\n"
          ]
        }
      ]
    },
    {
      "cell_type": "code",
      "source": [
        "def prefix(words):\n",
        "  if not words:\n",
        "    return ' '\n",
        "  prefix=words[0]\n",
        "  for word in words:\n",
        "    while not word.startswith(prefix):\n",
        "      prefix=prefix[0:-1]\n",
        "      if not prefix:\n",
        "        return ' '\n",
        "  return prefix\n",
        "words=['apple','apricot','apology']\n",
        "print(prefix(words))"
      ],
      "metadata": {
        "colab": {
          "base_uri": "https://localhost:8080/"
        },
        "id": "h9cflwr4yYkz",
        "outputId": "a5545306-0c8c-4dbe-ea9c-4e9e5e297bf3"
      },
      "execution_count": null,
      "outputs": [
        {
          "output_type": "stream",
          "name": "stdout",
          "text": [
            "ap\n"
          ]
        }
      ]
    },
    {
      "cell_type": "code",
      "source": [
        "# Two Sum\n",
        "nums = [2,7,11,15]\n",
        "target=9\n",
        "mydict={}\n",
        "for value , key in enumerate(nums):\n",
        "  if target-key in mydict and mydict[target-key]!=value:\n",
        "    print(mydict[target-key],value)\n",
        "  mydict[key]=value\n"
      ],
      "metadata": {
        "colab": {
          "base_uri": "https://localhost:8080/"
        },
        "id": "gu11jDTUyy6B",
        "outputId": "16bea0ea-31f0-4073-af50-9776b86c42e9"
      },
      "execution_count": null,
      "outputs": [
        {
          "output_type": "stream",
          "name": "stdout",
          "text": [
            "0 1\n"
          ]
        }
      ]
    },
    {
      "cell_type": "code",
      "source": [
        "# Two Sum\n",
        "nums = [2,7,11,15]\n",
        "target=18\n",
        "\n",
        "mydict={}\n",
        "for value , key in enumerate(nums):\n",
        "  if target-key in mydict and mydict[target-key]!=value:\n",
        "    print(mydict[target-key],value)\n",
        "  mydict[key]=value"
      ],
      "metadata": {
        "colab": {
          "base_uri": "https://localhost:8080/"
        },
        "id": "a4ozKm8bzqBA",
        "outputId": "3a13c9a1-4923-46a5-8595-746c54446c77"
      },
      "execution_count": null,
      "outputs": [
        {
          "output_type": "stream",
          "name": "stdout",
          "text": [
            "1 2\n"
          ]
        }
      ]
    }
  ]
}