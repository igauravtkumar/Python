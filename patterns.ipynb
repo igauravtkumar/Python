{
  "nbformat": 4,
  "nbformat_minor": 0,
  "metadata": {
    "colab": {
      "provenance": []
    },
    "kernelspec": {
      "name": "python3",
      "display_name": "Python 3"
    },
    "language_info": {
      "name": "python"
    }
  },
  "cells": [
    {
      "cell_type": "code",
      "execution_count": null,
      "metadata": {
        "colab": {
          "base_uri": "https://localhost:8080/"
        },
        "id": "k0W1nCT2sT1i",
        "outputId": "3b4dfc43-60c8-4c26-ea63-445078caa698"
      },
      "outputs": [
        {
          "output_type": "stream",
          "name": "stdout",
          "text": [
            "<class 'int'>\n",
            "133718281699856\n"
          ]
        }
      ],
      "source": [
        "a=10\n",
        "print(type(a))\n",
        "print(id(a))"
      ]
    },
    {
      "cell_type": "code",
      "source": [
        "num=a\n",
        "print(id(num))\n",
        "num=20\n",
        "print(id(num), \"a:\" , id(a))"
      ],
      "metadata": {
        "colab": {
          "base_uri": "https://localhost:8080/"
        },
        "id": "wOx_awSMsdn3",
        "outputId": "23d81f06-64ee-4e66-9ed1-dfa55974fbf0"
      },
      "execution_count": null,
      "outputs": [
        {
          "output_type": "stream",
          "name": "stdout",
          "text": [
            "133718281699856\n",
            "133718281700176 a: 133718281699856\n"
          ]
        }
      ]
    },
    {
      "cell_type": "code",
      "source": [
        "a=500\n",
        "x=a\n",
        "x is a\n",
        "x==a"
      ],
      "metadata": {
        "colab": {
          "base_uri": "https://localhost:8080/"
        },
        "id": "hV5t3U8BtXHm",
        "outputId": "c62b8d0f-2daa-4a2f-81ba-4babdc2c665b"
      },
      "execution_count": null,
      "outputs": [
        {
          "output_type": "execute_result",
          "data": {
            "text/plain": [
              "True"
            ]
          },
          "metadata": {},
          "execution_count": 7
        }
      ]
    },
    {
      "cell_type": "code",
      "source": [
        "a=500\n",
        "x=500\n",
        "print(id(a), id(x))\n",
        "x is a\n"
      ],
      "metadata": {
        "colab": {
          "base_uri": "https://localhost:8080/"
        },
        "id": "2mB-bVtytdKu",
        "outputId": "42148267-76ec-4a47-f67e-7dc278548f8f"
      },
      "execution_count": null,
      "outputs": [
        {
          "output_type": "stream",
          "name": "stdout",
          "text": [
            "133717852853232 133717852861904\n"
          ]
        },
        {
          "output_type": "execute_result",
          "data": {
            "text/plain": [
              "False"
            ]
          },
          "metadata": {},
          "execution_count": 9
        }
      ]
    },
    {
      "cell_type": "code",
      "source": [
        "for row in range(1,5):\n",
        "  for col in range(1,row+1):\n",
        "    print(\"*\",end=\" \")\n",
        "  print()"
      ],
      "metadata": {
        "colab": {
          "base_uri": "https://localhost:8080/"
        },
        "id": "y6DqLjUgvBz5",
        "outputId": "042f6902-5ab5-4285-b566-cf3328b77e6e"
      },
      "execution_count": null,
      "outputs": [
        {
          "output_type": "stream",
          "name": "stdout",
          "text": [
            "* \n",
            "* * \n",
            "* * * \n",
            "* * * * \n"
          ]
        }
      ]
    },
    {
      "cell_type": "code",
      "source": [
        "for row in range(1,4):\n",
        "  for col in range(1,4):\n",
        "    print(row,end=\" \")\n",
        "  print()"
      ],
      "metadata": {
        "colab": {
          "base_uri": "https://localhost:8080/"
        },
        "id": "FM877wonv0qQ",
        "outputId": "e4e56f6e-2476-40b6-a83b-982c15d5c51e"
      },
      "execution_count": null,
      "outputs": [
        {
          "output_type": "stream",
          "name": "stdout",
          "text": [
            "1 1 1 \n",
            "2 2 2 \n",
            "3 3 3 \n"
          ]
        }
      ]
    },
    {
      "cell_type": "code",
      "source": [
        "for row in range(1,4):\n",
        "  for col in range(1,5):\n",
        "    print(col,end=\" \")\n",
        "  print()"
      ],
      "metadata": {
        "colab": {
          "base_uri": "https://localhost:8080/"
        },
        "id": "sLWImi6txuDS",
        "outputId": "0abda641-4c89-4d81-80f6-af9866ec7326"
      },
      "execution_count": 39,
      "outputs": [
        {
          "output_type": "stream",
          "name": "stdout",
          "text": [
            "1 2 3 4 \n",
            "1 2 3 4 \n",
            "1 2 3 4 \n"
          ]
        }
      ]
    },
    {
      "cell_type": "code",
      "source": [
        "for row in range(1,5):\n",
        "  for col in range(4,0,-1):\n",
        "    print(row,end=\" \")\n",
        "  print()"
      ],
      "metadata": {
        "id": "suGj3Al0ytxN",
        "colab": {
          "base_uri": "https://localhost:8080/"
        },
        "outputId": "4127ba8a-11c4-4f08-ad5d-d2595377447c"
      },
      "execution_count": null,
      "outputs": [
        {
          "output_type": "stream",
          "name": "stdout",
          "text": [
            "1 1 1 1 \n",
            "2 2 2 2 \n",
            "3 3 3 3 \n",
            "4 4 4 4 \n"
          ]
        }
      ]
    },
    {
      "cell_type": "code",
      "source": [
        "for row in range(4,0,-1):\n",
        "  for col in range(4,0,-1):\n",
        "    print(row,end=\" \")\n",
        "  print()"
      ],
      "metadata": {
        "colab": {
          "base_uri": "https://localhost:8080/"
        },
        "id": "vjwSIn1ZEdAP",
        "outputId": "a0b33292-6a66-40c9-c5a2-39c138deeb9a"
      },
      "execution_count": null,
      "outputs": [
        {
          "output_type": "stream",
          "name": "stdout",
          "text": [
            "4 4 4 4 \n",
            "3 3 3 3 \n",
            "2 2 2 2 \n",
            "1 1 1 1 \n"
          ]
        }
      ]
    },
    {
      "cell_type": "code",
      "source": [
        "n=1\n",
        "for row in range(1,5):\n",
        "  for col in range(row):\n",
        "    print(n,end=\" \")\n",
        "    n+=1\n",
        "  print()"
      ],
      "metadata": {
        "colab": {
          "base_uri": "https://localhost:8080/"
        },
        "id": "UjhqP-vWEmGp",
        "outputId": "275eda57-1907-4482-ec51-174fd3b1e006"
      },
      "execution_count": null,
      "outputs": [
        {
          "output_type": "stream",
          "name": "stdout",
          "text": [
            "1 \n",
            "2 3 \n",
            "4 5 6 \n",
            "7 8 9 10 \n"
          ]
        }
      ]
    },
    {
      "cell_type": "code",
      "source": [
        "for row in range(10,14):\n",
        "  for col in range(10,14):\n",
        "    print(col,end=\" \")\n",
        "  print()"
      ],
      "metadata": {
        "colab": {
          "base_uri": "https://localhost:8080/"
        },
        "id": "wLDP2TBUFj-N",
        "outputId": "7c4ef773-ba6d-4c8b-8582-a191b3760bf4"
      },
      "execution_count": null,
      "outputs": [
        {
          "output_type": "stream",
          "name": "stdout",
          "text": [
            "10 11 12 13 \n",
            "10 11 12 13 \n",
            "10 11 12 13 \n",
            "10 11 12 13 \n"
          ]
        }
      ]
    },
    {
      "cell_type": "code",
      "source": [
        "for row in range(1,5):\n",
        "  for col in range(1,row+1):\n",
        "    print(\"1\",end=\" \")\n",
        "  print()"
      ],
      "metadata": {
        "colab": {
          "base_uri": "https://localhost:8080/"
        },
        "id": "RkNa7Dp5FxZw",
        "outputId": "b17f604e-8700-476a-f61e-d2f67f6db208"
      },
      "execution_count": null,
      "outputs": [
        {
          "output_type": "stream",
          "name": "stdout",
          "text": [
            "1 \n",
            "1 1 \n",
            "1 1 1 \n",
            "1 1 1 1 \n"
          ]
        }
      ]
    },
    {
      "cell_type": "code",
      "source": [
        "for i in range(1,5):\n",
        "  for j in range(5,i,-1):\n",
        "    print(\"*\",end=\" \")\n",
        "  print()"
      ],
      "metadata": {
        "colab": {
          "base_uri": "https://localhost:8080/"
        },
        "id": "VIHcD-dnGeZ-",
        "outputId": "4f4a422a-d978-4937-866d-7f4476323c24"
      },
      "execution_count": null,
      "outputs": [
        {
          "output_type": "stream",
          "name": "stdout",
          "text": [
            "* * * * \n",
            "* * * \n",
            "* * \n",
            "* \n"
          ]
        }
      ]
    },
    {
      "cell_type": "code",
      "source": [
        "\n",
        "for i in range(4,0,-1):\n",
        "  for j in range(i):\n",
        "    print(i,end=\" \")\n",
        "  print()"
      ],
      "metadata": {
        "colab": {
          "base_uri": "https://localhost:8080/"
        },
        "id": "GFLOvJs-HuMw",
        "outputId": "3f61fa61-9ee7-4725-e900-a3ce2c096e1a"
      },
      "execution_count": null,
      "outputs": [
        {
          "output_type": "stream",
          "name": "stdout",
          "text": [
            "4 4 4 4 \n",
            "3 3 3 \n",
            "2 2 \n",
            "1 \n"
          ]
        }
      ]
    },
    {
      "cell_type": "code",
      "source": [
        "for i in range(5,0,-1):\n",
        "  for j in range(1,i):\n",
        "    print(j,end=\" \")\n",
        "  print()"
      ],
      "metadata": {
        "colab": {
          "base_uri": "https://localhost:8080/"
        },
        "id": "PneXkzF3J3Qc",
        "outputId": "0c0f2d3c-48cd-40f4-d898-9a89788aa65c"
      },
      "execution_count": null,
      "outputs": [
        {
          "output_type": "stream",
          "name": "stdout",
          "text": [
            "1 2 3 4 \n",
            "1 2 3 \n",
            "1 2 \n",
            "1 \n",
            "\n"
          ]
        }
      ]
    },
    {
      "cell_type": "code",
      "source": [
        "n=1\n",
        "for i in range(4,0,-1):\n",
        "  for j in range(i):\n",
        "    print(n,end=\" \")\n",
        "    n+=1\n",
        "  print()"
      ],
      "metadata": {
        "colab": {
          "base_uri": "https://localhost:8080/"
        },
        "id": "Z6LUdZ_CKe4E",
        "outputId": "8a0e81bf-0075-40ec-9109-df830b9b2e00"
      },
      "execution_count": null,
      "outputs": [
        {
          "output_type": "stream",
          "name": "stdout",
          "text": [
            "1 2 3 4 \n",
            "5 6 7 \n",
            "8 9 \n",
            "10 \n"
          ]
        }
      ]
    },
    {
      "cell_type": "code",
      "source": [
        "for i in range(11,6,-1):\n",
        "  for j in range(7,i):\n",
        "    print(j,end=\" \")\n",
        "  print()"
      ],
      "metadata": {
        "colab": {
          "base_uri": "https://localhost:8080/"
        },
        "id": "Scx5PkutKziC",
        "outputId": "488e70c9-2d3b-4860-acf9-fad09334f8f8"
      },
      "execution_count": null,
      "outputs": [
        {
          "output_type": "stream",
          "name": "stdout",
          "text": [
            "7 8 9 10 \n",
            "7 8 9 \n",
            "7 8 \n",
            "7 \n",
            "\n"
          ]
        }
      ]
    },
    {
      "cell_type": "code",
      "source": [
        "for row in range(5,2,-1):\n",
        "  for x in range(2,row):\n",
        "    print(\"$\",end=\" \")\n",
        "  print()"
      ],
      "metadata": {
        "id": "LCn2ih-cLdWL",
        "colab": {
          "base_uri": "https://localhost:8080/"
        },
        "outputId": "eac03048-af58-453e-b581-94064ec4a680"
      },
      "execution_count": 3,
      "outputs": [
        {
          "output_type": "stream",
          "name": "stdout",
          "text": [
            "$ $ $ \n",
            "$ $ \n",
            "$ \n"
          ]
        }
      ]
    },
    {
      "cell_type": "code",
      "source": [
        "n=4\n",
        "for row in range(1,n+1):\n",
        "  for x in range(row,n+1):\n",
        "    print(\"$\",end=\" \")\n",
        "  print()"
      ],
      "metadata": {
        "colab": {
          "base_uri": "https://localhost:8080/"
        },
        "id": "j2wgns2kpaYj",
        "outputId": "a3bb4fbb-194b-4972-c055-126c42d76367"
      },
      "execution_count": 4,
      "outputs": [
        {
          "output_type": "stream",
          "name": "stdout",
          "text": [
            "$ $ $ $ \n",
            "$ $ $ \n",
            "$ $ \n",
            "$ \n"
          ]
        }
      ]
    },
    {
      "cell_type": "code",
      "source": [
        "n=4\n",
        "num=4\n",
        "for row in range(1,n+1):\n",
        "  for x in range(row,n+1):\n",
        "    print(num,end=\" \")\n",
        "  num-=1\n",
        "  print()"
      ],
      "metadata": {
        "colab": {
          "base_uri": "https://localhost:8080/"
        },
        "id": "TFBc1JPAqczU",
        "outputId": "763deefa-a866-4e11-da80-774829a3c645"
      },
      "execution_count": 5,
      "outputs": [
        {
          "output_type": "stream",
          "name": "stdout",
          "text": [
            "4 4 4 4 \n",
            "3 3 3 \n",
            "2 2 \n",
            "1 \n"
          ]
        }
      ]
    },
    {
      "cell_type": "code",
      "source": [
        "n=4\n",
        "for row in range(1,n+1):\n",
        "  num=65\n",
        "  for x in range(row,n+1):\n",
        "    print(chr(num),end=\" \")\n",
        "    num+=1\n",
        "  print()\n"
      ],
      "metadata": {
        "colab": {
          "base_uri": "https://localhost:8080/"
        },
        "id": "jA0ObtUrrSGv",
        "outputId": "3e9aa3d0-e930-4a16-bb54-115568a3e505"
      },
      "execution_count": 8,
      "outputs": [
        {
          "output_type": "stream",
          "name": "stdout",
          "text": [
            "A B C D \n",
            "A B C \n",
            "A B \n",
            "A \n"
          ]
        }
      ]
    },
    {
      "cell_type": "code",
      "source": [
        "ord(\"A\")\n",
        "# ord to print ascii value\n"
      ],
      "metadata": {
        "colab": {
          "base_uri": "https://localhost:8080/"
        },
        "id": "N0JeC3yEsrj-",
        "outputId": "21c35360-b4b5-492e-dfd9-e0fdadcec4f0"
      },
      "execution_count": 11,
      "outputs": [
        {
          "output_type": "execute_result",
          "data": {
            "text/plain": [
              "65"
            ]
          },
          "metadata": {},
          "execution_count": 11
        }
      ]
    },
    {
      "cell_type": "code",
      "source": [
        "#chr to print character based on ascii value\n",
        "chr(65)"
      ],
      "metadata": {
        "colab": {
          "base_uri": "https://localhost:8080/",
          "height": 36
        },
        "id": "Jx6ldJVJs7Zg",
        "outputId": "aedd2d26-6551-4e6c-8429-51d4b088352a"
      },
      "execution_count": 12,
      "outputs": [
        {
          "output_type": "execute_result",
          "data": {
            "text/plain": [
              "'A'"
            ],
            "application/vnd.google.colaboratory.intrinsic+json": {
              "type": "string"
            }
          },
          "metadata": {},
          "execution_count": 12
        }
      ]
    },
    {
      "cell_type": "code",
      "source": [
        "n=4\n",
        "num=20\n",
        "for row in range(1,n):\n",
        "  for x in range(row,n+1):\n",
        "    print(num,end=\" \")\n",
        "    num+=1\n",
        "  print()\n",
        "\n"
      ],
      "metadata": {
        "colab": {
          "base_uri": "https://localhost:8080/"
        },
        "id": "oHVDG1ZftQNW",
        "outputId": "15972bd8-9dd2-43b7-cb49-205e497e2747"
      },
      "execution_count": 20,
      "outputs": [
        {
          "output_type": "stream",
          "name": "stdout",
          "text": [
            "20 21 22 23 \n",
            "24 25 26 \n",
            "27 28 \n"
          ]
        }
      ]
    },
    {
      "cell_type": "code",
      "source": [
        "n=4\n",
        "num=68\n",
        "for row in range(1,n+1):\n",
        "  for x in range(1,row+1):\n",
        "    print(chr(num),end=\" \")\n",
        "    num+=1\n",
        "  print()"
      ],
      "metadata": {
        "colab": {
          "base_uri": "https://localhost:8080/"
        },
        "id": "07iAY3i-uL8-",
        "outputId": "717b3a58-8fd5-4272-c32d-070afd958735"
      },
      "execution_count": 24,
      "outputs": [
        {
          "output_type": "stream",
          "name": "stdout",
          "text": [
            "D \n",
            "E F \n",
            "G H I \n",
            "J K L M \n"
          ]
        }
      ]
    },
    {
      "cell_type": "code",
      "source": [
        "n=4\n",
        "num=90\n",
        "for row in range(1,n):\n",
        "  for x in range(row,n):\n",
        "    print(chr(num),end=\" \")\n",
        "  num-=1\n",
        "  print()"
      ],
      "metadata": {
        "colab": {
          "base_uri": "https://localhost:8080/"
        },
        "id": "2drH8P9ZuzD_",
        "outputId": "ffe5fd5e-ee4d-4def-c276-77c88dfc3fe4"
      },
      "execution_count": 27,
      "outputs": [
        {
          "output_type": "stream",
          "name": "stdout",
          "text": [
            "Z Z Z \n",
            "Y Y \n",
            "X \n"
          ]
        }
      ]
    },
    {
      "cell_type": "code",
      "source": [
        "n=4\n",
        "num=4\n",
        "for row in range(1,n):\n",
        "  for x in range(1,row+1):\n",
        "    print(num,end=\" \")\n",
        "    num+=2\n",
        "  print()"
      ],
      "metadata": {
        "colab": {
          "base_uri": "https://localhost:8080/"
        },
        "id": "V3ivf73jvQk1",
        "outputId": "53ce3f31-b9f1-4825-8cbf-d3716941a399"
      },
      "execution_count": 28,
      "outputs": [
        {
          "output_type": "stream",
          "name": "stdout",
          "text": [
            "4 \n",
            "6 8 \n",
            "10 12 14 \n"
          ]
        }
      ]
    },
    {
      "cell_type": "code",
      "source": [
        "n=4\n",
        "num=2\n",
        "for row in range(1,n):\n",
        "  for x in range(row,n+1):\n",
        "    print(num,end=\" \")\n",
        "    num*=2\n",
        "  print()"
      ],
      "metadata": {
        "colab": {
          "base_uri": "https://localhost:8080/"
        },
        "id": "ErRyRRzSvzsZ",
        "outputId": "e5377449-e5dd-4f7c-b30f-25ee58f4515c"
      },
      "execution_count": 29,
      "outputs": [
        {
          "output_type": "stream",
          "name": "stdout",
          "text": [
            "2 4 8 16 \n",
            "32 64 128 \n",
            "256 512 \n"
          ]
        }
      ]
    },
    {
      "cell_type": "code",
      "source": [
        "n=4\n",
        "for row in range(1,n):\n",
        "  for x in range(1,row+1):\n",
        "    print(\"*\",end=\" \")\n",
        "  print()\n",
        "for row in range(1,n+1):\n",
        "  for x in range(row,n+1):\n",
        "    print(\"*\",end=\" \")\n",
        "  print()"
      ],
      "metadata": {
        "colab": {
          "base_uri": "https://localhost:8080/"
        },
        "id": "Nv7JF3qZwj0p",
        "outputId": "fc08423a-be1f-4955-9a23-5d0316705616"
      },
      "execution_count": 35,
      "outputs": [
        {
          "output_type": "stream",
          "name": "stdout",
          "text": [
            "* \n",
            "* * \n",
            "* * * \n",
            "* * * * \n",
            "* * * \n",
            "* * \n",
            "* \n"
          ]
        }
      ]
    },
    {
      "cell_type": "code",
      "source": [
        "n=4\n",
        "for row in range(1,n):\n",
        "  for x in range(row,n+1):\n",
        "    print(\"*\",end=\" \")\n",
        "  print()\n",
        "\n",
        "for row in range(1,n+1):\n",
        "  for x in range(1,row+1):\n",
        "    print(\"*\",end=\" \")\n",
        "  print()"
      ],
      "metadata": {
        "colab": {
          "base_uri": "https://localhost:8080/"
        },
        "id": "Fa2KaJAt-1tr",
        "outputId": "e202a0ee-63a8-49ef-d7c2-a63a1cc5e084"
      },
      "execution_count": 37,
      "outputs": [
        {
          "output_type": "stream",
          "name": "stdout",
          "text": [
            "* * * * \n",
            "* * * \n",
            "* * \n",
            "* \n",
            "* * \n",
            "* * * \n",
            "* * * * \n"
          ]
        }
      ]
    },
    {
      "cell_type": "code",
      "source": [],
      "metadata": {
        "id": "pG5FrhN-_g3P"
      },
      "execution_count": null,
      "outputs": []
    }
  ]
}