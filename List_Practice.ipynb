{
  "nbformat": 4,
  "nbformat_minor": 0,
  "metadata": {
    "colab": {
      "provenance": []
    },
    "kernelspec": {
      "name": "python3",
      "display_name": "Python 3"
    },
    "language_info": {
      "name": "python"
    }
  },
  "cells": [
    {
      "cell_type": "code",
      "execution_count": 1,
      "metadata": {
        "colab": {
          "base_uri": "https://localhost:8080/"
        },
        "id": "sA-rVwk8SpGV",
        "outputId": "fa8b48eb-9ead-425b-aba3-0cbc4ef6c8e2"
      },
      "outputs": [
        {
          "output_type": "stream",
          "name": "stdout",
          "text": [
            "2510\n"
          ]
        }
      ],
      "source": [
        "# 1> find digits in string ?\n",
        "str1 = 'I am 25 years and 10 months old'\n",
        "integer=\"\"\n",
        "for i in str1:\n",
        "  if i.isdigit():\n",
        "    integer+=i\n",
        "print(integer)"
      ]
    },
    {
      "cell_type": "code",
      "source": [
        "# 2> Pair list ?\n",
        "first_list = [2, 3, 4, 5, 6, 7, 8]\n",
        "second_list = [4, 9, 16, 25, 36, 49, 64]\n",
        "pair_set=set(zip(first_list,second_list))\n",
        "print(pair_set)"
      ],
      "metadata": {
        "colab": {
          "base_uri": "https://localhost:8080/"
        },
        "id": "XwZacRdiS4uH",
        "outputId": "8bfe38c9-8cc4-4382-ebf9-3ab8a3a1db0e"
      },
      "execution_count": 2,
      "outputs": [
        {
          "output_type": "stream",
          "name": "stdout",
          "text": [
            "{(7, 49), (2, 4), (4, 16), (8, 64), (6, 36), (3, 9), (5, 25)}\n"
          ]
        }
      ]
    },
    {
      "cell_type": "code",
      "source": [
        "# 3> sorted list\n",
        "list=[4,5,6,7,8,9]\n",
        "list.sort(reverse=True)\n",
        "print(list)"
      ],
      "metadata": {
        "colab": {
          "base_uri": "https://localhost:8080/"
        },
        "id": "M3spGKcpTDI-",
        "outputId": "00a40c66-b53e-489d-b3eb-8cec14e6e096"
      },
      "execution_count": 3,
      "outputs": [
        {
          "output_type": "stream",
          "name": "stdout",
          "text": [
            "[9, 8, 7, 6, 5, 4]\n"
          ]
        }
      ]
    },
    {
      "cell_type": "code",
      "source": [
        "# 4> copy list\n",
        "list1=[1,2,36,4,5]\n",
        "list2=list1.copy()\n",
        "print(list2)"
      ],
      "metadata": {
        "colab": {
          "base_uri": "https://localhost:8080/"
        },
        "id": "Y9e32s-8TI4y",
        "outputId": "f5f2cc2b-7a63-467d-96ec-48e4be3ab450"
      },
      "execution_count": 4,
      "outputs": [
        {
          "output_type": "stream",
          "name": "stdout",
          "text": [
            "[1, 2, 36, 4, 5]\n"
          ]
        }
      ]
    },
    {
      "cell_type": "code",
      "source": [
        "# 5> Find small number in list ?\n",
        "list1=[34,54,65,76,2,45]\n",
        "small_num=list1[0]\n",
        "for i in list1:\n",
        "  if i<small_num:\n",
        "    small_num=i\n",
        "print(small_num)"
      ],
      "metadata": {
        "colab": {
          "base_uri": "https://localhost:8080/"
        },
        "id": "7ZaB20w6TQLt",
        "outputId": "21b46616-e66f-44a0-b1b8-3e2a50feeb7e"
      },
      "execution_count": 5,
      "outputs": [
        {
          "output_type": "stream",
          "name": "stdout",
          "text": [
            "2\n"
          ]
        }
      ]
    },
    {
      "cell_type": "code",
      "source": [
        "# 6> Sum of list\n",
        "list1=[1,2,3,4,5]\n",
        "sum=0\n",
        "for i in list1:\n",
        "  sum+=i\n",
        "print(sum)"
      ],
      "metadata": {
        "colab": {
          "base_uri": "https://localhost:8080/"
        },
        "id": "QYI9IL8jTXzK",
        "outputId": "af8ed7cf-9805-45f0-b379-26c882433857"
      },
      "execution_count": 6,
      "outputs": [
        {
          "output_type": "stream",
          "name": "stdout",
          "text": [
            "15\n"
          ]
        }
      ]
    },
    {
      "cell_type": "code",
      "source": [
        "# 7> Multiply list?\n",
        "list1=[1,3,4,5]\n",
        "fact=1\n",
        "for i in list1:\n",
        "  fact=fact*i\n",
        "print(fact)"
      ],
      "metadata": {
        "colab": {
          "base_uri": "https://localhost:8080/"
        },
        "id": "3zWmpfanTePm",
        "outputId": "048b5124-8819-417f-ea40-3e247c0163fa"
      },
      "execution_count": 7,
      "outputs": [
        {
          "output_type": "stream",
          "name": "stdout",
          "text": [
            "60\n"
          ]
        }
      ]
    },
    {
      "cell_type": "code",
      "source": [
        "# 8> largest number of list ?\n",
        "list1=[34,54,65,76,2,45]\n",
        "large_num=list1[0]\n",
        "for i in list1:\n",
        "  if i>large_num:\n",
        "    large_num=i\n",
        "print(large_num)"
      ],
      "metadata": {
        "colab": {
          "base_uri": "https://localhost:8080/"
        },
        "id": "sQL7hIsRTkEv",
        "outputId": "4fa71e38-4991-4c61-fe68-7741754dec2b"
      },
      "execution_count": 8,
      "outputs": [
        {
          "output_type": "stream",
          "name": "stdout",
          "text": [
            "76\n"
          ]
        }
      ]
    },
    {
      "cell_type": "code",
      "source": [
        "# 9 Write a Python program to get a list, sorted in increasing order by the last element in each tuple from a given list of non-empty tuples.\n",
        "sample_list =[(2, 5), (1, 2), (4, 4), (2, 3), (2, 1)]\n",
        "sorted_list=sorted(sample_list,key=lambda x:x[-1])\n",
        "print(sorted_list)"
      ],
      "metadata": {
        "colab": {
          "base_uri": "https://localhost:8080/"
        },
        "id": "bj4eSB-_TtSV",
        "outputId": "0e0597f8-35a1-4633-b492-1eab9c65a9b3"
      },
      "execution_count": 9,
      "outputs": [
        {
          "output_type": "stream",
          "name": "stdout",
          "text": [
            "[(2, 1), (1, 2), (2, 3), (4, 4), (2, 5)]\n"
          ]
        }
      ]
    },
    {
      "cell_type": "code",
      "source": [
        "# 10 Write a Python program to remove duplicates from a list.\n",
        "list1=[1,2,2,3,3,4,5,5,6,6,6]\n",
        "newlist=[]\n",
        "for i in list1:\n",
        "  if i not in newlist:\n",
        "    newlist.append(i)\n",
        "print(newlist)"
      ],
      "metadata": {
        "colab": {
          "base_uri": "https://localhost:8080/"
        },
        "id": "I6K3nIocTy0q",
        "outputId": "6e15d39a-b03f-4994-9198-d1168a5f2edb"
      },
      "execution_count": 10,
      "outputs": [
        {
          "output_type": "stream",
          "name": "stdout",
          "text": [
            "[1, 2, 3, 4, 5, 6]\n"
          ]
        }
      ]
    },
    {
      "cell_type": "code",
      "source": [
        "# 11 Write a Python program to check if a list is empty or not.\n",
        "list=[]\n",
        "if not  list:\n",
        "  print(\"list is empty\")"
      ],
      "metadata": {
        "colab": {
          "base_uri": "https://localhost:8080/"
        },
        "id": "MpDnW31rT4W5",
        "outputId": "e89226e2-fde3-49e3-d622-7857019c2424"
      },
      "execution_count": 11,
      "outputs": [
        {
          "output_type": "stream",
          "name": "stdout",
          "text": [
            "list is empty\n"
          ]
        }
      ]
    },
    {
      "cell_type": "code",
      "source": [
        "# 12 Write a Python program to find the list of words that are longer than n from a given list of words.\n",
        "words=[\"the\",\"orange\",\"fox\",\"banana\"]\n",
        "n=5\n",
        "long_word=[word for word in words if len(word)>n]\n",
        "print(long_word)"
      ],
      "metadata": {
        "colab": {
          "base_uri": "https://localhost:8080/"
        },
        "id": "-qSd2qfST9zm",
        "outputId": "a1654a12-ca9c-4e3e-dea9-b9b6cb9f0f5d"
      },
      "execution_count": 12,
      "outputs": [
        {
          "output_type": "stream",
          "name": "stdout",
          "text": [
            "['orange', 'banana']\n"
          ]
        }
      ]
    },
    {
      "cell_type": "code",
      "source": [
        "# 13> Write a Python function that takes two lists and returns True if they have at least one common member.\n",
        "list1=[1,2,3,4,5]\n",
        "list2=[23,6,7,8,9]\n",
        "result=False\n",
        "for i in list1:\n",
        "  for j in list2:\n",
        "    if i==j:\n",
        "      result=True\n",
        "print(result)"
      ],
      "metadata": {
        "id": "T624GxaUUNd6",
        "outputId": "a6fa0300-1316-4480-d979-b1a66c23aa5f",
        "colab": {
          "base_uri": "https://localhost:8080/"
        }
      },
      "execution_count": 13,
      "outputs": [
        {
          "output_type": "stream",
          "name": "stdout",
          "text": [
            "False\n"
          ]
        }
      ]
    }
  ]
}