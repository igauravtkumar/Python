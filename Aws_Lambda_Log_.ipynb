{
  "nbformat": 4,
  "nbformat_minor": 0,
  "metadata": {
    "colab": {
      "provenance": []
    },
    "kernelspec": {
      "name": "python3",
      "display_name": "Python 3"
    },
    "language_info": {
      "name": "python"
    }
  },
  "cells": [
    {
      "cell_type": "code",
      "execution_count": null,
      "metadata": {
        "id": "bR8NJPLMSBqD"
      },
      "outputs": [],
      "source": [
        "x = {'Records': [{'eventVersion': '2.1', 'eventSource': 'aws:s3', 'awsRegion': 'ap-south-1', 'eventTime': '2025-05-12T06:52:35.735Z', 'eventName': 'ObjectCreated:Put',\n",
        "                  'userIdentity': {'principalId': 'A10CQ1ZB95INCO'}, 'requestParameters': {'sourceIPAddress': '157.48.100.92'},\n",
        "                  'responseElements': {'x-amz-request-id': 'HAH179QG24G310MF',\n",
        "                  'x-amz-id-2': 'dD5+4SG231KTMxH6zHbbumVRlxo+RP/KxH2oUrlJr6ujQpL35PStd4OJBaTP1P+vTiCh9iENQtAovhtlXB12B+nPuNYvainE'},\n",
        "                  's3': {'s3SchemaVersion': '1.0', 'configurationId': 'be4630e6-81a8-4d2b-916c-9620d5f54705',\n",
        "                         'bucket': {'name': 'kourav001', 'ownerIdentity': {'principalId': 'A10CQ1ZB95INCO'},\n",
        "                                    'arn': 'arn:aws:s3:::kourav001'}, 'object': {'key': 'Practice_for_Logistic_Regression_.ipynb',\n",
        "                                                                                 'size': 63132, 'eTag': 'f95a8963497503038b4332ebd20d3708', 'sequencer': '0068219AB3A1A5B1DE'}}}]}"
      ]
    },
    {
      "cell_type": "code",
      "source": [
        "print(x[\"Records\"][0][\"awsRegion\"])"
      ],
      "metadata": {
        "colab": {
          "base_uri": "https://localhost:8080/"
        },
        "id": "FZhXp6BDS2hF",
        "outputId": "952e87b7-3f48-45b2-eb8b-5336f4ba0e39"
      },
      "execution_count": null,
      "outputs": [
        {
          "output_type": "stream",
          "name": "stdout",
          "text": [
            "ap-south-1\n"
          ]
        }
      ]
    },
    {
      "cell_type": "code",
      "source": [
        "print(x[\"Records\"][0][\"eventSource\"])"
      ],
      "metadata": {
        "colab": {
          "base_uri": "https://localhost:8080/"
        },
        "id": "sCMBqOGMWRHf",
        "outputId": "636ab6a8-bea8-4420-e41e-001e63e7291c"
      },
      "execution_count": null,
      "outputs": [
        {
          "output_type": "stream",
          "name": "stdout",
          "text": [
            "aws:s3\n"
          ]
        }
      ]
    },
    {
      "cell_type": "code",
      "source": [
        "print(x[\"Records\"][0][\"s3\"][\"object\"]['key'])"
      ],
      "metadata": {
        "colab": {
          "base_uri": "https://localhost:8080/"
        },
        "id": "VIySg15zTMUc",
        "outputId": "75e4de10-463e-49f9-b2ae-bce6406ca148"
      },
      "execution_count": null,
      "outputs": [
        {
          "output_type": "stream",
          "name": "stdout",
          "text": [
            "Practice_for_Logistic_Regression_.ipynb\n"
          ]
        }
      ]
    },
    {
      "cell_type": "code",
      "source": [
        "print(x[\"Records\"][0][\"s3\"][\"bucket\"]['name'])"
      ],
      "metadata": {
        "colab": {
          "base_uri": "https://localhost:8080/"
        },
        "id": "EGh3cNZAUjPz",
        "outputId": "20b72f82-148a-40fa-fae3-716dc2d6bf81"
      },
      "execution_count": null,
      "outputs": [
        {
          "output_type": "stream",
          "name": "stdout",
          "text": [
            "kourav001\n"
          ]
        }
      ]
    },
    {
      "cell_type": "code",
      "source": [
        "print(x[\"Records\"][0][\"eventName\"])"
      ],
      "metadata": {
        "colab": {
          "base_uri": "https://localhost:8080/"
        },
        "id": "8GOktEUXUzwI",
        "outputId": "443271db-8c71-42b7-9a45-1c4d34050c8b"
      },
      "execution_count": null,
      "outputs": [
        {
          "output_type": "stream",
          "name": "stdout",
          "text": [
            "ObjectCreated:Put\n"
          ]
        }
      ]
    },
    {
      "cell_type": "code",
      "source": [
        "# now acess the same file in s3 using boto3"
      ],
      "metadata": {
        "id": "qyWKKzjqWJ-6"
      },
      "execution_count": null,
      "outputs": []
    },
    {
      "cell_type": "code",
      "source": [
        "!pip install boto3"
      ],
      "metadata": {
        "colab": {
          "base_uri": "https://localhost:8080/"
        },
        "id": "wab1WuhTfUcm",
        "outputId": "6fa2dd96-262f-48b1-8b5d-de43fad01537"
      },
      "execution_count": null,
      "outputs": [
        {
          "output_type": "stream",
          "name": "stdout",
          "text": [
            "Collecting boto3\n",
            "  Downloading boto3-1.38.13-py3-none-any.whl.metadata (6.6 kB)\n",
            "Collecting botocore<1.39.0,>=1.38.13 (from boto3)\n",
            "  Downloading botocore-1.38.13-py3-none-any.whl.metadata (5.7 kB)\n",
            "Collecting jmespath<2.0.0,>=0.7.1 (from boto3)\n",
            "  Downloading jmespath-1.0.1-py3-none-any.whl.metadata (7.6 kB)\n",
            "Collecting s3transfer<0.13.0,>=0.12.0 (from boto3)\n",
            "  Downloading s3transfer-0.12.0-py3-none-any.whl.metadata (1.7 kB)\n",
            "Requirement already satisfied: python-dateutil<3.0.0,>=2.1 in /usr/local/lib/python3.11/dist-packages (from botocore<1.39.0,>=1.38.13->boto3) (2.9.0.post0)\n",
            "Requirement already satisfied: urllib3!=2.2.0,<3,>=1.25.4 in /usr/local/lib/python3.11/dist-packages (from botocore<1.39.0,>=1.38.13->boto3) (2.4.0)\n",
            "Requirement already satisfied: six>=1.5 in /usr/local/lib/python3.11/dist-packages (from python-dateutil<3.0.0,>=2.1->botocore<1.39.0,>=1.38.13->boto3) (1.17.0)\n",
            "Downloading boto3-1.38.13-py3-none-any.whl (139 kB)\n",
            "\u001b[2K   \u001b[90m━━━━━━━━━━━━━━━━━━━━━━━━━━━━━━━━━━━━━━━━\u001b[0m \u001b[32m139.9/139.9 kB\u001b[0m \u001b[31m8.9 MB/s\u001b[0m eta \u001b[36m0:00:00\u001b[0m\n",
            "\u001b[?25hDownloading botocore-1.38.13-py3-none-any.whl (13.5 MB)\n",
            "\u001b[2K   \u001b[90m━━━━━━━━━━━━━━━━━━━━━━━━━━━━━━━━━━━━━━━━\u001b[0m \u001b[32m13.5/13.5 MB\u001b[0m \u001b[31m54.9 MB/s\u001b[0m eta \u001b[36m0:00:00\u001b[0m\n",
            "\u001b[?25hDownloading jmespath-1.0.1-py3-none-any.whl (20 kB)\n",
            "Downloading s3transfer-0.12.0-py3-none-any.whl (84 kB)\n",
            "\u001b[2K   \u001b[90m━━━━━━━━━━━━━━━━━━━━━━━━━━━━━━━━━━━━━━━━\u001b[0m \u001b[32m84.8/84.8 kB\u001b[0m \u001b[31m6.1 MB/s\u001b[0m eta \u001b[36m0:00:00\u001b[0m\n",
            "\u001b[?25hInstalling collected packages: jmespath, botocore, s3transfer, boto3\n",
            "Successfully installed boto3-1.38.13 botocore-1.38.13 jmespath-1.0.1 s3transfer-0.12.0\n"
          ]
        }
      ]
    },
    {
      "cell_type": "code",
      "source": [
        "import json\n",
        "import boto3\n",
        "\n",
        "s3 = boto3.client('s3')\n",
        "\n",
        "def lambda_handler(event, context):\n",
        "    print(\"Hello\")\n",
        "    print(json.dumps(event))  # Log full event for debugging\n",
        "\n",
        "    try:\n",
        "        # Extract bucket name and object key from the event\n",
        "        record = event['Records'][0]  # Assuming a single record\n",
        "        bucket_name = record['s3']['bucket']['name']\n",
        "        object_key = record['s3']['object']['key']\n",
        "\n",
        "        print(f\"Bucket Name: {bucket_name}\")\n",
        "        print(f\"Object Key: {object_key}\")\n",
        "\n",
        "        # Optional: perform some S3 operation\n",
        "        # For example, read the file content\n",
        "        response = s3.get_object(Bucket=bucket_name, Key=object_key)\n",
        "        file_content = response['Body'].read().decode('utf-8')\n",
        "        print(\"File Content:\", file_content)\n",
        "\n",
        "        return {\n",
        "            'statusCode': 200,\n",
        "            'body': json.dumps(f\"Processed object '{object_key}' from bucket '{bucket_name}'\")\n",
        "        }\n",
        "\n",
        "    except Exception as e:\n",
        "        print(\"Error:\", str(e))\n",
        "        return {\n",
        "            'statusCode': 500,\n",
        "            'body': json.dumps(\"Error processing the S3 event.\")\n",
        "        }\n"
      ],
      "metadata": {
        "id": "ziwym_K6Yn4k"
      },
      "execution_count": null,
      "outputs": []
    }
  ]
}