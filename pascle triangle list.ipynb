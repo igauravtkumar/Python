{
  "nbformat": 4,
  "nbformat_minor": 0,
  "metadata": {
    "colab": {
      "provenance": []
    },
    "kernelspec": {
      "name": "python3",
      "display_name": "Python 3"
    },
    "language_info": {
      "name": "python"
    }
  },
  "cells": [
    {
      "cell_type": "code",
      "execution_count": null,
      "metadata": {
        "colab": {
          "base_uri": "https://localhost:8080/"
        },
        "id": "zTSiir3-tG8k",
        "outputId": "0a56d3a4-4f54-4b65-f547-4d508f9ab6fb"
      },
      "outputs": [
        {
          "output_type": "execute_result",
          "data": {
            "text/plain": [
              "[30, 40]"
            ]
          },
          "metadata": {},
          "execution_count": 3
        }
      ],
      "source": [
        "#nested list\n",
        "mylist=[10,20,[30,40]]\n",
        "mylist[-1]\n"
      ]
    },
    {
      "cell_type": "code",
      "source": [
        "mylist=[[1]]\n",
        "n=5\n",
        "for i in range(0,n-1):\n",
        "  temp=[0]+mylist[-1]+[0]\n",
        "\n",
        "\n",
        "  list1=[]\n",
        "\n",
        "  #[0,1,0]  , mylist=1\n",
        "  for j in range(len(mylist)+1):   # range(0,1)\n",
        "     list1.append(temp[j]+temp[j+1])\n",
        "\n",
        "  mylist.append(list1)\n",
        "print(mylist)\n",
        "\n"
      ],
      "metadata": {
        "colab": {
          "base_uri": "https://localhost:8080/"
        },
        "id": "R0roCqydvD1H",
        "outputId": "7d8bd9c4-9350-456d-97d7-a7dc47b530bc"
      },
      "execution_count": null,
      "outputs": [
        {
          "output_type": "stream",
          "name": "stdout",
          "text": [
            "[[1], [1, 1], [1, 2, 1], [1, 3, 3, 1], [1, 4, 6, 4, 1]]\n"
          ]
        }
      ]
    },
    {
      "cell_type": "code",
      "source": [
        "mylist=[]\n",
        "for i in range(0,5):\n",
        "  temp=[]\n",
        "  for j in range(0,i+1):\n",
        "    if(j==0 or j==i):\n",
        "      temp.append(1)\n",
        "    else:\n",
        "      temp.append(mylist[i-1][j-1]+mylist[i-1][j])\n",
        "  mylist.append(temp)\n",
        "print(mylist)"
      ],
      "metadata": {
        "colab": {
          "base_uri": "https://localhost:8080/"
        },
        "id": "lmlCDJgrAxAy",
        "outputId": "700e671e-a56d-4462-f58f-868ec9f80714"
      },
      "execution_count": null,
      "outputs": [
        {
          "output_type": "stream",
          "name": "stdout",
          "text": [
            "[[1], [1, 1], [1, 2, 1], [1, 3, 3, 1], [1, 4, 6, 4, 1]]\n"
          ]
        }
      ]
    }
  ]
}