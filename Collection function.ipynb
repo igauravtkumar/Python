{
  "nbformat": 4,
  "nbformat_minor": 0,
  "metadata": {
    "colab": {
      "provenance": []
    },
    "kernelspec": {
      "name": "python3",
      "display_name": "Python 3"
    },
    "language_info": {
      "name": "python"
    }
  },
  "cells": [
    {
      "cell_type": "code",
      "execution_count": null,
      "metadata": {
        "id": "qupXO3ltEF64"
      },
      "outputs": [],
      "source": [
        "#collection\n",
        "#    module\n"
      ]
    },
    {
      "cell_type": "code",
      "source": [
        "import collections as c\n",
        "c.Counter()"
      ],
      "metadata": {
        "colab": {
          "base_uri": "https://localhost:8080/"
        },
        "id": "ci1aS3OeE8iv",
        "outputId": "9aaf722c-271a-49d8-e43f-a4585fc34db2"
      },
      "execution_count": null,
      "outputs": [
        {
          "output_type": "execute_result",
          "data": {
            "text/plain": [
              "Counter()"
            ]
          },
          "metadata": {},
          "execution_count": 5
        }
      ]
    },
    {
      "cell_type": "code",
      "source": [
        "import collections\n",
        "collections.Counter()"
      ],
      "metadata": {
        "colab": {
          "base_uri": "https://localhost:8080/"
        },
        "id": "7LYCAaL8FXRh",
        "outputId": "b8bf88d8-a4cd-468d-a3c8-52f88a79ffb2"
      },
      "execution_count": null,
      "outputs": [
        {
          "output_type": "execute_result",
          "data": {
            "text/plain": [
              "Counter()"
            ]
          },
          "metadata": {},
          "execution_count": 6
        }
      ]
    },
    {
      "cell_type": "code",
      "source": [
        "from collections import Counter\n",
        "mylist=[10,20,30]\n",
        "Counter(mylist)"
      ],
      "metadata": {
        "colab": {
          "base_uri": "https://localhost:8080/"
        },
        "id": "qTsu2F7qFenT",
        "outputId": "f5785f9b-5bb6-4ed8-b01f-aa1f0e32615a"
      },
      "execution_count": null,
      "outputs": [
        {
          "output_type": "execute_result",
          "data": {
            "text/plain": [
              "Counter({10: 1, 20: 1, 30: 1})"
            ]
          },
          "metadata": {},
          "execution_count": 7
        }
      ]
    },
    {
      "cell_type": "code",
      "source": [
        "Counter(x=2,y=3)"
      ],
      "metadata": {
        "colab": {
          "base_uri": "https://localhost:8080/"
        },
        "id": "5rGr6Xd6F0P3",
        "outputId": "dc2b3ff9-1bcc-4ea4-c389-5de7dd8dc3b5"
      },
      "execution_count": null,
      "outputs": [
        {
          "output_type": "execute_result",
          "data": {
            "text/plain": [
              "Counter({'x': 2, 'y': 3})"
            ]
          },
          "metadata": {},
          "execution_count": 8
        }
      ]
    },
    {
      "cell_type": "code",
      "source": [
        "from collections import Counter\n",
        "mylist=[10,10,10,20,20,20,20,30]\n",
        "a=Counter(mylist)\n",
        "\n",
        "a.update([20,70])\n",
        "print(a)\n",
        "\n"
      ],
      "metadata": {
        "colab": {
          "base_uri": "https://localhost:8080/"
        },
        "id": "xLnmadGjGIvo",
        "outputId": "a565f3cd-184f-4d2b-dc2e-ecd396f01465"
      },
      "execution_count": null,
      "outputs": [
        {
          "output_type": "stream",
          "name": "stdout",
          "text": [
            "Counter({20: 5, 10: 3, 30: 1, 70: 1})\n"
          ]
        }
      ]
    },
    {
      "cell_type": "code",
      "source": [
        "a.most_common(1)\n"
      ],
      "metadata": {
        "colab": {
          "base_uri": "https://localhost:8080/"
        },
        "id": "fKK19ktSGeZp",
        "outputId": "b1a682d4-b4eb-4b46-ce24-ac46f9db8d2c"
      },
      "execution_count": null,
      "outputs": [
        {
          "output_type": "execute_result",
          "data": {
            "text/plain": [
              "[(20, 5)]"
            ]
          },
          "metadata": {},
          "execution_count": 12
        }
      ]
    },
    {
      "cell_type": "code",
      "source": [
        "print(a)\n",
        "list( a.elements() )"
      ],
      "metadata": {
        "colab": {
          "base_uri": "https://localhost:8080/"
        },
        "id": "t46kLKbnGwM5",
        "outputId": "9e34f22c-7814-40a7-8669-ea372ec13467"
      },
      "execution_count": null,
      "outputs": [
        {
          "output_type": "stream",
          "name": "stdout",
          "text": [
            "Counter({20: 5, 10: 3, 30: 1, 70: 1})\n"
          ]
        },
        {
          "output_type": "execute_result",
          "data": {
            "text/plain": [
              "[10, 10, 10, 20, 20, 20, 20, 20, 30, 70]"
            ]
          },
          "metadata": {},
          "execution_count": 15
        }
      ]
    },
    {
      "cell_type": "code",
      "source": [
        "from collections import defaultdict"
      ],
      "metadata": {
        "id": "sMAcCAhvHc8P"
      },
      "execution_count": null,
      "outputs": []
    },
    {
      "cell_type": "code",
      "source": [
        "def func():\n",
        "  return \"Not A Value\"\n"
      ],
      "metadata": {
        "id": "iYt5KW7tHtZX"
      },
      "execution_count": null,
      "outputs": []
    },
    {
      "cell_type": "code",
      "source": [
        "d=defaultdict(func)\n",
        "# list() int()\n",
        "d[\"a\"]=10\n",
        "d[\"b\"]\n",
        "print(d.items())"
      ],
      "metadata": {
        "colab": {
          "base_uri": "https://localhost:8080/"
        },
        "id": "n31WWRnnJK75",
        "outputId": "28e5f234-d8c8-4dda-e314-4d49478af889"
      },
      "execution_count": null,
      "outputs": [
        {
          "output_type": "stream",
          "name": "stdout",
          "text": [
            "dict_items([('a', 10), ('b', 'Not A Value')])\n"
          ]
        }
      ]
    },
    {
      "cell_type": "code",
      "source": [
        "mylist = [(10,\"tushar\"),(20,\"aman\"),(30,\"abc\")]\n",
        "for roll,name in mylist:\n",
        "  print(roll,name)"
      ],
      "metadata": {
        "colab": {
          "base_uri": "https://localhost:8080/"
        },
        "id": "vHUGvGi7JuVC",
        "outputId": "c32bbdab-c7cb-4288-d89f-5f274432b394"
      },
      "execution_count": null,
      "outputs": [
        {
          "output_type": "stream",
          "name": "stdout",
          "text": [
            "10 tushar\n",
            "20 aman\n",
            "30 abc\n"
          ]
        }
      ]
    },
    {
      "cell_type": "code",
      "source": [
        "mylist = [(10,\"tushar\"),(20,\"aman\"),(30,\"abc\")]\n",
        "s=defaultdict(list)\n",
        "s[10]=\"tushar\"\n",
        "print(s.items())"
      ],
      "metadata": {
        "colab": {
          "base_uri": "https://localhost:8080/"
        },
        "id": "TlV7DifzKfrU",
        "outputId": "86679f30-bb2f-4eee-a512-d9cefa04b368"
      },
      "execution_count": null,
      "outputs": [
        {
          "output_type": "stream",
          "name": "stdout",
          "text": [
            "dict_items([(10, 'tushar')])\n"
          ]
        }
      ]
    },
    {
      "cell_type": "code",
      "source": [
        "mylist = [(10,\"tushar\"),(20,\"aman\"),(30,\"abc\")]\n",
        "s=defaultdict(list)\n",
        "for roll,name in mylist:\n",
        "  s[roll].append(name)\n",
        "\n",
        "print(s)\n"
      ],
      "metadata": {
        "colab": {
          "base_uri": "https://localhost:8080/"
        },
        "id": "qcANF3RrKyr0",
        "outputId": "92242b03-8eb4-4308-86cc-6ce9f5e2c98d"
      },
      "execution_count": null,
      "outputs": [
        {
          "output_type": "stream",
          "name": "stdout",
          "text": [
            "defaultdict(<class 'list'>, {10: ['tushar'], 20: ['aman'], 30: ['abc']})\n"
          ]
        }
      ]
    },
    {
      "cell_type": "code",
      "source": [
        "print(s[40])"
      ],
      "metadata": {
        "colab": {
          "base_uri": "https://localhost:8080/"
        },
        "id": "U-SsWAsYLNJM",
        "outputId": "a371e2fe-8bad-4005-87f0-4459035efaf3"
      },
      "execution_count": null,
      "outputs": [
        {
          "output_type": "stream",
          "name": "stdout",
          "text": [
            "[]\n"
          ]
        }
      ]
    },
    {
      "cell_type": "code",
      "source": [
        "from collections import OrderedDict"
      ],
      "metadata": {
        "id": "NJJaba2fLa4Q"
      },
      "execution_count": null,
      "outputs": []
    },
    {
      "cell_type": "code",
      "source": [
        "o=OrderedDict()\n",
        "o[\"a\"]=1\n",
        "o[\"b\"]=99\n",
        "o[\"c\"]=1991\n",
        "print(o)"
      ],
      "metadata": {
        "colab": {
          "base_uri": "https://localhost:8080/"
        },
        "id": "2qKw830zL4K9",
        "outputId": "7ff8d246-04ac-4be7-8263-9b6e0fd57b4e"
      },
      "execution_count": null,
      "outputs": [
        {
          "output_type": "stream",
          "name": "stdout",
          "text": [
            "OrderedDict([('a', 1), ('b', 99), ('c', 1991)])\n"
          ]
        }
      ]
    },
    {
      "cell_type": "code",
      "source": [
        "o.move_to_end(\"b\",last=False)\n",
        "print(o)"
      ],
      "metadata": {
        "colab": {
          "base_uri": "https://localhost:8080/"
        },
        "id": "f8pOZMjrMOn4",
        "outputId": "0e2b0623-a23c-4d9d-d28f-bc61cc2a394b"
      },
      "execution_count": null,
      "outputs": [
        {
          "output_type": "stream",
          "name": "stdout",
          "text": [
            "OrderedDict([('b', 99), ('a', 1), ('c', 1991)])\n"
          ]
        }
      ]
    },
    {
      "cell_type": "code",
      "source": [
        "# nametuple"
      ],
      "metadata": {
        "id": "UpZ8eBl7MqOi"
      },
      "execution_count": null,
      "outputs": []
    },
    {
      "cell_type": "code",
      "source": [
        "from collections import namedtuple"
      ],
      "metadata": {
        "id": "OZ7mdecsM6Wm"
      },
      "execution_count": null,
      "outputs": []
    },
    {
      "cell_type": "code",
      "source": [
        "point123=namedtuple(\"point\", [\"x\",\"y\"])\n",
        "p=point123(11,22)\n",
        "print(p.x)\n",
        "print(p[0])\n",
        "\n"
      ],
      "metadata": {
        "colab": {
          "base_uri": "https://localhost:8080/"
        },
        "id": "kxkjgDJzNHuc",
        "outputId": "f4988c87-30ad-4fe5-9750-485b37789657"
      },
      "execution_count": null,
      "outputs": [
        {
          "output_type": "stream",
          "name": "stdout",
          "text": [
            "11\n",
            "11\n"
          ]
        }
      ]
    },
    {
      "cell_type": "code",
      "source": [
        "p._asdict()"
      ],
      "metadata": {
        "colab": {
          "base_uri": "https://localhost:8080/"
        },
        "id": "A-PzXGmuN4se",
        "outputId": "ed24a89c-8a4b-4f17-8b58-469787cddde3"
      },
      "execution_count": null,
      "outputs": [
        {
          "output_type": "execute_result",
          "data": {
            "text/plain": [
              "{'x': 11, 'y': 22}"
            ]
          },
          "metadata": {},
          "execution_count": 56
        }
      ]
    },
    {
      "cell_type": "code",
      "source": [
        "x=p._replace(x=199)\n",
        "print(x)"
      ],
      "metadata": {
        "colab": {
          "base_uri": "https://localhost:8080/"
        },
        "id": "PZc1IDqqODGh",
        "outputId": "59085817-dc7a-4fb5-83f3-da38d6c54123"
      },
      "execution_count": null,
      "outputs": [
        {
          "output_type": "stream",
          "name": "stdout",
          "text": [
            "point(x=199, y=22)\n"
          ]
        }
      ]
    },
    {
      "cell_type": "code",
      "source": [
        "point123=namedtuple(\"point\", [\"x\",\"y\"])\n",
        "x={\"x\":11,\"y\":22}\n",
        "print(x)\n",
        "point123(**x)\n"
      ],
      "metadata": {
        "colab": {
          "base_uri": "https://localhost:8080/"
        },
        "id": "82Qt77PsOg8J",
        "outputId": "0e355fd1-a168-4558-d8d8-f77d5d8db53a"
      },
      "execution_count": null,
      "outputs": [
        {
          "output_type": "stream",
          "name": "stdout",
          "text": [
            "{'x': 11, 'y': 22}\n"
          ]
        },
        {
          "output_type": "execute_result",
          "data": {
            "text/plain": [
              "point(x=11, y=22)"
            ]
          },
          "metadata": {},
          "execution_count": 68
        }
      ]
    },
    {
      "cell_type": "code",
      "source": [
        "# deque- doubly ended queue\n",
        "#list => stack"
      ],
      "metadata": {
        "id": "XbbMkyS4Pr83"
      },
      "execution_count": null,
      "outputs": []
    },
    {
      "cell_type": "code",
      "source": [
        "from collections import deque"
      ],
      "metadata": {
        "id": "DM7mstweQkZ1"
      },
      "execution_count": null,
      "outputs": []
    },
    {
      "cell_type": "code",
      "source": [
        "dq=deque([\"tushar\",\"abc\",\"xyz\",30])\n",
        "dq.appendleft(40)\n",
        "dq.append(19)\n",
        "print(dq)"
      ],
      "metadata": {
        "colab": {
          "base_uri": "https://localhost:8080/"
        },
        "id": "gVS9nWVaQuPQ",
        "outputId": "d39a48e0-7815-4aed-f68c-b4e1814d362e"
      },
      "execution_count": null,
      "outputs": [
        {
          "output_type": "stream",
          "name": "stdout",
          "text": [
            "deque([40, 'tushar', 'abc', 'xyz', 30, 19])\n"
          ]
        }
      ]
    },
    {
      "cell_type": "code",
      "source": [
        "num1=[1,2,2,3]\n",
        "num2=[2,2]\n",
        "list1=set()\n",
        "for i in num1:\n",
        "  if i in num2:\n",
        "    list1.add(i)\n",
        "print(list1)"
      ],
      "metadata": {
        "colab": {
          "base_uri": "https://localhost:8080/"
        },
        "id": "JZAWQqmqUmsG",
        "outputId": "c780d06c-3985-41d3-c522-0060821c573d"
      },
      "execution_count": null,
      "outputs": [
        {
          "output_type": "stream",
          "name": "stdout",
          "text": [
            "{2}\n"
          ]
        }
      ]
    },
    {
      "cell_type": "code",
      "source": [
        "nums1=[1,2,3,0,0,0]\n",
        "nums2=[2,5,6]\n",
        "m=3\n",
        "n=3\n",
        "total= m+n-1\n",
        "while nums1>=0 and n>=0:\n",
        "    if i>j:\n",
        "      m+=1\n",
        "    else:\n",
        "      total=n-1\n",
        "      total-=1\n",
        "      n-=1\n",
        "print(nums1)\n"
      ],
      "metadata": {
        "colab": {
          "base_uri": "https://localhost:8080/",
          "height": 218
        },
        "id": "3Fb-Y0BAdLP-",
        "outputId": "2e64474e-259b-46f4-f52b-7973cd1e3990"
      },
      "execution_count": null,
      "outputs": [
        {
          "output_type": "error",
          "ename": "KeyboardInterrupt",
          "evalue": "",
          "traceback": [
            "\u001b[0;31m---------------------------------------------------------------------------\u001b[0m",
            "\u001b[0;31mKeyboardInterrupt\u001b[0m                         Traceback (most recent call last)",
            "\u001b[0;32m<ipython-input-2-c1cb0c0d676a>\u001b[0m in \u001b[0;36m<cell line: 6>\u001b[0;34m()\u001b[0m\n\u001b[1;32m      4\u001b[0m \u001b[0mj\u001b[0m\u001b[0;34m=\u001b[0m\u001b[0mn\u001b[0m\u001b[0;34m+\u001b[0m\u001b[0;36m1\u001b[0m\u001b[0;34m\u001b[0m\u001b[0;34m\u001b[0m\u001b[0m\n\u001b[1;32m      5\u001b[0m \u001b[0mtotal\u001b[0m\u001b[0;34m=\u001b[0m \u001b[0mm\u001b[0m\u001b[0;34m+\u001b[0m\u001b[0mn\u001b[0m\u001b[0;34m-\u001b[0m\u001b[0;36m1\u001b[0m\u001b[0;34m\u001b[0m\u001b[0;34m\u001b[0m\u001b[0m\n\u001b[0;32m----> 6\u001b[0;31m \u001b[0;32mwhile\u001b[0m \u001b[0mi\u001b[0m\u001b[0;34m>=\u001b[0m\u001b[0;36m0\u001b[0m \u001b[0;32mand\u001b[0m \u001b[0mj\u001b[0m\u001b[0;34m>=\u001b[0m\u001b[0;36m0\u001b[0m\u001b[0;34m:\u001b[0m\u001b[0;34m\u001b[0m\u001b[0;34m\u001b[0m\u001b[0m\n\u001b[0m\u001b[1;32m      7\u001b[0m     \u001b[0;32mif\u001b[0m \u001b[0mi\u001b[0m\u001b[0;34m>\u001b[0m\u001b[0mj\u001b[0m\u001b[0;34m:\u001b[0m\u001b[0;34m\u001b[0m\u001b[0;34m\u001b[0m\u001b[0m\n\u001b[1;32m      8\u001b[0m       \u001b[0mm\u001b[0m\u001b[0;34m+=\u001b[0m\u001b[0;36m1\u001b[0m\u001b[0;34m\u001b[0m\u001b[0;34m\u001b[0m\u001b[0m\n",
            "\u001b[0;31mKeyboardInterrupt\u001b[0m: "
          ]
        }
      ]
    }
  ]
}