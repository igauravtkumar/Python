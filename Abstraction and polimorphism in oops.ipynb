{
  "nbformat": 4,
  "nbformat_minor": 0,
  "metadata": {
    "colab": {
      "provenance": []
    },
    "kernelspec": {
      "name": "python3",
      "display_name": "Python 3"
    },
    "language_info": {
      "name": "python"
    }
  },
  "cells": [
    {
      "cell_type": "code",
      "execution_count": null,
      "metadata": {
        "id": "WsEk1iS35JAv"
      },
      "outputs": [],
      "source": [
        "# Abstraction -->\n",
        "#              Abstraction is a concept in oops that hides unneccesary details from the user and only shows the essential features of an object .\n",
        "# It allow us to focus on what an object does rather than how it does.\n",
        "# Abstraction shows only the important detail (method or features) to the user the complex internal working is hidden .\n"
      ]
    },
    {
      "cell_type": "code",
      "source": [
        "# How Abstraction work in python --->\n",
        "#  1> Abstract base classes(abc)-->   these are classes that serve as bluepprint for other classes. We can not create objects directly from abstract class .\n",
        "\n",
        "#  2> @Abstract Method---> A Decorator that define that methods in the abstract class  but does not provide there implementation.  To use abstraction python abc\n",
        "#                         modules  is typically used ."
      ],
      "metadata": {
        "id": "oKQM4arFJ06U"
      },
      "execution_count": null,
      "outputs": []
    },
    {
      "cell_type": "code",
      "source": [
        "from abc import ABC, abstractmethod\n",
        "\n",
        "# Abstract class\n",
        "class Shape(ABC):\n",
        "  @abstractmethod\n",
        "  def area(self):\n",
        "    pass\n",
        "  @abstractmethod\n",
        "  def perimeter(self):\n",
        "    pass\n",
        "\n",
        "# Concrete class for circle\n",
        "class Circle(Shape):\n",
        "  def __init__(self,radius):\n",
        "    self.radius = radius\n",
        "\n",
        "  def area(self):\n",
        "    return 3.14 * self.radius*self.radius\n",
        "  def perimeter(self):\n",
        "    return 2*3.14 *self.radius\n",
        "\n",
        "# Concrete class for reactangle\n",
        "\n",
        "class Rectangle(Shape):\n",
        "  def __init__(self,length,width):\n",
        "    self.length = length\n",
        "    self.width = width\n",
        "\n",
        "  def area(self):\n",
        "    return self.length * self.width\n",
        "\n",
        "  def perimeter(self):\n",
        "    return 2 * (self.length + self.width)\n",
        "\n",
        "# using the class\n",
        "circle=Circle(5)\n",
        "print(\"Circle Area \",circle.area())\n",
        "print(\"Circle Permeter\",circle.perimeter())\n",
        "\n",
        "rectangle = Rectangle(4,7)\n",
        "print(\"Rectangle Area\",rectangle.area())\n",
        "print(\"Rectangle Perimeter\",rectangle.perimeter())\n"
      ],
      "metadata": {
        "colab": {
          "base_uri": "https://localhost:8080/"
        },
        "id": "4n8LThNQMOIh",
        "outputId": "69b4c749-db1d-4e68-bddf-a56d9d998036"
      },
      "execution_count": null,
      "outputs": [
        {
          "output_type": "stream",
          "name": "stdout",
          "text": [
            "Circle Area  78.5\n",
            "Circle Permeter 31.400000000000002\n",
            "Rectangle Area 28\n",
            "Rectangle Perimeter 22\n"
          ]
        }
      ]
    },
    {
      "cell_type": "code",
      "source": [
        "# Polymorphism -->\n",
        "#                Polimorphism allows objects of differnt classes to be treated as objects of a common super class it unable a single interphase to reperesent\n",
        "# different underline form ya datatypes. This makes the code more flexible reusable and easier to extend.\n"
      ],
      "metadata": {
        "id": "8YrBrhxsQo2K"
      },
      "execution_count": null,
      "outputs": []
    },
    {
      "cell_type": "code",
      "source": [
        "class Animal:\n",
        "  def speak(self):\n",
        "    pass\n",
        "\n",
        "class Dog(Animal):\n",
        "  def speak(self):\n",
        "    return \"woof!\"\n",
        "\n",
        "class Cat(Animal):\n",
        "  def speak(self):\n",
        "    return \"Meow!\"\n",
        "\n",
        "class Cow(Animal):\n",
        "  def speak(self):\n",
        "    return \"Moo!\"\n",
        "\n",
        "# Function to demonstrate polymorphism\n",
        "def make_animal_speak(animal):\n",
        "  print(animal.speak())\n",
        "\n",
        "#usage\n",
        "animals = [Dog(),Cat(),Cow()]\n",
        "\n",
        "for animal in animals:\n",
        "  make_animal_speak(animal)"
      ],
      "metadata": {
        "colab": {
          "base_uri": "https://localhost:8080/"
        },
        "id": "rmdPot51Rg0I",
        "outputId": "fcbf48b5-7977-4dad-b465-dac40c7bfe1f"
      },
      "execution_count": null,
      "outputs": [
        {
          "output_type": "stream",
          "name": "stdout",
          "text": [
            "woof!\n",
            "Meow!\n",
            "Moo!\n"
          ]
        }
      ]
    },
    {
      "cell_type": "code",
      "source": [
        "# What is overriding in Python -->\n",
        "#   overiding in a  feature in oops where is subclass provide a specific implementation for a method that is already define in at parent class.\n",
        "# the overhidden method in the subclass will be executed insteed of the one in the parent class when called on an instance of the subclass.\n"
      ],
      "metadata": {
        "id": "tQU2NZjlTo4e"
      },
      "execution_count": null,
      "outputs": []
    },
    {
      "cell_type": "code",
      "source": [
        "# key points -->\n",
        "#        It happen between in a parent class and child class\n",
        "#        The method in the child class must have the same name and  parameter  as the method in the parent class\n",
        "#        It is use to provide specific behaviour in a subclass ."
      ],
      "metadata": {
        "id": "TEWQy1eqUO99"
      },
      "execution_count": null,
      "outputs": []
    },
    {
      "cell_type": "code",
      "source": [
        "# Overloading -->\n",
        "#            It allow the same function to handle differnt number or types of input."
      ],
      "metadata": {
        "id": "g7mSI04cUpsv"
      },
      "execution_count": null,
      "outputs": []
    },
    {
      "cell_type": "code",
      "source": [
        "def greet(name=\"Guest\"):\n",
        "  print(f\"Hello,{name}!\")\n",
        "\n",
        "greet()\n",
        "greet(\"Ajay\")"
      ],
      "metadata": {
        "colab": {
          "base_uri": "https://localhost:8080/"
        },
        "id": "fliC9DTpVIny",
        "outputId": "32b87073-fecd-4517-900f-ed61b812c55c"
      },
      "execution_count": null,
      "outputs": [
        {
          "output_type": "stream",
          "name": "stdout",
          "text": [
            "Hello,Guest!\n",
            "Hello,Ajay!\n"
          ]
        }
      ]
    },
    {
      "cell_type": "code",
      "source": [],
      "metadata": {
        "id": "agvpDf8nW9Va"
      },
      "execution_count": null,
      "outputs": []
    }
  ]
}