{
  "nbformat": 4,
  "nbformat_minor": 0,
  "metadata": {
    "colab": {
      "provenance": []
    },
    "kernelspec": {
      "name": "python3",
      "display_name": "Python 3"
    },
    "language_info": {
      "name": "python"
    }
  },
  "cells": [
    {
      "cell_type": "code",
      "execution_count": 3,
      "metadata": {
        "colab": {
          "base_uri": "https://localhost:8080/"
        },
        "id": "87v3LRbR4ZiW",
        "outputId": "f616387b-f5b6-43b4-f823-3be1a6779a48"
      },
      "outputs": [
        {
          "output_type": "stream",
          "name": "stdout",
          "text": [
            "[1, 2, 2, 3, 5, 6]\n"
          ]
        },
        {
          "output_type": "execute_result",
          "data": {
            "text/plain": [
              "[1, 2, 2, 3, 5, 6]"
            ]
          },
          "metadata": {},
          "execution_count": 3
        }
      ],
      "source": [
        "# Merge sorted array\n",
        "nums1 = [1,2,3,0,0,0]\n",
        "m = 3\n",
        "nums2 = [2,5,6]\n",
        "n = 3\n",
        "\n",
        "nums1[m:]=nums2\n",
        "nums1.sort()\n",
        "print(nums1)\n",
        "\n",
        "nums2[:n]=nums1\n",
        "nums2.sort()\n",
        "nums2"
      ]
    },
    {
      "cell_type": "code",
      "source": [
        "# Remove Element\n",
        "\n",
        "nums = [3,2,2,3]\n",
        "val=3\n",
        "i=0\n",
        "for j in range(len(nums)):\n",
        "  if nums[j]==val:\n",
        "    j-=1\n",
        "  else:\n",
        "    i+=1\n",
        "print(i)"
      ],
      "metadata": {
        "colab": {
          "base_uri": "https://localhost:8080/"
        },
        "id": "PH4i_dcI5gEi",
        "outputId": "199dd8dc-9343-47b3-a0f1-c718e147824d"
      },
      "execution_count": 4,
      "outputs": [
        {
          "output_type": "stream",
          "name": "stdout",
          "text": [
            "2\n"
          ]
        }
      ]
    },
    {
      "cell_type": "code",
      "source": [
        "# Remove Duplicates from Sorted Array\n",
        "\n",
        "nums = [1,1,2]\n",
        "i=0\n",
        "for j in range(0,len(nums)):\n",
        "  if nums[j]==nums[i]:\n",
        "    j+=1\n",
        "  else:\n",
        "    i+=1\n",
        "    nums[i]=nums[j]\n",
        "print(i+1)"
      ],
      "metadata": {
        "colab": {
          "base_uri": "https://localhost:8080/"
        },
        "id": "EEuy7NQX6E5G",
        "outputId": "08051aef-4740-4e16-c179-524ecaf7f20e"
      },
      "execution_count": 6,
      "outputs": [
        {
          "output_type": "stream",
          "name": "stdout",
          "text": [
            "2\n"
          ]
        }
      ]
    },
    {
      "cell_type": "code",
      "source": [
        "# Remove Duplicates from Sorted Array II\n",
        "nums = [1,1,1,2,2,3]\n",
        "k=2\n",
        "for j in range(2,len(nums)):\n",
        "  if nums[j]!=nums[k-2]:\n",
        "    nums[k]=nums[j]\n",
        "    k+=1\n",
        "print(k)"
      ],
      "metadata": {
        "colab": {
          "base_uri": "https://localhost:8080/"
        },
        "id": "w0xKhSJ66Y3L",
        "outputId": "09219503-3657-483f-bd5e-8266a0134365"
      },
      "execution_count": 8,
      "outputs": [
        {
          "output_type": "stream",
          "name": "stdout",
          "text": [
            "5\n"
          ]
        }
      ]
    },
    {
      "cell_type": "code",
      "source": [
        "#  Majority Element\n",
        "nums = [3,2,3]\n",
        "dict1={}\n",
        "for num in nums:\n",
        "  if num not in dict1:\n",
        "    dict1[num]=1\n",
        "  if dict1[num] > len(nums)//2:\n",
        "    print(num)\n",
        "  else:\n",
        "    dict1[num]+=1\n"
      ],
      "metadata": {
        "colab": {
          "base_uri": "https://localhost:8080/"
        },
        "id": "dmV7J6Jg7AMa",
        "outputId": "57413de8-ddd8-4492-8c83-029d0be9e95c"
      },
      "execution_count": 10,
      "outputs": [
        {
          "output_type": "stream",
          "name": "stdout",
          "text": [
            "3\n"
          ]
        }
      ]
    },
    {
      "cell_type": "code",
      "source": [
        "# Rotate Array\n",
        "nums = [1,2,3,4,5,6,7]\n",
        "k=3\n",
        "size1=len(nums)\n",
        "k = k%size1\n",
        "myarr=[0]*size1\n",
        "for index in range(len(nums)):\n",
        "  pos = (index+k)%size1\n",
        "  myarr[pos]=nums[index]\n",
        "print(myarr)"
      ],
      "metadata": {
        "colab": {
          "base_uri": "https://localhost:8080/"
        },
        "id": "SFnlSNZq7_iM",
        "outputId": "9028739c-6240-418f-eb7d-ed1be5b54550"
      },
      "execution_count": 11,
      "outputs": [
        {
          "output_type": "stream",
          "name": "stdout",
          "text": [
            "[5, 6, 7, 1, 2, 3, 4]\n"
          ]
        }
      ]
    },
    {
      "cell_type": "code",
      "source": [
        "#  Best Time to Buy and Sell Stock\n",
        "\n",
        "prices = [7,1,5,3,6,4]\n",
        "buy=0\n",
        "sell=1\n",
        "maxi=0\n",
        "no_days=len(prices)\n",
        "while sell < no_days:\n",
        "  if prices[sell]>prices[buy]:\n",
        "    profit = prices[sell]-prices[buy]\n",
        "    maxi=max(profit , maxi)\n",
        "  else:\n",
        "    buy=sell\n",
        "  sell+=1\n",
        "print(maxi)\n"
      ],
      "metadata": {
        "colab": {
          "base_uri": "https://localhost:8080/"
        },
        "id": "7IiZynYK8m-J",
        "outputId": "6947dda3-0417-4430-e934-6fe0c026e894"
      },
      "execution_count": 12,
      "outputs": [
        {
          "output_type": "stream",
          "name": "stdout",
          "text": [
            "5\n"
          ]
        }
      ]
    },
    {
      "cell_type": "code",
      "source": [
        "prices = [7,1,5,3,6,4]\n",
        "buy=0\n",
        "sell=1\n",
        "maxi=0\n",
        "no_days=len(prices)\n",
        "while sell < no_days:\n",
        "  if prices[sell]>prices[buy]:\n",
        "    profit = prices[sell]-prices[buy]\n",
        "    maxi = max(profit , maxi)\n",
        "  else:\n",
        "    buy=sell\n",
        "  sell+=1\n",
        "print(maxi)"
      ],
      "metadata": {
        "colab": {
          "base_uri": "https://localhost:8080/"
        },
        "id": "l7fUFuSZ9KJM",
        "outputId": "5fc2f8ab-06dc-433d-9151-4b1f49017c25"
      },
      "execution_count": 13,
      "outputs": [
        {
          "output_type": "stream",
          "name": "stdout",
          "text": [
            "5\n"
          ]
        }
      ]
    },
    {
      "cell_type": "code",
      "source": [
        "# Best Time to Buy and Sell Stock II\n",
        "prices = [7,1,5,3,6,4]\n",
        "profit=0\n",
        "for i in range(1,len(prices)):\n",
        "  if prices[i]> prices[i-1]:\n",
        "    profit += prices[i] - prices[i-1]\n",
        "print(profit)"
      ],
      "metadata": {
        "colab": {
          "base_uri": "https://localhost:8080/"
        },
        "id": "0MYf35TT9rKp",
        "outputId": "28574b66-763b-4f05-a522-c14d09af909f"
      },
      "execution_count": 14,
      "outputs": [
        {
          "output_type": "stream",
          "name": "stdout",
          "text": [
            "7\n"
          ]
        }
      ]
    },
    {
      "cell_type": "code",
      "source": [
        "# Jump Game\n",
        "nums = [2,3,1,1,4]\n",
        "i=0\n",
        "for j in nums:\n",
        "  if i < 0:\n",
        "    print('False')\n",
        "  elif j > i:\n",
        "    j=i\n",
        "  i+=1\n",
        "print('true')"
      ],
      "metadata": {
        "colab": {
          "base_uri": "https://localhost:8080/"
        },
        "id": "ROrffZzE-FPu",
        "outputId": "93754280-6f4a-427d-cc68-97488af68f5e"
      },
      "execution_count": 16,
      "outputs": [
        {
          "output_type": "stream",
          "name": "stdout",
          "text": [
            "true\n"
          ]
        }
      ]
    },
    {
      "cell_type": "code",
      "source": [
        "# Jump Game II\n",
        "nums = [2,3,1,1,4]\n",
        "jump=0\n",
        "end=0\n",
        "far = 0\n",
        "for i in range(len(nums)-1):\n",
        "  far = max(far , i + nums[i])\n",
        "  if i==end:\n",
        "    jump+=1\n",
        "    end=far\n",
        "print(jump)"
      ],
      "metadata": {
        "colab": {
          "base_uri": "https://localhost:8080/"
        },
        "id": "CMjkQNF3_tAI",
        "outputId": "739e6c9b-9931-4e6a-fc6b-18c6aeb3ea54"
      },
      "execution_count": 22,
      "outputs": [
        {
          "output_type": "stream",
          "name": "stdout",
          "text": [
            "2\n"
          ]
        }
      ]
    },
    {
      "cell_type": "code",
      "source": [
        "#  Product of Array Except Self\n",
        "nums = [1,2,3,4]\n",
        "output = [1]*len(nums)\n",
        "left=1\n",
        "for i in range(len(nums)):\n",
        "  output[i]*=left\n",
        "  left = left*nums[i]\n",
        "\n",
        "right=1\n",
        "for i in range(len(nums)-1,-1,-1):\n",
        "  output[i]*=right\n",
        "  right = right*nums[i]\n",
        "print(output)"
      ],
      "metadata": {
        "colab": {
          "base_uri": "https://localhost:8080/"
        },
        "id": "tz2JrbTRBiZZ",
        "outputId": "530e2593-bb6d-4038-c215-55b1f55c71af"
      },
      "execution_count": 23,
      "outputs": [
        {
          "output_type": "stream",
          "name": "stdout",
          "text": [
            "[24, 12, 8, 6]\n"
          ]
        }
      ]
    },
    {
      "cell_type": "code",
      "source": [
        "# merged two sorted array\n",
        "list1 = [1,2,4]\n",
        "list2 = [1,3,4]\n",
        "i=j=0\n",
        "merged=[]\n",
        "while i < len(list1) and j < len(list2):\n",
        "  if list1[i] < list2[j]:\n",
        "    merged.append(list1[i])\n",
        "    i+=1\n",
        "  else:\n",
        "    merged.append(list2[j])\n",
        "    j+=1\n",
        "merged.extend(list1[i:])\n",
        "merged.extend(list2[j:])\n",
        "print(merged)\n",
        "\n",
        "# second method\n",
        "merged = sorted(list1+list2)\n",
        "print(merged)"
      ],
      "metadata": {
        "colab": {
          "base_uri": "https://localhost:8080/"
        },
        "id": "9njymi90GD1E",
        "outputId": "9a4b32e3-1796-4196-a700-27aa995f4cf2"
      },
      "execution_count": 35,
      "outputs": [
        {
          "output_type": "stream",
          "name": "stdout",
          "text": [
            "[1, 1, 2, 3, 4, 4]\n",
            "[1, 1, 2, 3, 4, 4]\n"
          ]
        }
      ]
    },
    {
      "cell_type": "code",
      "source": [
        "#  How Many Numbers Are Smaller Than the Current Number\n",
        "nums = [8,1,2,2,3]\n",
        "temp=sorted((nums))\n",
        "\n",
        "d = {}\n",
        "for i,num in enumerate(temp):\n",
        "    if num not in d:\n",
        "        d[num]=i\n",
        "returns = []\n",
        "for i in nums:\n",
        "    returns.append(d[i])\n",
        "print(returns)"
      ],
      "metadata": {
        "colab": {
          "base_uri": "https://localhost:8080/"
        },
        "id": "IMr6EaTaI3mJ",
        "outputId": "5fd6a19e-414e-405d-fa74-4e486fef5241"
      },
      "execution_count": 39,
      "outputs": [
        {
          "output_type": "stream",
          "name": "stdout",
          "text": [
            "[4, 0, 1, 1, 3]\n"
          ]
        }
      ]
    }
  ]
}