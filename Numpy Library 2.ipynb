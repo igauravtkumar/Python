{
  "nbformat": 4,
  "nbformat_minor": 0,
  "metadata": {
    "colab": {
      "provenance": []
    },
    "kernelspec": {
      "name": "python3",
      "display_name": "Python 3"
    },
    "language_info": {
      "name": "python"
    }
  },
  "cells": [
    {
      "cell_type": "code",
      "execution_count": null,
      "metadata": {
        "id": "SgtB_Ki_bdwv"
      },
      "outputs": [],
      "source": [
        "# View vs copy"
      ]
    },
    {
      "cell_type": "code",
      "source": [
        "import numpy as np\n",
        "a=np.array([10,20,30,40,50,60,70,80])  # view means modification in original data\n",
        "b=a[2:5]\n",
        "b[:]=0\n",
        "a"
      ],
      "metadata": {
        "colab": {
          "base_uri": "https://localhost:8080/"
        },
        "id": "bo6jryzafh6_",
        "outputId": "8bf3c6bc-3d1a-4cfa-fd4c-e58297507e5c"
      },
      "execution_count": 2,
      "outputs": [
        {
          "output_type": "execute_result",
          "data": {
            "text/plain": [
              "array([10, 20,  0,  0,  0, 60, 70, 80])"
            ]
          },
          "metadata": {},
          "execution_count": 2
        }
      ]
    },
    {
      "cell_type": "code",
      "source": [
        "a=np.array([10,20,30,40,50,60,70,80])  # copy() means modifiying in duplicate file\n",
        "b=a[2:5].copy()\n",
        "b[:] = 0\n",
        "a"
      ],
      "metadata": {
        "colab": {
          "base_uri": "https://localhost:8080/"
        },
        "id": "8zeGu4IjfxPQ",
        "outputId": "cf279073-0dff-49f3-f5df-b6f6cec80ada"
      },
      "execution_count": 3,
      "outputs": [
        {
          "output_type": "execute_result",
          "data": {
            "text/plain": [
              "array([10, 20, 30, 40, 50, 60, 70, 80])"
            ]
          },
          "metadata": {},
          "execution_count": 3
        }
      ]
    },
    {
      "cell_type": "code",
      "source": [
        "# Reshaping the data\n",
        "# we know that\n",
        "#  n(row)*n(col)=n(total_element)\n",
        "# if we have total_elements=12\n",
        "# 1*12, 12*1\n",
        "# 2*6,6*2\n",
        "# 3*4, 4*3\n",
        "# if we have total_elements=36\n",
        "# 1*36, 36*1\n",
        "# 2*18, 18*2\n",
        "# 4*9, 9*4\n",
        "# 3*12, 12*3\n",
        "#  6*6"
      ],
      "metadata": {
        "id": "nilzIx3OgNSG"
      },
      "execution_count": null,
      "outputs": []
    },
    {
      "cell_type": "code",
      "source": [
        "a=np.random.randint(1,50,12)\n",
        "a"
      ],
      "metadata": {
        "colab": {
          "base_uri": "https://localhost:8080/"
        },
        "id": "MTVYwIzwgkVc",
        "outputId": "642fb14e-3c81-494c-ba78-10fd38a06804"
      },
      "execution_count": 4,
      "outputs": [
        {
          "output_type": "execute_result",
          "data": {
            "text/plain": [
              "array([32, 19, 26, 27, 24, 28, 35, 42,  7, 49, 18, 39])"
            ]
          },
          "metadata": {},
          "execution_count": 4
        }
      ]
    },
    {
      "cell_type": "code",
      "source": [
        "a.shape"
      ],
      "metadata": {
        "colab": {
          "base_uri": "https://localhost:8080/"
        },
        "id": "POyQ3Mqog5Kz",
        "outputId": "6c7ff63b-1b9d-4874-8961-1bcb0afd88db"
      },
      "execution_count": 5,
      "outputs": [
        {
          "output_type": "execute_result",
          "data": {
            "text/plain": [
              "(12,)"
            ]
          },
          "metadata": {},
          "execution_count": 5
        }
      ]
    },
    {
      "cell_type": "code",
      "source": [
        "a.reshape(2,6)"
      ],
      "metadata": {
        "colab": {
          "base_uri": "https://localhost:8080/"
        },
        "id": "daji-3A4g9o0",
        "outputId": "aed25069-7987-453c-d2e2-da054b6c0978"
      },
      "execution_count": 6,
      "outputs": [
        {
          "output_type": "execute_result",
          "data": {
            "text/plain": [
              "array([[32, 19, 26, 27, 24, 28],\n",
              "       [35, 42,  7, 49, 18, 39]])"
            ]
          },
          "metadata": {},
          "execution_count": 6
        }
      ]
    },
    {
      "cell_type": "code",
      "source": [
        "a.reshape(6,2)"
      ],
      "metadata": {
        "colab": {
          "base_uri": "https://localhost:8080/"
        },
        "id": "xTCzs3kRhCdB",
        "outputId": "e0f3be05-73b9-4198-8e92-2910e61e30de"
      },
      "execution_count": 7,
      "outputs": [
        {
          "output_type": "execute_result",
          "data": {
            "text/plain": [
              "array([[32, 19],\n",
              "       [26, 27],\n",
              "       [24, 28],\n",
              "       [35, 42],\n",
              "       [ 7, 49],\n",
              "       [18, 39]])"
            ]
          },
          "metadata": {},
          "execution_count": 7
        }
      ]
    },
    {
      "cell_type": "code",
      "source": [
        "a.reshape(3,4)"
      ],
      "metadata": {
        "colab": {
          "base_uri": "https://localhost:8080/"
        },
        "id": "grT0IHaHhFwb",
        "outputId": "1c77e2c9-0b2c-4758-f2c8-a08615cbd019"
      },
      "execution_count": 8,
      "outputs": [
        {
          "output_type": "execute_result",
          "data": {
            "text/plain": [
              "array([[32, 19, 26, 27],\n",
              "       [24, 28, 35, 42],\n",
              "       [ 7, 49, 18, 39]])"
            ]
          },
          "metadata": {},
          "execution_count": 8
        }
      ]
    },
    {
      "cell_type": "code",
      "source": [
        "a.reshape(4,3)"
      ],
      "metadata": {
        "colab": {
          "base_uri": "https://localhost:8080/"
        },
        "id": "9i0xEEPEhIAS",
        "outputId": "3d49d884-e9d1-45d7-ced7-2e6e4e2f2bdd"
      },
      "execution_count": 9,
      "outputs": [
        {
          "output_type": "execute_result",
          "data": {
            "text/plain": [
              "array([[32, 19, 26],\n",
              "       [27, 24, 28],\n",
              "       [35, 42,  7],\n",
              "       [49, 18, 39]])"
            ]
          },
          "metadata": {},
          "execution_count": 9
        }
      ]
    },
    {
      "cell_type": "code",
      "source": [
        "a=np.random.randint(1,100,72)\n",
        "a"
      ],
      "metadata": {
        "colab": {
          "base_uri": "https://localhost:8080/"
        },
        "id": "QltEgO7thLxv",
        "outputId": "013775f4-7e73-42be-e516-18b9a1a5a486"
      },
      "execution_count": 10,
      "outputs": [
        {
          "output_type": "execute_result",
          "data": {
            "text/plain": [
              "array([93, 66,  6, 42,  3, 39, 35, 38, 54, 17, 50, 31, 98, 92, 68, 58, 44,\n",
              "       57, 80, 41, 17,  2, 23, 24, 36, 26, 81, 69, 98, 56, 23, 87, 54, 79,\n",
              "        2, 81, 87, 56, 69, 12, 52, 92, 26, 93, 24, 87, 20, 49, 98, 59, 51,\n",
              "       77, 59, 71, 70, 88, 58, 76, 70, 85, 61, 80, 51, 58, 89,  6, 56, 13,\n",
              "       58, 75, 29, 52])"
            ]
          },
          "metadata": {},
          "execution_count": 10
        }
      ]
    },
    {
      "cell_type": "code",
      "source": [
        "a.shape"
      ],
      "metadata": {
        "colab": {
          "base_uri": "https://localhost:8080/"
        },
        "id": "e5vc35HkhQ9_",
        "outputId": "49eb2967-f3f2-4ed4-ee12-cbb98fe01ce6"
      },
      "execution_count": 11,
      "outputs": [
        {
          "output_type": "execute_result",
          "data": {
            "text/plain": [
              "(72,)"
            ]
          },
          "metadata": {},
          "execution_count": 11
        }
      ]
    },
    {
      "cell_type": "code",
      "source": [
        "a.reshape(1,72)"
      ],
      "metadata": {
        "colab": {
          "base_uri": "https://localhost:8080/"
        },
        "id": "rdHRKd1chUiw",
        "outputId": "13538696-335d-4bd7-8a9d-99fd70c80252"
      },
      "execution_count": 12,
      "outputs": [
        {
          "output_type": "execute_result",
          "data": {
            "text/plain": [
              "array([[93, 66,  6, 42,  3, 39, 35, 38, 54, 17, 50, 31, 98, 92, 68, 58,\n",
              "        44, 57, 80, 41, 17,  2, 23, 24, 36, 26, 81, 69, 98, 56, 23, 87,\n",
              "        54, 79,  2, 81, 87, 56, 69, 12, 52, 92, 26, 93, 24, 87, 20, 49,\n",
              "        98, 59, 51, 77, 59, 71, 70, 88, 58, 76, 70, 85, 61, 80, 51, 58,\n",
              "        89,  6, 56, 13, 58, 75, 29, 52]])"
            ]
          },
          "metadata": {},
          "execution_count": 12
        }
      ]
    },
    {
      "cell_type": "code",
      "source": [
        "a.reshape(72,1)"
      ],
      "metadata": {
        "colab": {
          "base_uri": "https://localhost:8080/"
        },
        "id": "n3m6c9N9hXN_",
        "outputId": "18b15453-0751-4725-fa8d-ebc0860e5262"
      },
      "execution_count": 13,
      "outputs": [
        {
          "output_type": "execute_result",
          "data": {
            "text/plain": [
              "array([[93],\n",
              "       [66],\n",
              "       [ 6],\n",
              "       [42],\n",
              "       [ 3],\n",
              "       [39],\n",
              "       [35],\n",
              "       [38],\n",
              "       [54],\n",
              "       [17],\n",
              "       [50],\n",
              "       [31],\n",
              "       [98],\n",
              "       [92],\n",
              "       [68],\n",
              "       [58],\n",
              "       [44],\n",
              "       [57],\n",
              "       [80],\n",
              "       [41],\n",
              "       [17],\n",
              "       [ 2],\n",
              "       [23],\n",
              "       [24],\n",
              "       [36],\n",
              "       [26],\n",
              "       [81],\n",
              "       [69],\n",
              "       [98],\n",
              "       [56],\n",
              "       [23],\n",
              "       [87],\n",
              "       [54],\n",
              "       [79],\n",
              "       [ 2],\n",
              "       [81],\n",
              "       [87],\n",
              "       [56],\n",
              "       [69],\n",
              "       [12],\n",
              "       [52],\n",
              "       [92],\n",
              "       [26],\n",
              "       [93],\n",
              "       [24],\n",
              "       [87],\n",
              "       [20],\n",
              "       [49],\n",
              "       [98],\n",
              "       [59],\n",
              "       [51],\n",
              "       [77],\n",
              "       [59],\n",
              "       [71],\n",
              "       [70],\n",
              "       [88],\n",
              "       [58],\n",
              "       [76],\n",
              "       [70],\n",
              "       [85],\n",
              "       [61],\n",
              "       [80],\n",
              "       [51],\n",
              "       [58],\n",
              "       [89],\n",
              "       [ 6],\n",
              "       [56],\n",
              "       [13],\n",
              "       [58],\n",
              "       [75],\n",
              "       [29],\n",
              "       [52]])"
            ]
          },
          "metadata": {},
          "execution_count": 13
        }
      ]
    },
    {
      "cell_type": "code",
      "source": [
        "a.reshape(2,36)"
      ],
      "metadata": {
        "colab": {
          "base_uri": "https://localhost:8080/"
        },
        "id": "fc68pAZDhaXG",
        "outputId": "3445e1dc-694d-43fa-f8f0-aa78434b6205"
      },
      "execution_count": 15,
      "outputs": [
        {
          "output_type": "execute_result",
          "data": {
            "text/plain": [
              "array([[93, 66,  6, 42,  3, 39, 35, 38, 54, 17, 50, 31, 98, 92, 68, 58,\n",
              "        44, 57, 80, 41, 17,  2, 23, 24, 36, 26, 81, 69, 98, 56, 23, 87,\n",
              "        54, 79,  2, 81],\n",
              "       [87, 56, 69, 12, 52, 92, 26, 93, 24, 87, 20, 49, 98, 59, 51, 77,\n",
              "        59, 71, 70, 88, 58, 76, 70, 85, 61, 80, 51, 58, 89,  6, 56, 13,\n",
              "        58, 75, 29, 52]])"
            ]
          },
          "metadata": {},
          "execution_count": 15
        }
      ]
    },
    {
      "cell_type": "code",
      "source": [
        "a.reshape(36,2)"
      ],
      "metadata": {
        "colab": {
          "base_uri": "https://localhost:8080/"
        },
        "id": "UaU-238ZheAO",
        "outputId": "fcfcfdad-abda-4545-c518-c4eeb70418ce"
      },
      "execution_count": 16,
      "outputs": [
        {
          "output_type": "execute_result",
          "data": {
            "text/plain": [
              "array([[93, 66],\n",
              "       [ 6, 42],\n",
              "       [ 3, 39],\n",
              "       [35, 38],\n",
              "       [54, 17],\n",
              "       [50, 31],\n",
              "       [98, 92],\n",
              "       [68, 58],\n",
              "       [44, 57],\n",
              "       [80, 41],\n",
              "       [17,  2],\n",
              "       [23, 24],\n",
              "       [36, 26],\n",
              "       [81, 69],\n",
              "       [98, 56],\n",
              "       [23, 87],\n",
              "       [54, 79],\n",
              "       [ 2, 81],\n",
              "       [87, 56],\n",
              "       [69, 12],\n",
              "       [52, 92],\n",
              "       [26, 93],\n",
              "       [24, 87],\n",
              "       [20, 49],\n",
              "       [98, 59],\n",
              "       [51, 77],\n",
              "       [59, 71],\n",
              "       [70, 88],\n",
              "       [58, 76],\n",
              "       [70, 85],\n",
              "       [61, 80],\n",
              "       [51, 58],\n",
              "       [89,  6],\n",
              "       [56, 13],\n",
              "       [58, 75],\n",
              "       [29, 52]])"
            ]
          },
          "metadata": {},
          "execution_count": 16
        }
      ]
    },
    {
      "cell_type": "code",
      "source": [
        "a.reshape(3,24)"
      ],
      "metadata": {
        "colab": {
          "base_uri": "https://localhost:8080/"
        },
        "id": "UT4dmVcEhg74",
        "outputId": "54ca5ce7-e5fa-4c4a-873e-13e7b81da104"
      },
      "execution_count": 17,
      "outputs": [
        {
          "output_type": "execute_result",
          "data": {
            "text/plain": [
              "array([[93, 66,  6, 42,  3, 39, 35, 38, 54, 17, 50, 31, 98, 92, 68, 58,\n",
              "        44, 57, 80, 41, 17,  2, 23, 24],\n",
              "       [36, 26, 81, 69, 98, 56, 23, 87, 54, 79,  2, 81, 87, 56, 69, 12,\n",
              "        52, 92, 26, 93, 24, 87, 20, 49],\n",
              "       [98, 59, 51, 77, 59, 71, 70, 88, 58, 76, 70, 85, 61, 80, 51, 58,\n",
              "        89,  6, 56, 13, 58, 75, 29, 52]])"
            ]
          },
          "metadata": {},
          "execution_count": 17
        }
      ]
    },
    {
      "cell_type": "code",
      "source": [
        "a.reshape(24,3)"
      ],
      "metadata": {
        "colab": {
          "base_uri": "https://localhost:8080/"
        },
        "id": "VwCePEXxhl7Z",
        "outputId": "adfa2ccf-0ab9-4770-d355-f9ae47e0e934"
      },
      "execution_count": 18,
      "outputs": [
        {
          "output_type": "execute_result",
          "data": {
            "text/plain": [
              "array([[93, 66,  6],\n",
              "       [42,  3, 39],\n",
              "       [35, 38, 54],\n",
              "       [17, 50, 31],\n",
              "       [98, 92, 68],\n",
              "       [58, 44, 57],\n",
              "       [80, 41, 17],\n",
              "       [ 2, 23, 24],\n",
              "       [36, 26, 81],\n",
              "       [69, 98, 56],\n",
              "       [23, 87, 54],\n",
              "       [79,  2, 81],\n",
              "       [87, 56, 69],\n",
              "       [12, 52, 92],\n",
              "       [26, 93, 24],\n",
              "       [87, 20, 49],\n",
              "       [98, 59, 51],\n",
              "       [77, 59, 71],\n",
              "       [70, 88, 58],\n",
              "       [76, 70, 85],\n",
              "       [61, 80, 51],\n",
              "       [58, 89,  6],\n",
              "       [56, 13, 58],\n",
              "       [75, 29, 52]])"
            ]
          },
          "metadata": {},
          "execution_count": 18
        }
      ]
    },
    {
      "cell_type": "code",
      "source": [
        "a.reshape(4,18)"
      ],
      "metadata": {
        "colab": {
          "base_uri": "https://localhost:8080/"
        },
        "id": "erIRskYChopZ",
        "outputId": "ed0b7537-f3d0-444d-92d5-781203ee6086"
      },
      "execution_count": 19,
      "outputs": [
        {
          "output_type": "execute_result",
          "data": {
            "text/plain": [
              "array([[93, 66,  6, 42,  3, 39, 35, 38, 54, 17, 50, 31, 98, 92, 68, 58,\n",
              "        44, 57],\n",
              "       [80, 41, 17,  2, 23, 24, 36, 26, 81, 69, 98, 56, 23, 87, 54, 79,\n",
              "         2, 81],\n",
              "       [87, 56, 69, 12, 52, 92, 26, 93, 24, 87, 20, 49, 98, 59, 51, 77,\n",
              "        59, 71],\n",
              "       [70, 88, 58, 76, 70, 85, 61, 80, 51, 58, 89,  6, 56, 13, 58, 75,\n",
              "        29, 52]])"
            ]
          },
          "metadata": {},
          "execution_count": 19
        }
      ]
    },
    {
      "cell_type": "code",
      "source": [
        "a.reshape(18,4)"
      ],
      "metadata": {
        "colab": {
          "base_uri": "https://localhost:8080/"
        },
        "id": "UzLLTcYxhq4I",
        "outputId": "54aced62-3268-4467-f34f-7c4e9db98c69"
      },
      "execution_count": 20,
      "outputs": [
        {
          "output_type": "execute_result",
          "data": {
            "text/plain": [
              "array([[93, 66,  6, 42],\n",
              "       [ 3, 39, 35, 38],\n",
              "       [54, 17, 50, 31],\n",
              "       [98, 92, 68, 58],\n",
              "       [44, 57, 80, 41],\n",
              "       [17,  2, 23, 24],\n",
              "       [36, 26, 81, 69],\n",
              "       [98, 56, 23, 87],\n",
              "       [54, 79,  2, 81],\n",
              "       [87, 56, 69, 12],\n",
              "       [52, 92, 26, 93],\n",
              "       [24, 87, 20, 49],\n",
              "       [98, 59, 51, 77],\n",
              "       [59, 71, 70, 88],\n",
              "       [58, 76, 70, 85],\n",
              "       [61, 80, 51, 58],\n",
              "       [89,  6, 56, 13],\n",
              "       [58, 75, 29, 52]])"
            ]
          },
          "metadata": {},
          "execution_count": 20
        }
      ]
    },
    {
      "cell_type": "code",
      "source": [
        "a.reshape(6,12)"
      ],
      "metadata": {
        "colab": {
          "base_uri": "https://localhost:8080/"
        },
        "id": "KbAspkhghtEp",
        "outputId": "039b5d89-eda6-4f4c-b576-313d3af76eaf"
      },
      "execution_count": 21,
      "outputs": [
        {
          "output_type": "execute_result",
          "data": {
            "text/plain": [
              "array([[93, 66,  6, 42,  3, 39, 35, 38, 54, 17, 50, 31],\n",
              "       [98, 92, 68, 58, 44, 57, 80, 41, 17,  2, 23, 24],\n",
              "       [36, 26, 81, 69, 98, 56, 23, 87, 54, 79,  2, 81],\n",
              "       [87, 56, 69, 12, 52, 92, 26, 93, 24, 87, 20, 49],\n",
              "       [98, 59, 51, 77, 59, 71, 70, 88, 58, 76, 70, 85],\n",
              "       [61, 80, 51, 58, 89,  6, 56, 13, 58, 75, 29, 52]])"
            ]
          },
          "metadata": {},
          "execution_count": 21
        }
      ]
    },
    {
      "cell_type": "code",
      "source": [
        "a.reshape(12,6)"
      ],
      "metadata": {
        "colab": {
          "base_uri": "https://localhost:8080/"
        },
        "id": "IRuO_hoBhyvc",
        "outputId": "84097264-92d8-494b-d46a-8edfd897fde2"
      },
      "execution_count": 22,
      "outputs": [
        {
          "output_type": "execute_result",
          "data": {
            "text/plain": [
              "array([[93, 66,  6, 42,  3, 39],\n",
              "       [35, 38, 54, 17, 50, 31],\n",
              "       [98, 92, 68, 58, 44, 57],\n",
              "       [80, 41, 17,  2, 23, 24],\n",
              "       [36, 26, 81, 69, 98, 56],\n",
              "       [23, 87, 54, 79,  2, 81],\n",
              "       [87, 56, 69, 12, 52, 92],\n",
              "       [26, 93, 24, 87, 20, 49],\n",
              "       [98, 59, 51, 77, 59, 71],\n",
              "       [70, 88, 58, 76, 70, 85],\n",
              "       [61, 80, 51, 58, 89,  6],\n",
              "       [56, 13, 58, 75, 29, 52]])"
            ]
          },
          "metadata": {},
          "execution_count": 22
        }
      ]
    },
    {
      "cell_type": "code",
      "source": [
        "a.reshape(8,9)"
      ],
      "metadata": {
        "colab": {
          "base_uri": "https://localhost:8080/"
        },
        "id": "vVOqfknyh1S2",
        "outputId": "2b0d64d4-0052-45e3-952c-ea8bd7a08980"
      },
      "execution_count": 23,
      "outputs": [
        {
          "output_type": "execute_result",
          "data": {
            "text/plain": [
              "array([[93, 66,  6, 42,  3, 39, 35, 38, 54],\n",
              "       [17, 50, 31, 98, 92, 68, 58, 44, 57],\n",
              "       [80, 41, 17,  2, 23, 24, 36, 26, 81],\n",
              "       [69, 98, 56, 23, 87, 54, 79,  2, 81],\n",
              "       [87, 56, 69, 12, 52, 92, 26, 93, 24],\n",
              "       [87, 20, 49, 98, 59, 51, 77, 59, 71],\n",
              "       [70, 88, 58, 76, 70, 85, 61, 80, 51],\n",
              "       [58, 89,  6, 56, 13, 58, 75, 29, 52]])"
            ]
          },
          "metadata": {},
          "execution_count": 23
        }
      ]
    },
    {
      "cell_type": "code",
      "source": [
        "a.reshape(9,8)"
      ],
      "metadata": {
        "colab": {
          "base_uri": "https://localhost:8080/"
        },
        "id": "TnQOVxATh4lp",
        "outputId": "48e80035-a026-4364-8b88-f08489463a19"
      },
      "execution_count": 24,
      "outputs": [
        {
          "output_type": "execute_result",
          "data": {
            "text/plain": [
              "array([[93, 66,  6, 42,  3, 39, 35, 38],\n",
              "       [54, 17, 50, 31, 98, 92, 68, 58],\n",
              "       [44, 57, 80, 41, 17,  2, 23, 24],\n",
              "       [36, 26, 81, 69, 98, 56, 23, 87],\n",
              "       [54, 79,  2, 81, 87, 56, 69, 12],\n",
              "       [52, 92, 26, 93, 24, 87, 20, 49],\n",
              "       [98, 59, 51, 77, 59, 71, 70, 88],\n",
              "       [58, 76, 70, 85, 61, 80, 51, 58],\n",
              "       [89,  6, 56, 13, 58, 75, 29, 52]])"
            ]
          },
          "metadata": {},
          "execution_count": 24
        }
      ]
    },
    {
      "cell_type": "code",
      "source": [
        "# Conditional selection in numpy"
      ],
      "metadata": {
        "id": "Pv3YjkyYh65Y"
      },
      "execution_count": null,
      "outputs": []
    },
    {
      "cell_type": "code",
      "source": [
        "a=np.arange(1,16)\n",
        "a"
      ],
      "metadata": {
        "colab": {
          "base_uri": "https://localhost:8080/"
        },
        "id": "aV-DWmkRjp7e",
        "outputId": "312472c1-7948-410b-b5f6-0898e0ce50be"
      },
      "execution_count": 59,
      "outputs": [
        {
          "output_type": "execute_result",
          "data": {
            "text/plain": [
              "array([ 1,  2,  3,  4,  5,  6,  7,  8,  9, 10, 11, 12, 13, 14, 15])"
            ]
          },
          "metadata": {},
          "execution_count": 59
        }
      ]
    },
    {
      "cell_type": "code",
      "source": [
        "a>10"
      ],
      "metadata": {
        "colab": {
          "base_uri": "https://localhost:8080/"
        },
        "id": "9rOKwvtYjwiZ",
        "outputId": "20014ef1-b5ff-4611-cfee-a6f2ce6e40b4"
      },
      "execution_count": 60,
      "outputs": [
        {
          "output_type": "execute_result",
          "data": {
            "text/plain": [
              "array([False, False, False, False, False, False, False, False, False,\n",
              "       False,  True,  True,  True,  True,  True])"
            ]
          },
          "metadata": {},
          "execution_count": 60
        }
      ]
    },
    {
      "cell_type": "code",
      "source": [
        "a<10"
      ],
      "metadata": {
        "colab": {
          "base_uri": "https://localhost:8080/"
        },
        "id": "5Jj-AjdZjyMs",
        "outputId": "8bcd9bf3-bd2d-4602-c0e3-4093e60a389c"
      },
      "execution_count": 61,
      "outputs": [
        {
          "output_type": "execute_result",
          "data": {
            "text/plain": [
              "array([ True,  True,  True,  True,  True,  True,  True,  True,  True,\n",
              "       False, False, False, False, False, False])"
            ]
          },
          "metadata": {},
          "execution_count": 61
        }
      ]
    },
    {
      "cell_type": "code",
      "source": [
        "b=a>10\n",
        "a[b]"
      ],
      "metadata": {
        "colab": {
          "base_uri": "https://localhost:8080/"
        },
        "id": "r8X3IDpfjz-R",
        "outputId": "235a34d8-2f2f-46a1-9ce7-5c36300fbf07"
      },
      "execution_count": 62,
      "outputs": [
        {
          "output_type": "execute_result",
          "data": {
            "text/plain": [
              "array([11, 12, 13, 14, 15])"
            ]
          },
          "metadata": {},
          "execution_count": 62
        }
      ]
    },
    {
      "cell_type": "code",
      "source": [
        "c=a<=10\n",
        "a[c]"
      ],
      "metadata": {
        "colab": {
          "base_uri": "https://localhost:8080/"
        },
        "id": "YBV4Sa1gj5Ek",
        "outputId": "4fc45100-e5e3-4ec6-960c-29f509357396"
      },
      "execution_count": 63,
      "outputs": [
        {
          "output_type": "execute_result",
          "data": {
            "text/plain": [
              "array([ 1,  2,  3,  4,  5,  6,  7,  8,  9, 10])"
            ]
          },
          "metadata": {},
          "execution_count": 63
        }
      ]
    },
    {
      "cell_type": "code",
      "source": [
        "a[a%2==0]"
      ],
      "metadata": {
        "colab": {
          "base_uri": "https://localhost:8080/"
        },
        "id": "obKu3yb9j8DU",
        "outputId": "0cfed061-8253-48d1-9c7b-d8fd7f3a4f14"
      },
      "execution_count": 64,
      "outputs": [
        {
          "output_type": "execute_result",
          "data": {
            "text/plain": [
              "array([ 2,  4,  6,  8, 10, 12, 14])"
            ]
          },
          "metadata": {},
          "execution_count": 64
        }
      ]
    },
    {
      "cell_type": "code",
      "source": [
        "a[a%2!=0]"
      ],
      "metadata": {
        "colab": {
          "base_uri": "https://localhost:8080/"
        },
        "id": "Z-jj5lrWj_az",
        "outputId": "4138dca6-311a-44cf-cf08-a19887c5be7e"
      },
      "execution_count": 65,
      "outputs": [
        {
          "output_type": "execute_result",
          "data": {
            "text/plain": [
              "array([ 1,  3,  5,  7,  9, 11, 13, 15])"
            ]
          },
          "metadata": {},
          "execution_count": 65
        }
      ]
    },
    {
      "cell_type": "code",
      "source": [
        "a=np.arange(1,5).reshape(2,2)\n",
        "a"
      ],
      "metadata": {
        "colab": {
          "base_uri": "https://localhost:8080/"
        },
        "id": "JdMiX9DFkCHl",
        "outputId": "f46ac20a-2e0c-424d-885a-cc9ca0b97a61"
      },
      "execution_count": 34,
      "outputs": [
        {
          "output_type": "execute_result",
          "data": {
            "text/plain": [
              "array([[1, 2],\n",
              "       [3, 4]])"
            ]
          },
          "metadata": {},
          "execution_count": 34
        }
      ]
    },
    {
      "cell_type": "code",
      "source": [
        "b=np.arange(5,9).reshape(2,2)\n",
        "b"
      ],
      "metadata": {
        "colab": {
          "base_uri": "https://localhost:8080/"
        },
        "id": "J1unoNfUkKn5",
        "outputId": "52a8ca65-dad4-496b-c1d4-70d35eb980ae"
      },
      "execution_count": 35,
      "outputs": [
        {
          "output_type": "execute_result",
          "data": {
            "text/plain": [
              "array([[5, 6],\n",
              "       [7, 8]])"
            ]
          },
          "metadata": {},
          "execution_count": 35
        }
      ]
    },
    {
      "cell_type": "code",
      "source": [
        "a+b ## 1+5 =6 , 2+6 = 8 , 3+7=10, 4+8=12"
      ],
      "metadata": {
        "colab": {
          "base_uri": "https://localhost:8080/"
        },
        "id": "JDAbt1NzkRYg",
        "outputId": "c2ac4290-23fd-4574-ba79-6d5e1ba99b0e"
      },
      "execution_count": 36,
      "outputs": [
        {
          "output_type": "execute_result",
          "data": {
            "text/plain": [
              "array([[ 6,  8],\n",
              "       [10, 12]])"
            ]
          },
          "metadata": {},
          "execution_count": 36
        }
      ]
    },
    {
      "cell_type": "code",
      "source": [
        "a-b"
      ],
      "metadata": {
        "colab": {
          "base_uri": "https://localhost:8080/"
        },
        "id": "wZ1VucW-kaVs",
        "outputId": "32d56b51-b8d6-466d-869e-1626add2739b"
      },
      "execution_count": 37,
      "outputs": [
        {
          "output_type": "execute_result",
          "data": {
            "text/plain": [
              "array([[-4, -4],\n",
              "       [-4, -4]])"
            ]
          },
          "metadata": {},
          "execution_count": 37
        }
      ]
    },
    {
      "cell_type": "code",
      "source": [
        "a*b # wrong multiplication"
      ],
      "metadata": {
        "colab": {
          "base_uri": "https://localhost:8080/"
        },
        "id": "W5wpC1Uhkb7L",
        "outputId": "8c58c331-ade8-44ab-c39f-08ee010fb89f"
      },
      "execution_count": 38,
      "outputs": [
        {
          "output_type": "execute_result",
          "data": {
            "text/plain": [
              "array([[ 5, 12],\n",
              "       [21, 32]])"
            ]
          },
          "metadata": {},
          "execution_count": 38
        }
      ]
    },
    {
      "cell_type": "code",
      "source": [
        "a.dot(b) # This is multiplication"
      ],
      "metadata": {
        "colab": {
          "base_uri": "https://localhost:8080/"
        },
        "id": "L8JqZqU3kfv7",
        "outputId": "4d10efea-0e30-4b0c-f12b-96ca68d67952"
      },
      "execution_count": 39,
      "outputs": [
        {
          "output_type": "execute_result",
          "data": {
            "text/plain": [
              "array([[19, 22],\n",
              "       [43, 50]])"
            ]
          },
          "metadata": {},
          "execution_count": 39
        }
      ]
    },
    {
      "cell_type": "code",
      "source": [
        "a=np.arange(1,10).reshape(3,3)\n",
        "a"
      ],
      "metadata": {
        "colab": {
          "base_uri": "https://localhost:8080/"
        },
        "id": "Hu61L6takk5w",
        "outputId": "84d0abd7-a66b-45cc-e30b-82adff0cc952"
      },
      "execution_count": 40,
      "outputs": [
        {
          "output_type": "execute_result",
          "data": {
            "text/plain": [
              "array([[1, 2, 3],\n",
              "       [4, 5, 6],\n",
              "       [7, 8, 9]])"
            ]
          },
          "metadata": {},
          "execution_count": 40
        }
      ]
    },
    {
      "cell_type": "code",
      "source": [
        "np.sum(a)"
      ],
      "metadata": {
        "colab": {
          "base_uri": "https://localhost:8080/"
        },
        "id": "QspprSpWlSa1",
        "outputId": "d84f5afb-d850-4ba9-a779-26cb2dc73bfb"
      },
      "execution_count": 41,
      "outputs": [
        {
          "output_type": "execute_result",
          "data": {
            "text/plain": [
              "45"
            ]
          },
          "metadata": {},
          "execution_count": 41
        }
      ]
    },
    {
      "cell_type": "code",
      "source": [
        "np.sum(a,axis=1) # Row wise total"
      ],
      "metadata": {
        "colab": {
          "base_uri": "https://localhost:8080/"
        },
        "id": "UeoBLbs_lUQU",
        "outputId": "856b1535-37f9-444e-d793-edab245ca487"
      },
      "execution_count": 42,
      "outputs": [
        {
          "output_type": "execute_result",
          "data": {
            "text/plain": [
              "array([ 6, 15, 24])"
            ]
          },
          "metadata": {},
          "execution_count": 42
        }
      ]
    },
    {
      "cell_type": "code",
      "source": [
        "np.sum(a,axis=0) # Column wise total"
      ],
      "metadata": {
        "colab": {
          "base_uri": "https://localhost:8080/"
        },
        "id": "WzMdipKAlZwy",
        "outputId": "cd5efd40-f3ce-429b-e652-44ced82809d5"
      },
      "execution_count": 43,
      "outputs": [
        {
          "output_type": "execute_result",
          "data": {
            "text/plain": [
              "array([12, 15, 18])"
            ]
          },
          "metadata": {},
          "execution_count": 43
        }
      ]
    },
    {
      "cell_type": "code",
      "source": [
        "# Unique ---> It will return unique values or eliminate duplicate vlues\n",
        "# It will return 3 array\n",
        "#  1> unique value array\n",
        "#  2> indexing of original value\n",
        "#  3> Returning frequency of each unique value"
      ],
      "metadata": {
        "id": "KdsiwB3Almyz"
      },
      "execution_count": null,
      "outputs": []
    },
    {
      "cell_type": "code",
      "source": [
        "a=np.array([1,2,2,2,3,4,3,2,3,3,3,5,4,6])\n",
        "a"
      ],
      "metadata": {
        "colab": {
          "base_uri": "https://localhost:8080/"
        },
        "id": "iFcDGoJjm-PN",
        "outputId": "0da129f6-53c7-4307-921c-1ac3d4097bb4"
      },
      "execution_count": 44,
      "outputs": [
        {
          "output_type": "execute_result",
          "data": {
            "text/plain": [
              "array([1, 2, 2, 2, 3, 4, 3, 2, 3, 3, 3, 5, 4, 6])"
            ]
          },
          "metadata": {},
          "execution_count": 44
        }
      ]
    },
    {
      "cell_type": "code",
      "source": [
        "np.unique(a , return_index=True, return_counts=True)"
      ],
      "metadata": {
        "colab": {
          "base_uri": "https://localhost:8080/"
        },
        "id": "GlGgqV8onGtv",
        "outputId": "34201d33-086b-44ae-9c64-e34cf035358f"
      },
      "execution_count": 46,
      "outputs": [
        {
          "output_type": "execute_result",
          "data": {
            "text/plain": [
              "(array([1, 2, 3, 4, 5, 6]),\n",
              " array([ 0,  1,  4,  5, 11, 13]),\n",
              " array([1, 4, 5, 2, 1, 1]))"
            ]
          },
          "metadata": {},
          "execution_count": 46
        }
      ]
    },
    {
      "cell_type": "code",
      "source": [
        "# Linspace() -->  It will create an array in which differnce of each value will be equal\n"
      ],
      "metadata": {
        "id": "GV4RhYF6naD1"
      },
      "execution_count": null,
      "outputs": []
    },
    {
      "cell_type": "code",
      "source": [
        "a=np.linspace(1,2,5)\n",
        "a"
      ],
      "metadata": {
        "colab": {
          "base_uri": "https://localhost:8080/"
        },
        "id": "ioOnwtm1ovkx",
        "outputId": "532e1984-0e41-42fc-bebb-2472e10d79e0"
      },
      "execution_count": 48,
      "outputs": [
        {
          "output_type": "execute_result",
          "data": {
            "text/plain": [
              "array([1.  , 1.25, 1.5 , 1.75, 2.  ])"
            ]
          },
          "metadata": {},
          "execution_count": 48
        }
      ]
    },
    {
      "cell_type": "code",
      "source": [
        "# stacking in Numpy-->\n",
        "# 1> hstack() --> It will combined Multiple arrays into horizontally\n",
        "# 2> vstack() --> It will combined multiple array into vertically\n"
      ],
      "metadata": {
        "id": "24y3GMmxo3AC"
      },
      "execution_count": null,
      "outputs": []
    },
    {
      "cell_type": "code",
      "source": [
        "a=np.arange(1,5)\n",
        "b=np.arange(5,9)\n",
        "c=np.arange(9,13)\n"
      ],
      "metadata": {
        "id": "xj5la1wdpLwh"
      },
      "execution_count": 49,
      "outputs": []
    },
    {
      "cell_type": "code",
      "source": [
        "np.hstack((a,b,c))"
      ],
      "metadata": {
        "colab": {
          "base_uri": "https://localhost:8080/"
        },
        "id": "KqkV0-gppUwG",
        "outputId": "4038bba7-d59e-4f54-be84-9ab91dc6c35c"
      },
      "execution_count": 50,
      "outputs": [
        {
          "output_type": "execute_result",
          "data": {
            "text/plain": [
              "array([ 1,  2,  3,  4,  5,  6,  7,  8,  9, 10, 11, 12])"
            ]
          },
          "metadata": {},
          "execution_count": 50
        }
      ]
    },
    {
      "cell_type": "code",
      "source": [
        "np.vstack((a,b,c))"
      ],
      "metadata": {
        "colab": {
          "base_uri": "https://localhost:8080/"
        },
        "id": "rFqjYnJIpX32",
        "outputId": "fdba7a68-b580-4bed-d8fa-3c0938d522ee"
      },
      "execution_count": 51,
      "outputs": [
        {
          "output_type": "execute_result",
          "data": {
            "text/plain": [
              "array([[ 1,  2,  3,  4],\n",
              "       [ 5,  6,  7,  8],\n",
              "       [ 9, 10, 11, 12]])"
            ]
          },
          "metadata": {},
          "execution_count": 51
        }
      ]
    },
    {
      "cell_type": "code",
      "source": [
        "a=[[[1,2,3],[4,5,6],[6,7,8]]]\n",
        "b=np.array(a)\n",
        "b"
      ],
      "metadata": {
        "colab": {
          "base_uri": "https://localhost:8080/"
        },
        "id": "hnD_H1jGs5jQ",
        "outputId": "1a6556f2-8c50-4fcf-99a4-c5bcdc0b71a1"
      },
      "execution_count": 52,
      "outputs": [
        {
          "output_type": "execute_result",
          "data": {
            "text/plain": [
              "array([[[1, 2, 3],\n",
              "        [4, 5, 6],\n",
              "        [6, 7, 8]]])"
            ]
          },
          "metadata": {},
          "execution_count": 52
        }
      ]
    },
    {
      "cell_type": "code",
      "source": [
        "b.ndim"
      ],
      "metadata": {
        "colab": {
          "base_uri": "https://localhost:8080/"
        },
        "id": "J6Etwvi9tBAD",
        "outputId": "c7dbd1bd-514b-41ae-f9ec-efae0286ec3b"
      },
      "execution_count": 53,
      "outputs": [
        {
          "output_type": "execute_result",
          "data": {
            "text/plain": [
              "3"
            ]
          },
          "metadata": {},
          "execution_count": 53
        }
      ]
    },
    {
      "cell_type": "code",
      "source": [
        "b[0][0]"
      ],
      "metadata": {
        "colab": {
          "base_uri": "https://localhost:8080/"
        },
        "id": "45PJpZvgtDME",
        "outputId": "8fc74d4f-1f74-4756-c507-6b4705b9b338"
      },
      "execution_count": 54,
      "outputs": [
        {
          "output_type": "execute_result",
          "data": {
            "text/plain": [
              "array([1, 2, 3])"
            ]
          },
          "metadata": {},
          "execution_count": 54
        }
      ]
    },
    {
      "cell_type": "code",
      "source": [
        "b[0][1]"
      ],
      "metadata": {
        "colab": {
          "base_uri": "https://localhost:8080/"
        },
        "id": "JwnbK4W4tGG9",
        "outputId": "6ec64676-2de3-4abb-ff90-025a1b65fe12"
      },
      "execution_count": 55,
      "outputs": [
        {
          "output_type": "execute_result",
          "data": {
            "text/plain": [
              "array([4, 5, 6])"
            ]
          },
          "metadata": {},
          "execution_count": 55
        }
      ]
    },
    {
      "cell_type": "code",
      "source": [
        "b[0][2]"
      ],
      "metadata": {
        "colab": {
          "base_uri": "https://localhost:8080/"
        },
        "id": "HSuUJF0JtNZD",
        "outputId": "7c7e9650-7246-4d6f-f3cd-ae403e2b573e"
      },
      "execution_count": 57,
      "outputs": [
        {
          "output_type": "execute_result",
          "data": {
            "text/plain": [
              "array([6, 7, 8])"
            ]
          },
          "metadata": {},
          "execution_count": 57
        }
      ]
    },
    {
      "cell_type": "code",
      "source": [
        "b[0][2][1]"
      ],
      "metadata": {
        "colab": {
          "base_uri": "https://localhost:8080/"
        },
        "id": "S02-e67HtICa",
        "outputId": "b877a3a8-1f10-4308-9e1f-0954bbdb101b"
      },
      "execution_count": 56,
      "outputs": [
        {
          "output_type": "execute_result",
          "data": {
            "text/plain": [
              "7"
            ]
          },
          "metadata": {},
          "execution_count": 56
        }
      ]
    }
  ]
}