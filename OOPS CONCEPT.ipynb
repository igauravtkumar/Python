{
  "nbformat": 4,
  "nbformat_minor": 0,
  "metadata": {
    "colab": {
      "provenance": []
    },
    "kernelspec": {
      "name": "python3",
      "display_name": "Python 3"
    },
    "language_info": {
      "name": "python"
    }
  },
  "cells": [
    {
      "cell_type": "code",
      "execution_count": null,
      "metadata": {
        "id": "qDqlL_qjmH79"
      },
      "outputs": [],
      "source": [
        "# OOPs\n",
        "# object oriented programming\n",
        "# to map with real world scenarios we started using object in code.\n",
        "# function --less redundency\n",
        "#          -- more reusability\n",
        "\n"
      ]
    },
    {
      "cell_type": "code",
      "source": [
        "# class & object in python ==>\n",
        "#                           class is a blueprint for creating object\n"
      ],
      "metadata": {
        "id": "fS9TAKz5mhGg"
      },
      "execution_count": null,
      "outputs": []
    },
    {
      "cell_type": "code",
      "source": [
        "# init function ==>\n",
        "# constructor =>\n",
        "#               all classes have a function called init() which is always executed when the object is being initiated\n",
        "\n",
        "class student:\n",
        "  name=\"karan\"\n",
        "  def __init__(self,fullname):\n",
        "    self.name = fullname\n",
        "    print(\"adding new student in database\")\n",
        "\n",
        "s1=student(\"karan\")\n",
        "print(s1.name)"
      ],
      "metadata": {
        "colab": {
          "base_uri": "https://localhost:8080/"
        },
        "id": "y-Vvgiz_mwwL",
        "outputId": "18e3d80b-a1cd-4491-fba3-d0fa91c4c819"
      },
      "execution_count": null,
      "outputs": [
        {
          "output_type": "stream",
          "name": "stdout",
          "text": [
            "adding new student in database\n",
            "karan\n"
          ]
        }
      ]
    },
    {
      "cell_type": "code",
      "source": [
        "s2 =student(\"Arjun\")\n",
        "print(s2.name)"
      ],
      "metadata": {
        "colab": {
          "base_uri": "https://localhost:8080/"
        },
        "id": "y1jp5tgunOY6",
        "outputId": "36d56087-b962-4e37-93e4-475460f34036"
      },
      "execution_count": null,
      "outputs": [
        {
          "output_type": "stream",
          "name": "stdout",
          "text": [
            "adding new student in database\n",
            "Arjun\n"
          ]
        }
      ]
    },
    {
      "cell_type": "code",
      "source": [
        "class student:\n",
        "  name=\"karan\"\n",
        "  # default constructor\n",
        "  def __init__(self):\n",
        "    pass\n",
        "  # parameterized constructor\n",
        "  def __init__(self,name,marks):\n",
        "    self.name = name\n",
        "    self.marks = marks\n",
        "    print(\"adding new student in database\")\n",
        "\n",
        "s1=student(\"karan\",88)\n",
        "print(s1.name,s1.marks)"
      ],
      "metadata": {
        "colab": {
          "base_uri": "https://localhost:8080/"
        },
        "id": "L5jpYh7HnduT",
        "outputId": "263a59d6-e6f1-427e-85bb-5c6fc24ff746"
      },
      "execution_count": null,
      "outputs": [
        {
          "output_type": "stream",
          "name": "stdout",
          "text": [
            "adding new student in database\n",
            "karan 88\n"
          ]
        }
      ]
    },
    {
      "cell_type": "code",
      "source": [
        "# Class & Instance Attributes --\n",
        "# class.attr\n",
        "# obj.attr\n",
        "\n",
        "class student:\n",
        "  college=\"abc college\"\n",
        "  name=\"anonymous name\" #class sttribute\n",
        "  def __init__(self,fullname):\n",
        "    self.name = fullname # object attribute > class attribute\n",
        "    print(\"adding new student in database\")\n",
        "\n",
        "s1=student(\"karan\")\n",
        "print(s1.name)"
      ],
      "metadata": {
        "colab": {
          "base_uri": "https://localhost:8080/"
        },
        "id": "KqXJa1vQoi5d",
        "outputId": "ecd20442-675c-48c1-da44-b153c34943bb"
      },
      "execution_count": null,
      "outputs": [
        {
          "output_type": "stream",
          "name": "stdout",
          "text": [
            "adding new student in database\n",
            "karan\n"
          ]
        }
      ]
    },
    {
      "cell_type": "code",
      "source": [
        "# Methods =>\n",
        "#          methods are function that belongs to object\n",
        "\n",
        "# creating class\n",
        "class student:\n",
        "  def __init__(self,fullname):\n",
        "    self.name = fullname\n",
        "\n",
        "  def hello(self):\n",
        "    print(\"Hello\",self.name)\n",
        "\n",
        "# creating object\n",
        "s1=student(\"karan\")\n",
        "s1.hello()"
      ],
      "metadata": {
        "colab": {
          "base_uri": "https://localhost:8080/"
        },
        "id": "O7GU1P7xrLm4",
        "outputId": "94f88adb-5206-41ef-9a8d-205410d01370"
      },
      "execution_count": null,
      "outputs": [
        {
          "output_type": "stream",
          "name": "stdout",
          "text": [
            "Hello karan\n"
          ]
        }
      ]
    },
    {
      "cell_type": "code",
      "source": [
        "# 1> create student class that takes name & marks of 3 subjects as argument in constructor the create a method to print the average\n",
        "\n",
        "class student:\n",
        "  def __init__(self,name, marks):\n",
        "    self.name=name\n",
        "    self.marks=marks\n",
        "\n",
        "  def get_avg(self):\n",
        "      sum=0\n",
        "      for val in self.marks:\n",
        "        sum+=val\n",
        "      print(\"hi\",self.name,\"your avg score is:\",sum/3)\n",
        "\n",
        "s1=student(\"Tony Stark\",[99,98,97])\n",
        "s1.get_avg()\n",
        "\n",
        "s1.name=\"Iron man\"\n",
        "s1.get_avg()\n",
        "\n"
      ],
      "metadata": {
        "colab": {
          "base_uri": "https://localhost:8080/"
        },
        "id": "K3Hn6g3er_CD",
        "outputId": "4eeca01b-1914-4b03-c84c-276b233fdc53"
      },
      "execution_count": null,
      "outputs": [
        {
          "output_type": "stream",
          "name": "stdout",
          "text": [
            "hi Tony Stark your avg score is: 98.0\n",
            "hi Iron man your avg score is: 98.0\n"
          ]
        }
      ]
    },
    {
      "cell_type": "code",
      "source": [
        "# Static Method=>\n",
        "#              methods that don't use the self parameter (work at class level)\n",
        "\n",
        "class student:\n",
        "  @staticmethod # decorator\n",
        "  def college():\n",
        "    print(\"ABC college\")"
      ],
      "metadata": {
        "id": "vTgMx7Ehuxrm"
      },
      "execution_count": null,
      "outputs": []
    },
    {
      "cell_type": "code",
      "source": [
        "# Decorator =>\n",
        "#            allow us to wrap another function in order to extend the behaviour of the wrapped function , without permanently modufying  it"
      ],
      "metadata": {
        "id": "cCkw5fipvTa3"
      },
      "execution_count": null,
      "outputs": []
    },
    {
      "cell_type": "code",
      "source": [
        "class student:\n",
        "  def __init__(self,name, marks):\n",
        "    self.name=name\n",
        "    self.marks=marks\n",
        "  @staticmethod\n",
        "  def hello():\n",
        "    print(\"hello\")\n",
        "\n",
        "  def get_avg(self):\n",
        "      sum=0\n",
        "      for val in self.marks:\n",
        "        sum+=val\n",
        "      print(\"hi\",self.name,\"your avg score is:\",sum/3)\n",
        "\n",
        "s1=student(\"Tony Stark\",[99,98,97])\n",
        "s1.get_avg()\n",
        "\n",
        "s1.hello()\n",
        "\n",
        "s1.name=\"Iron man\"\n",
        "s1.get_avg()"
      ],
      "metadata": {
        "colab": {
          "base_uri": "https://localhost:8080/"
        },
        "id": "NnqISVpVvv6Z",
        "outputId": "c0f4ac21-d8c4-460a-e79f-f8abfc1eee8f"
      },
      "execution_count": null,
      "outputs": [
        {
          "output_type": "stream",
          "name": "stdout",
          "text": [
            "hi Tony Stark your avg score is: 98.0\n",
            "hello\n",
            "hi Iron man your avg score is: 98.0\n"
          ]
        }
      ]
    },
    {
      "cell_type": "code",
      "source": [
        "# OOP principals\n",
        "\n",
        "#1> Abstraction =>\n",
        "#             hiding the implementation details of a class and only showing\n",
        "#             the essential features to the user.\n",
        "\n",
        "class car:\n",
        "  def __init__(self):\n",
        "    self.acc=False\n",
        "    self.brk=False\n",
        "    self.clutch=False\n",
        "\n",
        "  def start(self):\n",
        "    self.clutch = True\n",
        "    self .acc=True\n",
        "    print(\"Car Started..\")\n",
        "\n",
        "car1=car()\n",
        "car1.start()"
      ],
      "metadata": {
        "colab": {
          "base_uri": "https://localhost:8080/"
        },
        "id": "7QrPvXTSx0QH",
        "outputId": "3f9bed46-6b49-492a-aa44-2d44e625d08a"
      },
      "execution_count": null,
      "outputs": [
        {
          "output_type": "stream",
          "name": "stdout",
          "text": [
            "Car Started..\n"
          ]
        }
      ]
    },
    {
      "cell_type": "code",
      "source": [
        "#2>  Encapsulation =>\n",
        "#             Wrapping data and functions into a single unit(object)\n",
        "\n"
      ],
      "metadata": {
        "id": "ehFqhOl0zlEV"
      },
      "execution_count": null,
      "outputs": []
    },
    {
      "cell_type": "code",
      "source": [
        "# 1> cretae account class with 2 attributes-balance & account no.\n",
        "#    create a method for debit , credit & printing the balance\n",
        "\n",
        "\n",
        "class Account:\n",
        "  def __init__(self,bal,acc):\n",
        "    self.balance=bal\n",
        "    self.account_no=acc\n",
        "\n",
        "  # debit method\n",
        "  def debit(self,amount):\n",
        "    self.balance-=amount\n",
        "    print(\"Rs \",amount,\"was debited\")\n",
        "    print(\"total balance =\",self.get_balance())\n",
        "\n",
        "  # credit method\n",
        "  def credit(self,amount):\n",
        "    self.balance+=amount\n",
        "    print(\"Rs \",amount,\"was credited\")\n",
        "    print(\"total balance =\",self.get_balance())\n",
        "\n",
        "  def get_balance(self):\n",
        "    return self.balance\n",
        "\n",
        "\n",
        "acc1=Account(10000,21321)\n",
        "acc1.debit(1000)\n",
        "acc1.credit(500)\n",
        "acc1.credit(45000)\n",
        "acc1.debit(10000)"
      ],
      "metadata": {
        "colab": {
          "base_uri": "https://localhost:8080/"
        },
        "id": "FYvSm8y0z7IW",
        "outputId": "2b15dce3-7200-41fd-82c9-13d8a48d8902"
      },
      "execution_count": null,
      "outputs": [
        {
          "output_type": "stream",
          "name": "stdout",
          "text": [
            "Rs  1000 was debited\n",
            "total balance = 9000\n",
            "Rs  500 was credited\n",
            "total balance = 9500\n",
            "Rs  45000 was credited\n",
            "total balance = 54500\n",
            "Rs  10000 was debited\n",
            "total balance = 44500\n"
          ]
        }
      ]
    },
    {
      "cell_type": "code",
      "source": [
        "# del keyword =>\n",
        "#             used to delete object properties or object .itself\n",
        "\n",
        "# class student:\n",
        "#  def __init__(self,name):\n",
        "#    self.name=name\n",
        "\n",
        "#s1=student(\"gaurav\")\n",
        "#print(s1.name)\n",
        "\n",
        "#del s1.name\n",
        "# print(s1.name)\n",
        "\n"
      ],
      "metadata": {
        "id": "0H-Hsse72qlM"
      },
      "execution_count": null,
      "outputs": []
    },
    {
      "cell_type": "code",
      "source": [
        "# Private (like) attributes & method\n",
        "# private attribute and method are meant to be used only within the class and are not accesiable from outside the class\n",
        "class account:\n",
        "  def __init__(self,acc_no,acc_password):\n",
        "    self.acc_no=acc_no\n",
        "    self.__acc_password=acc_password\n",
        "\n",
        "  def reset_pass(self):\n",
        "    print(self.__acc_password)  # (__)=> privacy\n",
        "\n",
        "\n",
        "acc1=account(\"1234\",\"abcde\")\n",
        "print(acc1.acc_no)\n",
        "print(acc1.reset_pass())"
      ],
      "metadata": {
        "colab": {
          "base_uri": "https://localhost:8080/"
        },
        "id": "A3QghymJ4w8C",
        "outputId": "8aad5447-c9f9-4577-f7ca-49251530ca0d"
      },
      "execution_count": null,
      "outputs": [
        {
          "output_type": "stream",
          "name": "stdout",
          "text": [
            "1234\n",
            "abcde\n",
            "None\n"
          ]
        }
      ]
    },
    {
      "cell_type": "code",
      "source": [
        "class person:\n",
        "  __name=\"anonymous\"\n",
        "\n",
        "  def __hello(self):\n",
        "    print(\"hello person!\")\n",
        "\n",
        "  def welcome(self):\n",
        "     self.__hello()\n",
        "\n",
        "p1=person()\n",
        "print(p1.welcome())"
      ],
      "metadata": {
        "colab": {
          "base_uri": "https://localhost:8080/"
        },
        "id": "IaA_3pRE7MES",
        "outputId": "bc0390b6-e09c-4bec-877c-0ab793013b76"
      },
      "execution_count": null,
      "outputs": [
        {
          "output_type": "stream",
          "name": "stdout",
          "text": [
            "hello person!\n",
            "None\n"
          ]
        }
      ]
    },
    {
      "cell_type": "code",
      "source": [
        "# Inheritance =>\n",
        "#             when one class (child/derived) derives the properties and methods of another class (parent/base)\n",
        "\n",
        "class car:\n",
        "  @staticmethod\n",
        "  def start():\n",
        "    print(\"car started .\")\n",
        "  @staticmethod\n",
        "  def stop():\n",
        "    print(\"car stopped..\")\n",
        "\n",
        "class ToyotaCar(car):\n",
        "  def __init__(self,name):\n",
        "    self.name=name\n",
        "\n",
        "car1=ToyotaCar(\"fortuner\")\n",
        "car2=ToyotaCar(\"prius\")\n",
        "\n",
        "print(car1.name)\n",
        "car1.start()\n",
        "\n"
      ],
      "metadata": {
        "colab": {
          "base_uri": "https://localhost:8080/"
        },
        "id": "WgLanV2MxMC-",
        "outputId": "5f402743-2406-4e75-fbb0-5764210e1be2"
      },
      "execution_count": 9,
      "outputs": [
        {
          "output_type": "stream",
          "name": "stdout",
          "text": [
            "fortuner\n",
            "car started .\n"
          ]
        }
      ]
    },
    {
      "cell_type": "code",
      "source": [
        "# Type of Inheritance=>\n",
        "#                    . single inheritance\n",
        "#                    . multi level inheritance\n",
        "#                    . multiple inheritance"
      ],
      "metadata": {
        "id": "SW-WWRgHyGKV"
      },
      "execution_count": 8,
      "outputs": []
    },
    {
      "cell_type": "code",
      "source": [
        "# Multi level inheritance\n",
        "\n",
        "class car:\n",
        "  @staticmethod\n",
        "  def start():\n",
        "    print(\"car started .\")\n",
        "  @staticmethod\n",
        "  def stop():\n",
        "    print(\"car stopped..\")\n",
        "\n",
        "class ToyotaCar(car):\n",
        "  def __init__(self,brand):\n",
        "    self.brand=brand\n",
        "\n",
        "class fortuner(ToyotaCar):\n",
        "  def __init__(self,type):\n",
        "    self.type=type\n",
        "\n",
        "\n",
        "car1=fortuner(\"diseal\")\n",
        "car1.start()\n",
        "\n"
      ],
      "metadata": {
        "colab": {
          "base_uri": "https://localhost:8080/"
        },
        "id": "zgvYp_XczcVh",
        "outputId": "5b4340fc-5e4f-4199-ec8e-b33ed3201098"
      },
      "execution_count": 10,
      "outputs": [
        {
          "output_type": "stream",
          "name": "stdout",
          "text": [
            "car started .\n"
          ]
        }
      ]
    },
    {
      "cell_type": "code",
      "source": [
        "# Multiple inheritance\n",
        "\n",
        "class A:\n",
        "  varA=\"Welcome to class A\"\n",
        "class B:\n",
        "  varB=\"Welcome to class B\"\n",
        "class C(A,B):\n",
        "  varC=\"Welcome to class C\"\n",
        "\n",
        "c1=C()\n",
        "\n",
        "print(c1.varC)\n",
        "print(c1.varA)\n",
        "print(c1.varB)\n",
        "\n"
      ],
      "metadata": {
        "colab": {
          "base_uri": "https://localhost:8080/"
        },
        "id": "13ylyAsm00bt",
        "outputId": "528b7f7a-dd71-49bf-856e-ee4c993ec608"
      },
      "execution_count": 11,
      "outputs": [
        {
          "output_type": "stream",
          "name": "stdout",
          "text": [
            "Welcome to class C\n",
            "Welcome to class A\n",
            "Welcome to class B\n"
          ]
        }
      ]
    },
    {
      "cell_type": "code",
      "source": [
        "# Super method =>\n",
        "#             super() method is used to access methods of the parent class"
      ],
      "metadata": {
        "id": "BLbpXErP1wLr"
      },
      "execution_count": 12,
      "outputs": []
    },
    {
      "cell_type": "code",
      "source": [
        "class car:\n",
        "  def __init__(self,type):\n",
        "    self.type=type\n",
        "\n",
        "  @staticmethod\n",
        "  def start():\n",
        "    print(\"car started .\")\n",
        "  @staticmethod\n",
        "  def stop():\n",
        "    print(\"car stopped..\")\n",
        "\n",
        "class ToyotaCar(car):\n",
        "  def __init__(self,name,type):\n",
        "    super().__init__(type)\n",
        "    self.name=name\n",
        "    super().start()\n",
        "\n",
        "car1=ToyotaCar(\"prius\",\"electric\")\n",
        "print(car1.type)"
      ],
      "metadata": {
        "colab": {
          "base_uri": "https://localhost:8080/"
        },
        "id": "SzbDs3E917lk",
        "outputId": "72b430d0-c5d6-4c31-fbae-11c30814dcb4"
      },
      "execution_count": 14,
      "outputs": [
        {
          "output_type": "stream",
          "name": "stdout",
          "text": [
            "car started .\n",
            "electric\n"
          ]
        }
      ]
    },
    {
      "cell_type": "code",
      "source": [
        "# Class Method=>\n",
        "#           a class method is bound to the class and receives the class as an implicit first argument\n",
        "\n",
        "# Note - static method can`t acess or modify class state and generally for utility\n",
        "\n",
        "class student:\n",
        "  @classmethod # decorator\n",
        "  def college(cls):\n",
        "    pass"
      ],
      "metadata": {
        "id": "Sk_bS_Ef3YM3"
      },
      "execution_count": 15,
      "outputs": []
    },
    {
      "cell_type": "code",
      "source": [
        "class person:\n",
        "  name=\"annonymous\"\n",
        "\n",
        "  @classmethod\n",
        "  def changename(cls,name):\n",
        "    cls.name=name\n",
        "\n",
        "p1=person()\n",
        "p1.changename(\"rahul kumar\")\n",
        "print(p1.name)\n",
        "print(person.name)"
      ],
      "metadata": {
        "colab": {
          "base_uri": "https://localhost:8080/"
        },
        "id": "PUdtuwO14Eii",
        "outputId": "a53dfe06-dd12-4569-aa76-405609c5e503"
      },
      "execution_count": 16,
      "outputs": [
        {
          "output_type": "stream",
          "name": "stdout",
          "text": [
            "rahul kumar\n",
            "rahul kumar\n"
          ]
        }
      ]
    },
    {
      "cell_type": "code",
      "source": [
        "# Property=>\n",
        "#         we use @property decorator on any method in the class to use the method as a property"
      ],
      "metadata": {
        "id": "ZuVrNsOJ8-iQ"
      },
      "execution_count": 17,
      "outputs": []
    },
    {
      "cell_type": "code",
      "source": [
        "class student:\n",
        "  def __init__(self,phy,che,math):\n",
        "    self.phy=phy\n",
        "    self.che=che\n",
        "    self.math=math\n",
        "  @property\n",
        "  def percentage(self):\n",
        "    return str((self.phy+self.che+self.math) /3)+\"%\"\n",
        "\n",
        "s1=student(98,97,99)\n",
        "print(s1.percentage)\n",
        "\n",
        "s1.phy=86\n",
        "print(s1.percentage)\n"
      ],
      "metadata": {
        "colab": {
          "base_uri": "https://localhost:8080/"
        },
        "id": "xVzERaNn9ehl",
        "outputId": "0690e3c0-8667-465e-a5e6-0f476ec5db79"
      },
      "execution_count": 18,
      "outputs": [
        {
          "output_type": "stream",
          "name": "stdout",
          "text": [
            "98.0%\n",
            "94.0%\n"
          ]
        }
      ]
    },
    {
      "cell_type": "code",
      "source": [
        "#4> Polymorphism : Operator Overloading\n",
        "# when the same operator is allowed to have differnt meaning according to the context\n",
        "\n",
        "# Operator & Dunder function\n",
        "# a+b == addition  a.__add__(b)\n",
        "# a-b == subtraction a.__sub__(b)\n",
        "# a*b == multiplication a.__mul__(b)\n",
        "# a/b == division a.__truediv____(b)\n",
        "# a%b == modular a.__mod____(b)"
      ],
      "metadata": {
        "id": "OXNG1u2w_gVn"
      },
      "execution_count": 19,
      "outputs": []
    },
    {
      "cell_type": "code",
      "source": [
        "class complex:\n",
        "  def __init__(self,real,img):\n",
        "    self.real=real\n",
        "    self.img=img\n",
        "  def shownumber(self):\n",
        "      print(self.real,\"i +\",self.img,\"j\")\n",
        "  def add(self,num2):\n",
        "    newReal=self.real + num2.real\n",
        "    newImg=self.img + num2.img\n",
        "    return complex(newReal,newImg)\n",
        "\n",
        "num1=complex(1,3)\n",
        "num1.shownumber()\n",
        "\n",
        "num2 = complex(4,6)\n",
        "num2.shownumber()\n",
        "\n",
        "num3=num1.add(num2)\n",
        "num3.shownumber()\n"
      ],
      "metadata": {
        "colab": {
          "base_uri": "https://localhost:8080/"
        },
        "id": "HMMYD0NOC-Xo",
        "outputId": "f966ea4a-06c3-4148-fef0-53b871a7ccfb"
      },
      "execution_count": 23,
      "outputs": [
        {
          "output_type": "stream",
          "name": "stdout",
          "text": [
            "1 i + 3 j\n",
            "4 i + 6 j\n",
            "5 i + 9 j\n"
          ]
        }
      ]
    },
    {
      "cell_type": "code",
      "source": [
        "class complex:\n",
        "  def __init__(self,real,img):\n",
        "    self.real=real\n",
        "    self.img=img\n",
        "  def shownumber(self):\n",
        "      print(self.real,\"i +\",self.img,\"j\")\n",
        "  def __add__(self,num2):\n",
        "    newReal=self.real + num2.real\n",
        "    newImg=self.img + num2.img\n",
        "    return complex(newReal,newImg)\n",
        "\n",
        "num1=complex(1,3)\n",
        "num1.shownumber()\n",
        "\n",
        "num2 = complex(4,6)\n",
        "num2.shownumber()\n",
        "\n",
        "num3= num1 + num2\n",
        "num3.shownumber()"
      ],
      "metadata": {
        "colab": {
          "base_uri": "https://localhost:8080/"
        },
        "id": "H2polAfHG1lS",
        "outputId": "75754961-4e46-4515-f900-bb774fd81f12"
      },
      "execution_count": 24,
      "outputs": [
        {
          "output_type": "stream",
          "name": "stdout",
          "text": [
            "1 i + 3 j\n",
            "4 i + 6 j\n",
            "5 i + 9 j\n"
          ]
        }
      ]
    },
    {
      "cell_type": "code",
      "source": [
        "# 1> define a circle class to create a circle with radius r using the constructor\n",
        "#   define an Area()method of the class which calculate the area of the circle define a\n",
        "# Perimeter() method of the class which allow you to calculate the perimeter of the circle\n",
        "\n",
        "class circle:\n",
        "  def __init__(self,radius):\n",
        "    self.radius=radius\n",
        "\n",
        "  def Area(self):\n",
        "    return (22/7) *self.radius**2\n",
        "\n",
        "  def perimeter(self):\n",
        "      return 2* (22/7) *self.radius\n",
        "\n",
        "c1=circle(21)\n",
        "print(c1.Area())\n",
        "print(c1.perimeter())\n"
      ],
      "metadata": {
        "colab": {
          "base_uri": "https://localhost:8080/"
        },
        "id": "wGAqD4_bG8rU",
        "outputId": "fd17ec0c-bfea-4415-ee7a-065686757e48"
      },
      "execution_count": 26,
      "outputs": [
        {
          "output_type": "stream",
          "name": "stdout",
          "text": [
            "1386.0\n",
            "132.0\n"
          ]
        }
      ]
    }
  ]
}