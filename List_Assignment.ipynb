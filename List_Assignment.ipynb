{
  "nbformat": 4,
  "nbformat_minor": 0,
  "metadata": {
    "colab": {
      "provenance": []
    },
    "kernelspec": {
      "name": "python3",
      "display_name": "Python 3"
    },
    "language_info": {
      "name": "python"
    }
  },
  "cells": [
    {
      "cell_type": "code",
      "execution_count": null,
      "metadata": {
        "colab": {
          "base_uri": "https://localhost:8080/"
        },
        "id": "QIPe_zOnzct8",
        "outputId": "641b8b6a-5d92-4d92-c844-857677ee5837"
      },
      "outputs": [
        {
          "output_type": "stream",
          "name": "stdout",
          "text": [
            "[1, 2, 3, 4, 5]\n"
          ]
        }
      ],
      "source": [
        "#  Print All Elements of a List\n",
        "list=[1,2,3,4,5]\n",
        "new_list=[]\n",
        "for i in list:\n",
        "  new_list.append(i)\n",
        "print(new_list)\n",
        "\n"
      ]
    },
    {
      "cell_type": "code",
      "source": [
        "#  Sum of All Elements\n",
        "list1=[1,2,3,4,5]\n",
        "sum=0\n",
        "for i in list1:\n",
        "  sum+=i\n",
        "print(sum)"
      ],
      "metadata": {
        "colab": {
          "base_uri": "https://localhost:8080/"
        },
        "id": "v-bwG3aE0TrA",
        "outputId": "8435e43f-8f3d-4371-b0fe-a1ca995c5b64"
      },
      "execution_count": null,
      "outputs": [
        {
          "output_type": "stream",
          "name": "stdout",
          "text": [
            "15\n"
          ]
        }
      ]
    },
    {
      "cell_type": "code",
      "source": [
        "#  Product of All Elements\n",
        "list1=[1,2,3,4,5]\n",
        "product=1\n",
        "for i in list1:\n",
        "  product*=i\n",
        "print(product)"
      ],
      "metadata": {
        "colab": {
          "base_uri": "https://localhost:8080/"
        },
        "id": "lNhe6G-90cc5",
        "outputId": "ded3490f-3428-443e-f3d1-a7b947c41952"
      },
      "execution_count": null,
      "outputs": [
        {
          "output_type": "stream",
          "name": "stdout",
          "text": [
            "120\n"
          ]
        }
      ]
    },
    {
      "cell_type": "code",
      "source": [
        "#  Find the Maximum Value\n",
        "list=[10,22,3,33,54,76,56]\n",
        "max=list[0]\n",
        "for i in list:\n",
        "  if i>max:\n",
        "    max=i\n",
        "print(max)"
      ],
      "metadata": {
        "colab": {
          "base_uri": "https://localhost:8080/"
        },
        "id": "3LwGIOvN0xc-",
        "outputId": "e4953dd9-8926-4086-9ab9-52b6cb484ca0"
      },
      "execution_count": null,
      "outputs": [
        {
          "output_type": "stream",
          "name": "stdout",
          "text": [
            "76\n"
          ]
        }
      ]
    },
    {
      "cell_type": "code",
      "source": [
        "#  Find the Minimum Value\n",
        "list=[10,22,3,33,54,76,56]\n",
        "min=list[0]\n",
        "for i in list:\n",
        "  if i<min:\n",
        "    min=i\n",
        "print(min)"
      ],
      "metadata": {
        "colab": {
          "base_uri": "https://localhost:8080/"
        },
        "id": "aPb0L6ug1Rn1",
        "outputId": "2b6811d8-b459-4e53-f60e-87a39b501505"
      },
      "execution_count": null,
      "outputs": [
        {
          "output_type": "stream",
          "name": "stdout",
          "text": [
            "3\n"
          ]
        }
      ]
    },
    {
      "cell_type": "code",
      "source": [
        "#  Access the Middle Element\n",
        "list=[2,4,6,8,10,12]\n",
        "for i in range(len(list)):\n",
        "  if i==len(list)//2 or i==len(list)//2-1:\n",
        "    print(list[i],end=\" \")"
      ],
      "metadata": {
        "colab": {
          "base_uri": "https://localhost:8080/"
        },
        "id": "1drm8UFX1g2T",
        "outputId": "55a543a3-ff66-43d5-bb1e-cbd9a3693bc9"
      },
      "execution_count": null,
      "outputs": [
        {
          "output_type": "stream",
          "name": "stdout",
          "text": [
            "6 8 "
          ]
        }
      ]
    },
    {
      "cell_type": "code",
      "source": [
        "#  Reverse a List\n",
        "list=[1,2,3,4,5]\n",
        "for i in range(len(list)-1,-1,-1):\n",
        "  print(list[i],end=' ')"
      ],
      "metadata": {
        "colab": {
          "base_uri": "https://localhost:8080/"
        },
        "id": "lROoYHhZ2CH1",
        "outputId": "70b6cba0-4d69-462d-93d4-b52541260c11"
      },
      "execution_count": null,
      "outputs": [
        {
          "output_type": "stream",
          "name": "stdout",
          "text": [
            "5 4 3 2 1 "
          ]
        }
      ]
    },
    {
      "cell_type": "code",
      "source": [
        "# Count Occurrences of an Element\n",
        "list1=[1,2,2,2,3,3,4,4,4,4,4,4,5,5,6]\n",
        "specific_value=4\n",
        "count=0\n",
        "for i in list1:\n",
        "  if i==specific_value:\n",
        "    count+=1\n",
        "print(f\"specific element {specific_value} present in {count} times\")"
      ],
      "metadata": {
        "colab": {
          "base_uri": "https://localhost:8080/"
        },
        "id": "6px52hP-2QeW",
        "outputId": "36bf41c0-9191-48d7-ccff-a04352a2016b"
      },
      "execution_count": null,
      "outputs": [
        {
          "output_type": "stream",
          "name": "stdout",
          "text": [
            "specific element 4 present in 6 times\n"
          ]
        }
      ]
    },
    {
      "cell_type": "code",
      "source": [
        "#  Remove All Occurrences of a Specific Element\n",
        "list1=[1,2,2,2,3,3,4,4,4,4,4,4,5,5,6]\n",
        "result=[]\n",
        "specific_value=4\n",
        "for i in list1:\n",
        "  if i!=specific_value:\n",
        "    result.append(i)\n",
        "print(result)"
      ],
      "metadata": {
        "colab": {
          "base_uri": "https://localhost:8080/"
        },
        "id": "pLjAcEfr3SJg",
        "outputId": "c04d51d0-2ab6-4b1b-dca8-8d118b1e3df7"
      },
      "execution_count": null,
      "outputs": [
        {
          "output_type": "stream",
          "name": "stdout",
          "text": [
            "[1, 2, 2, 2, 3, 3, 5, 5, 6]\n"
          ]
        }
      ]
    },
    {
      "cell_type": "code",
      "source": [
        "#  Remove Duplicates\n",
        "list1=[1,2,2,2,3,3,4,4,5,6,7]\n",
        "list2=[]\n",
        "for i in list1:\n",
        "  if i not in list2:\n",
        "    list2.append(i)\n",
        "print(list2)"
      ],
      "metadata": {
        "colab": {
          "base_uri": "https://localhost:8080/"
        },
        "id": "1cG4P4GA4ViX",
        "outputId": "aef98861-2556-4f47-c405-16df29d23c44"
      },
      "execution_count": null,
      "outputs": [
        {
          "output_type": "stream",
          "name": "stdout",
          "text": [
            "[1, 2, 3, 4, 5, 6, 7]\n"
          ]
        }
      ]
    },
    {
      "cell_type": "code",
      "source": [
        "#  Create a List of Even Numbers\n",
        "list=[]\n",
        "for i in range(1,11):\n",
        "  if i%2==0:\n",
        "    list.append(i)\n",
        "print(list)"
      ],
      "metadata": {
        "colab": {
          "base_uri": "https://localhost:8080/"
        },
        "id": "e4cBxuuj4mWl",
        "outputId": "12fbd038-9ba8-4a78-cbb0-c75e1f3e8e83"
      },
      "execution_count": null,
      "outputs": [
        {
          "output_type": "stream",
          "name": "stdout",
          "text": [
            "[2, 4, 6, 8, 10]\n"
          ]
        }
      ]
    },
    {
      "cell_type": "code",
      "source": [
        "#  Create a List of Odd Numbers\n",
        "list=[]\n",
        "for i in range(1,11):\n",
        "  if i%2!=0:\n",
        "    list.append(i)\n",
        "print(list)"
      ],
      "metadata": {
        "colab": {
          "base_uri": "https://localhost:8080/"
        },
        "id": "lQ9JN03r4ym4",
        "outputId": "101d75c3-c6bc-4a87-a617-3ec92aa853e9"
      },
      "execution_count": null,
      "outputs": [
        {
          "output_type": "stream",
          "name": "stdout",
          "text": [
            "[1, 3, 5, 7, 9]\n"
          ]
        }
      ]
    },
    {
      "cell_type": "code",
      "source": [
        "#  Sum of Even Numbers\n",
        "list=[2, 4, 6, 8, 10]\n",
        "sum=0\n",
        "for i in list:\n",
        "  sum+=i\n",
        "print(sum)\n",
        "\n"
      ],
      "metadata": {
        "colab": {
          "base_uri": "https://localhost:8080/"
        },
        "id": "fMnOBz_85DGH",
        "outputId": "9501f57c-60cb-4512-896a-d19ece4d40e8"
      },
      "execution_count": null,
      "outputs": [
        {
          "output_type": "stream",
          "name": "stdout",
          "text": [
            "30\n"
          ]
        }
      ]
    },
    {
      "cell_type": "code",
      "source": [
        "#  Sum of Odd Numbers\n",
        "list=[1, 3, 5, 7, 9]\n",
        "sum=0\n",
        "for i in list:\n",
        "  sum+=i\n",
        "print(sum)"
      ],
      "metadata": {
        "colab": {
          "base_uri": "https://localhost:8080/"
        },
        "id": "U2KPr66e5Tta",
        "outputId": "64cb9114-0784-4804-fc57-b4ea9caf8507"
      },
      "execution_count": null,
      "outputs": [
        {
          "output_type": "stream",
          "name": "stdout",
          "text": [
            "25\n"
          ]
        }
      ]
    },
    {
      "cell_type": "code",
      "source": [
        "#  Check if a List is Palindromic\n",
        "list1 = [1, 2, 3, 2, 1]\n",
        "is_palindrome = True\n",
        "\n",
        "start = 0\n",
        "end = len(list1) - 1\n",
        "\n",
        "while start < end:\n",
        "    if list1[start] != list1[end]:\n",
        "        is_palindrome = False\n",
        "        break\n",
        "    start += 1\n",
        "    end -= 1\n",
        "\n",
        "if is_palindrome:\n",
        "    print(\"The list is a palindrome.\")\n",
        "else:\n",
        "    print(\"The list is not a palindrome.\")\n",
        "\n"
      ],
      "metadata": {
        "colab": {
          "base_uri": "https://localhost:8080/"
        },
        "id": "igZs32Pf5gN_",
        "outputId": "95ff4d43-be7e-4a48-b45a-b2b0131170fd"
      },
      "execution_count": null,
      "outputs": [
        {
          "output_type": "stream",
          "name": "stdout",
          "text": [
            "The list is a palindrome.\n"
          ]
        }
      ]
    },
    {
      "cell_type": "code",
      "source": [
        "#  Find the Index of an Element\n",
        "list1=[1,2,2,2,3,3,4,4,4,4,4,4,5,5,6]\n",
        "specific_value=4\n",
        "for i in list1:\n",
        "  if list[i]==specific_value:\n",
        "    print(f\"specific element {specific_value} indexing is {i}\")\n"
      ],
      "metadata": {
        "id": "eYNcXG1A65cW"
      },
      "execution_count": null,
      "outputs": []
    },
    {
      "cell_type": "code",
      "source": [
        "#  Find the Last Index of an Element\n",
        "list1=[1,2,2,2,3,3,4,4,4,4,4,4,5,5,6]\n",
        "specific=5\n",
        "for i in range(len(list1)-1,-1,-1):\n",
        "  if list1[i]==specific:\n",
        "    print(f\"specific element {specific} indexing is {i}\")\n"
      ],
      "metadata": {
        "colab": {
          "base_uri": "https://localhost:8080/"
        },
        "id": "7Zvc4gCS7lp_",
        "outputId": "7bd67a17-37bf-487a-a025-07e0522049c4"
      },
      "execution_count": null,
      "outputs": [
        {
          "output_type": "stream",
          "name": "stdout",
          "text": [
            "specific element 5 indexing is 5\n"
          ]
        }
      ]
    },
    {
      "cell_type": "code",
      "source": [
        "#  Merge Two Lists into One\n",
        "list1=[1,2,3]\n",
        "list2=[4,5,6]\n",
        "for i in list2:\n",
        "  list1.append(i)\n",
        "print(list1)"
      ],
      "metadata": {
        "colab": {
          "base_uri": "https://localhost:8080/"
        },
        "id": "w_GAWE4T8FMi",
        "outputId": "76307664-55ed-4f38-fa3e-0432563a8134"
      },
      "execution_count": null,
      "outputs": [
        {
          "output_type": "stream",
          "name": "stdout",
          "text": [
            "[1, 2, 3, 4, 5, 6]\n"
          ]
        }
      ]
    },
    {
      "cell_type": "code",
      "source": [
        "list1=[1,2,3]\n",
        "list2=[4,5,6]\n",
        "merged_list=list1+list2\n",
        "print(merged_list)"
      ],
      "metadata": {
        "colab": {
          "base_uri": "https://localhost:8080/"
        },
        "id": "t_b4SZ748Pjk",
        "outputId": "15f9c677-8f59-4255-e45c-53b15c4449e4"
      },
      "execution_count": null,
      "outputs": [
        {
          "output_type": "stream",
          "name": "stdout",
          "text": [
            "[1, 2, 3, 4, 5, 6]\n"
          ]
        }
      ]
    },
    {
      "cell_type": "code",
      "source": [
        "#  Create a New List by Doubling Each Value\n",
        "list1=[1,2,3,4,5,6]\n",
        "new_list=[]\n",
        "for i in list1:\n",
        "  new_list.append(i*2)\n",
        "print(new_list)"
      ],
      "metadata": {
        "colab": {
          "base_uri": "https://localhost:8080/"
        },
        "id": "2Kfm_HiF8xPc",
        "outputId": "0b5f2b83-435b-4354-859e-9a3b0747ad90"
      },
      "execution_count": null,
      "outputs": [
        {
          "output_type": "stream",
          "name": "stdout",
          "text": [
            "[2, 4, 6, 8, 10, 12]\n"
          ]
        }
      ]
    },
    {
      "cell_type": "code",
      "source": [
        "#  Access List Indices\n",
        "list1=[1,2,3,4,5,6,7]\n",
        "for index,value in enumerate(list1):\n",
        "  print(index,value)"
      ],
      "metadata": {
        "id": "_Wgfnrbo8xNT",
        "colab": {
          "base_uri": "https://localhost:8080/"
        },
        "outputId": "d576d1dd-1cf6-4926-c77e-ca592ec4f6e7"
      },
      "execution_count": null,
      "outputs": [
        {
          "output_type": "stream",
          "name": "stdout",
          "text": [
            "0 1\n",
            "1 2\n",
            "2 3\n",
            "3 4\n",
            "4 5\n",
            "5 6\n",
            "6 7\n"
          ]
        }
      ]
    },
    {
      "cell_type": "code",
      "source": [
        "#  Convert List to String\n",
        "s = ['a', 'b', 'c', 'd']\n",
        "str1=''.join(s)\n",
        "print(str1)"
      ],
      "metadata": {
        "colab": {
          "base_uri": "https://localhost:8080/"
        },
        "id": "yWAot03lwRfH",
        "outputId": "d4bcffbb-e9ca-452e-94c1-6d07be5b58ad"
      },
      "execution_count": null,
      "outputs": [
        {
          "output_type": "stream",
          "name": "stdout",
          "text": [
            "abcd\n"
          ]
        }
      ]
    },
    {
      "cell_type": "code",
      "source": [
        "# Find Index of List Item\n",
        "list1=[10,20,30,40]\n",
        "print(list1.index(30))"
      ],
      "metadata": {
        "colab": {
          "base_uri": "https://localhost:8080/"
        },
        "id": "F0HbhdpKwjZq",
        "outputId": "2bddcae1-76eb-4550-bb76-987d948b2b77"
      },
      "execution_count": null,
      "outputs": [
        {
          "output_type": "stream",
          "name": "stdout",
          "text": [
            "2\n"
          ]
        }
      ]
    },
    {
      "cell_type": "code",
      "source": [
        "#  Append One List to Another\n",
        "list1=[1,2,3,4]\n",
        "list2=[5,6,7,8]\n",
        "for i in list2:\n",
        "  list1.append(i)\n",
        "print(list1)"
      ],
      "metadata": {
        "colab": {
          "base_uri": "https://localhost:8080/"
        },
        "id": "UzqnTn3hw-qG",
        "outputId": "73db2133-3723-4e88-c06a-07a1b43e3c9e"
      },
      "execution_count": null,
      "outputs": [
        {
          "output_type": "stream",
          "name": "stdout",
          "text": [
            "[1, 2, 3, 4, 5, 6, 7, 8]\n"
          ]
        }
      ]
    },
    {
      "cell_type": "code",
      "source": [
        "#  Find Second Largest Number in List\n",
        "list1=[11,23,3,4,5,65,45,32]\n",
        "largest=list1[0]\n",
        "second_largest=list1[0]\n",
        "for i in list1:\n",
        "  if i > largest:\n",
        "    second_largest=largest\n",
        "    largest=i\n",
        "  elif i > second_largest and i != largest:\n",
        "    second_largest=i\n",
        "print(largest,second_largest)"
      ],
      "metadata": {
        "colab": {
          "base_uri": "https://localhost:8080/"
        },
        "id": "F5LTpQaUxOYq",
        "outputId": "f5a3337c-bd3a-4e89-e199-31a268054c41"
      },
      "execution_count": null,
      "outputs": [
        {
          "output_type": "stream",
          "name": "stdout",
          "text": [
            "65 45\n"
          ]
        }
      ]
    },
    {
      "cell_type": "code",
      "source": [
        "#  Find Second Smallest Number in List\n",
        "list1=[11,23,3,4,5,65,45,32]\n",
        "smallest=list1[0]\n",
        "second_smallest=list1[0]\n",
        "for i in list1:\n",
        "  if i < smallest:\n",
        "    second_smallest=smallest\n",
        "    smallest=i\n",
        "  elif i < second_smallest and i != smallest:\n",
        "    second_smallest=i\n",
        "print(\"second_smallest :\" , second_smallest)\n",
        "print(\"smallest :\",smallest)"
      ],
      "metadata": {
        "colab": {
          "base_uri": "https://localhost:8080/"
        },
        "id": "ea6ZuG-yyRQF",
        "outputId": "c31992b8-bce4-4375-cec2-402390d0417f"
      },
      "execution_count": null,
      "outputs": [
        {
          "output_type": "stream",
          "name": "stdout",
          "text": [
            "second_smallest : 4\n",
            "smallest : 3\n"
          ]
        }
      ]
    },
    {
      "cell_type": "code",
      "source": [
        "#  Count all letters, digits, and special symbols from a given string\n",
        "str1 = \"P@#yn26at^&i5ve\"\n",
        "letter=0\n",
        "digit=0\n",
        "special_symbol=0\n",
        "for i in str1:\n",
        "  if i.isalpha():\n",
        "    letter+=1\n",
        "  elif i.isdigit():\n",
        "    digit+=1\n",
        "  else:\n",
        "    special_symbol+=1\n",
        "print(\"letter\",letter)\n",
        "print(\"digit :\",digit)\n",
        "print(\"special_symbol :\",special_symbol)"
      ],
      "metadata": {
        "colab": {
          "base_uri": "https://localhost:8080/"
        },
        "id": "yHh_ielFzS4O",
        "outputId": "c30b1eed-8b21-4b90-8c59-e392f39afd63"
      },
      "execution_count": null,
      "outputs": [
        {
          "output_type": "stream",
          "name": "stdout",
          "text": [
            "letter 8\n",
            "digit : 3\n",
            "special_symbol : 4\n"
          ]
        }
      ]
    },
    {
      "cell_type": "code",
      "source": [
        "#  extract all the emailid for the given string\n",
        "string = \"Hi my name is Govind Das and my mail id is milindmali108@gmail.com and my org\"\n",
        "str=string.split()\n",
        "email_id=''\n",
        "for char in str:\n",
        "  if '@' in char and '.' in char:\n",
        "    email_id=char\n",
        "    break\n",
        "print(email_id)"
      ],
      "metadata": {
        "colab": {
          "base_uri": "https://localhost:8080/"
        },
        "id": "jzO4_VuP0Ilk",
        "outputId": "a461758c-8647-4dea-fb7c-7eb3eba5acdf"
      },
      "execution_count": null,
      "outputs": [
        {
          "output_type": "stream",
          "name": "stdout",
          "text": [
            "milindmali108@gmail.com\n"
          ]
        }
      ]
    },
    {
      "cell_type": "code",
      "source": [
        "str1 = 'I am 25 years and 10 months old'\n",
        "integer=''\n",
        "for i in str1:\n",
        "  if i.isdigit():\n",
        "    integer+=i\n",
        "print(integer)"
      ],
      "metadata": {
        "colab": {
          "base_uri": "https://localhost:8080/"
        },
        "id": "JBTvoasO0zOe",
        "outputId": "282edff0-68c7-40a1-9c71-0e7f3434d773"
      },
      "execution_count": null,
      "outputs": [
        {
          "output_type": "stream",
          "name": "stdout",
          "text": [
            "2510\n"
          ]
        }
      ]
    },
    {
      "cell_type": "code",
      "source": [
        "list1 = [2, 3, 4, 5, 6, 7, 8]\n",
        "list2 = [4, 9, 16, 25, 36, 49, 64]\n",
        "pair=list(zip(list1,list2))\n",
        "print(pair)"
      ],
      "metadata": {
        "colab": {
          "base_uri": "https://localhost:8080/"
        },
        "id": "WXbSbBcs3d03",
        "outputId": "0ff1d0d4-ad1c-4443-aa56-77f7776143ae"
      },
      "execution_count": null,
      "outputs": [
        {
          "output_type": "stream",
          "name": "stdout",
          "text": [
            "[(2, 4), (3, 9), (4, 16), (5, 25), (6, 36), (7, 49), (8, 64)]\n"
          ]
        }
      ]
    },
    {
      "cell_type": "code",
      "source": [
        "str1=\"hey@hello@user\"\n",
        "parts=str1.split('@')\n",
        "parts.reverse()\n",
        "output='@'.join(parts)\n",
        "print(output)"
      ],
      "metadata": {
        "colab": {
          "base_uri": "https://localhost:8080/"
        },
        "id": "YmymYeEd3_h-",
        "outputId": "2a11bfca-9e1e-44a9-81bb-5069f4eb53aa"
      },
      "execution_count": null,
      "outputs": [
        {
          "output_type": "stream",
          "name": "stdout",
          "text": [
            "user@hello@hey\n"
          ]
        }
      ]
    }
  ]
}