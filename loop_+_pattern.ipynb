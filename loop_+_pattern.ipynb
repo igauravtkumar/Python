{
  "nbformat": 4,
  "nbformat_minor": 0,
  "metadata": {
    "colab": {
      "provenance": []
    },
    "kernelspec": {
      "name": "python3",
      "display_name": "Python 3"
    },
    "language_info": {
      "name": "python"
    }
  },
  "cells": [
    {
      "cell_type": "code",
      "execution_count": null,
      "metadata": {
        "colab": {
          "base_uri": "https://localhost:8080/"
        },
        "id": "vtCW-lz8pz6J",
        "outputId": "fff0db48-8679-4937-df5d-6a092b88b9fb"
      },
      "outputs": [
        {
          "output_type": "stream",
          "name": "stdout",
          "text": [
            "LCM is 34\n"
          ]
        }
      ],
      "source": [
        "# LCM => Least Common multiplier\n",
        "# 11 ,2\n",
        "x=2\n",
        "y=17\n",
        "if (x>y):\n",
        "  greatest=x\n",
        "else:\n",
        "  greatest=y\n",
        "while(True):\n",
        "  if (greatest%x==0 and greatest%y==0):\n",
        "    print(\"LCM is\",greatest)\n",
        "    break\n",
        "  else:\n",
        "    greatest+=1"
      ]
    },
    {
      "cell_type": "code",
      "source": [
        "num=134\n",
        "total=0\n",
        "while(num>0):\n",
        "  rem=num%10\n",
        "  total=total+rem\n",
        "  num=num//10\n",
        "print(total)"
      ],
      "metadata": {
        "colab": {
          "base_uri": "https://localhost:8080/"
        },
        "id": "Tvw17IXevsTb",
        "outputId": "cb76f8a7-b300-4dec-c1cd-a2899d45df79"
      },
      "execution_count": null,
      "outputs": [
        {
          "output_type": "stream",
          "name": "stdout",
          "text": [
            "8\n"
          ]
        }
      ]
    },
    {
      "cell_type": "code",
      "source": [
        "num=3241\n",
        "product=1\n",
        "while(num>0):\n",
        "  rem=num%10\n",
        "  product=product*rem\n",
        "  num=num//10\n",
        "print(product)"
      ],
      "metadata": {
        "colab": {
          "base_uri": "https://localhost:8080/"
        },
        "id": "dLdKmKPswtKo",
        "outputId": "9f749abf-e783-42ec-f62f-16fbb0128191"
      },
      "execution_count": null,
      "outputs": [
        {
          "output_type": "stream",
          "name": "stdout",
          "text": [
            "24\n"
          ]
        }
      ]
    },
    {
      "cell_type": "code",
      "source": [
        "num=54321\n",
        "fact=1\n",
        "while(num>0):\n",
        "  rem=num%10\n",
        "  fact=fact*rem\n",
        "  num=num//10\n",
        "print(fact)\n"
      ],
      "metadata": {
        "colab": {
          "base_uri": "https://localhost:8080/"
        },
        "id": "Srly5EA6xLB5",
        "outputId": "cd6cdd2e-e58d-4664-9312-fc4f974df5b3"
      },
      "execution_count": null,
      "outputs": [
        {
          "output_type": "stream",
          "name": "stdout",
          "text": [
            "120\n"
          ]
        }
      ]
    },
    {
      "cell_type": "code",
      "source": [
        "# Factorial\n",
        "num=30\n",
        "x=1\n",
        "while(x<=num):\n",
        "  if(num%x==0):\n",
        "    print(\"factorial\",x)\n",
        "  x+=1\n"
      ],
      "metadata": {
        "colab": {
          "base_uri": "https://localhost:8080/"
        },
        "id": "9zsUFf9LzU5v",
        "outputId": "65837e78-a910-4a57-d8e9-815ff94faa86"
      },
      "execution_count": null,
      "outputs": [
        {
          "output_type": "stream",
          "name": "stdout",
          "text": [
            "factorial 1\n",
            "factorial 2\n",
            "factorial 3\n",
            "factorial 5\n",
            "factorial 6\n",
            "factorial 10\n",
            "factorial 15\n",
            "factorial 30\n"
          ]
        }
      ]
    },
    {
      "cell_type": "code",
      "source": [
        " # Armstrong\n",
        "num=153\n",
        "sum=0\n",
        "temp=num\n",
        "while(num>0):\n",
        "  rem=num%10\n",
        "  sum=sum+rem*rem*rem\n",
        "  num=num//10\n",
        "if (temp==sum):\n",
        "  print('Armstrong')\n",
        "else:\n",
        "  print('Not Armstrong')\n"
      ],
      "metadata": {
        "colab": {
          "base_uri": "https://localhost:8080/"
        },
        "id": "O0Jaz0qu0iDL",
        "outputId": "7f55f934-daa0-426a-ef48-1905ae188285"
      },
      "execution_count": null,
      "outputs": [
        {
          "output_type": "stream",
          "name": "stdout",
          "text": [
            "Armstrong\n"
          ]
        }
      ]
    },
    {
      "cell_type": "code",
      "source": [
        "# Palindrome\n",
        "num=121\n",
        "sum=0\n",
        "temp=num\n",
        "while(num>0):\n",
        "  rem=num%10\n",
        "  sum=sum*10+rem\n",
        "  num=num//10\n",
        "if (temp==sum):\n",
        "  print(\"palindrome\",sum)\n",
        "else:\n",
        "  print(\"not palindrome\")"
      ],
      "metadata": {
        "id": "WyliEmKd_6VK"
      },
      "execution_count": null,
      "outputs": []
    },
    {
      "cell_type": "code",
      "source": [
        "# Nested loop\n",
        "i=1\n",
        "for i in range(1,4):\n",
        "  print(\"hey\",i)\n",
        "\n",
        "  for j in range(10,12):\n",
        "    print(\"hello\",j)\n",
        "\n"
      ],
      "metadata": {
        "id": "il8PsdQkEpnS",
        "colab": {
          "base_uri": "https://localhost:8080/"
        },
        "outputId": "2022bf1c-69ce-42d5-c0a7-821a5063d181"
      },
      "execution_count": null,
      "outputs": [
        {
          "output_type": "stream",
          "name": "stdout",
          "text": [
            "hey 1\n",
            "hello 10\n",
            "hello 11\n",
            "hey 2\n",
            "hello 10\n",
            "hello 11\n",
            "hey 3\n",
            "hello 10\n",
            "hello 11\n"
          ]
        }
      ]
    },
    {
      "cell_type": "code",
      "source": [
        "for student in range(1,6):\n",
        "  print(\"student :\",student)\n",
        "  for subject in range(1,4):\n",
        "    print(\"subject\",subject)"
      ],
      "metadata": {
        "colab": {
          "base_uri": "https://localhost:8080/"
        },
        "id": "PYNk6s9Z0tMc",
        "outputId": "7da6e84c-c96c-4610-aca0-1545d6674c79"
      },
      "execution_count": null,
      "outputs": [
        {
          "output_type": "stream",
          "name": "stdout",
          "text": [
            "student : 1\n",
            "subject 1\n",
            "subject 2\n",
            "subject 3\n",
            "student : 2\n",
            "subject 1\n",
            "subject 2\n",
            "subject 3\n",
            "student : 3\n",
            "subject 1\n",
            "subject 2\n",
            "subject 3\n",
            "student : 4\n",
            "subject 1\n",
            "subject 2\n",
            "subject 3\n",
            "student : 5\n",
            "subject 1\n",
            "subject 2\n",
            "subject 3\n"
          ]
        }
      ]
    },
    {
      "cell_type": "code",
      "source": [
        "num=2\n",
        "for i in range(1,11):\n",
        "  print( num*i)"
      ],
      "metadata": {
        "colab": {
          "base_uri": "https://localhost:8080/"
        },
        "id": "_wGBY4gt1BB3",
        "outputId": "d76f81c3-2edd-4732-8896-bf0df453dd3a"
      },
      "execution_count": null,
      "outputs": [
        {
          "output_type": "stream",
          "name": "stdout",
          "text": [
            "2\n",
            "4\n",
            "6\n",
            "8\n",
            "10\n",
            "12\n",
            "14\n",
            "16\n",
            "18\n",
            "20\n"
          ]
        }
      ]
    },
    {
      "cell_type": "code",
      "source": [
        "for i in range(2,6):\n",
        "  for j in range(1,11):\n",
        "    print(i*j,end=\" \")\n",
        "  print()\n"
      ],
      "metadata": {
        "colab": {
          "base_uri": "https://localhost:8080/"
        },
        "id": "KtnEyJfP2J5G",
        "outputId": "1ef32178-d14c-47a1-9f86-b992379de1c3"
      },
      "execution_count": null,
      "outputs": [
        {
          "output_type": "stream",
          "name": "stdout",
          "text": [
            "2 4 6 8 10 12 14 16 18 20 \n",
            "3 6 9 12 15 18 21 24 27 30 \n",
            "4 8 12 16 20 24 28 32 36 40 \n",
            "5 10 15 20 25 30 35 40 45 50 \n"
          ]
        }
      ]
    },
    {
      "cell_type": "code",
      "source": [
        "for x in range(2,10):\n",
        "  for i in range(1,x+1):\n",
        "    if x%i == 0:\n",
        "      print(\"factor\",i)\n",
        "  print(\"-----\")"
      ],
      "metadata": {
        "colab": {
          "base_uri": "https://localhost:8080/"
        },
        "id": "TewOZQsq2aem",
        "outputId": "e4f757d1-912e-4db9-ddb5-9ca495851359"
      },
      "execution_count": null,
      "outputs": [
        {
          "output_type": "stream",
          "name": "stdout",
          "text": [
            "factor 1\n",
            "factor 2\n",
            "-----\n",
            "factor 1\n",
            "factor 3\n",
            "-----\n",
            "factor 1\n",
            "factor 2\n",
            "factor 4\n",
            "-----\n",
            "factor 1\n",
            "factor 5\n",
            "-----\n",
            "factor 1\n",
            "factor 2\n",
            "factor 3\n",
            "factor 6\n",
            "-----\n",
            "factor 1\n",
            "factor 7\n",
            "-----\n",
            "factor 1\n",
            "factor 2\n",
            "factor 4\n",
            "factor 8\n",
            "-----\n",
            "factor 1\n",
            "factor 3\n",
            "factor 9\n",
            "-----\n"
          ]
        }
      ]
    },
    {
      "cell_type": "code",
      "source": [
        "# Loop through numbers from 100 to 400\n",
        "for num in range(100, 401):\n",
        "    hundreds = num // 100\n",
        "    tens = (num // 10) % 10\n",
        "    ones = num % 10\n",
        "    sum_of_cubes = (hundreds ** 3) + (tens ** 3) + (ones ** 3)\n",
        "    if num == sum_of_cubes:\n",
        "        print(num)\n"
      ],
      "metadata": {
        "colab": {
          "base_uri": "https://localhost:8080/"
        },
        "id": "HFYnQr6a4LIt",
        "outputId": "a4437463-2407-4607-d876-49f5a85ced74"
      },
      "execution_count": null,
      "outputs": [
        {
          "output_type": "stream",
          "name": "stdout",
          "text": [
            "153\n",
            "370\n",
            "371\n"
          ]
        }
      ]
    },
    {
      "cell_type": "code",
      "source": [
        "for num in range(100,600):\n",
        "  hundreds=num//100\n",
        "  tens=(num//10)%10\n",
        "  one=num%10\n",
        "  sum_of_cubes=(hundreds**3)+(tens**3)+(one**3)\n",
        "  if num==sum_of_cubes:\n",
        "    print(num)"
      ],
      "metadata": {
        "colab": {
          "base_uri": "https://localhost:8080/"
        },
        "id": "mUpZBNos63Ce",
        "outputId": "56d36f24-b3fe-40cf-8a76-aca64580596d"
      },
      "execution_count": null,
      "outputs": [
        {
          "output_type": "stream",
          "name": "stdout",
          "text": [
            "153\n",
            "370\n",
            "371\n",
            "407\n"
          ]
        }
      ]
    },
    {
      "cell_type": "code",
      "source": [
        "for i in range(1,5):\n",
        "\n",
        "  for j in range(1,5):\n",
        "    print(\"*\",end=\" \")\n",
        "  print()"
      ],
      "metadata": {
        "colab": {
          "base_uri": "https://localhost:8080/"
        },
        "id": "EtkZkoWJ8H07",
        "outputId": "0ea159f1-12c4-419d-b999-7410ac4cb55a"
      },
      "execution_count": null,
      "outputs": [
        {
          "output_type": "stream",
          "name": "stdout",
          "text": [
            "* * * * \n",
            "* * * * \n",
            "* * * * \n",
            "* * * * \n"
          ]
        }
      ]
    },
    {
      "cell_type": "code",
      "source": [
        "for i in range(1,5):\n",
        "  for j in range(1,5):\n",
        "    if (i==1 or i==4 or j==1 or j==4):\n",
        "      print(\"*\",end=\" \")\n",
        "    else:\n",
        "      print(\" \",end=\" \")\n",
        "  print()"
      ],
      "metadata": {
        "colab": {
          "base_uri": "https://localhost:8080/"
        },
        "id": "G067mwTt_DnQ",
        "outputId": "14a60020-48ba-4667-e659-67915a8d8ffd"
      },
      "execution_count": null,
      "outputs": [
        {
          "output_type": "stream",
          "name": "stdout",
          "text": [
            "* * * * \n",
            "*     * \n",
            "*     * \n",
            "* * * * \n"
          ]
        }
      ]
    }
  ]
}