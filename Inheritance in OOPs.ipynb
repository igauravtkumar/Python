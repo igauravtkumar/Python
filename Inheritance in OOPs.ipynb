{
  "nbformat": 4,
  "nbformat_minor": 0,
  "metadata": {
    "colab": {
      "provenance": []
    },
    "kernelspec": {
      "name": "python3",
      "display_name": "Python 3"
    },
    "language_info": {
      "name": "python"
    }
  },
  "cells": [
    {
      "cell_type": "code",
      "execution_count": null,
      "metadata": {
        "colab": {
          "base_uri": "https://localhost:8080/"
        },
        "id": "HFZffSGgKuaS",
        "outputId": "69d9d493-7cbd-4ff4-f22a-8c246dc0c4d4"
      },
      "outputs": [
        {
          "output_type": "stream",
          "name": "stdout",
          "text": [
            "Medical record added for Rohit\n",
            "Medical record added for Rohit\n",
            "medical History for Rohit: ['2024: flu Diagnosis', '2024: Blood Test Results Normal']\n"
          ]
        }
      ],
      "source": [
        "# Case Study - Health care system (Patient Record )\n",
        "# Problem Develop a system for managing patient records in a hospital where:\n",
        "# Patent details(name,age and medical history) should be private\n",
        "# only authorize methods can retrieve or update medical history\n",
        "# provide a method to add new medical records while keeping previous data secure\n",
        "\n",
        "class Patient:\n",
        "  def __init__(self,name,age):\n",
        "    self.__name = name\n",
        "    self.__age = age\n",
        "    self.__medical_history=[]\n",
        "\n",
        "  def add_medical_record(self,record):\n",
        "    self.__medical_history.append(record)\n",
        "    return f\"Medical record added for {self.__name}\"\n",
        "\n",
        "  def get_medical_history(self):\n",
        "    return f\"medical History for {self.__name}: {self.__medical_history}\"\n",
        "\n",
        "patient=Patient(\"Rohit\",30)\n",
        "print(patient.add_medical_record(\"2024: flu Diagnosis\"))\n",
        "print(patient.add_medical_record(\"2024: Blood Test Results Normal\"))\n",
        "print(patient.get_medical_history()) # Retrieve medical history"
      ]
    },
    {
      "cell_type": "code",
      "source": [
        "# Case Study 2 :  Online Examination System\n",
        "\n",
        "# Problem: Create a system for online examination where:\n",
        "# Student scores are private and can not be accessed directly\n",
        "# scores can only be added or retrieved using specific method\n",
        "# Implement a feature to calculate the avg score of the student.\n",
        "\n",
        "class Exam:\n",
        "  def __init__(self,student_name):\n",
        "    self.__student_name = student_name #Encapsulated student name\n",
        "    self.__scores = []              # Encapsulated list of scores\n",
        "\n",
        "  def add_score(self,subject,score):\n",
        "    if 0<= score<=100:\n",
        "      self.__scores.append({\"subject\":subject, \"score\": score})\n",
        "      return f\"Score added for {subject}: {score}.\"\n",
        "    else:\n",
        "      return \"Invalid score! Must be between 0 and 100\"\n",
        "\n",
        "  def get_score(self):\n",
        "    return f\"scores for {self.__student_name}: {self.__scores} \"\n",
        "\n",
        "  def calculate_average(self):\n",
        "    if not self.__scores:\n",
        "      return \"No score available\"\n",
        "    total = sum(item[\"score\"] for item in self.__scores)\n",
        "    return f\"Average Score : {total/len(self.__scores):.2f}\"\n",
        "\n",
        "exam=Exam(\"Ram\")\n",
        "print(exam.add_score(\"Math\",10))\n",
        "print(exam.add_score(\"Science\",20))\n",
        "print(exam.get_score())\n",
        "print(exam.calculate_average())\n"
      ],
      "metadata": {
        "colab": {
          "base_uri": "https://localhost:8080/"
        },
        "id": "QTo1sOT6VJOi",
        "outputId": "a3246ca9-9f7d-4c67-f283-6222ea36e984"
      },
      "execution_count": null,
      "outputs": [
        {
          "output_type": "stream",
          "name": "stdout",
          "text": [
            "Score added for Math: 10.\n",
            "Score added for Science: 20.\n",
            "scores for Ram: [{'subject': 'Math', 'score': 10}, {'subject': 'Science', 'score': 20}] \n",
            "Average Score : 15.00\n"
          ]
        }
      ]
    },
    {
      "cell_type": "code",
      "source": [
        "# Inheritance in Oops ->\n",
        "#               Inheritance is a fundamental concept in oops that allow a class(child class) to inherit\n",
        "#              attribute and methods from another class (parent class) and this promotes code reusability and modularity\n",
        "\n",
        "#Key benefits :__>\n",
        "# 1 code resuability--> the child class can reuse the code in the parent class\n",
        "# 2 Extensibility --> the child class can add or modify functionality of the parent class\n",
        "# 3 Heriracal structure ->relationship between classes are more orginised\n",
        "\n",
        "# Types of Inheritance -\n",
        "# 1 > single Inheritacnce --> A child class inherit from one parent class\n",
        "# 2 > Multiple Inheritance --> A child class inherits from to or more parent class\n",
        "# 3 > Multi Level Inheritance--> A child class inherits from a parent class and a parent class inherits from another parent class"
      ],
      "metadata": {
        "id": "XEQROdueh01j"
      },
      "execution_count": null,
      "outputs": []
    },
    {
      "cell_type": "code",
      "source": [
        "# 2 > Multiple Inheritance\n",
        "\n",
        "class Engine :\n",
        "  def start_engine(self):\n",
        "    print(\"Engine started\")\n",
        "\n",
        "class Wheels:\n",
        "  def rotate_wheels(self):\n",
        "    print(\"Wheels are rotating\")\n",
        "\n",
        "class Car(Engine ,Wheels):\n",
        "  def drive(self):\n",
        "    print(\"Car is driving\")\n",
        "\n",
        "my_car=Car()\n",
        "my_car.start_engine()\n",
        "my_car.rotate_wheels()\n",
        "my_car.drive()\n"
      ],
      "metadata": {
        "colab": {
          "base_uri": "https://localhost:8080/"
        },
        "id": "_9i-934_bDKS",
        "outputId": "54647767-bce1-44df-e905-4dbde754efed"
      },
      "execution_count": null,
      "outputs": [
        {
          "output_type": "stream",
          "name": "stdout",
          "text": [
            "Engine started\n",
            "Wheels are rotating\n",
            "Car is driving\n"
          ]
        }
      ]
    },
    {
      "cell_type": "code",
      "source": [
        "# Multilevel Inheritance\n",
        "\n",
        "class Animal:\n",
        "  def eat(self):\n",
        "    print(\"Animal is Eating\")\n",
        "\n",
        "class Dog(Animal):\n",
        "  def bark(self):\n",
        "    print(\"Dog is barking\")\n",
        "\n",
        "class Puppy(Dog):\n",
        "  def weep(self):\n",
        "    print(\"Puppy is weeping\")\n",
        "\n",
        "puppy=Puppy()\n",
        "puppy.eat()\n",
        "puppy.bark()\n",
        "puppy.weep()\n"
      ],
      "metadata": {
        "colab": {
          "base_uri": "https://localhost:8080/"
        },
        "id": "JwJqlD_vceCY",
        "outputId": "c2e55ee7-4bd8-4b3c-ec4e-454c6c5df0f3"
      },
      "execution_count": null,
      "outputs": [
        {
          "output_type": "stream",
          "name": "stdout",
          "text": [
            "Animal is Eating\n",
            "Dog is barking\n",
            "Puppy is weeping\n"
          ]
        }
      ]
    },
    {
      "cell_type": "code",
      "source": [
        "# CAse Study 1 : E-commerce order managment\n",
        "# Scenario You are designing an e-commerce order system the system includes\n",
        "# Customer class (with name and contact details )\n",
        "# Product class (with name and price )\n",
        "# Order class (that inherits customer and product to manage customer orders )\n",
        "# Requirment :\n",
        "# Customer should store customer details\n",
        "# Product shou;d store product details\n",
        "# Order should generate an order summary for a customer including product details\n",
        "\n",
        "class Customer:\n",
        "  def customer(self,name,contact):\n",
        "    self.name = name\n",
        "    self.contact = contact\n",
        "  def display(self):\n",
        "     print(f\"{self.name}: {self.contact}\")\n",
        "\n",
        "class Product(Customer):\n",
        "  def product(self,product,price):\n",
        "    self.product = product\n",
        "    self.price = price\n",
        "\n",
        "class Order(Product):\n",
        "  def order(self):\n",
        "    return f\"{self.name}: {self.contact}: {self.product}: {self.price}\"\n",
        "\n",
        "abc=Order()\n",
        "abc.customer(\"ram\",80006575)\n",
        "abc.product(\"Iphone\",64000)\n",
        "print(abc.order())\n"
      ],
      "metadata": {
        "colab": {
          "base_uri": "https://localhost:8080/"
        },
        "id": "-I3XTfvwdbdB",
        "outputId": "44645615-1046-499a-d34e-552846ac949f"
      },
      "execution_count": null,
      "outputs": [
        {
          "output_type": "stream",
          "name": "stdout",
          "text": [
            "ram: 80006575: Iphone: 64000\n"
          ]
        }
      ]
    },
    {
      "cell_type": "code",
      "source": [
        "# Case study 3: Vehicle Hierarchy\n",
        "# Scenario Build a vehicle system with the following structure:\n",
        "# A vehicle class (genral attribute like speed and fuel ).\n",
        "# A car class (inherit vehicle and adds features like air conditioning )\n",
        "# A electricCar class (inherit car and adds battery managment )\n",
        "\n",
        "class Vehicle:\n",
        "  def vehicle(self,speed,fuel):\n",
        "    self.speed = speed\n",
        "    self.fuel = fuel\n",
        "\n",
        "  def start(self):\n",
        "    return \"vehicle is start\"\n",
        "  def stop(self):\n",
        "    return \"vehicle is stop\"\n",
        "\n",
        "class Car(Vehicle):\n",
        "  def __init__(self,air_conditioning=False):\n",
        "    self.air_conditioning=air_conditioning\n",
        "\n",
        "  def ac_on(self):\n",
        "      self.air_conditioning==True\n",
        "      return \"Ac is on\"\n",
        "  def ac_off(self):\n",
        "    self.air_conditioning== False\n",
        "    return \"Ac is off\"\n",
        "\n",
        "\n",
        "class ElectricCar(Car):\n",
        "  def ElectricCar(self,charge_battery=100):\n",
        "    self.charge_battery=charge_battery\n",
        "\n",
        "    if charge_battery==100:\n",
        "      return \"Battery is fully Charged\"\n",
        "\n",
        "car=ElectricCar()\n",
        "print(car.start())\n",
        "print(car.stop())\n",
        "print(car.ac_on())\n",
        "print(car.ac_off())\n",
        "print(car.ElectricCar())\n",
        "\n",
        "\n"
      ],
      "metadata": {
        "colab": {
          "base_uri": "https://localhost:8080/"
        },
        "id": "oXQ0NKqzhdV3",
        "outputId": "b221ff94-4d7a-4899-d336-e3b3bf2f6d80"
      },
      "execution_count": null,
      "outputs": [
        {
          "output_type": "stream",
          "name": "stdout",
          "text": [
            "vehicle is start\n",
            "vehicle is stop\n",
            "Ac is on\n",
            "Ac is off\n",
            "Battery is fully Charged\n"
          ]
        }
      ]
    }
  ]
}