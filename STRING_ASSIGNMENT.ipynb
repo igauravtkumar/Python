{
  "nbformat": 4,
  "nbformat_minor": 0,
  "metadata": {
    "colab": {
      "provenance": []
    },
    "kernelspec": {
      "name": "python3",
      "display_name": "Python 3"
    },
    "language_info": {
      "name": "python"
    }
  },
  "cells": [
    {
      "cell_type": "code",
      "execution_count": null,
      "metadata": {
        "colab": {
          "base_uri": "https://localhost:8080/"
        },
        "id": "R5l-rpiV1i8L",
        "outputId": "24a511d7-5f55-4b10-bc3e-1d424e05464a"
      },
      "outputs": [
        {
          "output_type": "stream",
          "name": "stdout",
          "text": [
            "h\n",
            "e\n",
            "l\n",
            "l\n",
            "o\n",
            " \n",
            "w\n",
            "o\n",
            "r\n",
            "l\n",
            "d\n"
          ]
        }
      ],
      "source": [
        "# 1. Print Each Character of a String\n",
        "str1=\"hello world\"\n",
        "for i in str1:\n",
        "  print(i)"
      ]
    },
    {
      "cell_type": "code",
      "source": [
        "# 2. Count Vowels in a String\n",
        "str1=\"heyuser\"\n",
        "vowels='aeiouAEIOU'\n",
        "count=0\n",
        "for char in str1:\n",
        "  if char in vowels:\n",
        "    count+=1\n",
        "print(count)"
      ],
      "metadata": {
        "colab": {
          "base_uri": "https://localhost:8080/"
        },
        "id": "v2B6poqC2ibv",
        "outputId": "70cf54ed-ea94-4ea2-fd4f-918c39ddba13"
      },
      "execution_count": null,
      "outputs": [
        {
          "output_type": "stream",
          "name": "stdout",
          "text": [
            "3\n"
          ]
        }
      ]
    },
    {
      "cell_type": "code",
      "source": [
        "# 3. Check if a String is Palindrome\n",
        "str1='naman'\n",
        "rev=''\n",
        "for i in str1:\n",
        "  rev=i+rev\n",
        "if str1==rev:\n",
        "  print(\"string is palindrome :\",rev)\n",
        "else:\n",
        "  print(\"string is not palindrome :\",rev )"
      ],
      "metadata": {
        "colab": {
          "base_uri": "https://localhost:8080/"
        },
        "id": "MZS81mv929cV",
        "outputId": "96cf1c3d-24ec-4b24-80d0-2d1f0ad03936"
      },
      "execution_count": null,
      "outputs": [
        {
          "output_type": "stream",
          "name": "stdout",
          "text": [
            "string is palindrome : naman\n"
          ]
        }
      ]
    },
    {
      "cell_type": "code",
      "source": [
        "# 4. Reverse a String\n",
        "str1=\"jaikwer\"\n",
        "rev=''\n",
        "for i in str1:\n",
        "  rev=i+rev\n",
        "print(rev)"
      ],
      "metadata": {
        "colab": {
          "base_uri": "https://localhost:8080/"
        },
        "id": "j5vlTevj3qbA",
        "outputId": "75861218-9e3b-4abb-d28f-bfa3e0c9f109"
      },
      "execution_count": null,
      "outputs": [
        {
          "output_type": "stream",
          "name": "stdout",
          "text": [
            "rewkiaj\n"
          ]
        }
      ]
    },
    {
      "cell_type": "code",
      "source": [
        "# 5. Count the Occurrence of a Character\n",
        "str1='heyrama'\n",
        "specific='a'\n",
        "count=0\n",
        "for i in str1:\n",
        "  if i==specific:\n",
        "    count+=1\n",
        "print(count)"
      ],
      "metadata": {
        "colab": {
          "base_uri": "https://localhost:8080/"
        },
        "id": "KSro0KlS32Qg",
        "outputId": "b4bf73d6-3b72-450e-f1f4-a38777ed1f8d"
      },
      "execution_count": null,
      "outputs": [
        {
          "output_type": "stream",
          "name": "stdout",
          "text": [
            "2\n"
          ]
        }
      ]
    },
    {
      "cell_type": "code",
      "source": [
        "# 6. Remove All Occurrences of a Character\n",
        "str1='jaikaraaaf'\n",
        "s='a'\n",
        "for i in str1:\n",
        "  if i not in s:\n",
        "    print(i,end=\"\")\n"
      ],
      "metadata": {
        "colab": {
          "base_uri": "https://localhost:8080/"
        },
        "id": "2FLAA1Qq4duD",
        "outputId": "3b7a2b3f-8461-4843-f0e3-7d2d4a65eef6"
      },
      "execution_count": null,
      "outputs": [
        {
          "output_type": "stream",
          "name": "stdout",
          "text": [
            "jikrf"
          ]
        }
      ]
    },
    {
      "cell_type": "code",
      "source": [
        "# 7. Print the String in Reverse Order Without Using Built-in Methods\n",
        "string='narsha'\n",
        "rev=''\n",
        "for i in string:\n",
        "  rev=i+rev\n",
        "print(rev)"
      ],
      "metadata": {
        "colab": {
          "base_uri": "https://localhost:8080/"
        },
        "id": "0ForxPqu4vUz",
        "outputId": "9db89730-1f21-4b64-86c9-2f013d53c84b"
      },
      "execution_count": null,
      "outputs": [
        {
          "output_type": "stream",
          "name": "stdout",
          "text": [
            "ahsran\n"
          ]
        }
      ]
    },
    {
      "cell_type": "code",
      "source": [
        "# 8. Check if a String Contains Only Digits\n",
        "string='1234agadb532'\n",
        "digit='0123456789'\n",
        "for i in string:\n",
        "  if i in digit:\n",
        "    print(\"True\")\n",
        "    break\n",
        "  else:\n",
        "    print(\"False\")"
      ],
      "metadata": {
        "colab": {
          "base_uri": "https://localhost:8080/"
        },
        "id": "-aYsGdBZ44Mc",
        "outputId": "8274baae-32f8-4a66-80c0-982c297f61ab"
      },
      "execution_count": null,
      "outputs": [
        {
          "output_type": "stream",
          "name": "stdout",
          "text": [
            "True\n"
          ]
        }
      ]
    },
    {
      "cell_type": "code",
      "source": [
        "# 9. Count Words in a String\n",
        "string='hello  world'\n",
        "list1=string.split()\n",
        "count=0\n",
        "for i in list1:\n",
        "  if i!=' ':\n",
        "    count+=1\n",
        "print(count)\n"
      ],
      "metadata": {
        "colab": {
          "base_uri": "https://localhost:8080/"
        },
        "id": "nbRGl5ve58Ih",
        "outputId": "9345d31a-65e0-4e4a-e61d-3fb3b7d0e815"
      },
      "execution_count": null,
      "outputs": [
        {
          "output_type": "stream",
          "name": "stdout",
          "text": [
            "2\n"
          ]
        }
      ]
    },
    {
      "cell_type": "code",
      "source": [
        "# 10. Find the Longest Word in a String\n",
        "string='helloooooo woorrld'\n",
        "l=string.split()\n",
        "longest=' '\n",
        "for i in l:\n",
        "  if len(i)>len(longest):\n",
        "    longest=i\n",
        "print(longest)\n"
      ],
      "metadata": {
        "colab": {
          "base_uri": "https://localhost:8080/"
        },
        "id": "dCgulIyq6Xak",
        "outputId": "36f78516-3fce-4cda-dc31-cf2cc16c1282"
      },
      "execution_count": null,
      "outputs": [
        {
          "output_type": "stream",
          "name": "stdout",
          "text": [
            "helloooooo\n"
          ]
        }
      ]
    },
    {
      "cell_type": "code",
      "source": [
        "# 11. Remove All Whitespace from a String\n",
        "string='h ello w or ld'\n",
        "for i in string:\n",
        "  if i!=' ':\n",
        "    print(i,end='')"
      ],
      "metadata": {
        "colab": {
          "base_uri": "https://localhost:8080/"
        },
        "id": "_MxK97is62bI",
        "outputId": "ce7ecd11-12e9-42a9-881d-3ddf1ccf1a42"
      },
      "execution_count": null,
      "outputs": [
        {
          "output_type": "stream",
          "name": "stdout",
          "text": [
            "helloworld"
          ]
        }
      ]
    },
    {
      "cell_type": "code",
      "source": [
        "# 12. Print a String in Uppercase\n",
        "string='h ello w or ld'\n",
        "for i in string:\n",
        "  b=ord(i)-32\n",
        "  print(chr(b),end=' ')"
      ],
      "metadata": {
        "colab": {
          "base_uri": "https://localhost:8080/"
        },
        "id": "v00I2b5I6-24",
        "outputId": "a0f5ca00-868a-40cc-a3a3-a99065d4b863"
      },
      "execution_count": null,
      "outputs": [
        {
          "output_type": "stream",
          "name": "stdout",
          "text": [
            "H \u0000 E L L O \u0000 W \u0000 O R \u0000 L D "
          ]
        }
      ]
    },
    {
      "cell_type": "code",
      "source": [
        "# 13. Find the First Non-Repeating Character\n",
        "string='hello world'\n",
        "for i in range(len(string)):\n",
        "  if string[i] not in string[:i] and string[i] not in string[i+1:]:\n",
        "    print(string[i])\n",
        "    break\n"
      ],
      "metadata": {
        "colab": {
          "base_uri": "https://localhost:8080/"
        },
        "id": "r1ng-ytF7HqK",
        "outputId": "c6212f07-15fd-43dc-e1aa-e67650f97f22"
      },
      "execution_count": null,
      "outputs": [
        {
          "output_type": "stream",
          "name": "stdout",
          "text": [
            "h\n"
          ]
        }
      ]
    },
    {
      "cell_type": "code",
      "source": [
        "# 14. Check if a String is Anagram of Another String\n",
        "str1 = \"listen\"\n",
        "str2 = \"silent\"\n",
        "s=sorted(str1)==sorted(str2)\n",
        "print(s)"
      ],
      "metadata": {
        "colab": {
          "base_uri": "https://localhost:8080/"
        },
        "id": "hzqzdT058TaN",
        "outputId": "f825c899-c022-4944-9d4a-8859a85906ff"
      },
      "execution_count": null,
      "outputs": [
        {
          "output_type": "stream",
          "name": "stdout",
          "text": [
            "True\n"
          ]
        }
      ]
    },
    {
      "cell_type": "code",
      "source": [],
      "metadata": {
        "id": "CymFCmag86G0"
      },
      "execution_count": null,
      "outputs": []
    }
  ]
}