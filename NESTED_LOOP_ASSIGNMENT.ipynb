{
  "nbformat": 4,
  "nbformat_minor": 0,
  "metadata": {
    "colab": {
      "provenance": []
    },
    "kernelspec": {
      "name": "python3",
      "display_name": "Python 3"
    },
    "language_info": {
      "name": "python"
    }
  },
  "cells": [
    {
      "cell_type": "code",
      "execution_count": null,
      "metadata": {
        "colab": {
          "base_uri": "https://localhost:8080/"
        },
        "id": "-VWO3zXVjNWt",
        "outputId": "f159e697-0def-4a76-c746-c3151805133e"
      },
      "outputs": [
        {
          "output_type": "stream",
          "name": "stdout",
          "text": [
            "1 a\n",
            "1 b\n",
            "1 c\n",
            "2 a\n",
            "2 b\n",
            "2 c\n",
            "3 a\n",
            "3 b\n",
            "3 c\n"
          ]
        }
      ],
      "source": [
        "#sol 1\n",
        "list1=[1,2,3]\n",
        "list2=['a','b','c']\n",
        "for i in list1:\n",
        "  for j in list2:\n",
        "    print(i,j)"
      ]
    },
    {
      "cell_type": "code",
      "source": [
        "#sol 2\n",
        "nested_list=[[1, 2, 3], [4, 5], [6]]\n",
        "sum=0\n",
        "for i in nested_list:\n",
        "  for j in i:\n",
        "    sum=sum+j\n",
        "print(sum)"
      ],
      "metadata": {
        "colab": {
          "base_uri": "https://localhost:8080/"
        },
        "id": "rLMQwdEikEK8",
        "outputId": "a4296f6d-3782-4423-d721-8748254be731"
      },
      "execution_count": null,
      "outputs": [
        {
          "output_type": "stream",
          "name": "stdout",
          "text": [
            "21\n"
          ]
        }
      ]
    },
    {
      "cell_type": "code",
      "source": [
        "#sol 3\n",
        "matrix=[[1,2,3],[4,5,6],[7,8,9]]\n",
        "transported_matrix=[[0,0,0],[0,0,0],[0,0,0]]\n",
        "for i in range(3):\n",
        "  for j in range(3):\n",
        "    transported_matrix[j][i]=matrix[i][j]\n",
        "print(transported_matrix)"
      ],
      "metadata": {
        "id": "6ZBdKv-6lfs5",
        "colab": {
          "base_uri": "https://localhost:8080/"
        },
        "outputId": "3c2b6b72-c834-48b4-88f7-7edeff327ef0"
      },
      "execution_count": null,
      "outputs": [
        {
          "output_type": "stream",
          "name": "stdout",
          "text": [
            "[[1, 4, 7], [2, 5, 8], [3, 6, 9]]\n"
          ]
        }
      ]
    },
    {
      "cell_type": "code",
      "source": [
        "#sol 4\n",
        "string='hello world'\n",
        "vowels='aeiouAEIOU'\n",
        "COUNT=0\n",
        "for i in string:\n",
        "  if i in vowels:\n",
        "    COUNT=COUNT+1\n",
        "print(COUNT)"
      ],
      "metadata": {
        "id": "xdp2LCIGlfn-",
        "colab": {
          "base_uri": "https://localhost:8080/"
        },
        "outputId": "b475e11a-89f4-4d70-d364-a35126285f13"
      },
      "execution_count": null,
      "outputs": [
        {
          "output_type": "stream",
          "name": "stdout",
          "text": [
            "3\n"
          ]
        }
      ]
    },
    {
      "cell_type": "code",
      "source": [
        "# sol 5\n",
        "for num in range(2, 101):\n",
        "  is_prime=True\n",
        "  for i in range(2,int(num**0.5)+1):\n",
        "    if num%i==0:\n",
        "      is_prime=False\n",
        "      break\n",
        "  if is_prime:\n",
        "    print(num)\n",
        "\n"
      ],
      "metadata": {
        "colab": {
          "base_uri": "https://localhost:8080/"
        },
        "id": "_gjNZP1CyKr1",
        "outputId": "22499a94-11a0-42d3-ff55-2c08fe97a541"
      },
      "execution_count": null,
      "outputs": [
        {
          "output_type": "stream",
          "name": "stdout",
          "text": [
            "2\n",
            "3\n",
            "5\n",
            "7\n",
            "11\n",
            "13\n",
            "17\n",
            "19\n",
            "23\n",
            "29\n",
            "31\n",
            "37\n",
            "41\n",
            "43\n",
            "47\n",
            "53\n",
            "59\n",
            "61\n",
            "67\n",
            "71\n",
            "73\n",
            "79\n",
            "83\n",
            "89\n",
            "97\n"
          ]
        }
      ]
    },
    {
      "cell_type": "code",
      "source": [
        "#sol 6\n",
        "matrix1=[[1,2],[3,4]]\n",
        "matrix2=[[5,6],[7,8]]\n",
        "result=[[0,0],[0,0]]\n",
        "for i in range(len(matrix1)):\n",
        "  for j in range(len(matrix2[0])):\n",
        "    result[i][j] = matrix1[i][j] + matrix2[i][j]\n",
        "for row in result:\n",
        "  print(result)"
      ],
      "metadata": {
        "colab": {
          "base_uri": "https://localhost:8080/"
        },
        "id": "zCyA6uKv0_Zn",
        "outputId": "06f7ead6-3c98-41c6-c069-1820a70cadb1"
      },
      "execution_count": null,
      "outputs": [
        {
          "output_type": "stream",
          "name": "stdout",
          "text": [
            "[[6, 8], [10, 12]]\n",
            "[[6, 8], [10, 12]]\n"
          ]
        }
      ]
    },
    {
      "cell_type": "code",
      "source": [
        "#sol 7\n",
        "matrix=[[1,2,3],[12,15,17],[19,20,43]]\n",
        "max_value=matrix[0][0]\n",
        "for i in matrix:\n",
        "  for j in i:\n",
        "    if max_value < j:\n",
        "      max_value=j\n",
        "print(max_value)"
      ],
      "metadata": {
        "colab": {
          "base_uri": "https://localhost:8080/"
        },
        "id": "nBpmdc8N4ZpX",
        "outputId": "35a8c0b9-4a67-4099-a3ad-be7e43c8b575"
      },
      "execution_count": null,
      "outputs": [
        {
          "output_type": "stream",
          "name": "stdout",
          "text": [
            "43\n"
          ]
        }
      ]
    },
    {
      "cell_type": "code",
      "source": [
        "#sol 8\n",
        "list1=[1,2]\n",
        "list2=[3,4]\n",
        "cartesian_product=[]\n",
        "for i in list1:\n",
        "  for j in list2:\n",
        "    cartesian_product.append((i,j))\n",
        "print(cartesian_product)"
      ],
      "metadata": {
        "colab": {
          "base_uri": "https://localhost:8080/"
        },
        "id": "LZa1TFcJ7HXl",
        "outputId": "5a138b33-a4ad-4abd-c693-6e9162eed560"
      },
      "execution_count": null,
      "outputs": [
        {
          "output_type": "stream",
          "name": "stdout",
          "text": [
            "[(1, 3), (1, 4), (2, 3), (2, 4)]\n"
          ]
        }
      ]
    },
    {
      "cell_type": "code",
      "source": [
        "#sol 9\n",
        "for i in range(1,11):\n",
        "  for j in range(1,11):\n",
        "    print(f'{i *j:4}',end='  ')\n",
        "  print()"
      ],
      "metadata": {
        "colab": {
          "base_uri": "https://localhost:8080/"
        },
        "id": "Ol5xJe71-jz_",
        "outputId": "7cdff677-b3b9-44e6-fc3f-faf0b8b1a7ce"
      },
      "execution_count": null,
      "outputs": [
        {
          "output_type": "stream",
          "name": "stdout",
          "text": [
            "   1     2     3     4     5     6     7     8     9    10  \n",
            "   2     4     6     8    10    12    14    16    18    20  \n",
            "   3     6     9    12    15    18    21    24    27    30  \n",
            "   4     8    12    16    20    24    28    32    36    40  \n",
            "   5    10    15    20    25    30    35    40    45    50  \n",
            "   6    12    18    24    30    36    42    48    54    60  \n",
            "   7    14    21    28    35    42    49    56    63    70  \n",
            "   8    16    24    32    40    48    56    64    72    80  \n",
            "   9    18    27    36    45    54    63    72    81    90  \n",
            "  10    20    30    40    50    60    70    80    90   100  \n"
          ]
        }
      ]
    },
    {
      "cell_type": "code",
      "source": [
        "#sol 10\n",
        "list1=[1,2,3,4]\n",
        "list2=[3,4,5,6]\n",
        "common_elements=[]\n",
        "for i in list1:\n",
        "  for j in list2:\n",
        "    if i==j:\n",
        "      common_elements.append(i)\n",
        "print(common_elements)"
      ],
      "metadata": {
        "colab": {
          "base_uri": "https://localhost:8080/"
        },
        "id": "I0wu-QCC_cZe",
        "outputId": "025fe34f-9f73-4602-f26b-8c3f55e6d1e0"
      },
      "execution_count": null,
      "outputs": [
        {
          "output_type": "stream",
          "name": "stdout",
          "text": [
            "[3, 4]\n"
          ]
        }
      ]
    },
    {
      "cell_type": "code",
      "source": [
        "#sol 11\n",
        "list=[[1,2,3],[4,5,6],[7,8,9]]\n",
        "flattend_list=[]\n",
        "for i in list:\n",
        "  for j in i:\n",
        "    flattend_list.append(j)\n",
        "print(flattend_list)"
      ],
      "metadata": {
        "colab": {
          "base_uri": "https://localhost:8080/"
        },
        "id": "pw-9b0fBCMOF",
        "outputId": "b7e8950c-99a8-4b95-ee69-c259371ca4d0"
      },
      "execution_count": null,
      "outputs": [
        {
          "output_type": "stream",
          "name": "stdout",
          "text": [
            "[1, 2, 3, 4, 5, 6, 7, 8, 9]\n"
          ]
        }
      ]
    },
    {
      "cell_type": "code",
      "source": [
        "#sol 12\n",
        "nested_list=[[1,2,3],[3,4,5],[3,6,7]]\n",
        "specific_element=3\n",
        "count=0\n",
        "for i in nested_list:\n",
        "  for j in i:\n",
        "    if j==specific_element:\n",
        "      count=count+1\n",
        "print(f'this element {specific_element} appears {count} times in nested_list')"
      ],
      "metadata": {
        "colab": {
          "base_uri": "https://localhost:8080/"
        },
        "id": "BXgmoFX-FAGZ",
        "outputId": "c7d3a359-d0de-4f83-bbbf-870be7c729f5"
      },
      "execution_count": null,
      "outputs": [
        {
          "output_type": "stream",
          "name": "stdout",
          "text": [
            "this element 3 appears 3 times in nested_list\n"
          ]
        }
      ]
    },
    {
      "cell_type": "code",
      "source": [
        "#sol 13\n",
        "nested_list = [[1, 2, 3], [2, 3, 4], [4, 5, 6]]\n",
        "unique_elements = []\n",
        "for sublist in nested_list:\n",
        "    for element in sublist:\n",
        "        if element not in unique_elements:\n",
        "            unique_elements.append(element)\n",
        "print(unique_elements)"
      ],
      "metadata": {
        "colab": {
          "base_uri": "https://localhost:8080/"
        },
        "id": "XuSYVLwkBRaK",
        "outputId": "5175c61b-410a-4c71-fcee-73b800af7899"
      },
      "execution_count": null,
      "outputs": [
        {
          "output_type": "stream",
          "name": "stdout",
          "text": [
            "[1, 2, 3, 4, 5, 6]\n"
          ]
        }
      ]
    },
    {
      "cell_type": "code",
      "source": [
        "#sol 14\n",
        "matrix=[\n",
        "        [1,2,3],\n",
        "        [4,5,6],\n",
        "        [7, 8,9]\n",
        "]\n",
        "row_sums=[]\n",
        "for row in matrix:\n",
        "  row_sums.append(sum(row))\n",
        "print(row_sums)"
      ],
      "metadata": {
        "colab": {
          "base_uri": "https://localhost:8080/"
        },
        "id": "nZcTT6LFJvPI",
        "outputId": "34e76658-3bc0-4c33-e134-f3a2ff2883cc"
      },
      "execution_count": null,
      "outputs": [
        {
          "output_type": "stream",
          "name": "stdout",
          "text": [
            "[6, 15, 24]\n"
          ]
        }
      ]
    },
    {
      "cell_type": "code",
      "source": [
        "# sol 15\n",
        "nested_list=[[1,2,3],[3,4,5],[3,7]]\n",
        "for i in range(len(nested_list)):\n",
        "  print(f\"Length of sublist {i + 1}: {len(nested_list[i])}\")"
      ],
      "metadata": {
        "colab": {
          "base_uri": "https://localhost:8080/"
        },
        "id": "CkfgDzyst4xk",
        "outputId": "71b7a62c-c1cd-492f-bec4-e017f12b1aae"
      },
      "execution_count": null,
      "outputs": [
        {
          "output_type": "stream",
          "name": "stdout",
          "text": [
            "Length of sublist 1: 3\n",
            "Length of sublist 2: 3\n",
            "Length of sublist 3: 2\n"
          ]
        }
      ]
    },
    {
      "cell_type": "code",
      "source": [
        "# sol 16\n",
        "matrix1=[\n",
        "    [1,2,3],\n",
        "    [4,5,6],\n",
        "    [7,8,9]\n",
        "]\n",
        "matrix2=[\n",
        "    [1,2,4],\n",
        "    [3,5,6],\n",
        "    [8,7,9]\n",
        "]\n",
        "count=0\n",
        "for i in range(len(matrix1)):\n",
        "  for j in range(len(matrix2[i])):\n",
        "    if matrix1[i][j]==matrix2[i][j]:\n",
        "      count+=1\n",
        "print(f'number of same element present in:{count}')"
      ],
      "metadata": {
        "colab": {
          "base_uri": "https://localhost:8080/"
        },
        "id": "i0nCaecCv05B",
        "outputId": "ffd12a17-1702-4e4e-a3c9-3d3ea25d0b51"
      },
      "execution_count": null,
      "outputs": [
        {
          "output_type": "stream",
          "name": "stdout",
          "text": [
            "number of same element present in:5\n"
          ]
        }
      ]
    },
    {
      "cell_type": "code",
      "source": [
        "#sol 17\n",
        "list1=[1,2,3,4]\n",
        "list2=[3,4,5,6]\n",
        "common_element=[]\n",
        "for i in list1:\n",
        "  for j in list2:\n",
        "    if i==j:\n",
        "      common_element.append(i)\n",
        "print(common_element)"
      ],
      "metadata": {
        "colab": {
          "base_uri": "https://localhost:8080/"
        },
        "id": "ZtMOfk66yUVd",
        "outputId": "cd7053a9-0d1e-4fe7-8683-070252deabca"
      },
      "execution_count": null,
      "outputs": [
        {
          "output_type": "stream",
          "name": "stdout",
          "text": [
            "[3, 4]\n"
          ]
        }
      ]
    },
    {
      "cell_type": "code",
      "source": [
        "#sol 18\n",
        "name=['Arav','Raj','Virat']\n",
        "age=[33,43,35]\n",
        "name_age=[]\n",
        "for i in range(len(name)):\n",
        "  for j in range(len(age)):\n",
        "    if i==j:\n",
        "      name_age.append((name[i],age[j]))\n",
        "print(name_age)"
      ],
      "metadata": {
        "colab": {
          "base_uri": "https://localhost:8080/"
        },
        "id": "k--zMHaKy7Pd",
        "outputId": "88af09f1-9b45-4792-dd9e-1718bbc9da21"
      },
      "execution_count": null,
      "outputs": [
        {
          "output_type": "stream",
          "name": "stdout",
          "text": [
            "[('Arav', 33), ('Raj', 43), ('Virat', 35)]\n"
          ]
        }
      ]
    },
    {
      "cell_type": "code",
      "source": [
        "#sol 19\n",
        "list1=[1,2,3,4]\n",
        "for i in range(len(list1)):\n",
        "  for j in range(i+1,len(list1)):\n",
        "    print(list1[i],list1[j])\n"
      ],
      "metadata": {
        "colab": {
          "base_uri": "https://localhost:8080/"
        },
        "id": "JTV3yYMw1kVM",
        "outputId": "5a2aa916-6df4-4768-c456-f6a7cbca2143"
      },
      "execution_count": null,
      "outputs": [
        {
          "output_type": "stream",
          "name": "stdout",
          "text": [
            "1 2\n",
            "1 3\n",
            "1 4\n",
            "2 3\n",
            "2 4\n",
            "3 4\n"
          ]
        }
      ]
    },
    {
      "cell_type": "code",
      "source": [
        "#sol 20\n",
        "string=['hello','python','world','mango']\n",
        "count=0\n",
        "specific_character='o'\n",
        "for i in string:\n",
        "  for j in i:\n",
        "    if j==specific_character:\n",
        "      count=count+1\n",
        "print(f'the character {specific_character} appears :{count}')"
      ],
      "metadata": {
        "colab": {
          "base_uri": "https://localhost:8080/"
        },
        "id": "Af2U--Zt2Drh",
        "outputId": "064a9c71-b2c5-4f8d-cfec-47d1ee93e7e9"
      },
      "execution_count": null,
      "outputs": [
        {
          "output_type": "stream",
          "name": "stdout",
          "text": [
            "the character o appears :4\n"
          ]
        }
      ]
    },
    {
      "cell_type": "code",
      "source": [
        "matrix=[\n",
        "    [1,2,3],\n",
        "    [4,5,6],\n",
        "    [7,8,9]\n",
        "]\n",
        "transposed_matrix=[]\n",
        "for i in range(len(matrix[0])):\n",
        "  for j in range(len(matrix)):\n",
        "    transposed_matrix.append(matrix[j][i])\n",
        "print(transposed_matrix)\n"
      ],
      "metadata": {
        "colab": {
          "base_uri": "https://localhost:8080/"
        },
        "id": "jxejRbMsFFg8",
        "outputId": "ec3f587f-560a-4e90-ae91-d7eea3f19de4"
      },
      "execution_count": null,
      "outputs": [
        {
          "output_type": "stream",
          "name": "stdout",
          "text": [
            "[1, 4, 7, 2, 5, 8, 3, 6, 9]\n"
          ]
        }
      ]
    }
  ]
}