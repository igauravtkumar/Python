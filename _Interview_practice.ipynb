{
  "nbformat": 4,
  "nbformat_minor": 0,
  "metadata": {
    "colab": {
      "provenance": []
    },
    "kernelspec": {
      "name": "python3",
      "display_name": "Python 3"
    },
    "language_info": {
      "name": "python"
    }
  },
  "cells": [
    {
      "cell_type": "code",
      "execution_count": null,
      "metadata": {
        "colab": {
          "base_uri": "https://localhost:8080/"
        },
        "id": "e6N51ysl-pr3",
        "outputId": "6fe8c500-7f69-4ae6-db35-e35d3c4c5696"
      },
      "outputs": [
        {
          "output_type": "stream",
          "name": "stdout",
          "text": [
            "8\n"
          ]
        }
      ],
      "source": [
        "# missing number check\n",
        "nums=[9,6,4,2,3,5,7,0,1]\n",
        "for i in range(0,len(nums)):\n",
        "  if i not in nums:\n",
        "    print(i)"
      ]
    },
    {
      "cell_type": "code",
      "source": [
        "list1=[1,2,3,4,6]   # common element find\n",
        "list2=[3,4,5,6,7]\n",
        "list3=[]\n",
        "for i in list1:\n",
        "  for j in list2:\n",
        "    if i==j:\n",
        "      list3.append(i)\n",
        "print(list3)"
      ],
      "metadata": {
        "colab": {
          "base_uri": "https://localhost:8080/"
        },
        "id": "5rRfXwa0--Fm",
        "outputId": "18e1b909-2257-4ab2-f2c2-587b19f88591"
      },
      "execution_count": null,
      "outputs": [
        {
          "output_type": "stream",
          "name": "stdout",
          "text": [
            "[3, 4, 6]\n"
          ]
        }
      ]
    },
    {
      "cell_type": "code",
      "source": [
        "# find the longest word in the list\n",
        "words=['apple','banana','strawberry','kiwi']\n",
        "longest=max(words,key=len)\n",
        "longest"
      ],
      "metadata": {
        "colab": {
          "base_uri": "https://localhost:8080/",
          "height": 36
        },
        "id": "Pjqa5sL5_VF_",
        "outputId": "de633196-30f0-4ea3-b7cd-4681bc5ddbf8"
      },
      "execution_count": null,
      "outputs": [
        {
          "output_type": "execute_result",
          "data": {
            "text/plain": [
              "'strawberry'"
            ],
            "application/vnd.google.colaboratory.intrinsic+json": {
              "type": "string"
            }
          },
          "metadata": {},
          "execution_count": 4
        }
      ]
    },
    {
      "cell_type": "code",
      "source": [
        "words = ['apple', 'banana', 'strawberry', 'kiwi']\n",
        "longest_word=''\n",
        "max_length=0\n",
        "for i in words:\n",
        "  length=0\n",
        "  for j in i:\n",
        "    length+=1\n",
        "  if length > max_length:\n",
        "    max_length=length\n",
        "    longest_word = i\n",
        "print(longest_word)\n"
      ],
      "metadata": {
        "colab": {
          "base_uri": "https://localhost:8080/"
        },
        "id": "CUQFeLBcAPEg",
        "outputId": "8c096188-cb59-47ec-af8d-324fc6c72f03"
      },
      "execution_count": null,
      "outputs": [
        {
          "output_type": "stream",
          "name": "stdout",
          "text": [
            "strawberry\n"
          ]
        }
      ]
    },
    {
      "cell_type": "code",
      "source": [
        "list1=['python', 'is', 'a', 'programing', 'language', 'and' ,'python' ,'is', 'best', 'language']\n",
        "d1={}\n",
        "for i in list1:\n",
        "  if i in d1:\n",
        "    d1[i]+=1\n",
        "  else:\n",
        "    d1[i]=1\n",
        "print(d1)"
      ],
      "metadata": {
        "colab": {
          "base_uri": "https://localhost:8080/"
        },
        "id": "L8gFw7MJA2TO",
        "outputId": "9b7a3331-075e-4e15-acb4-8d79c8fc2d0a"
      },
      "execution_count": null,
      "outputs": [
        {
          "output_type": "stream",
          "name": "stdout",
          "text": [
            "{'python': 2, 'is': 2, 'a': 1, 'programing': 1, 'language': 2, 'and': 1, 'best': 1}\n"
          ]
        }
      ]
    },
    {
      "cell_type": "code",
      "source": [
        "fact=1\n",
        "for i in range(1,6):\n",
        "  fact*=i\n",
        "print(fact)"
      ],
      "metadata": {
        "colab": {
          "base_uri": "https://localhost:8080/"
        },
        "id": "9GVYfI0UBvru",
        "outputId": "a9e616d6-7ac3-41fa-e3a4-c42caab7a915"
      },
      "execution_count": null,
      "outputs": [
        {
          "output_type": "stream",
          "name": "stdout",
          "text": [
            "120\n"
          ]
        }
      ]
    },
    {
      "cell_type": "code",
      "source": [
        "num=12345\n",
        "fact=1\n",
        "while num>0:\n",
        "  rem = num%10\n",
        "  fact=fact*rem\n",
        "  num = num//10\n",
        "print(fact)"
      ],
      "metadata": {
        "colab": {
          "base_uri": "https://localhost:8080/"
        },
        "id": "vSQp_qIxCBRW",
        "outputId": "2a9a96f2-8f85-404e-e54d-45be092fda80"
      },
      "execution_count": null,
      "outputs": [
        {
          "output_type": "stream",
          "name": "stdout",
          "text": [
            "120\n"
          ]
        }
      ]
    },
    {
      "cell_type": "code",
      "source": [
        "num=int(input('Enter the number : '))  # fibonacci\n",
        "a=0\n",
        "b=1\n",
        "for i in range(num):\n",
        "  print(a,end=\" \")\n",
        "  a,b=b,a+b"
      ],
      "metadata": {
        "colab": {
          "base_uri": "https://localhost:8080/"
        },
        "id": "ovj7q8pNCRve",
        "outputId": "b14ab163-718f-4939-c8f7-029c7bc1f384"
      },
      "execution_count": null,
      "outputs": [
        {
          "output_type": "stream",
          "name": "stdout",
          "text": [
            "Enter the number : 10\n",
            "0 1 1 2 3 5 8 13 21 34 "
          ]
        }
      ]
    },
    {
      "cell_type": "code",
      "source": [
        "# armstrong\n",
        "\n",
        "num=153\n",
        "sum=0\n",
        "temp=num\n",
        "while num > 0:\n",
        "  rem=num%10\n",
        "  sum=sum+rem**3\n",
        "  num=num//10\n",
        "if temp==sum:\n",
        "  print('Armstrong Number')\n",
        "else:\n",
        "  print('Not Armstrong ')"
      ],
      "metadata": {
        "colab": {
          "base_uri": "https://localhost:8080/"
        },
        "id": "hueO_l4kC3rK",
        "outputId": "6f09385d-b3c5-4f24-c1ef-a620d5c0e04f"
      },
      "execution_count": null,
      "outputs": [
        {
          "output_type": "stream",
          "name": "stdout",
          "text": [
            "Armstrong Number\n"
          ]
        }
      ]
    },
    {
      "cell_type": "code",
      "source": [
        "# using for loop armstrong number\n",
        "for i in range(100,1000):\n",
        "  sum=0\n",
        "  temp=i\n",
        "  while i > 0:\n",
        "    rem=i%10\n",
        "    sum = sum+rem**3\n",
        "    i=i//10\n",
        "  if temp==sum:\n",
        "    print('Armstrong : ',sum)\n",
        "\n"
      ],
      "metadata": {
        "colab": {
          "base_uri": "https://localhost:8080/"
        },
        "id": "y89hg12gDOtx",
        "outputId": "6186227a-4131-45c8-977a-8acb5617ab82"
      },
      "execution_count": null,
      "outputs": [
        {
          "output_type": "stream",
          "name": "stdout",
          "text": [
            "Armstrong :  153\n",
            "Armstrong :  370\n",
            "Armstrong :  371\n",
            "Armstrong :  407\n"
          ]
        }
      ]
    },
    {
      "cell_type": "code",
      "source": [
        "num=int(input('Enter the number : '))\n",
        "temp=num\n",
        "rev=0\n",
        "while num > 0:\n",
        "  rem =num % 10\n",
        "  rev=rev*10+rem\n",
        "  num=num//10\n",
        "if temp==rev:\n",
        "  print('Palindrome number : ',rev)\n",
        "else:\n",
        "  print(' Not Palindrome : ',rev)\n"
      ],
      "metadata": {
        "colab": {
          "base_uri": "https://localhost:8080/"
        },
        "id": "N5NNK0gtEZNG",
        "outputId": "44da3b4a-3316-4d5d-c53d-a97a2e0aeee6"
      },
      "execution_count": null,
      "outputs": [
        {
          "output_type": "stream",
          "name": "stdout",
          "text": [
            "Enter the number : 121\n",
            "Palindrome number :  121\n"
          ]
        }
      ]
    },
    {
      "cell_type": "code",
      "source": [
        "numbers = [121, 345, 454, 789, 989, 112]\n",
        "palindrome=[]\n",
        "for num in numbers:\n",
        "  temp=num\n",
        "  rev=0\n",
        "  while num > 0:\n",
        "    rem = num%10\n",
        "    rev=rev*10+rem\n",
        "    num=num//10\n",
        "  if temp==rev:\n",
        "    palindrome.append(temp)\n",
        "print('Palindrome number : ',palindrome)"
      ],
      "metadata": {
        "colab": {
          "base_uri": "https://localhost:8080/"
        },
        "id": "regpb9_GFOor",
        "outputId": "263d9060-b31d-49b6-b93f-5dc242b016a7"
      },
      "execution_count": null,
      "outputs": [
        {
          "output_type": "stream",
          "name": "stdout",
          "text": [
            "Palindrome number :  [121, 454, 989]\n"
          ]
        }
      ]
    },
    {
      "cell_type": "code",
      "source": [
        "str1='hey user hey'\n",
        "rev=''\n",
        "for i in str1:\n",
        "  rev=i+rev\n",
        "print(rev)"
      ],
      "metadata": {
        "colab": {
          "base_uri": "https://localhost:8080/"
        },
        "id": "nzPq--sBHIw_",
        "outputId": "40a23a82-2c94-42bc-a86f-89193f86cf91"
      },
      "execution_count": null,
      "outputs": [
        {
          "output_type": "stream",
          "name": "stdout",
          "text": [
            "yeh resu yeh\n"
          ]
        }
      ]
    },
    {
      "cell_type": "code",
      "source": [
        "num=int(input('Enter the number :'))\n",
        "roman = [\n",
        "                (\"M\", 1000),(\"CM\", 900),(\"D\", 500),(\"CD\", 400),\n",
        "                (\"C\", 100),(\"XC\", 90),(\"L\", 50),(\"XL\", 40),\n",
        "                (\"X\", 10),(\"IX\", 9),(\"V\", 5),(\"IV\", 4),(\"I\", 1)\n",
        "]\n",
        "res=[]\n",
        "x=0\n",
        "for symbol , value in roman:\n",
        "  if num==0:\n",
        "    break\n",
        "  count = num//value\n",
        "  res.append(symbol*count)\n",
        "  num-=count*value\n",
        "  x =\"\".join(res)\n",
        "print(x)"
      ],
      "metadata": {
        "colab": {
          "base_uri": "https://localhost:8080/"
        },
        "id": "KK7aepD6IEER",
        "outputId": "16d5666e-bf32-41b0-dd1e-406ef2fa890d"
      },
      "execution_count": null,
      "outputs": [
        {
          "output_type": "stream",
          "name": "stdout",
          "text": [
            "Enter the number :345\n",
            "CCCXLV\n"
          ]
        }
      ]
    },
    {
      "cell_type": "code",
      "source": [
        "s = input('Enter roman number')\n",
        "dict={\"I\":1,\"V\":5,\"X\":10,\"L\":50,\"C\":100,\"D\":500,\"M\":1000}\n",
        "prev=0\n",
        "total=0\n",
        "for i in range(len(s)):\n",
        "  current=dict[s[i]]\n",
        "  if current > prev:\n",
        "    total+=current-2*prev\n",
        "    prev=current\n",
        "  else:\n",
        "    total=total+current\n",
        "    prev=current\n",
        "print(total)\n"
      ],
      "metadata": {
        "colab": {
          "base_uri": "https://localhost:8080/"
        },
        "id": "OiOPAJMhKeKT",
        "outputId": "57ad83b4-af24-45d9-8a33-6134858d85e1"
      },
      "execution_count": null,
      "outputs": [
        {
          "output_type": "stream",
          "name": "stdout",
          "text": [
            "Enter roman numberMDX\n",
            "1510\n"
          ]
        }
      ]
    },
    {
      "cell_type": "code",
      "source": [
        "nums1 = [1,2,3,0,0,0]\n",
        "m=3\n",
        "nums2 = [2,5,6]\n",
        "n=3\n",
        "nums1[m:]=nums2\n",
        "nums1.sort()\n",
        "print(nums1)"
      ],
      "metadata": {
        "colab": {
          "base_uri": "https://localhost:8080/"
        },
        "id": "WvNAYUyWOJQi",
        "outputId": "5febeaa9-bfb0-4cb0-cea6-82498746292d"
      },
      "execution_count": null,
      "outputs": [
        {
          "output_type": "stream",
          "name": "stdout",
          "text": [
            "[1, 2, 2, 3, 5, 6]\n"
          ]
        }
      ]
    },
    {
      "cell_type": "code",
      "source": [
        "nums = [3,2,2,3]\n",
        "val=3\n",
        "i=0\n",
        "for j in range(len(nums)):\n",
        "  if nums[j]==val:\n",
        "    j-=1\n",
        "  else:\n",
        "    nums[i]=nums[j]\n",
        "    i+=1\n",
        "print(i)"
      ],
      "metadata": {
        "colab": {
          "base_uri": "https://localhost:8080/"
        },
        "id": "vHHm1-MOjPzs",
        "outputId": "302bf096-edd6-47e3-e26f-663a90668865"
      },
      "execution_count": null,
      "outputs": [
        {
          "output_type": "stream",
          "name": "stdout",
          "text": [
            "2\n"
          ]
        }
      ]
    },
    {
      "cell_type": "code",
      "source": [
        "def removeDuplicates(nums):\n",
        "        i=0\n",
        "        for j in range(0,len(nums)):\n",
        "            if nums[j]==nums[i]:\n",
        "                j+=1\n",
        "            else:\n",
        "                i+=1\n",
        "                nums[i]=nums[j]\n",
        "        return i+1\n",
        "removeDuplicates([1,1,2])\n"
      ],
      "metadata": {
        "colab": {
          "base_uri": "https://localhost:8080/"
        },
        "id": "MHWTsBrZjnG1",
        "outputId": "492283d1-d55b-42fb-fad3-19226383c94f"
      },
      "execution_count": null,
      "outputs": [
        {
          "output_type": "execute_result",
          "data": {
            "text/plain": [
              "2"
            ]
          },
          "metadata": {},
          "execution_count": 5
        }
      ]
    },
    {
      "cell_type": "code",
      "source": [
        "def removeDuplicates(nums):\n",
        "        k=2\n",
        "        for i in range(2,len(nums)):\n",
        "            if nums[i] != nums[k-2]:\n",
        "                nums[k] = nums[i]\n",
        "                k+=1\n",
        "        return k\n",
        "removeDuplicates([1,1,1,2,2,3])"
      ],
      "metadata": {
        "colab": {
          "base_uri": "https://localhost:8080/"
        },
        "id": "V51XHwDIkntw",
        "outputId": "78929ac9-114a-4234-d5ac-f50899814872"
      },
      "execution_count": null,
      "outputs": [
        {
          "output_type": "execute_result",
          "data": {
            "text/plain": [
              "5"
            ]
          },
          "metadata": {},
          "execution_count": 7
        }
      ]
    },
    {
      "cell_type": "code",
      "source": [
        "nums = [3,2,3]\n",
        "nums.sort()\n",
        "print(nums[len(nums)//2])"
      ],
      "metadata": {
        "colab": {
          "base_uri": "https://localhost:8080/"
        },
        "id": "DxPGxRrQlO_J",
        "outputId": "1af0e69e-5d0a-473a-8bb6-af6fb4ee03de"
      },
      "execution_count": null,
      "outputs": [
        {
          "output_type": "stream",
          "name": "stdout",
          "text": [
            "3\n"
          ]
        }
      ]
    },
    {
      "cell_type": "code",
      "source": [
        "nums=int(input('Enter the number : '))\n",
        "a=True\n",
        "for i in range(2,nums):\n",
        "  if nums%i==0:\n",
        "    a=False\n",
        "    break\n",
        "if a==True:\n",
        "  print('Prime number')\n",
        "else:\n",
        "  print('Not')"
      ],
      "metadata": {
        "colab": {
          "base_uri": "https://localhost:8080/"
        },
        "id": "ooDM-XhtpjGn",
        "outputId": "62780e1c-0920-49c6-d5f1-df931828591a"
      },
      "execution_count": null,
      "outputs": [
        {
          "output_type": "stream",
          "name": "stdout",
          "text": [
            "Enter the number : 13\n",
            "Prime number\n"
          ]
        }
      ]
    },
    {
      "cell_type": "code",
      "source": [
        "n=5\n",
        "for i in range(1,n+1):\n",
        "  num=65\n",
        "  for j in range(1,i+1):\n",
        "    print(chr(num),end=\" \")\n",
        "    num+=1\n",
        "  print()"
      ],
      "metadata": {
        "colab": {
          "base_uri": "https://localhost:8080/"
        },
        "id": "YhugNyI2qPe_",
        "outputId": "c54047b4-9cc1-46f4-b7a0-bbe8f9dc585b"
      },
      "execution_count": null,
      "outputs": [
        {
          "output_type": "stream",
          "name": "stdout",
          "text": [
            "A \n",
            "A B \n",
            "A B C \n",
            "A B C D \n",
            "A B C D E \n"
          ]
        }
      ]
    },
    {
      "cell_type": "code",
      "source": [
        "n=5\n",
        "num=65\n",
        "for i in range(1,n+1):\n",
        "\n",
        "  for j in range(1,i+1):\n",
        "    print(chr(num),end=\" \")\n",
        "  num+=1\n",
        "  print()"
      ],
      "metadata": {
        "colab": {
          "base_uri": "https://localhost:8080/"
        },
        "id": "ZMboEI0Dqbvu",
        "outputId": "d114df6b-8875-46dc-f672-5a0997927343"
      },
      "execution_count": null,
      "outputs": [
        {
          "output_type": "stream",
          "name": "stdout",
          "text": [
            "A \n",
            "B B \n",
            "C C C \n",
            "D D D D \n",
            "E E E E E \n"
          ]
        }
      ]
    },
    {
      "cell_type": "code",
      "source": [
        "n=5\n",
        "for i in range(n,0,-1):\n",
        "  num=65\n",
        "  for s in range(n-i):\n",
        "    print(\" \",end=\" \")\n",
        "  for j in range(1,2*i):\n",
        "    print(chr(num),end=\" \")\n",
        "    num+=1\n",
        "  print()\n",
        "for i in range(2,n+1):\n",
        "  num=65\n",
        "  for s in range(n-i):\n",
        "    print(\" \",end=\" \")\n",
        "  for j in range(1,2*i):\n",
        "    print(chr(num),end=' ')\n",
        "    num+=1\n",
        "  print()"
      ],
      "metadata": {
        "colab": {
          "base_uri": "https://localhost:8080/"
        },
        "id": "eRESdFrSqtyS",
        "outputId": "7a1a7989-c9c6-4f96-8b4b-155e29a479ce"
      },
      "execution_count": null,
      "outputs": [
        {
          "output_type": "stream",
          "name": "stdout",
          "text": [
            "A B C D E F G H I \n",
            "  A B C D E F G \n",
            "    A B C D E \n",
            "      A B C \n",
            "        A \n",
            "      A B C \n",
            "    A B C D E \n",
            "  A B C D E F G \n",
            "A B C D E F G H I \n"
          ]
        }
      ]
    },
    {
      "cell_type": "code",
      "source": [
        "n=5\n",
        "for i in range(n,0,-1):\n",
        "\n",
        "  for s in range(n-i):\n",
        "    print(\" \",end=\" \")\n",
        "  for j in range(1,2*i):\n",
        "    print(\"*\",end=\" \")\n",
        "\n",
        "  print()\n",
        "for i in range(2,n+1):\n",
        "\n",
        "  for s in range(n-i):\n",
        "    print(\" \",end=\" \")\n",
        "  for j in range(1,2*i):\n",
        "    print(\"*\",end=' ')\n",
        "\n",
        "  print()"
      ],
      "metadata": {
        "colab": {
          "base_uri": "https://localhost:8080/"
        },
        "id": "oKFgCtkHrTVx",
        "outputId": "68765928-64fa-4740-c7ba-9ccf16caba25"
      },
      "execution_count": null,
      "outputs": [
        {
          "output_type": "stream",
          "name": "stdout",
          "text": [
            "* * * * * * * * * \n",
            "  * * * * * * * \n",
            "    * * * * * \n",
            "      * * * \n",
            "        * \n",
            "      * * * \n",
            "    * * * * * \n",
            "  * * * * * * * \n",
            "* * * * * * * * * \n"
          ]
        }
      ]
    },
    {
      "cell_type": "code",
      "source": [
        "n=1\n",
        "for i in range(1,6):\n",
        "  for j in range(1,i+1):\n",
        "    if i==5 or j==1 or i==j:\n",
        "      print(n,end=\" \")\n",
        "      n+=1\n",
        "    else:\n",
        "      print(\" \",end=\" \")\n",
        "  print()"
      ],
      "metadata": {
        "colab": {
          "base_uri": "https://localhost:8080/"
        },
        "id": "H2qMMzK2rh4v",
        "outputId": "8cb051f7-16d2-46cf-f4b2-6e184d4ca421"
      },
      "execution_count": null,
      "outputs": [
        {
          "output_type": "stream",
          "name": "stdout",
          "text": [
            "1 \n",
            "2 3 \n",
            "4   5 \n",
            "6     7 \n",
            "8 9 10 11 12 \n"
          ]
        }
      ]
    },
    {
      "cell_type": "code",
      "source": [
        "st1='hey hii how are you!'\n",
        "l1=st1.split(' ')\n",
        "l1"
      ],
      "metadata": {
        "colab": {
          "base_uri": "https://localhost:8080/"
        },
        "id": "jNVswyzJ1E5V",
        "outputId": "211b6c08-611b-44a0-ef7b-52824fdb5b92"
      },
      "execution_count": null,
      "outputs": [
        {
          "output_type": "execute_result",
          "data": {
            "text/plain": [
              "['hey', 'hii', 'how', 'are', 'you!']"
            ]
          },
          "metadata": {},
          "execution_count": 26
        }
      ]
    },
    {
      "cell_type": "code",
      "source": [
        "l1=['hey', 'hii', 'how', 'are', 'you!']\n",
        "str1=' '.join(l1)\n",
        "str1"
      ],
      "metadata": {
        "colab": {
          "base_uri": "https://localhost:8080/",
          "height": 36
        },
        "id": "b5cBXN8q1SKH",
        "outputId": "098f0fb6-5fbb-4c5b-87e4-ef47c125d4d0"
      },
      "execution_count": null,
      "outputs": [
        {
          "output_type": "execute_result",
          "data": {
            "text/plain": [
              "'hey hii how are you!'"
            ],
            "application/vnd.google.colaboratory.intrinsic+json": {
              "type": "string"
            }
          },
          "metadata": {},
          "execution_count": 28
        }
      ]
    }
  ]
}