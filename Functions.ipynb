{
  "nbformat": 4,
  "nbformat_minor": 0,
  "metadata": {
    "colab": {
      "provenance": []
    },
    "kernelspec": {
      "name": "python3",
      "display_name": "Python 3"
    },
    "language_info": {
      "name": "python"
    }
  },
  "cells": [
    {
      "cell_type": "code",
      "execution_count": null,
      "metadata": {
        "id": "E3bLnSW7Tn7R"
      },
      "outputs": [],
      "source": [
        "#function\n",
        "#name block\n",
        "#logic / statment => name\n",
        "#code reuse"
      ]
    },
    {
      "cell_type": "code",
      "source": [
        "# function => code smaller part convert\n",
        "# issue / debugging is quite easy\n"
      ],
      "metadata": {
        "id": "L7vg4cccaQcg"
      },
      "execution_count": 1,
      "outputs": []
    },
    {
      "cell_type": "code",
      "source": [
        "def func():\n",
        "  x=10\n",
        "  print(\"hey\",x)\n",
        ""
      ],
      "metadata": {
        "id": "Zn7vCmBeanIr"
      },
      "execution_count": 3,
      "outputs": []
    },
    {
      "cell_type": "code",
      "source": [
        "func()\n",
        "func()"
      ],
      "metadata": {
        "colab": {
          "base_uri": "https://localhost:8080/"
        },
        "id": "WkuxHy0Ga4OU",
        "outputId": "d3327e56-38c8-45be-b6df-c7ddc3d0577c"
      },
      "execution_count": 5,
      "outputs": [
        {
          "output_type": "stream",
          "name": "stdout",
          "text": [
            "hey 10\n",
            "hey 10\n"
          ]
        }
      ]
    },
    {
      "cell_type": "code",
      "source": [
        "def func(y):\n",
        "  x=10\n",
        "  print(\"hey\",x+y)"
      ],
      "metadata": {
        "id": "WwKRafaubELY"
      },
      "execution_count": 6,
      "outputs": []
    },
    {
      "cell_type": "code",
      "source": [
        "func(15)"
      ],
      "metadata": {
        "colab": {
          "base_uri": "https://localhost:8080/"
        },
        "id": "dpujfQF5bntg",
        "outputId": "84e6542d-7b44-463c-eb74-f07d0b1bc15e"
      },
      "execution_count": 7,
      "outputs": [
        {
          "output_type": "stream",
          "name": "stdout",
          "text": [
            "hey 25\n"
          ]
        }
      ]
    },
    {
      "cell_type": "code",
      "source": [
        "def func(y,z):\n",
        "  x=10\n",
        "  print(\"hey\",x+y+z)"
      ],
      "metadata": {
        "id": "PfUXcMPVb7ym"
      },
      "execution_count": 8,
      "outputs": []
    },
    {
      "cell_type": "code",
      "source": [
        "func(15,20)"
      ],
      "metadata": {
        "colab": {
          "base_uri": "https://localhost:8080/"
        },
        "id": "K5diGBaOb_Cv",
        "outputId": "9b4a76b9-2d43-480f-c683-23f079f390d4"
      },
      "execution_count": 9,
      "outputs": [
        {
          "output_type": "stream",
          "name": "stdout",
          "text": [
            "hey 45\n"
          ]
        }
      ]
    },
    {
      "cell_type": "code",
      "source": [
        "a=100 # a  is global variable\n",
        "def func(y):  # y is local variable\n",
        "  global a\n",
        "\n",
        "  a=a+y\n",
        "  print(\"hey\",)"
      ],
      "metadata": {
        "id": "RSMyECKRcGjC"
      },
      "execution_count": 17,
      "outputs": []
    },
    {
      "cell_type": "code",
      "source": [
        "print(a)\n",
        "func(15)\n",
        "print(a)"
      ],
      "metadata": {
        "colab": {
          "base_uri": "https://localhost:8080/"
        },
        "id": "Pd3Op-h7c1Pw",
        "outputId": "f0492007-87e3-4dcd-87df-339c4e1afe36"
      },
      "execution_count": 18,
      "outputs": [
        {
          "output_type": "stream",
          "name": "stdout",
          "text": [
            "100\n",
            "hey\n",
            "115\n"
          ]
        }
      ]
    },
    {
      "cell_type": "code",
      "source": [
        "#parameter /formal parameter /informal parameter\n",
        "def func(y,z):\n",
        "  print( \"y:\",y, \"z:\",z)\n",
        "\n",
        "# y ==> is required argument\n",
        "#calling ==> 10 is argument\n",
        "func(z=15,y=10)\n",
        "# z=15 y=10 keyword argument\n",
        "# 15 only position argument"
      ],
      "metadata": {
        "colab": {
          "base_uri": "https://localhost:8080/"
        },
        "id": "Ue5Xj5QPdA5W",
        "outputId": "7a398418-e57e-442a-a0a5-1aeb75d17de5"
      },
      "execution_count": 28,
      "outputs": [
        {
          "output_type": "stream",
          "name": "stdout",
          "text": [
            "y: 10 z: 15\n"
          ]
        }
      ]
    },
    {
      "cell_type": "code",
      "source": [
        "def func(y,z):\n",
        "  print( \"y:\",y, \"z:\",z)\n",
        "\n",
        "\n",
        "func(15,z=10,)"
      ],
      "metadata": {
        "colab": {
          "base_uri": "https://localhost:8080/"
        },
        "id": "vBpMLVL-fceb",
        "outputId": "a58ee157-4d51-4270-a039-c0bae91414ae"
      },
      "execution_count": 31,
      "outputs": [
        {
          "output_type": "stream",
          "name": "stdout",
          "text": [
            "y: 15 z: 10\n"
          ]
        }
      ]
    },
    {
      "cell_type": "code",
      "source": [
        "def func(y,z=35): # z=35 default argument\n",
        "  print( \"y:\",y, \"z:\",z)\n",
        "\n",
        "\n",
        "func(15,99)"
      ],
      "metadata": {
        "colab": {
          "base_uri": "https://localhost:8080/"
        },
        "id": "cpdIYkQFh32V",
        "outputId": "95b92a55-06dc-4adb-dc69-74244c5f2fb8"
      },
      "execution_count": 43,
      "outputs": [
        {
          "output_type": "stream",
          "name": "stdout",
          "text": [
            "y: 15 z: 99\n"
          ]
        }
      ]
    },
    {
      "cell_type": "code",
      "source": [
        "def func(age , salary):\n",
        "    print(\"age:\",age,\"salary:\",salary)\n",
        "\n",
        "func(15,999)"
      ],
      "metadata": {
        "colab": {
          "base_uri": "https://localhost:8080/"
        },
        "id": "wme7ZmmeiiKM",
        "outputId": "af009b26-b107-4fc4-aa9a-016f0531680f"
      },
      "execution_count": 46,
      "outputs": [
        {
          "output_type": "stream",
          "name": "stdout",
          "text": [
            "age: 15 salary: 999\n"
          ]
        }
      ]
    },
    {
      "cell_type": "code",
      "source": [
        "def func(*args): # variable length argument\n",
        "    print(\"args:\",args)\n",
        "\n",
        "func(15,999)\n",
        "func(1,2,3,4,5)\n",
        "func(6)\n",
        "func()"
      ],
      "metadata": {
        "colab": {
          "base_uri": "https://localhost:8080/"
        },
        "id": "s8AtOpVXjMPr",
        "outputId": "99fdce90-2871-47fe-b6f6-b2cfb3ea84d1"
      },
      "execution_count": 40,
      "outputs": [
        {
          "output_type": "stream",
          "name": "stdout",
          "text": [
            "args: (15, 999)\n",
            "args: (1, 2, 3, 4, 5)\n",
            "args: (6,)\n",
            "args: ()\n"
          ]
        }
      ]
    },
    {
      "cell_type": "code",
      "source": [
        "def func(**kwargs): # keyword variable length argument\n",
        "    print(\"kwArgs:\",kwargs)\n",
        "\n",
        "func(salary=15,y=20)"
      ],
      "metadata": {
        "colab": {
          "base_uri": "https://localhost:8080/"
        },
        "id": "9ZpyRAxlj-bJ",
        "outputId": "f6622c18-ebeb-422f-cdc8-88c5b0cdaa2f"
      },
      "execution_count": 49,
      "outputs": [
        {
          "output_type": "stream",
          "name": "stdout",
          "text": [
            "kwArgs: {'salary': 15, 'y': 20}\n"
          ]
        }
      ]
    },
    {
      "cell_type": "code",
      "source": [
        "# fibonacci series using def function\n",
        "def func(n):\n",
        "  a=0\n",
        "  b=1\n",
        "  for i in range(1,n):\n",
        "    print(a,end=\" \")\n",
        "    a,b=b,a+b"
      ],
      "metadata": {
        "id": "zC1pNM98lAz6"
      },
      "execution_count": 57,
      "outputs": []
    },
    {
      "cell_type": "code",
      "source": [
        "func(11)"
      ],
      "metadata": {
        "colab": {
          "base_uri": "https://localhost:8080/"
        },
        "id": "Rv7uUPaulabW",
        "outputId": "afc00856-2d33-457e-e083-6df39e581a43"
      },
      "execution_count": 59,
      "outputs": [
        {
          "output_type": "stream",
          "name": "stdout",
          "text": [
            "0 1 1 2 3 5 8 13 21 34 "
          ]
        }
      ]
    },
    {
      "cell_type": "code",
      "source": [
        "# prime number  using def function\n",
        "def func(x):\n",
        "  a=True\n",
        "  for i in range(2,x):\n",
        "    if x%i==0:\n",
        "      a=False\n",
        "  if a==True:\n",
        "    print(\"prime number:\",x)\n",
        "  else:\n",
        "    print(\"not:\",x)"
      ],
      "metadata": {
        "id": "pkqTyh_tmakA"
      },
      "execution_count": 62,
      "outputs": []
    },
    {
      "cell_type": "code",
      "source": [
        "func(7)"
      ],
      "metadata": {
        "colab": {
          "base_uri": "https://localhost:8080/"
        },
        "id": "zgUkuDeemwhY",
        "outputId": "8fc4320f-825b-4a05-fec8-56d8241484fb"
      },
      "execution_count": 66,
      "outputs": [
        {
          "output_type": "stream",
          "name": "stdout",
          "text": [
            "prime number: 7\n"
          ]
        }
      ]
    },
    {
      "cell_type": "code",
      "source": [
        "def func(x,y):\n",
        "  while y!=0:\n",
        "    x,y=y,x%y\n",
        "  print(\"hcf is :\",x)"
      ],
      "metadata": {
        "id": "gC4X5LRanV3G"
      },
      "execution_count": 76,
      "outputs": []
    },
    {
      "cell_type": "code",
      "source": [
        "func(4,6)"
      ],
      "metadata": {
        "colab": {
          "base_uri": "https://localhost:8080/"
        },
        "id": "S9GfOJnMpMAN",
        "outputId": "739999e0-f44c-4fc6-c587-8b631b14ae6e"
      },
      "execution_count": 77,
      "outputs": [
        {
          "output_type": "stream",
          "name": "stdout",
          "text": [
            "hcf is : 2\n"
          ]
        }
      ]
    },
    {
      "cell_type": "code",
      "source": [
        "def func(x,y):\n",
        "  if x>y:\n",
        "    greatest=x\n",
        "  else:\n",
        "    greatest=y\n",
        "  while (True):\n",
        "    if (greatest%x==0 and greatest%y==0):\n",
        "      print(\"lcm is:\",greatest)\n",
        "      break\n",
        "    else:\n",
        "      greatest+=1\n",
        "\n"
      ],
      "metadata": {
        "id": "FAyMY1uRqV2J"
      },
      "execution_count": 78,
      "outputs": []
    },
    {
      "cell_type": "code",
      "source": [
        "func(5,7)"
      ],
      "metadata": {
        "colab": {
          "base_uri": "https://localhost:8080/"
        },
        "id": "Q8rq1D0Zq5Ik",
        "outputId": "719095f9-57e3-4111-80a2-1d88f870a24e"
      },
      "execution_count": 79,
      "outputs": [
        {
          "output_type": "stream",
          "name": "stdout",
          "text": [
            "lcm is: 35\n"
          ]
        }
      ]
    }
  ]
}