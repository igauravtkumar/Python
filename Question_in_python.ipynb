{
  "nbformat": 4,
  "nbformat_minor": 0,
  "metadata": {
    "colab": {
      "provenance": []
    },
    "kernelspec": {
      "name": "python3",
      "display_name": "Python 3"
    },
    "language_info": {
      "name": "python"
    }
  },
  "cells": [
    {
      "cell_type": "code",
      "execution_count": 1,
      "metadata": {
        "colab": {
          "base_uri": "https://localhost:8080/"
        },
        "id": "f32IlYH6KrtN",
        "outputId": "204d869d-443f-4946-c1cf-dc066beeab6c"
      },
      "outputs": [
        {
          "output_type": "stream",
          "name": "stdout",
          "text": [
            "* \n",
            "* * \n",
            "* * * \n",
            "* * * * \n",
            "* * * * * \n"
          ]
        }
      ],
      "source": [
        "n=5\n",
        "for i in range(1,n+1):\n",
        "  for j in range(1,i+1):\n",
        "    print(\"*\",end=\" \")\n",
        "  print()"
      ]
    },
    {
      "cell_type": "code",
      "source": [
        "n=5\n",
        "for i in range(1,n+1):\n",
        "  for j in range(1,n+1):\n",
        "    if i==1 or i==3 or j==1 or j==5 :\n",
        "      print(\"*\",end=\" \")\n",
        "    else:\n",
        "      print(\" \",end=\" \")\n",
        "  print()"
      ],
      "metadata": {
        "colab": {
          "base_uri": "https://localhost:8080/"
        },
        "id": "Sx4u3ihYK5Kv",
        "outputId": "369618ff-7fe8-4608-e669-3b655581a7be"
      },
      "execution_count": 2,
      "outputs": [
        {
          "output_type": "stream",
          "name": "stdout",
          "text": [
            "* * * * * \n",
            "*       * \n",
            "* * * * * \n",
            "*       * \n",
            "*       * \n"
          ]
        }
      ]
    },
    {
      "cell_type": "code",
      "source": [
        "n=5\n",
        "for i in range(1,n+1):\n",
        "  for j in range(1,n+1):\n",
        "    if i==1 or i==5 or j==1:\n",
        "      print(\"*\",end=\" \")\n",
        "    else:\n",
        "      print(\" \",end=\" \")\n",
        "  print()"
      ],
      "metadata": {
        "colab": {
          "base_uri": "https://localhost:8080/"
        },
        "id": "bihw6JWELkGR",
        "outputId": "e69fe7d4-f076-48a4-b866-9f309865455d"
      },
      "execution_count": 3,
      "outputs": [
        {
          "output_type": "stream",
          "name": "stdout",
          "text": [
            "* * * * * \n",
            "*         \n",
            "*         \n",
            "*         \n",
            "* * * * * \n"
          ]
        }
      ]
    },
    {
      "cell_type": "code",
      "source": [
        "n=5\n",
        "for i in range(1,n+1):\n",
        "  for j in range(1,n+1):\n",
        "    if i==1 or i==5 or j==2 or j==5:\n",
        "      print(\"*\",end=\" \")\n",
        "    else:\n",
        "      print(\" \",end=\" \")\n",
        "  print()"
      ],
      "metadata": {
        "colab": {
          "base_uri": "https://localhost:8080/"
        },
        "id": "_PTSvPBeLnpi",
        "outputId": "c5e72c0e-f16a-43a1-f944-15451973e134"
      },
      "execution_count": 4,
      "outputs": [
        {
          "output_type": "stream",
          "name": "stdout",
          "text": [
            "* * * * * \n",
            "  *     * \n",
            "  *     * \n",
            "  *     * \n",
            "* * * * * \n"
          ]
        }
      ]
    },
    {
      "cell_type": "code",
      "source": [
        "n=5\n",
        "for i in range(1,n+1):\n",
        "  for j in range(1,n+1):\n",
        "    if  i==5 or j==1 or j==5:\n",
        "      print(\"*\",end=\" \")\n",
        "    else:\n",
        "      print(\" \",end=\" \")\n",
        "  print()"
      ],
      "metadata": {
        "colab": {
          "base_uri": "https://localhost:8080/"
        },
        "id": "wD3sxKenL35D",
        "outputId": "f570929f-86bb-4cab-d43e-25c365c3ae90"
      },
      "execution_count": 5,
      "outputs": [
        {
          "output_type": "stream",
          "name": "stdout",
          "text": [
            "*       * \n",
            "*       * \n",
            "*       * \n",
            "*       * \n",
            "* * * * * \n"
          ]
        }
      ]
    },
    {
      "cell_type": "code",
      "source": [
        "n=5\n",
        "for i in range(n,0,-1):\n",
        "  for j in range(i,0,-1):\n",
        "    print(j,end=\" \")\n",
        "  print()"
      ],
      "metadata": {
        "colab": {
          "base_uri": "https://localhost:8080/"
        },
        "id": "0QuE1wkyL_IN",
        "outputId": "4b435201-8e28-41d6-ec8e-e04be897bb63"
      },
      "execution_count": 7,
      "outputs": [
        {
          "output_type": "stream",
          "name": "stdout",
          "text": [
            "5 4 3 2 1 \n",
            "4 3 2 1 \n",
            "3 2 1 \n",
            "2 1 \n",
            "1 \n"
          ]
        }
      ]
    },
    {
      "cell_type": "code",
      "source": [
        "n=7\n",
        "for i in range(1,n+1):\n",
        "  for j in range(1,n+1):\n",
        "    if i+j==5 or j-i==3 or i+j ==11 or i-j==3:\n",
        "      print(\"*\",end=\" \")\n",
        "    else:\n",
        "      print(\" \",end=\" \")\n",
        "  print()"
      ],
      "metadata": {
        "colab": {
          "base_uri": "https://localhost:8080/"
        },
        "id": "wgOtIHF-Mgb0",
        "outputId": "302dbaaf-8917-4fe5-f6d3-499a2ce5e63b"
      },
      "execution_count": 12,
      "outputs": [
        {
          "output_type": "stream",
          "name": "stdout",
          "text": [
            "      *       \n",
            "    *   *     \n",
            "  *       *   \n",
            "*           * \n",
            "  *       *   \n",
            "    *   *     \n",
            "      *       \n"
          ]
        }
      ]
    },
    {
      "cell_type": "code",
      "source": [
        "n=5\n",
        "num=65\n",
        "for i in range(1,n+1):\n",
        "  for j in range(1,i+1):\n",
        "    print(chr(num),end=\" \")\n",
        "  num+=1\n",
        "  print()"
      ],
      "metadata": {
        "colab": {
          "base_uri": "https://localhost:8080/"
        },
        "id": "YykmF_sHNFim",
        "outputId": "1ab030d2-aeb2-4d7b-8b36-6ce1082d4962"
      },
      "execution_count": 13,
      "outputs": [
        {
          "output_type": "stream",
          "name": "stdout",
          "text": [
            "A \n",
            "B B \n",
            "C C C \n",
            "D D D D \n",
            "E E E E E \n"
          ]
        }
      ]
    },
    {
      "cell_type": "code",
      "source": [
        "n=5\n",
        "\n",
        "for i in range(1,n+1):\n",
        "  num=65\n",
        "  for j in range(1,i+1):\n",
        "    print(chr(num),end=\" \")\n",
        "    num+=1\n",
        "  print()"
      ],
      "metadata": {
        "colab": {
          "base_uri": "https://localhost:8080/"
        },
        "id": "NcWjV6qXNSGb",
        "outputId": "c7db23fa-ea17-4e75-fdb0-c4a1597e53d6"
      },
      "execution_count": 14,
      "outputs": [
        {
          "output_type": "stream",
          "name": "stdout",
          "text": [
            "A \n",
            "A B \n",
            "A B C \n",
            "A B C D \n",
            "A B C D E \n"
          ]
        }
      ]
    },
    {
      "cell_type": "code",
      "source": [
        "n=5\n",
        "for i in range(1,n):\n",
        "  for j in range(1,i+1):\n",
        "    print(\"*\",end=\" \")\n",
        "  print()\n",
        "for i in range(n,0,-1):\n",
        "  for j in range(1,i+1):\n",
        "    print(\"*\",end=\" \")\n",
        "  print()"
      ],
      "metadata": {
        "colab": {
          "base_uri": "https://localhost:8080/"
        },
        "id": "SAIliKsINYka",
        "outputId": "7e66da83-f95d-452b-d2d0-6c9c6b4095c0"
      },
      "execution_count": 15,
      "outputs": [
        {
          "output_type": "stream",
          "name": "stdout",
          "text": [
            "* \n",
            "* * \n",
            "* * * \n",
            "* * * * \n",
            "* * * * * \n",
            "* * * * \n",
            "* * * \n",
            "* * \n",
            "* \n"
          ]
        }
      ]
    },
    {
      "cell_type": "code",
      "source": [
        "n=5\n",
        "for i in range(1,n):\n",
        "  for s in range(n-i):\n",
        "    print(\" \",end=\" \")\n",
        "  for j in range(1,i+1):\n",
        "    print(\"*\",end=\" \")\n",
        "  print()\n",
        "for i in range(n,0,-1):\n",
        "  for s in range(n-i):\n",
        "    print(\" \",end=\" \")\n",
        "  for j in range(1,i+1):\n",
        "    print(\"*\",end=\" \")\n",
        "  print()"
      ],
      "metadata": {
        "colab": {
          "base_uri": "https://localhost:8080/"
        },
        "id": "3_3VnvIiNxy0",
        "outputId": "48cfaa94-d35b-4bdd-82c9-924c211de3b2"
      },
      "execution_count": 16,
      "outputs": [
        {
          "output_type": "stream",
          "name": "stdout",
          "text": [
            "        * \n",
            "      * * \n",
            "    * * * \n",
            "  * * * * \n",
            "* * * * * \n",
            "  * * * * \n",
            "    * * * \n",
            "      * * \n",
            "        * \n"
          ]
        }
      ]
    },
    {
      "cell_type": "code",
      "source": [
        "n=4\n",
        "for i in range(n-1):\n",
        "  for j in range(i+1):\n",
        "      print(\"*\",end=\" \")\n",
        "  for s in range(2*(n-i-1)):\n",
        "    print(\" \",end=\" \")\n",
        "  for j in range(i+1):\n",
        "    print(\"*\",end=\" \")\n",
        "  print()\n",
        "for i in range(n,0,-1):\n",
        "  for j in range(i,0,-1):\n",
        "      print(\"*\",end=\" \")\n",
        "  for s in range(2*(n-i)):\n",
        "    print(\" \",end=\" \")\n",
        "  for j in range(i,0,-1):\n",
        "      print(\"*\",end=\" \")\n",
        "  print()"
      ],
      "metadata": {
        "colab": {
          "base_uri": "https://localhost:8080/"
        },
        "id": "V9W-KAWoODH7",
        "outputId": "a25cc056-f80f-4d32-b099-b8d85c39a8a8"
      },
      "execution_count": 29,
      "outputs": [
        {
          "output_type": "stream",
          "name": "stdout",
          "text": [
            "*             * \n",
            "* *         * * \n",
            "* * *     * * * \n",
            "* * * * * * * * \n",
            "* * *     * * * \n",
            "* *         * * \n",
            "*             * \n"
          ]
        }
      ]
    },
    {
      "cell_type": "code",
      "source": [
        "# Write a function that takes a string as input and returns the string reversed.\n",
        "def func(s):\n",
        "  rev=''\n",
        "  for i in s:\n",
        "    rev=i+rev\n",
        "  return rev\n",
        "s='anak'\n",
        "print(func(s))\n"
      ],
      "metadata": {
        "colab": {
          "base_uri": "https://localhost:8080/"
        },
        "id": "268diEbKSam5",
        "outputId": "7d05a450-2a56-4b13-d0b9-79adca2dc3e8"
      },
      "execution_count": 31,
      "outputs": [
        {
          "output_type": "stream",
          "name": "stdout",
          "text": [
            "kana\n"
          ]
        }
      ]
    },
    {
      "cell_type": "code",
      "source": [
        "# Write a program that prints the numbers from 1\n",
        "# to 100. But for multiples of three print \"Fizz\" instead of the\n",
        "# number and for the multiples of five print \"Buzz\". For\n",
        "# numbers which are multiples of both three and five print\n",
        "# \"FizzBuzz\".\n",
        "\n",
        "def func():\n",
        "  for i in range(1,101):\n",
        "    if i%3==0 and i%5==0:\n",
        "      print('FIZZBUZZ')\n",
        "    elif i%3==0:\n",
        "      print('FIZZ')\n",
        "    elif i%5==0:\n",
        "      print('BUZZ')\n",
        "    else:\n",
        "      print(i)\n",
        "print(func())"
      ],
      "metadata": {
        "colab": {
          "base_uri": "https://localhost:8080/"
        },
        "id": "gdNQUkXQSqAm",
        "outputId": "f054e56f-8bd9-49c5-9a45-6cc3e6c32da3"
      },
      "execution_count": 33,
      "outputs": [
        {
          "output_type": "stream",
          "name": "stdout",
          "text": [
            "1\n",
            "2\n",
            "FIZZ\n",
            "4\n",
            "BUZZ\n",
            "FIZZ\n",
            "7\n",
            "8\n",
            "FIZZ\n",
            "BUZZ\n",
            "11\n",
            "FIZZ\n",
            "13\n",
            "14\n",
            "FIZZBUZZ\n",
            "16\n",
            "17\n",
            "FIZZ\n",
            "19\n",
            "BUZZ\n",
            "FIZZ\n",
            "22\n",
            "23\n",
            "FIZZ\n",
            "BUZZ\n",
            "26\n",
            "FIZZ\n",
            "28\n",
            "29\n",
            "FIZZBUZZ\n",
            "31\n",
            "32\n",
            "FIZZ\n",
            "34\n",
            "BUZZ\n",
            "FIZZ\n",
            "37\n",
            "38\n",
            "FIZZ\n",
            "BUZZ\n",
            "41\n",
            "FIZZ\n",
            "43\n",
            "44\n",
            "FIZZBUZZ\n",
            "46\n",
            "47\n",
            "FIZZ\n",
            "49\n",
            "BUZZ\n",
            "FIZZ\n",
            "52\n",
            "53\n",
            "FIZZ\n",
            "BUZZ\n",
            "56\n",
            "FIZZ\n",
            "58\n",
            "59\n",
            "FIZZBUZZ\n",
            "61\n",
            "62\n",
            "FIZZ\n",
            "64\n",
            "BUZZ\n",
            "FIZZ\n",
            "67\n",
            "68\n",
            "FIZZ\n",
            "BUZZ\n",
            "71\n",
            "FIZZ\n",
            "73\n",
            "74\n",
            "FIZZBUZZ\n",
            "76\n",
            "77\n",
            "FIZZ\n",
            "79\n",
            "BUZZ\n",
            "FIZZ\n",
            "82\n",
            "83\n",
            "FIZZ\n",
            "BUZZ\n",
            "86\n",
            "FIZZ\n",
            "88\n",
            "89\n",
            "FIZZBUZZ\n",
            "91\n",
            "92\n",
            "FIZZ\n",
            "94\n",
            "BUZZ\n",
            "FIZZ\n",
            "97\n",
            "98\n",
            "FIZZ\n",
            "BUZZ\n",
            "None\n"
          ]
        }
      ]
    },
    {
      "cell_type": "code",
      "source": [
        "# Write a function that checks if a given string is a palindrome (reads the same forwards and backwards).\n",
        "def func(s):\n",
        "  s = s.lower().replace(\" \", \"\")\n",
        "  return s==s[::-1]\n",
        "print(func(\"A man a plan a canal Panama\"))\n"
      ],
      "metadata": {
        "colab": {
          "base_uri": "https://localhost:8080/"
        },
        "id": "NYUDEkAaTcaU",
        "outputId": "e1cff289-d46a-4a47-810b-43c42741f759"
      },
      "execution_count": 36,
      "outputs": [
        {
          "output_type": "stream",
          "name": "stdout",
          "text": [
            "True\n"
          ]
        }
      ]
    },
    {
      "cell_type": "code",
      "source": [
        "# Write a function that returns the maximum element in a list.\n",
        "list1=[1,4,5,65,76,56,34]\n",
        "max=list1[0]\n",
        "for i in list1:\n",
        "  if i > max:\n",
        "    max=i\n",
        "print(max)\n"
      ],
      "metadata": {
        "colab": {
          "base_uri": "https://localhost:8080/"
        },
        "id": "uPHczldjVs64",
        "outputId": "27be61aa-557a-49df-fbe2-3e9dd0a425ab"
      },
      "execution_count": 37,
      "outputs": [
        {
          "output_type": "stream",
          "name": "stdout",
          "text": [
            "76\n"
          ]
        }
      ]
    }
  ]
}