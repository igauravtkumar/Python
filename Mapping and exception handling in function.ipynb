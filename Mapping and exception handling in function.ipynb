{
  "nbformat": 4,
  "nbformat_minor": 0,
  "metadata": {
    "colab": {
      "provenance": []
    },
    "kernelspec": {
      "name": "python3",
      "display_name": "Python 3"
    },
    "language_info": {
      "name": "python"
    }
  },
  "cells": [
    {
      "cell_type": "code",
      "execution_count": null,
      "metadata": {
        "id": "OgDL1Cqbvbdg"
      },
      "outputs": [],
      "source": [
        "# map =>\n",
        "# iterable value\n",
        "# function"
      ]
    },
    {
      "cell_type": "code",
      "source": [
        "for i in range()\n",
        "# fix memory allocate"
      ],
      "metadata": {
        "id": "GR6B4sW8wrz_"
      },
      "execution_count": null,
      "outputs": []
    },
    {
      "cell_type": "code",
      "source": [
        "mylist=[10,20,30]\n",
        "\n",
        "def square(num):\n",
        "  return num**2\n",
        "\n",
        "out = map(square, mylist)\n",
        "next(out)"
      ],
      "metadata": {
        "colab": {
          "base_uri": "https://localhost:8080/"
        },
        "id": "AtgWUIexxAXD",
        "outputId": "8df556d1-b9a9-47c2-8fa5-96d827ade517"
      },
      "execution_count": null,
      "outputs": [
        {
          "output_type": "execute_result",
          "data": {
            "text/plain": [
              "100"
            ]
          },
          "metadata": {},
          "execution_count": 1
        }
      ]
    },
    {
      "cell_type": "code",
      "source": [
        "next(out)"
      ],
      "metadata": {
        "colab": {
          "base_uri": "https://localhost:8080/"
        },
        "id": "qtEhf5IRyRIj",
        "outputId": "891a22bd-6cf5-449e-e9ab-0c78cd31ea8c"
      },
      "execution_count": null,
      "outputs": [
        {
          "output_type": "execute_result",
          "data": {
            "text/plain": [
              "400"
            ]
          },
          "metadata": {},
          "execution_count": 2
        }
      ]
    },
    {
      "cell_type": "code",
      "source": [
        "next(out)"
      ],
      "metadata": {
        "colab": {
          "base_uri": "https://localhost:8080/"
        },
        "id": "kSKD41kXyUlm",
        "outputId": "78f26ca9-0b18-4f31-a73e-642c52d86c80"
      },
      "execution_count": null,
      "outputs": [
        {
          "output_type": "execute_result",
          "data": {
            "text/plain": [
              "900"
            ]
          },
          "metadata": {},
          "execution_count": 3
        }
      ]
    },
    {
      "cell_type": "code",
      "source": [
        "mylist=[10,20,30]\n",
        "\n",
        "def square(num):\n",
        "  return num**2\n",
        "\n",
        "list( map(square, mylist))"
      ],
      "metadata": {
        "colab": {
          "base_uri": "https://localhost:8080/"
        },
        "id": "p7_QhKp0yWbT",
        "outputId": "dde1b495-c94f-4c59-c802-007e01f74f19"
      },
      "execution_count": null,
      "outputs": [
        {
          "output_type": "execute_result",
          "data": {
            "text/plain": [
              "[100, 400, 900]"
            ]
          },
          "metadata": {},
          "execution_count": 4
        }
      ]
    },
    {
      "cell_type": "code",
      "source": [
        "mylist=[10,20,30]\n",
        "\n",
        "def square(num):\n",
        "  return num**2\n",
        "\n",
        "list( map(lambda num: num**2 , mylist))"
      ],
      "metadata": {
        "colab": {
          "base_uri": "https://localhost:8080/"
        },
        "id": "rLYfXgqMyl9_",
        "outputId": "bc516c1d-b694-4478-9de8-5eb2c25df6cb"
      },
      "execution_count": null,
      "outputs": [
        {
          "output_type": "execute_result",
          "data": {
            "text/plain": [
              "[100, 400, 900]"
            ]
          },
          "metadata": {},
          "execution_count": 5
        }
      ]
    },
    {
      "cell_type": "code",
      "source": [
        "list( map(lambda num: num%3==0 , mylist))"
      ],
      "metadata": {
        "colab": {
          "base_uri": "https://localhost:8080/"
        },
        "id": "jz9OH59cy7BV",
        "outputId": "4d4bed73-ce4d-4eb7-886e-12bb17fd6542"
      },
      "execution_count": null,
      "outputs": [
        {
          "output_type": "execute_result",
          "data": {
            "text/plain": [
              "[False, False, True]"
            ]
          },
          "metadata": {},
          "execution_count": 6
        }
      ]
    },
    {
      "cell_type": "code",
      "source": [
        "list( filter(lambda num: num%3==0 , mylist))"
      ],
      "metadata": {
        "colab": {
          "base_uri": "https://localhost:8080/"
        },
        "id": "SHMcDEGZzfDm",
        "outputId": "6999dc71-1c08-4bc3-fc13-5cec64616df9"
      },
      "execution_count": null,
      "outputs": [
        {
          "output_type": "execute_result",
          "data": {
            "text/plain": [
              "[30]"
            ]
          },
          "metadata": {},
          "execution_count": 8
        }
      ]
    },
    {
      "cell_type": "code",
      "source": [
        "# Exception handling\n",
        "# handling the error => code terminate\n",
        "#two part\n",
        "#1> try\n",
        "#2> except\n"
      ],
      "metadata": {
        "id": "0UON2Gk-zvt_"
      },
      "execution_count": null,
      "outputs": []
    },
    {
      "cell_type": "code",
      "source": [
        "try:\n",
        "  print(10)\n",
        "  print(num123)\n",
        "\n",
        "except NameError as e:\n",
        "  print(\"error occured\",e)"
      ],
      "metadata": {
        "colab": {
          "base_uri": "https://localhost:8080/"
        },
        "id": "x9XLorRP0NZZ",
        "outputId": "c35327ec-835c-4968-91dc-b76db9b6cc33"
      },
      "execution_count": null,
      "outputs": [
        {
          "output_type": "stream",
          "name": "stdout",
          "text": [
            "10\n",
            "error occured name 'num123' is not defined\n"
          ]
        }
      ]
    },
    {
      "cell_type": "code",
      "source": [
        "try:\n",
        "  print(10)\n",
        "  \"hey\"+20\n",
        "  print(num123)\n",
        "\n",
        "except (NameError,TypeError) as e:\n",
        "  print(\"error occured\",e)"
      ],
      "metadata": {
        "colab": {
          "base_uri": "https://localhost:8080/"
        },
        "id": "ZlH8BtjW1OQn",
        "outputId": "b79b2727-f65f-444c-bd44-30ba59821ce3"
      },
      "execution_count": null,
      "outputs": [
        {
          "output_type": "stream",
          "name": "stdout",
          "text": [
            "10\n",
            "error occured can only concatenate str (not \"int\") to str\n"
          ]
        }
      ]
    },
    {
      "cell_type": "code",
      "source": [
        "try:\n",
        "  print(10)\n",
        "  print(num123)\n",
        "  \"hey\"+20\n",
        "\n",
        "except (NameError,TypeError) as e:\n",
        "  print(\"error occured\",e)\n",
        "\n",
        "except Exception as e:\n",
        "  print(\"All Error Occured\",e)"
      ],
      "metadata": {
        "colab": {
          "base_uri": "https://localhost:8080/"
        },
        "id": "lmXv9OFe1aGl",
        "outputId": "b245935f-f789-4ea2-a3ab-b70f94a258d1"
      },
      "execution_count": null,
      "outputs": [
        {
          "output_type": "stream",
          "name": "stdout",
          "text": [
            "10\n",
            "error occured name 'num123' is not defined\n"
          ]
        }
      ]
    },
    {
      "cell_type": "code",
      "source": [
        "try:\n",
        "  print(10)\n",
        "  print(num123)\n",
        "  \"hey\"+20\n",
        "\n",
        "except (NameError,TypeError) as e:\n",
        "  print(\"error occured\",e)\n",
        "\n",
        "except Exception as e:\n",
        "  print(\"All Error Occured\",e)\n",
        "\n",
        "finally:  # always execute\n",
        "  print(\"hey\")"
      ],
      "metadata": {
        "colab": {
          "base_uri": "https://localhost:8080/"
        },
        "id": "y-uaqt0T2BpG",
        "outputId": "4d504684-3ebf-4380-9637-968b0d6394ed"
      },
      "execution_count": null,
      "outputs": [
        {
          "output_type": "stream",
          "name": "stdout",
          "text": [
            "10\n",
            "error occured name 'num123' is not defined\n",
            "hey\n"
          ]
        }
      ]
    },
    {
      "cell_type": "code",
      "source": [
        "def threeSumSmaller(nums, target):\n",
        "    # Sort the array first\n",
        "    nums.sort()\n",
        "    count = 0\n",
        "\n",
        "    # Loop through each element and apply the two-pointer approach\n",
        "    for i in range(len(nums) - 2):\n",
        "        left, right = i + 1, len(nums) - 1\n",
        "\n",
        "        while left < right:\n",
        "            # Calculate the sum of the current triplet\n",
        "            if nums[i] + nums[left] + nums[right] < target:\n",
        "                # All combinations between left and right are valid\n",
        "                count += (right - left)\n",
        "                left += 1  # Move left pointer right to increase the sum\n",
        "            else:\n",
        "                right -= 1  # Move right pointer left to decrease the sum\n",
        "\n",
        "    return count\n",
        "\n"
      ],
      "metadata": {
        "id": "t7jmWgo42mEW"
      },
      "execution_count": null,
      "outputs": []
    }
  ]
}