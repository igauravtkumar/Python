{
  "nbformat": 4,
  "nbformat_minor": 0,
  "metadata": {
    "colab": {
      "provenance": []
    },
    "kernelspec": {
      "name": "python3",
      "display_name": "Python 3"
    },
    "language_info": {
      "name": "python"
    }
  },
  "cells": [
    {
      "cell_type": "code",
      "execution_count": 1,
      "metadata": {
        "colab": {
          "base_uri": "https://localhost:8080/"
        },
        "id": "VO1sM3ejgWKk",
        "outputId": "1fab83d6-2958-474e-dd9e-c430bad53254"
      },
      "outputs": [
        {
          "output_type": "stream",
          "name": "stdout",
          "text": [
            "Before Function : 10 20\n",
            "After Function : 10 20\n"
          ]
        }
      ],
      "source": [
        "x=10\n",
        "y=20\n",
        "def swapNumber(x,y):\n",
        "  temp=x\n",
        "  x=y\n",
        "  y=temp\n",
        "\n",
        "print(\"Before Function :\",x,y)\n",
        "swapNumber(x,y)\n",
        "print(\"After Function :\",x,y)"
      ]
    },
    {
      "cell_type": "code",
      "source": [
        "mylist=[10,20]\n",
        "\n",
        "def func(list1):\n",
        "  print(\"11\",list1)\n",
        "  list1[0]=1000\n",
        "  print(\"after change in func\",list1)\n",
        "func(mylist)\n",
        "print(\"after change outside func :\",mylist)"
      ],
      "metadata": {
        "colab": {
          "base_uri": "https://localhost:8080/"
        },
        "id": "tYxAztPPjiaX",
        "outputId": "e023da36-c704-4a42-c7e2-3898b9d36f72"
      },
      "execution_count": 4,
      "outputs": [
        {
          "output_type": "stream",
          "name": "stdout",
          "text": [
            "11 [10, 20]\n",
            "after change in func [1000, 20]\n",
            "after change outside func : [1000, 20]\n"
          ]
        }
      ]
    },
    {
      "cell_type": "code",
      "source": [
        "def addNo(n):\n",
        "  print(n*1.5)\n",
        "\n",
        "addNo(10)"
      ],
      "metadata": {
        "colab": {
          "base_uri": "https://localhost:8080/"
        },
        "id": "j1y-fitdkxqc",
        "outputId": "90c8ec46-d15c-4285-9cd2-0c6cfd8c41a2"
      },
      "execution_count": 5,
      "outputs": [
        {
          "output_type": "stream",
          "name": "stdout",
          "text": [
            "15.0\n"
          ]
        }
      ]
    },
    {
      "cell_type": "code",
      "source": [
        "def addNo(n):\n",
        "\n",
        "  return n*1.5\n",
        "out=addNo(10)\n",
        "print(\"Out\", out)"
      ],
      "metadata": {
        "colab": {
          "base_uri": "https://localhost:8080/"
        },
        "id": "qe6mbgymlD-P",
        "outputId": "9df7fe8c-5300-4baa-f238-e2b475f46733"
      },
      "execution_count": 7,
      "outputs": [
        {
          "output_type": "stream",
          "name": "stdout",
          "text": [
            "Out 15.0\n"
          ]
        }
      ]
    },
    {
      "cell_type": "code",
      "source": [
        "def addNo(n):\n",
        "  if n%2==0:\n",
        "    return True  #return used to exit the function\n",
        "  else:\n",
        "    return False\n",
        "out=addNo(41)\n",
        "print(\"out\",out)"
      ],
      "metadata": {
        "colab": {
          "base_uri": "https://localhost:8080/"
        },
        "id": "_ARxfjkSmR7E",
        "outputId": "44a4451f-10a1-4c84-ddc2-00b8268fabee"
      },
      "execution_count": 8,
      "outputs": [
        {
          "output_type": "stream",
          "name": "stdout",
          "text": [
            "out False\n"
          ]
        }
      ]
    },
    {
      "cell_type": "code",
      "source": [
        "def func():\n",
        "  return 0         # only first value written and function exit\n",
        "  return 10/0\n",
        "func()"
      ],
      "metadata": {
        "colab": {
          "base_uri": "https://localhost:8080/"
        },
        "id": "WgCGNk_rnNfE",
        "outputId": "6f18949f-ed2b-489b-f97e-2b8fe58d9499"
      },
      "execution_count": 10,
      "outputs": [
        {
          "output_type": "execute_result",
          "data": {
            "text/plain": [
              "0"
            ]
          },
          "metadata": {},
          "execution_count": 10
        }
      ]
    },
    {
      "cell_type": "code",
      "source": [
        "# def func(n:str): # str is  type hinting\n",
        "# def func(n:int): # int is type hinting"
      ],
      "metadata": {
        "id": "WhfGcn1_njF6"
      },
      "execution_count": 15,
      "outputs": []
    },
    {
      "cell_type": "code",
      "source": [
        "# first class function ==>>\n",
        "# properties ==>>>\n",
        "#                A function is an instance of the Object type.\n",
        "#                You can store the function in a variable.\n",
        "#                You can pass the function as a parameter to another function.\n",
        "#                You can return the function from a function.\n",
        "#                You can store them in data structures such as hash tables, lists, …"
      ],
      "metadata": {
        "id": "TUzPDfB7ol5z"
      },
      "execution_count": 17,
      "outputs": []
    },
    {
      "cell_type": "code",
      "source": [
        "def func():\n",
        "  print(\"Hello\")\n",
        "                      # func() call the function\n",
        "print(id(func))\n",
        "out=func()"
      ],
      "metadata": {
        "colab": {
          "base_uri": "https://localhost:8080/"
        },
        "id": "MiU4KH2qpwfP",
        "outputId": "132d7965-a562-4804-c1c9-d1c4e78e2f3f"
      },
      "execution_count": 18,
      "outputs": [
        {
          "output_type": "stream",
          "name": "stdout",
          "text": [
            "134839060472032\n",
            "Hello\n"
          ]
        }
      ]
    },
    {
      "cell_type": "code",
      "source": [
        "def func():\n",
        "  print(\"Hello\")\n",
        "\n",
        "print(func)\n",
        "out=func\n",
        "print(out)\n",
        "out()\n",
        "func()"
      ],
      "metadata": {
        "colab": {
          "base_uri": "https://localhost:8080/"
        },
        "id": "HPWqZtWcqPlR",
        "outputId": "adcdd353-374f-4079-e260-50f6629e4934"
      },
      "execution_count": 22,
      "outputs": [
        {
          "output_type": "stream",
          "name": "stdout",
          "text": [
            "<function func at 0x7aa2aa4d1c60>\n",
            "<function func at 0x7aa2aa4d1c60>\n",
            "Hello\n",
            "Hello\n"
          ]
        }
      ]
    },
    {
      "cell_type": "code",
      "source": [
        "def func():\n",
        "  print(\"Hello\")\n",
        "\n",
        "out=func\n",
        "\n",
        "mylist=[0,out]\n",
        "print(mylist[1]())"
      ],
      "metadata": {
        "colab": {
          "base_uri": "https://localhost:8080/"
        },
        "id": "GZt78HqzrYoP",
        "outputId": "e028aec1-91cc-4531-d4f0-38597957b3d4"
      },
      "execution_count": 24,
      "outputs": [
        {
          "output_type": "stream",
          "name": "stdout",
          "text": [
            "Hello\n",
            "None\n"
          ]
        }
      ]
    },
    {
      "cell_type": "code",
      "source": [
        "# vaild Anagram\n",
        "def is_anagram(s: str, t: str) -> bool:\n",
        "\n",
        "    if len(s) != len(t):\n",
        "        return False\n",
        "\n",
        "\n",
        "    return sorted(s) == sorted(t)\n",
        "is_anagram(s=\"raman\",t=\"namra\")"
      ],
      "metadata": {
        "colab": {
          "base_uri": "https://localhost:8080/"
        },
        "id": "QHDHd_ChsC1C",
        "outputId": "c660618f-4130-42ad-9990-f85dac14869f"
      },
      "execution_count": 31,
      "outputs": [
        {
          "output_type": "execute_result",
          "data": {
            "text/plain": [
              "True"
            ]
          },
          "metadata": {},
          "execution_count": 31
        }
      ]
    },
    {
      "cell_type": "code",
      "source": [
        "def is_anagram(s: str, t: str) -> bool:\n",
        "\n",
        "    if len(s) != len(t):\n",
        "        return False\n",
        "\n",
        "\n",
        "    return sorted(s) == sorted(t)\n",
        "is_anagram(s=\"rat\",t=\"cat\")"
      ],
      "metadata": {
        "colab": {
          "base_uri": "https://localhost:8080/"
        },
        "id": "-4O8sJxXz37b",
        "outputId": "875f9cee-3f85-4a38-9551-d4692d6933f8"
      },
      "execution_count": 33,
      "outputs": [
        {
          "output_type": "execute_result",
          "data": {
            "text/plain": [
              "False"
            ]
          },
          "metadata": {},
          "execution_count": 33
        }
      ]
    },
    {
      "cell_type": "code",
      "source": [],
      "metadata": {
        "id": "wyG3XsX00xZR"
      },
      "execution_count": 35,
      "outputs": []
    }
  ]
}