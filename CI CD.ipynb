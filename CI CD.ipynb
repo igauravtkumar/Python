{
  "nbformat": 4,
  "nbformat_minor": 0,
  "metadata": {
    "colab": {
      "provenance": []
    },
    "kernelspec": {
      "name": "python3",
      "display_name": "Python 3"
    },
    "language_info": {
      "name": "python"
    }
  },
  "cells": [
    {
      "cell_type": "code",
      "execution_count": null,
      "metadata": {
        "id": "IFwlnz3ejSd1"
      },
      "outputs": [],
      "source": [
        "# Github Actions -->\n",
        "                  #  This is a powerfull automation tool provided by github that unable developers tool automated  related to their software development workflow\n",
        "                  #  it allow for the creation of custom workflows which can be triggered by various events such AS push to a repository pull request or sechudeled event\n",
        "                  #  and these workflows can be used for various purpose including  continuous integration (ci),continuous deployment(cd)."
      ]
    },
    {
      "cell_type": "code",
      "source": [
        "# Introduction to CI and CD ==>\n",
        "#  CI-->\n",
        "#      CI is a practice where devloper frequently merge their code changes into a shared repository each merge trigger and automated\n",
        "#      build and test process to ensure the changes do not break the adujusting functionality .\n",
        "#  Now with github action developer can setup workflows to automatically bill and test their core everytime they push changes to the repository or create a pull\n",
        "#  request."
      ],
      "metadata": {
        "id": "eDooThAntmLI"
      },
      "execution_count": null,
      "outputs": []
    },
    {
      "cell_type": "code",
      "source": [
        "#  CD =>\n",
        "#     CD extends the concept of CI by automating the deployment of cold to production and environment after it passes are required test and git hub\n",
        "# action can be configure to automatically  deployed applications to various environment such as staging or production\n",
        "#  once the code passes CI checks and this practice reduce the time between\n",
        "#  devlopment and deployment allowing for faster delivery of features and updates ."
      ],
      "metadata": {
        "id": "fGR8Fk2CvR20"
      },
      "execution_count": null,
      "outputs": []
    },
    {
      "cell_type": "code",
      "source": [
        "# Devloper workflows ->\n",
        "#             A developer workflow refer to the seies of steps , practice , tools that  devloper or a team of devloper follow to write, test, collobrate on\n",
        "# and deployed code effectively and thi workflow is designed to streamline the software development process inhance productivity reduce error and insure\n",
        "#  high quality code output. A well defined developer workflow in corporates various stages of development from coding to deployment and often integrates\n",
        "#  tools for version control code rebuse testing and CI\\CD"
      ],
      "metadata": {
        "id": "26qe7oEsxZgG"
      },
      "execution_count": null,
      "outputs": []
    },
    {
      "cell_type": "code",
      "source": [
        "# Benefits of Devloper workflows -->\n",
        "#  1> Improved collobration -->\n",
        "#                          clear workflows and process facinate better collobration among team members making it easier to understand who is responsible for\n",
        "#                          what .\n",
        "#  2> Higher code quality -->\n",
        "#                      code rebuse automated test and CI CD practices help maintain a high standard of code quality\n",
        "# 3> Reduce Error -->\n",
        "                    # Automated testing and deployment reduce the likely of human error insuring more reliable releases\n",
        "# 4> Faster delivery -\n",
        "#                stream line workflow unable faster development and release cycle allowing twins to deliver new features and fixes more quickly.\n",
        "\n",
        "# 5> Continuous feedback Loop -->\n",
        "#                             Regular monitoring and feedback helps team quickly identified and address issued continuously improving the product"
      ],
      "metadata": {
        "id": "nveXhwJHypf_"
      },
      "execution_count": null,
      "outputs": []
    }
  ]
}