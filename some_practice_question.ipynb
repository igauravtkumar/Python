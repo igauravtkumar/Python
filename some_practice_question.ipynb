{
  "nbformat": 4,
  "nbformat_minor": 0,
  "metadata": {
    "colab": {
      "provenance": []
    },
    "kernelspec": {
      "name": "python3",
      "display_name": "Python 3"
    },
    "language_info": {
      "name": "python"
    }
  },
  "cells": [
    {
      "cell_type": "code",
      "execution_count": 6,
      "metadata": {
        "colab": {
          "base_uri": "https://localhost:8080/"
        },
        "id": "CfhoKOgCWg-g",
        "outputId": "5c4a91ef-a7bc-4cfd-f734-1bbbba399708"
      },
      "outputs": [
        {
          "output_type": "stream",
          "name": "stdout",
          "text": [
            "[1, 2, 3, 4, 5, 6]\n"
          ]
        }
      ],
      "source": [
        "# : Write a function that merges two sorted lists into a single sorted list.\n",
        "def func(list1,list2):\n",
        "  i=j=0\n",
        "  merged_list=[]\n",
        "  while i < len(list1) and j < len(list2):\n",
        "    if list1[i] < list2[j]:\n",
        "      merged_list.append(list1[i])\n",
        "      i+=1\n",
        "    else:\n",
        "      merged_list.append(list2[j])\n",
        "      j+=1\n",
        "  merged_list.extend(list1[i:])\n",
        "  merged_list.extend(list2[j:])\n",
        "\n",
        "  return merged_list\n",
        "print(func([1, 3, 5], [2, 4, 6]))"
      ]
    },
    {
      "cell_type": "code",
      "source": [
        "# : Write a function that returns the nth Fibonacci number.\n",
        "def fibonacci(n):\n",
        "  a=0\n",
        "  b=1\n",
        "  for i in range(n):\n",
        "    print(a,end=\" \")\n",
        "    a,b=b,a+b\n",
        "fibonacci(5)"
      ],
      "metadata": {
        "colab": {
          "base_uri": "https://localhost:8080/"
        },
        "id": "Y_XCZsGCYe0U",
        "outputId": "d612012d-af88-4cff-b2fd-e8dfebb14114"
      },
      "execution_count": 10,
      "outputs": [
        {
          "output_type": "stream",
          "name": "stdout",
          "text": [
            "0 1 1 2 3 "
          ]
        }
      ]
    },
    {
      "cell_type": "code",
      "source": [
        "# Count Vowels\n",
        "str1='hey how are you'\n",
        "vowels='aeiouAEIOU'\n",
        "count=0\n",
        "for i in str1:\n",
        "  if i in vowels:\n",
        "    count+=1\n",
        "print(count)"
      ],
      "metadata": {
        "colab": {
          "base_uri": "https://localhost:8080/"
        },
        "id": "4cd0NmOwZJsp",
        "outputId": "20e3c667-b72c-4503-9c2b-fe718bc31616"
      },
      "execution_count": 13,
      "outputs": [
        {
          "output_type": "stream",
          "name": "stdout",
          "text": [
            "6\n"
          ]
        }
      ]
    },
    {
      "cell_type": "code",
      "source": [
        "# Anagram Check\n",
        "str1='naman'\n",
        "str2='manan'\n",
        "if len(str1)==len(str2):\n",
        "  sorted(str1)==sorted(str2)\n",
        "  print('str1 and str2 is anagram')\n",
        "else:\n",
        "  print('not')"
      ],
      "metadata": {
        "colab": {
          "base_uri": "https://localhost:8080/"
        },
        "id": "0ag5ZvbPZj6T",
        "outputId": "941ebc3c-ae6a-4c51-e088-3729d9c311cf"
      },
      "execution_count": 16,
      "outputs": [
        {
          "output_type": "stream",
          "name": "stdout",
          "text": [
            "not\n"
          ]
        }
      ]
    },
    {
      "cell_type": "code",
      "source": [
        "#q Remove Duplicates\n",
        "# first approach\n",
        "list1=[1,2,2,3,3,4,5,6,7]\n",
        "unique=[]\n",
        "for i in list1:\n",
        "  if i not in unique:\n",
        "    unique.append(i)\n",
        "print(unique)\n",
        "\n",
        "# second approach\n",
        "set1=set(list1)\n",
        "list2=list(set1)\n",
        "print(list2)"
      ],
      "metadata": {
        "colab": {
          "base_uri": "https://localhost:8080/"
        },
        "id": "vFoTcMuDZ_Rh",
        "outputId": "c045a58b-f82c-417f-c2ed-e0151e5a3323"
      },
      "execution_count": 23,
      "outputs": [
        {
          "output_type": "stream",
          "name": "stdout",
          "text": [
            "[1, 2, 3, 4, 5, 6, 7]\n",
            "[1, 2, 3, 4, 5, 6, 7]\n"
          ]
        }
      ]
    },
    {
      "cell_type": "code",
      "source": [
        "# remove duplicate\n",
        "# list1=[1,2,2,3,3,4,4] -- output 1\n",
        "list1=[1,2,2,3,3,4,4]\n",
        "result=[]\n",
        "for i in list1:\n",
        "  if list1.count(i)==1:\n",
        "    result.append(i)\n",
        "print(result)\n",
        "\n",
        "# list1=[1,1,2,2,3,3,4,5,5] -- output 4\n",
        "list1=[1,1,2,2,3,3,4,5,5]\n",
        "result=[]\n",
        "for i in list1:\n",
        "  if list1.count(i)==1:\n",
        "    result.append(i)\n",
        "print(result)"
      ],
      "metadata": {
        "colab": {
          "base_uri": "https://localhost:8080/"
        },
        "id": "KHv0XPI5atSQ",
        "outputId": "2ac395ac-f590-4eff-d24e-e9d6a3a4e060"
      },
      "execution_count": 26,
      "outputs": [
        {
          "output_type": "stream",
          "name": "stdout",
          "text": [
            "[1]\n",
            "[4]\n"
          ]
        }
      ]
    },
    {
      "cell_type": "code",
      "source": [
        "# Find Maximum\n",
        "list1=[1,23,4,4,544,654,6543]\n",
        "max=list1[0]\n",
        "for i in list1:\n",
        "  if i > max:\n",
        "    max=i\n",
        "print(max)"
      ],
      "metadata": {
        "colab": {
          "base_uri": "https://localhost:8080/"
        },
        "id": "lhi4-qxSbZEF",
        "outputId": "1b077cf0-c667-48cc-d362-213302fdd3aa"
      },
      "execution_count": 27,
      "outputs": [
        {
          "output_type": "stream",
          "name": "stdout",
          "text": [
            "6543\n"
          ]
        }
      ]
    },
    {
      "cell_type": "code",
      "source": [
        "# Find Minimum\n",
        "list1=[1,23,4,4,544,654,6543]\n",
        "min=list1[0]\n",
        "for i in list1:\n",
        "  if i < min:\n",
        "    min=i\n",
        "print(min)"
      ],
      "metadata": {
        "colab": {
          "base_uri": "https://localhost:8080/"
        },
        "id": "oTSlz98HblJe",
        "outputId": "503c09bd-f626-44ab-95c6-097d1a492f46"
      },
      "execution_count": 29,
      "outputs": [
        {
          "output_type": "stream",
          "name": "stdout",
          "text": [
            "1\n"
          ]
        }
      ]
    },
    {
      "cell_type": "code",
      "source": [
        "# Sum of Elements\n",
        "list1=[1,2,3,4,5,6]\n",
        "sum=0\n",
        "for i in list1:\n",
        "  sum+=i\n",
        "print(sum)\n"
      ],
      "metadata": {
        "colab": {
          "base_uri": "https://localhost:8080/"
        },
        "id": "e3UmnvWpbxIi",
        "outputId": "834329ce-e65d-4e9c-8889-a8c4608f9c2d"
      },
      "execution_count": 30,
      "outputs": [
        {
          "output_type": "stream",
          "name": "stdout",
          "text": [
            "21\n"
          ]
        }
      ]
    },
    {
      "cell_type": "code",
      "source": [
        "# Factorial\n",
        "list1=[1,2,3,4,5]\n",
        "fact=1\n",
        "for i in list1:\n",
        "  fact=fact*i\n",
        "print(fact)"
      ],
      "metadata": {
        "colab": {
          "base_uri": "https://localhost:8080/"
        },
        "id": "SUu6XGGIcb69",
        "outputId": "87067073-2f6f-4f10-da0e-8d89a066662e"
      },
      "execution_count": 31,
      "outputs": [
        {
          "output_type": "stream",
          "name": "stdout",
          "text": [
            "120\n"
          ]
        }
      ]
    },
    {
      "cell_type": "code",
      "source": [
        "# Find the Intersection\n",
        "set1={1,2,3,4}\n",
        "set2={3,4,5,6}\n",
        "print(set1.intersection(set2))"
      ],
      "metadata": {
        "colab": {
          "base_uri": "https://localhost:8080/"
        },
        "id": "HifXS7iUkmFq",
        "outputId": "57188f2a-09c0-42d1-a455-1f4268b26edf"
      },
      "execution_count": 32,
      "outputs": [
        {
          "output_type": "stream",
          "name": "stdout",
          "text": [
            "{3, 4}\n"
          ]
        }
      ]
    }
  ]
}