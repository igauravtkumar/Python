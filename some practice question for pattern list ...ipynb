{
  "cells": [
    {
      "cell_type": "code",
      "execution_count": null,
      "metadata": {
        "colab": {
          "base_uri": "https://localhost:8080/"
        },
        "id": "Tln_A8JAHGuo",
        "outputId": "51875797-6c9f-43c1-c17d-956c21097c8f"
      },
      "outputs": [
        {
          "name": "stdout",
          "output_type": "stream",
          "text": [
            "A \n",
            "A B \n",
            "A B C \n",
            "A B C D \n",
            "A B C D E \n"
          ]
        }
      ],
      "source": [
        "#        -----PATTERN--\n",
        "\n",
        "# sol 3\n",
        "n=5\n",
        "\n",
        "for row in range(1,n+1):\n",
        "  num=65\n",
        "  for x in range(1,row+1):\n",
        "    print(chr(num),end=\" \")\n",
        "    num+=1\n",
        "  print()"
      ]
    },
    {
      "cell_type": "code",
      "execution_count": null,
      "metadata": {
        "colab": {
          "base_uri": "https://localhost:8080/"
        },
        "id": "Hv2TulQAnfE6",
        "outputId": "7f4e2fb0-1473-4379-f682-48614176eacb"
      },
      "outputs": [
        {
          "name": "stdout",
          "output_type": "stream",
          "text": [
            "1 \n",
            "2 3 \n",
            "4   5 \n",
            "6     7 \n",
            "8 9 10 11 12 \n"
          ]
        }
      ],
      "source": [
        "n=1\n",
        "for i in range(1,6):\n",
        "  for j in range(1,i+1):\n",
        "    if i==5 or j==1 or i==j:\n",
        "      print(n,end=\" \")\n",
        "      n+=1\n",
        "    else:\n",
        "      print(\" \",end=\" \")\n",
        "\n",
        "  print()"
      ]
    },
    {
      "cell_type": "code",
      "execution_count": null,
      "metadata": {
        "colab": {
          "base_uri": "https://localhost:8080/"
        },
        "id": "Pz6z59WzyaEz",
        "outputId": "e6e862d3-9eac-4b48-bb62-aea982493d97"
      },
      "outputs": [
        {
          "name": "stdout",
          "output_type": "stream",
          "text": [
            " ****\n",
            "  ****\n",
            "   ****\n",
            "    ****\n"
          ]
        }
      ],
      "source": [
        "# sol 1\n",
        "n=4\n",
        "for row in range(1,n+1):\n",
        "  for col in range(1):\n",
        "    print(\" \"*row+\"*\"*4)"
      ]
    },
    {
      "cell_type": "code",
      "execution_count": null,
      "metadata": {
        "colab": {
          "base_uri": "https://localhost:8080/"
        },
        "id": "h-_FWwNv1jkL",
        "outputId": "a7cd0fc5-0376-4d23-e034-aca25c61c0ba"
      },
      "outputs": [
        {
          "name": "stdout",
          "output_type": "stream",
          "text": [
            "* * * * * * \n",
            "*         * \n",
            "*         * \n",
            "* * * * * * \n"
          ]
        }
      ],
      "source": [
        "# sol 2\n",
        "n=4\n",
        "for row in range(n):\n",
        "  for col in range(n+2):\n",
        "    if row==0 or row==3 or col==0 or col==5:\n",
        "      print(\"*\",end=\" \")\n",
        "    else:\n",
        "      print(\" \",end=\" \")\n",
        "  print()"
      ]
    },
    {
      "cell_type": "code",
      "execution_count": null,
      "metadata": {
        "colab": {
          "base_uri": "https://localhost:8080/"
        },
        "id": "aV_VJA1TJqdu",
        "outputId": "eb829ac8-3758-4250-edd6-98f58bb385c7"
      },
      "outputs": [
        {
          "name": "stdout",
          "output_type": "stream",
          "text": [
            "A \n",
            "B B \n",
            "C C C \n",
            "D D D D \n",
            "E E E E E \n"
          ]
        }
      ],
      "source": [
        "# sol 4\n",
        "n=5\n",
        "num=65\n",
        "for row in range(1,n+1):\n",
        "\n",
        "  for x in range(1,row+1):\n",
        "    print(chr(num),end=\" \")\n",
        "  num+=1\n",
        "  print()"
      ]
    },
    {
      "cell_type": "code",
      "execution_count": null,
      "metadata": {
        "colab": {
          "base_uri": "https://localhost:8080/"
        },
        "id": "ndocUBNlNekp",
        "outputId": "9300f9eb-9782-4776-f286-9df61518a963"
      },
      "outputs": [
        {
          "name": "stdout",
          "output_type": "stream",
          "text": [
            "    *\n",
            "   **\n",
            "  ***\n",
            " ****\n",
            "*****\n"
          ]
        }
      ],
      "source": [
        "#sol 7\n",
        "n=5\n",
        "for row in range(1,n+1):\n",
        "  for s in range(n-row):\n",
        "    print(\" \",end=\"\")\n",
        "  for col in range(row):\n",
        "    print(\"*\",end=\"\")\n",
        "  print()"
      ]
    },
    {
      "cell_type": "code",
      "execution_count": null,
      "metadata": {
        "colab": {
          "base_uri": "https://localhost:8080/"
        },
        "id": "Wij8Di8ePDkU",
        "outputId": "2c7ccb57-2d68-44ea-f193-e3c42f88d82c"
      },
      "outputs": [
        {
          "name": "stdout",
          "output_type": "stream",
          "text": [
            "    1\n",
            "   12\n",
            "  123\n",
            " 1234\n",
            "12345\n"
          ]
        }
      ],
      "source": [
        "# sol 7\n",
        "n=5\n",
        "for row in range(1,n+1):\n",
        "  for s in range(n-row):\n",
        "    print(\" \",end=\"\")\n",
        "  for col in range(1,row+1):\n",
        "    print(col,end=\"\")\n",
        "  print()"
      ]
    },
    {
      "cell_type": "code",
      "execution_count": null,
      "metadata": {
        "colab": {
          "base_uri": "https://localhost:8080/"
        },
        "id": "7KkW6Q3gPixZ",
        "outputId": "7dcb17e5-e320-47a8-f125-5d7106b05f43"
      },
      "outputs": [
        {
          "name": "stdout",
          "output_type": "stream",
          "text": [
            "12345\n",
            " 1234\n",
            "  123\n",
            "   12\n",
            "    1\n"
          ]
        }
      ],
      "source": [
        "# sol 8\n",
        "n=5\n",
        "for row in range(n,0,-1):\n",
        "  for s in range(n-row):\n",
        "    print(\" \",end=\"\")\n",
        "  for col in range(1,row+1):\n",
        "    print(col,end=\"\")\n",
        "  print()"
      ]
    },
    {
      "cell_type": "code",
      "execution_count": null,
      "metadata": {
        "colab": {
          "base_uri": "https://localhost:8080/"
        },
        "id": "nIKe892bQEGw",
        "outputId": "686af691-3989-4873-863e-201a40491d4e"
      },
      "outputs": [
        {
          "name": "stdout",
          "output_type": "stream",
          "text": [
            "ABCDE\n",
            " ABCD\n",
            "  ABC\n",
            "   AB\n",
            "    A\n"
          ]
        }
      ],
      "source": [
        "#sol 8\n",
        "n=5\n",
        "for row in range(n,0,-1):\n",
        "  for s in range(n-row):\n",
        "    print(\" \",end=\"\")\n",
        "  num=65\n",
        "  for col in range(1,row+1):\n",
        "    print(chr(num),end=\"\")\n",
        "    num+=1\n",
        "  print()"
      ]
    },
    {
      "cell_type": "code",
      "execution_count": null,
      "metadata": {
        "colab": {
          "base_uri": "https://localhost:8080/"
        },
        "id": "Un8s-NGw6My7",
        "outputId": "a762b73c-1e57-40ba-ece4-f9f6752e4016"
      },
      "outputs": [
        {
          "name": "stdout",
          "output_type": "stream",
          "text": [
            "     *****\n",
            "    *****\n",
            "   *****\n",
            "  *****\n",
            " *****\n"
          ]
        }
      ],
      "source": [
        "# sol 9\n",
        "n=5\n",
        "for row in range(n,0,-1):\n",
        "  for col in range(1):\n",
        "    print(\" \"*row+\"*\"*5)"
      ]
    },
    {
      "cell_type": "code",
      "execution_count": null,
      "metadata": {
        "colab": {
          "base_uri": "https://localhost:8080/"
        },
        "id": "VXn7cJ4cSSAw",
        "outputId": "56af52d0-5d9b-4e10-b18a-a2f5bcb6c301"
      },
      "outputs": [
        {
          "name": "stdout",
          "output_type": "stream",
          "text": [
            "    1 2 3 4 5 \n",
            "   1 2 3 4 5 \n",
            "  1 2 3 4 5 \n",
            " 1 2 3 4 5 \n",
            "1 2 3 4 5 \n"
          ]
        }
      ],
      "source": [
        "n=5\n",
        "for row in range(1,n+1):\n",
        "  for s in range(row,n):\n",
        "    print(\" \",end=\"\")\n",
        "  for col in range(1,n+1):\n",
        "    print(col,end=\" \")\n",
        "  print()"
      ]
    },
    {
      "cell_type": "code",
      "execution_count": null,
      "metadata": {
        "colab": {
          "base_uri": "https://localhost:8080/"
        },
        "id": "QopIQ2q4OeLP",
        "outputId": "b59bd84c-fc59-49ea-cd1d-571d8bd4e6b8"
      },
      "outputs": [
        {
          "name": "stdout",
          "output_type": "stream",
          "text": [
            "    A B C D E \n",
            "   A B C D E \n",
            "  A B C D E \n",
            " A B C D E \n",
            "A B C D E \n"
          ]
        }
      ],
      "source": [
        "n=5\n",
        "for row in range(1,n+1):\n",
        "  for s in range(row,n):\n",
        "    print(\" \",end=\"\")\n",
        "  num=65\n",
        "  for col in range(1,n+1):\n",
        "    print(chr(num),end=\" \")\n",
        "    num+=1\n",
        "  print()"
      ]
    },
    {
      "cell_type": "code",
      "execution_count": null,
      "metadata": {
        "colab": {
          "base_uri": "https://localhost:8080/"
        },
        "id": "dDrx0vPL653n",
        "outputId": "a9b256bd-a4a4-4cd2-94c1-3046a5cf59da"
      },
      "outputs": [
        {
          "name": "stdout",
          "output_type": "stream",
          "text": [
            "      *       \n",
            "    *   *     \n",
            "  *       *   \n",
            "* * * * * * * \n"
          ]
        }
      ],
      "source": [
        "#sol 13\n",
        "n=4\n",
        "for row in range(1,n+1):\n",
        "  for col in range(1,2*n):\n",
        "    if row==4 or row+col==n+1 or col-row==n-1:\n",
        "      print(\"*\",end=\" \")\n",
        "    else:\n",
        "      print(\" \",end=\" \")\n",
        "  print()"
      ]
    },
    {
      "cell_type": "code",
      "execution_count": null,
      "metadata": {
        "colab": {
          "base_uri": "https://localhost:8080/"
        },
        "id": "OrY3rRpsOV3b",
        "outputId": "db96fd79-fa19-41aa-d967-29eb1d4d0938"
      },
      "outputs": [
        {
          "name": "stdout",
          "output_type": "stream",
          "text": [
            "        *         \n",
            "      *   *       \n",
            "    *       *     \n",
            "  *           *   \n",
            "*   *   *   *   * \n"
          ]
        }
      ],
      "source": [
        "n=5\n",
        "k=2\n",
        "for i in range(1,n+1):\n",
        "  for j in range(1,2*n):\n",
        "    if  i+j==n+1 or j-i==n-1:\n",
        "      print(\"*\",end=\" \")\n",
        "    elif i==n and j!=k:\n",
        "      print(\"*\",end=\" \")\n",
        "      k+=2\n",
        "    else:\n",
        "      print(\" \",end=\" \")\n",
        "  print()\n"
      ]
    },
    {
      "cell_type": "code",
      "execution_count": null,
      "metadata": {
        "colab": {
          "base_uri": "https://localhost:8080/"
        },
        "id": "mWnEHsoiQjkL",
        "outputId": "e4eff62d-5982-423a-f131-e42ba344246a"
      },
      "outputs": [
        {
          "name": "stdout",
          "output_type": "stream",
          "text": [
            "* \n",
            "* * \n",
            "* * * \n",
            "* * * * \n",
            "* * * \n",
            "* * \n",
            "* \n"
          ]
        }
      ],
      "source": [
        "#sol 15\n",
        "n=4\n",
        "for row in range(1,n):\n",
        "  for col in range(1,row+1):\n",
        "    print(\"*\",end=\" \")\n",
        "  print()\n",
        "for row in range(n,0,-1):\n",
        "  for col in range(1,row+1):\n",
        "    print(\"*\",end=\" \")\n",
        "  print()"
      ]
    },
    {
      "cell_type": "code",
      "execution_count": null,
      "metadata": {
        "colab": {
          "base_uri": "https://localhost:8080/"
        },
        "id": "KzR69xBZSQZS",
        "outputId": "99292ce7-bff4-479d-df3c-a5929caa7876"
      },
      "outputs": [
        {
          "name": "stdout",
          "output_type": "stream",
          "text": [
            "   *\n",
            "  **\n",
            " ***\n",
            "****\n",
            " ***\n",
            "  **\n",
            "   *\n"
          ]
        }
      ],
      "source": [
        "#sol 16\n",
        "n=4\n",
        "for row in range(1,n):\n",
        "  for s in range(n-row):\n",
        "    print(\" \",end=\"\")\n",
        "  for col in range(1,row+1):\n",
        "    print(\"*\",end=\"\")\n",
        "  print()\n",
        "for row in range(n,0,-1):\n",
        "  for s in range(n-row):\n",
        "    print(\" \",end=\"\")\n",
        "  for col in range(1,row+1):\n",
        "    print(\"*\",end=\"\")\n",
        "  print()"
      ]
    },
    {
      "cell_type": "code",
      "execution_count": null,
      "metadata": {
        "colab": {
          "base_uri": "https://localhost:8080/"
        },
        "id": "G0prEr7cSgLW",
        "outputId": "0c09d4dd-6331-444f-92b0-8e9f2f39386c"
      },
      "outputs": [
        {
          "name": "stdout",
          "output_type": "stream",
          "text": [
            "1 \n",
            "1 2 \n",
            "1 2 3 \n",
            "1 2 3 4 \n",
            "1 2 3 4 5 \n"
          ]
        }
      ],
      "source": [
        "# half pyramid\n",
        "n=5\n",
        "for row in range(1,n+1):\n",
        "  for col in range(1,row+1):\n",
        "    print(col,end=\" \")\n",
        "  print()"
      ]
    },
    {
      "cell_type": "code",
      "execution_count": null,
      "metadata": {
        "colab": {
          "base_uri": "https://localhost:8080/"
        },
        "id": "uZ-pnKulSr4A",
        "outputId": "91eb9c65-9882-49c9-fa2b-10e71677faed"
      },
      "outputs": [
        {
          "name": "stdout",
          "output_type": "stream",
          "text": [
            "1 2 3 4 5 \n",
            "1 2 3 4 \n",
            "1 2 3 \n",
            "1 2 \n",
            "1 \n"
          ]
        }
      ],
      "source": [
        "# inverted pyramid\n",
        "n=5\n",
        "for row in range(n,0,-1):\n",
        "  for col in range(1,row+1):\n",
        "    print(col,end=\" \")\n",
        "  print()"
      ]
    },
    {
      "cell_type": "code",
      "execution_count": null,
      "metadata": {
        "colab": {
          "base_uri": "https://localhost:8080/"
        },
        "id": "hvKTYUVR6EpF",
        "outputId": "7edd8f77-7511-4aa6-fb3d-a5a8b25abe23"
      },
      "outputs": [
        {
          "name": "stdout",
          "output_type": "stream",
          "text": [
            "E \n",
            "D E \n",
            "C D E \n",
            "B C D E \n",
            "A B C D E \n"
          ]
        }
      ],
      "source": [
        "# sol 5\n",
        "n=5\n",
        "for row in range(1,n+1):\n",
        "  num=70-row\n",
        "  for col in range(1,row+1):\n",
        "    print(chr(num),end=\" \")\n",
        "    num+=1\n",
        "  print()"
      ]
    },
    {
      "cell_type": "code",
      "execution_count": null,
      "metadata": {
        "colab": {
          "base_uri": "https://localhost:8080/"
        },
        "id": "pKW_FvKfvrKd",
        "outputId": "2012998a-8632-4765-c939-cf158f22c19b"
      },
      "outputs": [
        {
          "name": "stdout",
          "output_type": "stream",
          "text": [
            "        * \n",
            "      * * * \n",
            "    * * * * * \n",
            "  * * * * * * * \n",
            "* * * * * * * * * \n"
          ]
        }
      ],
      "source": [
        "# sol 12\n",
        "n=5\n",
        "for row in range(1,n+1):\n",
        "  for s in range(n-row):\n",
        "    print(\" \",end=\" \")\n",
        "  for col in range(2*row-1):\n",
        "    print(\"*\",end=\" \")\n",
        "  print()"
      ]
    },
    {
      "cell_type": "code",
      "execution_count": null,
      "metadata": {
        "colab": {
          "base_uri": "https://localhost:8080/"
        },
        "id": "vgLJQJSgwIC3",
        "outputId": "7a2d8589-20a7-4be7-f6f3-e711f4ea8a2a"
      },
      "outputs": [
        {
          "name": "stdout",
          "output_type": "stream",
          "text": [
            "* * * * * * * * * \n",
            "  * * * * * * * \n",
            "    * * * * * \n",
            "      * * * \n",
            "        * \n"
          ]
        }
      ],
      "source": [
        "# sol 14\n",
        "n=5\n",
        "for row in range(n,0,-1):\n",
        "  for s in range(n-row):\n",
        "    print(\" \",end=\" \")\n",
        "  for col in range(2*row-1):\n",
        "    print(\"*\",end=\" \")\n",
        "  print()"
      ]
    },
    {
      "cell_type": "code",
      "execution_count": null,
      "metadata": {
        "colab": {
          "base_uri": "https://localhost:8080/"
        },
        "id": "5AueOpPO9zOO",
        "outputId": "e0d1b3cb-fdc1-44bf-c201-5ffb50cdde18"
      },
      "outputs": [
        {
          "name": "stdout",
          "output_type": "stream",
          "text": [
            "1         \n",
            "1 2       \n",
            "1   3     \n",
            "1     4   \n",
            "1 2 3 4 5 \n"
          ]
        }
      ],
      "source": [
        "# hollow half pyramid\n",
        "for row in range(1,6):\n",
        "  for col in range(1,6):\n",
        "    if row==5 or col==1 or ((row==col) and (col>1 and col<5)):\n",
        "      print(col,end=\" \")\n",
        "    else:\n",
        "      print(\" \",end=\" \")\n",
        "  print()"
      ]
    },
    {
      "cell_type": "code",
      "execution_count": null,
      "metadata": {
        "colab": {
          "base_uri": "https://localhost:8080/"
        },
        "id": "YxYbRiudBQK1",
        "outputId": "ef44abfa-16b2-4978-e139-c04a64368478"
      },
      "outputs": [
        {
          "name": "stdout",
          "output_type": "stream",
          "text": [
            "1 2 3 4 5 \n",
            "2     5   \n",
            "3   5     \n",
            "4 5       \n",
            "5         \n"
          ]
        }
      ],
      "source": [
        "# hollow inverted half pyramid\n",
        "for row in range(1,6):\n",
        "  for col in range(1,6):\n",
        "    if row==1:\n",
        "      print(col,end=\" \")\n",
        "    elif col==1:\n",
        "      print(row,end=\" \")\n",
        "\n",
        "    elif row+col==6:\n",
        "      print(\"5\",end=\" \")\n",
        "    else:\n",
        "      print(\" \",end=\" \")\n",
        "  print()"
      ]
    },
    {
      "cell_type": "code",
      "source": [
        "n=1\n",
        "for i in range(1,6):\n",
        "  for j in range(1,i+1):\n",
        "    if i==5 or j==1 or i==j:\n",
        "      print(n,end=\" \")\n",
        "      n+=1\n",
        "    else:\n",
        "      print(\" \",end=\" \")\n",
        "  print()"
      ],
      "metadata": {
        "id": "P9wmqjubGKf3",
        "outputId": "41dc625a-cc03-4475-d9be-529d9859fb84",
        "colab": {
          "base_uri": "https://localhost:8080/"
        }
      },
      "execution_count": null,
      "outputs": [
        {
          "output_type": "stream",
          "name": "stdout",
          "text": [
            "1 \n",
            "2 3 \n",
            "4   5 \n",
            "6     7 \n",
            "8 9 10 11 12 \n"
          ]
        }
      ]
    },
    {
      "cell_type": "code",
      "execution_count": null,
      "metadata": {
        "colab": {
          "base_uri": "https://localhost:8080/"
        },
        "id": "8AI9N-03wfot",
        "outputId": "60f3b727-a40f-479e-9922-83d5c7417e85"
      },
      "outputs": [
        {
          "name": "stdout",
          "output_type": "stream",
          "text": [
            "        * \n",
            "      * * * \n",
            "    * * * * * \n",
            "  * * * * * * * \n",
            "* * * * * * * * * \n",
            "  * * * * * * * \n",
            "    * * * * * \n",
            "      * * * \n",
            "        * \n"
          ]
        }
      ],
      "source": [
        "#sol 17\n",
        "n=5\n",
        "for row in range(1,n):\n",
        "  for s in range(n-row):\n",
        "    print(\" \",end=\" \")\n",
        "  for col in range(2*row-1):\n",
        "    print(\"*\",end=\" \")\n",
        "  print()\n",
        "\n",
        "for row in range(n,0,-1):\n",
        "  for s in range(n-row):\n",
        "    print(\" \",end=\" \")\n",
        "  for col in range(2*row-1):\n",
        "    print(\"*\",end=\" \")\n",
        "  print()"
      ]
    },
    {
      "cell_type": "code",
      "execution_count": null,
      "metadata": {
        "colab": {
          "base_uri": "https://localhost:8080/"
        },
        "id": "88vZE0NGdOw3",
        "outputId": "ca8cf427-b6fd-4226-c632-7ac971c89243"
      },
      "outputs": [
        {
          "name": "stdout",
          "output_type": "stream",
          "text": [
            "        1 \n",
            "      1 2 3 \n",
            "    1 2 3 4 5 \n",
            "  1 2 3 4 5 6 7 \n",
            "1 2 3 4 5 6 7 8 9 \n",
            "  1 2 3 4 5 6 7 \n",
            "    1 2 3 4 5 \n",
            "      1 2 3 \n",
            "        1 \n"
          ]
        }
      ],
      "source": [
        "n=5\n",
        "for row in range(1,n):\n",
        "  for s in range(n-row):\n",
        "    print(\" \",end=\" \")\n",
        "  for col in range(1,2*row):\n",
        "    print(col,end=\" \")\n",
        "  print()\n",
        "for row in range(n,0,-1):\n",
        "  for s in range(n-row):\n",
        "    print(\" \",end=\" \")\n",
        "  for col in range(1,2*row):\n",
        "    print(col,end=\" \")\n",
        "  print()"
      ]
    },
    {
      "cell_type": "code",
      "execution_count": null,
      "metadata": {
        "colab": {
          "base_uri": "https://localhost:8080/"
        },
        "id": "_vY6qsQhfEAT",
        "outputId": "800c59c0-3f6c-4176-9960-73c70b9d2b3f"
      },
      "outputs": [
        {
          "name": "stdout",
          "output_type": "stream",
          "text": [
            "1 2 3 4 5 6 7 8 9 \n",
            "  1 2 3 4 5 6 7 \n",
            "    1 2 3 4 5 \n",
            "      1 2 3 \n",
            "        1 \n",
            "      1 2 3 \n",
            "    1 2 3 4 5 \n",
            "  1 2 3 4 5 6 7 \n",
            "1 2 3 4 5 6 7 8 9 \n"
          ]
        }
      ],
      "source": [
        "# sol 20\n",
        "n=5\n",
        "for row in range(n,0,-1):\n",
        "  for s in range(n-row):\n",
        "    print(\" \",end=\" \")\n",
        "  for col in range(1,2*row):\n",
        "    print(col,end=\" \")\n",
        "  print()\n",
        "for row in range(2,n+1):\n",
        "  for s in range(n-row):\n",
        "    print(\" \",end=\" \")\n",
        "  for col in range(1,2*row):\n",
        "    print(col,end=\" \")\n",
        "  print()"
      ]
    },
    {
      "cell_type": "code",
      "execution_count": null,
      "metadata": {
        "colab": {
          "base_uri": "https://localhost:8080/"
        },
        "id": "WtuPZWuCfmwc",
        "outputId": "198d017a-9519-4b07-d31c-e36233567fdc"
      },
      "outputs": [
        {
          "name": "stdout",
          "output_type": "stream",
          "text": [
            "A B C D E F G H I \n",
            "  A B C D E F G \n",
            "    A B C D E \n",
            "      A B C \n",
            "        A \n",
            "      A B C \n",
            "    A B C D E \n",
            "  A B C D E F G \n",
            "A B C D E F G H I \n"
          ]
        }
      ],
      "source": [
        "# sol 20\n",
        "n=5\n",
        "for row in range(n,0,-1):\n",
        "  num=65\n",
        "  for s in range(n-row):\n",
        "    print(\" \",end=\" \")\n",
        "\n",
        "  for col in range(1,2*row):\n",
        "    print(chr(num),end=\" \")\n",
        "    num+=1\n",
        "  print()\n",
        "\n",
        "\n",
        "for row in range(2,n+1):\n",
        "  num=65\n",
        "  for s in range(n-row):\n",
        "    print(\" \",end=\" \")\n",
        "\n",
        "  for col in range(1,2*row):\n",
        "    print(chr(num),end=\" \")\n",
        "    num+=1\n",
        "  print()\n",
        "\n"
      ]
    },
    {
      "cell_type": "code",
      "execution_count": null,
      "metadata": {
        "colab": {
          "base_uri": "https://localhost:8080/"
        },
        "id": "2fNSXUfIO7yU",
        "outputId": "4b51b87c-93b8-4654-8398-4eb800198545"
      },
      "outputs": [
        {
          "name": "stdout",
          "output_type": "stream",
          "text": [
            "        *         \n",
            "      *   *       \n",
            "    *       *     \n",
            "  *           *   \n",
            "*               * \n",
            "  *           *   \n",
            "    *       *     \n",
            "      *   *       \n",
            "        *         \n"
          ]
        }
      ],
      "source": [
        "# sol 22\n",
        "\n",
        "for i in range(9):\n",
        "  for j in range(9):\n",
        "    if i+j==4 or j-i==4 or i-j==4 or ((j+i==12) and j>4 and j<8) :\n",
        "      print(\"*\",end=\" \")\n",
        "    else:\n",
        "      print(\" \",end=\" \")\n",
        "  print()"
      ]
    },
    {
      "cell_type": "code",
      "execution_count": null,
      "metadata": {
        "colab": {
          "base_uri": "https://localhost:8080/"
        },
        "id": "iLWm9O-V-fLp",
        "outputId": "04e5f49e-8b0e-4cef-9825-17acef34f1f4"
      },
      "outputs": [
        {
          "name": "stdout",
          "output_type": "stream",
          "text": [
            "        A         \n",
            "      A   C       \n",
            "    A       C     \n",
            "  A           C   \n",
            "A               C \n",
            "  A           C   \n",
            "    A       C     \n",
            "      A   C       \n",
            "        A         \n"
          ]
        }
      ],
      "source": [
        "# sol 22\n",
        "\n",
        "for i in range(9):\n",
        "  num=65\n",
        "  for j in range(9):\n",
        "    if i+j==4 or i-j==4:\n",
        "      print(chr(num),end=\" \")\n",
        "      num+=2\n",
        "    elif j-i==4 or j+i==12:\n",
        "      print(chr(num),end=\" \")\n",
        "\n",
        "    else:\n",
        "      print(\" \",end=\" \")\n",
        "  print()"
      ]
    },
    {
      "cell_type": "code",
      "execution_count": null,
      "metadata": {
        "colab": {
          "base_uri": "https://localhost:8080/"
        },
        "id": "c1cfW-10pheh",
        "outputId": "f691586a-2616-4657-9706-493e593995b2"
      },
      "outputs": [
        {
          "name": "stdout",
          "output_type": "stream",
          "text": [
            "* * * * * \n",
            "*       * \n",
            "*       * \n",
            "*       * \n",
            "* * * * * \n"
          ]
        }
      ],
      "source": [
        "# sol 21\n",
        "n=5\n",
        "for row in range(1,n+1):\n",
        "  for col in range(1,n+1):\n",
        "    if row==1 or row==5 or col==1 or col==5:\n",
        "      print(\"*\",end=\" \")\n",
        "    else:\n",
        "      print(\" \",end=\" \")\n",
        "  print()"
      ]
    },
    {
      "cell_type": "code",
      "execution_count": null,
      "metadata": {
        "colab": {
          "base_uri": "https://localhost:8080/"
        },
        "id": "tgga4vOW9zzO",
        "outputId": "7ccc0cd6-be14-400a-9035-2d5aed0474b3"
      },
      "outputs": [
        {
          "name": "stdout",
          "output_type": "stream",
          "text": [
            "1 2 3 4 5 \n",
            "1       5 \n",
            "1       5 \n",
            "1       5 \n",
            "1 2 3 4 5 \n"
          ]
        }
      ],
      "source": [
        "# sol 21\n",
        "n=5\n",
        "for row in range(1,n+1):\n",
        "  for col in range(1,n+1):\n",
        "    if row==1 or row==5 or col==1 or col==5:\n",
        "      print(col,end=\" \")\n",
        "    else:\n",
        "      print(\" \",end=\" \")\n",
        "  print()"
      ]
    },
    {
      "cell_type": "code",
      "execution_count": null,
      "metadata": {
        "colab": {
          "base_uri": "https://localhost:8080/"
        },
        "id": "i8SW6KoD95RW",
        "outputId": "6687f14c-a0b0-4c16-d95a-c3b86fd61e61"
      },
      "outputs": [
        {
          "output_type": "stream",
          "name": "stdout",
          "text": [
            "A B C D E \n",
            "A       E \n",
            "A       E \n",
            "A       E \n",
            "A B C D E \n"
          ]
        }
      ],
      "source": [
        "# sol 21\n",
        "n=5\n",
        "for row in range(1,n+1):\n",
        "  num=65\n",
        "  for col in range(1,n+1):\n",
        "    if row==1 or row==5 or col==1 :\n",
        "      print(chr(num),end=\" \")\n",
        "      num+=1\n",
        "    elif col==5:\n",
        "      print(\"E\",end=\" \")\n",
        "    else:\n",
        "      print(\" \",end=\" \")\n",
        "  print()"
      ]
    },
    {
      "cell_type": "code",
      "execution_count": null,
      "metadata": {
        "colab": {
          "base_uri": "https://localhost:8080/"
        },
        "id": "ybrYVIOxBErT",
        "outputId": "f42927ba-8069-4eea-ce8d-d3db75303fbf"
      },
      "outputs": [
        {
          "name": "stdout",
          "output_type": "stream",
          "text": [
            "        *         \n",
            "      * * *       \n",
            "    *   *   *     \n",
            "  *     *     *   \n",
            "* * * * * * * * * \n"
          ]
        }
      ],
      "source": [
        "n=5\n",
        "for row in range(1,n+1):\n",
        "  for col in range(1,2*n):\n",
        "    if row==5 or col==5 or row+col==6 or col-row==4:\n",
        "      print(\"*\",end=\" \")\n",
        "    else:\n",
        "      print(\" \",end=\" \")\n",
        "  print()"
      ]
    },
    {
      "cell_type": "code",
      "execution_count": null,
      "metadata": {
        "colab": {
          "base_uri": "https://localhost:8080/"
        },
        "id": "zaNcoxKCYz5F",
        "outputId": "9a621a09-3895-4aa9-fcd4-21c1f64ade1f"
      },
      "outputs": [
        {
          "name": "stdout",
          "output_type": "stream",
          "text": [
            "* * * * * * * * \n",
            "* * *     * * * \n",
            "* *         * * \n",
            "*             * \n",
            "*             * \n",
            "* *         * * \n",
            "* * *     * * * \n",
            "* * * * * * * * \n"
          ]
        }
      ],
      "source": [
        "# sol 25\n",
        "n=4\n",
        "for i in range(n,0,-1):\n",
        "  for j in range(i,0,-1):\n",
        "      print(\"*\",end=\" \")\n",
        "  for s in range(2*(n-i)):\n",
        "    print(\" \",end=\" \")\n",
        "  for j in range(i,0,-1):\n",
        "      print(\"*\",end=\" \")\n",
        "  print()\n",
        "for i in range(n):\n",
        "  for j in range(i+1):\n",
        "      print(\"*\",end=\" \")\n",
        "  for s in range(2*(n-i-1)):\n",
        "    print(\" \",end=\" \")\n",
        "  for j in range(i+1):\n",
        "    print(\"*\",end=\" \")\n",
        "\n",
        "  print()"
      ]
    },
    {
      "cell_type": "code",
      "execution_count": null,
      "metadata": {
        "colab": {
          "base_uri": "https://localhost:8080/"
        },
        "id": "9_VGYFFY5dYF",
        "outputId": "3408b802-bf6d-4206-896e-5c928dc083be"
      },
      "outputs": [
        {
          "output_type": "stream",
          "name": "stdout",
          "text": [
            "[[1], [1, 1], [1, 2, 1], [1, 3, 3, 1], [1, 4, 6, 4, 1]]\n",
            "    1 \n",
            "   1 1 \n",
            "  1 2 1 \n",
            " 1 3 3 1 \n",
            "1 4 6 4 1 \n"
          ]
        }
      ],
      "source": [
        "#pascle triangle\n",
        "n=5\n",
        "mylist=[]\n",
        "for i in range(n):\n",
        "  temp=[]\n",
        "  for j in range(i+1):\n",
        "    if (j==0 or j==i):\n",
        "      temp.append(1)\n",
        "    else:\n",
        "      temp.append(mylist[i-1][j-1]+mylist[i-1][j])\n",
        "  mylist.append(temp)\n",
        "print(mylist)\n",
        "\n",
        "for i in range(n):\n",
        "  for s in range(n-i-1):\n",
        "    print(\" \",end=\"\")\n",
        "  for j in range(i+1):\n",
        "    print(mylist[i][j],end=\" \")\n",
        "  print()"
      ]
    },
    {
      "cell_type": "code",
      "execution_count": null,
      "metadata": {
        "colab": {
          "base_uri": "https://localhost:8080/"
        },
        "id": "DFLFvqw5Srxn",
        "outputId": "2dd64426-6dd3-4559-ec66-8df642e27d8d"
      },
      "outputs": [
        {
          "name": "stdout",
          "output_type": "stream",
          "text": [
            "armstrong : 153\n",
            "armstrong : 370\n",
            "armstrong : 371\n",
            "armstrong : 407\n"
          ]
        }
      ],
      "source": [
        "#       --------- LOOP-----------\n",
        "\n",
        "# 2. Print all the armstrong numbers in the range of 100 to 1000 [M]\n",
        "for num in range(100,1000):\n",
        "  sum=0\n",
        "  temp=num\n",
        "  while num>0:\n",
        "    rem=num%10\n",
        "    sum=sum+rem*rem*rem\n",
        "    num=num//10\n",
        "  if temp==sum:\n",
        "      print(\"armstrong :\",temp)\n",
        "\n"
      ]
    },
    {
      "cell_type": "code",
      "execution_count": null,
      "metadata": {
        "colab": {
          "base_uri": "https://localhost:8080/"
        },
        "id": "WNz60L1ht4M7",
        "outputId": "4cb7306c-7fad-4e96-c8a5-3a6ec120cac7"
      },
      "outputs": [
        {
          "name": "stdout",
          "output_type": "stream",
          "text": [
            "enter the number :30\n",
            "factor : 1\n",
            "factor : 2\n",
            "factor : 3\n",
            "factor : 5\n",
            "factor : 6\n",
            "factor : 10\n",
            "factor : 15\n",
            "factor : 30\n"
          ]
        }
      ],
      "source": [
        "# 1. Print all factors of a given number provided by the user.\n",
        "num=int(input(\"enter the number :\"))\n",
        "for i in range(1,num+1):\n",
        "  if num%i==0:\n",
        "    print(\"factor :\",i)"
      ]
    },
    {
      "cell_type": "code",
      "execution_count": null,
      "metadata": {
        "colab": {
          "base_uri": "https://localhost:8080/"
        },
        "id": "jzqXzca_BXIj",
        "outputId": "91af10ab-69e8-43f0-c2e3-8aa10adc74a3"
      },
      "outputs": [
        {
          "name": "stdout",
          "output_type": "stream",
          "text": [
            "enter the num :13\n",
            "prime number\n"
          ]
        }
      ],
      "source": [
        "# .4 Write a program to print whether a given number is prime number or not\n",
        "num=int(input(\"enter the num :\"))\n",
        "a=True\n",
        "for i in range(2,num):\n",
        "  if num%i==0:\n",
        "    a=False\n",
        "    break\n",
        "if a==True:\n",
        "  print(\"prime number\")\n",
        "else:\n",
        "  print(\"not prime\")"
      ]
    },
    {
      "cell_type": "code",
      "execution_count": null,
      "metadata": {
        "colab": {
          "base_uri": "https://localhost:8080/"
        },
        "id": "HucPCycUDLIo",
        "outputId": "a760bfdb-3a5b-4d9f-b307-ae53e5c5ace6"
      },
      "outputs": [
        {
          "name": "stdout",
          "output_type": "stream",
          "text": [
            "lcm is : 15\n"
          ]
        }
      ],
      "source": [
        "# 5. User will provide 2 numbers you have to find the by LCM of those 2 numbers\n",
        "num1=3\n",
        "num2=5\n",
        "if num1>num2:\n",
        "  greatest=num1\n",
        "else:\n",
        "  greatest=num2\n",
        "while(True):\n",
        "  if(greatest%num1==0 and greatest%num2==0):\n",
        "    print(\"lcm is :\",greatest)\n",
        "    break\n",
        "  else:\n",
        "    greatest+=1\n"
      ]
    },
    {
      "cell_type": "code",
      "source": [
        "# 6. User will provide 2 numbers you have to find the HCF of those 2 numbers\n",
        "num1=4\n",
        "num2=6\n",
        "while num2!=0:\n",
        "  num1,num2=num2,num1%num2\n",
        "print(\"HCF is :\",num1)"
      ],
      "metadata": {
        "colab": {
          "base_uri": "https://localhost:8080/"
        },
        "id": "u3xvj3nx_1xN",
        "outputId": "4b593fc7-cf59-4891-f42e-af51fbb9b692"
      },
      "execution_count": null,
      "outputs": [
        {
          "output_type": "stream",
          "name": "stdout",
          "text": [
            "HCF is : 2\n"
          ]
        }
      ]
    },
    {
      "cell_type": "code",
      "execution_count": null,
      "metadata": {
        "colab": {
          "base_uri": "https://localhost:8080/"
        },
        "id": "P3YmcPaWFJJf",
        "outputId": "c31a63a2-01d5-4947-86bc-bd931e11ed94"
      },
      "outputs": [
        {
          "name": "stdout",
          "output_type": "stream",
          "text": [
            "enter the number10\n",
            "55\n"
          ]
        }
      ],
      "source": [
        "#7 Write a program to find the sum of first n numbers, where n will be provided by the user. Eg if the user provides n=10 the output should be 55.\n",
        "n=int(input(\"enter the number\"))\n",
        "sum=0\n",
        "for i in range(1,n+1):\n",
        "  sum=sum+i\n",
        "print(sum)"
      ]
    },
    {
      "cell_type": "code",
      "execution_count": null,
      "metadata": {
        "colab": {
          "base_uri": "https://localhost:8080/"
        },
        "id": "D2crAHfCGcWW",
        "outputId": "958a1bc7-26d8-4818-a9bb-5a0457721abc"
      },
      "outputs": [
        {
          "name": "stdout",
          "output_type": "stream",
          "text": [
            "enter the num 1 :5\n",
            "enter the num 2:6\n",
            "the result of multiplying 5 and 6 is 30\n"
          ]
        }
      ],
      "source": [
        "# 8. Write a program that can multiply 2 numbers provided by the user without using the ( * multiply) operator\n",
        "num1=int(input(\"enter the num 1 :\"))\n",
        "num2=int(input(\"enter the num 2:\"))\n",
        "result=0\n",
        "for i in range(num2):\n",
        "  result=result+num1\n",
        "print(\"the result of multiplying\",num1, \"and\",num2,\"is\",result)"
      ]
    },
    {
      "cell_type": "code",
      "execution_count": null,
      "metadata": {
        "colab": {
          "base_uri": "https://localhost:8080/"
        },
        "id": "QlQPGkyWFv_-",
        "outputId": "087cf513-8198-4da6-846a-58e61bff1c23"
      },
      "outputs": [
        {
          "name": "stdout",
          "output_type": "stream",
          "text": [
            "enter the num :5\n",
            "120\n"
          ]
        }
      ],
      "source": [
        "# 9. Write a program that can find the factorial of a given number provided by the user\n",
        "n=int(input(\"enter the num :\"))\n",
        "fact=1\n",
        "for i in range(1,n+1):\n",
        "  fact=fact*i\n",
        "print(fact)\n"
      ]
    },
    {
      "cell_type": "code",
      "execution_count": null,
      "metadata": {
        "colab": {
          "base_uri": "https://localhost:8080/"
        },
        "id": "mMrGFc2HGaVs",
        "outputId": "679b92f8-0d64-4432-9696-e9669a65e68f"
      },
      "outputs": [
        {
          "name": "stdout",
          "output_type": "stream",
          "text": [
            "5\n"
          ]
        }
      ],
      "source": [
        "# 10. Write a program to count the total number of digits in a number using a while loop. a. For example, the number is 75869, so the output should be 5.\n",
        "num=75869\n",
        "count=0\n",
        "while num>0:\n",
        "  rem=num%10\n",
        "  count=count+1\n",
        "  num=num//10\n",
        "print(count)"
      ]
    },
    {
      "cell_type": "code",
      "source": [
        "# 11. Write a program that keeps on accepting a number from the user until the user enters Zero. Display the sum and average of all the numbers.\n",
        "# Initialize sum and count\n",
        "sum = 0\n",
        "count = 0\n",
        "\n",
        "while True:\n",
        "    num = int(input(\"Enter a number (Enter 0 to stop): \"))\n",
        "    if num == 0:\n",
        "        break\n",
        "    sum += num\n",
        "    count += 1\n",
        "\n",
        "\n",
        "if count != 0:\n",
        "    average = sum / count\n",
        "    print(\"The sum of the numbers is:\",sum)\n",
        "    print(\"The average of the numbers is:\", average)\n",
        "else:\n",
        "    print(\"No numbers were entered.\")\n"
      ],
      "metadata": {
        "colab": {
          "base_uri": "https://localhost:8080/"
        },
        "id": "ROwaQAAxBmoI",
        "outputId": "5aa8c4a3-a2f8-4c6a-bdef-bcf34a204805"
      },
      "execution_count": null,
      "outputs": [
        {
          "output_type": "stream",
          "name": "stdout",
          "text": [
            "Enter a number (Enter 0 to stop): 5\n",
            "Enter a number (Enter 0 to stop): 5\n",
            "Enter a number (Enter 0 to stop): 0\n",
            "The sum of the numbers is: 10\n",
            "The average of the numbers is: 5.0\n"
          ]
        }
      ]
    },
    {
      "cell_type": "code",
      "execution_count": null,
      "metadata": {
        "colab": {
          "base_uri": "https://localhost:8080/"
        },
        "id": "8Jp0uksaJMmj",
        "outputId": "b884bf00-4ccf-4ad3-8e67-da03863bf8dd"
      },
      "outputs": [
        {
          "name": "stdout",
          "output_type": "stream",
          "text": [
            "enter the num :2\n",
            "2\n",
            "4\n",
            "6\n",
            "8\n",
            "10\n",
            "12\n",
            "14\n",
            "16\n",
            "18\n",
            "20\n"
          ]
        }
      ],
      "source": [
        "# 12. Write a program to print multiplication table of a given number For example, num = 2 so the output should be 2,4,6,8....20\n",
        "num=int(input(\"enter the num :\"))\n",
        "for i in range(1,11):\n",
        "  print(num*i)"
      ]
    },
    {
      "cell_type": "code",
      "execution_count": null,
      "metadata": {
        "colab": {
          "base_uri": "https://localhost:8080/"
        },
        "id": "Ao-rxjrVLkr9",
        "outputId": "023d96ef-edb1-4fc9-f5fc-71873144145a"
      },
      "outputs": [
        {
          "name": "stdout",
          "output_type": "stream",
          "text": [
            "enter the number :5\n",
            "5\n",
            "10\n",
            "15\n",
            "20\n",
            "25\n",
            "30\n",
            "35\n",
            "40\n",
            "45\n",
            "50\n",
            "done\n"
          ]
        }
      ],
      "source": [
        "# 13. Use else block to display a message “Done” after successful execution of for loop For example, the following loop will execute without any error.\n",
        "num=int(input(\"enter the number :\"))\n",
        "for i in range(1,11):\n",
        "  print(num*i)\n",
        "\n",
        "else:\n",
        "  print(\"done\")"
      ]
    },
    {
      "cell_type": "code",
      "execution_count": null,
      "metadata": {
        "colab": {
          "base_uri": "https://localhost:8080/"
        },
        "id": "t4VYiYYGKGoJ",
        "outputId": "5939fbd9-6112-4edb-ec05-2246320b5a60"
      },
      "outputs": [
        {
          "name": "stdout",
          "output_type": "stream",
          "text": [
            "0 1 1 2 3 5 8 13 21 34 "
          ]
        }
      ],
      "source": [
        "# 14. Display Fibonacci series up to 10 terms\n",
        "# a. The Fibonacci Sequence is a series of numbers. The next number is found by\n",
        "# adding up the two numbers before it. The first two numbers are 0 and 1.\n",
        "# b. For example, 0, 1, 1, 2, 3, 5, 8, 13, 21. The next number in this series aboveis 13+21 = 34.\n",
        "a=0\n",
        "b=1\n",
        "for i in range(1,11):\n",
        "  print(a,end=\" \")\n",
        "  c=a+b\n",
        "  a=b\n",
        "  b=c"
      ]
    },
    {
      "cell_type": "code",
      "execution_count": null,
      "metadata": {
        "colab": {
          "base_uri": "https://localhost:8080/"
        },
        "id": "aVvwdALaKk2t",
        "outputId": "d22a76ee-5db3-4532-b125-d0738136d238"
      },
      "outputs": [
        {
          "name": "stdout",
          "output_type": "stream",
          "text": [
            "[1, 3, 5, 7, 9, 11, 13, 15, 17, 19, 21, 23, 25, 27, 29, 31, 33, 35, 37, 39, 41, 43, 45, 47, 49]\n"
          ]
        }
      ],
      "source": [
        "# ------------------List-------------\n",
        "\n",
        "# 1. Write a program to print the first 25 odd numbers in list\n",
        "newlist=[]\n",
        "for i in range(1,51):\n",
        "  if i%2!=0:\n",
        "    newlist.append(i)\n",
        "print(newlist)\n"
      ]
    },
    {
      "cell_type": "code",
      "execution_count": null,
      "metadata": {
        "id": "I-lvsYXSJMBy",
        "colab": {
          "base_uri": "https://localhost:8080/"
        },
        "outputId": "b262beb4-628f-4b99-c8d2-74fad241a6f9"
      },
      "outputs": [
        {
          "output_type": "stream",
          "name": "stdout",
          "text": [
            "iinameaavH MY  GUR\n"
          ]
        }
      ],
      "source": [
        "# 2. Arrange string characters such that lowercase letters should come first\n",
        "string = \"Hii MY name GaURav\"\n",
        "\n",
        "lowercase = \"\"\n",
        "uppercase = \"\"\n",
        "\n",
        "for char in string:\n",
        "    if char.islower():\n",
        "        lowercase += char\n",
        "    else:\n",
        "        uppercase += char\n",
        "character = lowercase + uppercase\n",
        "print(character)\n",
        "\n",
        "\n"
      ]
    },
    {
      "cell_type": "code",
      "execution_count": null,
      "metadata": {
        "id": "HgX78M4NLhG9",
        "colab": {
          "base_uri": "https://localhost:8080/"
        },
        "outputId": "49a48cb5-7745-4b3b-9f9f-cc9ca47e34a9"
      },
      "outputs": [
        {
          "output_type": "stream",
          "name": "stdout",
          "text": [
            "letters: 8\n",
            "digits: 3\n",
            "Special symbols: 4\n"
          ]
        }
      ],
      "source": [
        "# 3. Count all letters, digits, and special symbols from a given string\n",
        "str1 = \"P@#yn26at^&i5ve\"\n",
        "\n",
        "letters = 0\n",
        "digits = 0\n",
        "special_symbols = 0\n",
        "\n",
        "for char in str1:\n",
        "    if char.isalpha():\n",
        "        letters += 1\n",
        "    elif char.isdigit():\n",
        "        digits += 1\n",
        "    else:\n",
        "        special_symbols += 1\n",
        "\n",
        "print(\"letters:\", letters)\n",
        "print(\"digits:\", digits)\n",
        "print(\"Special symbols:\", special_symbols)\n"
      ]
    },
    {
      "cell_type": "code",
      "source": [
        "# 4. Remove empty strings from a list of strings\n",
        "list1=[\"python\",\"is\",\"\",\"high level\",\"\",\"programming language\"]\n",
        "new_list=[]\n",
        "for i in list1:\n",
        "  if i != \"\":\n",
        "    new_list.append(i)\n",
        "print(new_list)"
      ],
      "metadata": {
        "colab": {
          "base_uri": "https://localhost:8080/"
        },
        "id": "LdywqZ3s-HSM",
        "outputId": "1a494ee6-65b7-4a4c-c618-0c67b6ddd455"
      },
      "execution_count": null,
      "outputs": [
        {
          "output_type": "stream",
          "name": "stdout",
          "text": [
            "['python', 'is', 'high level', 'programming language']\n"
          ]
        }
      ]
    },
    {
      "cell_type": "code",
      "source": [
        "# 6 Removal all characters from a string except integers\n",
        "str1 = 'I am 25 years and 10 months old'\n",
        "integer=\"\"\n",
        "for i in str1:\n",
        "  if i.isdigit():\n",
        "    integer+=i\n",
        "print(integer)"
      ],
      "metadata": {
        "colab": {
          "base_uri": "https://localhost:8080/"
        },
        "id": "L35Cy59_AU0Y",
        "outputId": "77da86d3-73f5-40fc-e34b-74b2d1a9fd1c"
      },
      "execution_count": null,
      "outputs": [
        {
          "output_type": "stream",
          "name": "stdout",
          "text": [
            "2510\n"
          ]
        }
      ]
    },
    {
      "cell_type": "code",
      "source": [
        "# 7 . extract the email service provider name\n",
        "# a. emaillist=[\"KSR@datavizion.com\",\"mymail@yahoo.com\",\"milindmali@google.\n",
        "# com\",\"snehal@health\n",
        "\n",
        "emaillist=\"KSR@datavizion.com\" ,\"mymail@yahoo.com\",\"milindmali@google.com\",\"snehal@health\"\n",
        "provider_name=[]\n",
        "for email in emaillist:\n",
        "  provider=email.split(\"@\")\n",
        "  provider_name.append(provider)\n",
        "print(provider_name)"
      ],
      "metadata": {
        "colab": {
          "base_uri": "https://localhost:8080/"
        },
        "id": "qTewiFj0BpWo",
        "outputId": "4757ff75-0d94-4ad7-c984-09ccf9e9d555"
      },
      "execution_count": null,
      "outputs": [
        {
          "output_type": "stream",
          "name": "stdout",
          "text": [
            "[['KSR', 'datavizion.com'], ['mymail', 'yahoo.com'], ['milindmali', 'google.com'], ['snehal', 'health']]\n"
          ]
        }
      ]
    },
    {
      "cell_type": "code",
      "source": [
        "# 8. extract all the emailid for the given string\n",
        "# a. string=\"Hi my name is Govind Das and my mail id is\n",
        "# milindmali108@gmail.com and my org\n",
        "# b. Output => milindmali108@gmail.com\n",
        "\n",
        "string = \"Hi my name is Govind Das and my mail id is milindmali108@gmail.com and my org\"\n",
        "str = string.split()\n",
        "\n",
        "email_id = \"\"\n",
        "\n",
        "for char in str:\n",
        "    if \"@\" in char and \".\" in char:\n",
        "        email_id = char\n",
        "        break\n",
        "\n",
        "print(email_id)\n"
      ],
      "metadata": {
        "colab": {
          "base_uri": "https://localhost:8080/"
        },
        "id": "rFXUtaCyDJob",
        "outputId": "82050a81-4b48-4741-8452-c8360b623712"
      },
      "execution_count": null,
      "outputs": [
        {
          "output_type": "stream",
          "name": "stdout",
          "text": [
            "milindmali108@gmail.com\n"
          ]
        }
      ]
    },
    {
      "cell_type": "code",
      "source": [
        "#9 Create a Python set such that it shows the element from both lists in a pair\n",
        "# a. first_list = [2, 3, 4, 5, 6, 7, 8]\n",
        "# b. second_list = [4, 9, 16, 25, 36, 49, 64\n",
        "\n",
        "first_list = [2, 3, 4, 5, 6, 7, 8]\n",
        "second_list = [4, 9, 16, 25, 36, 49, 64]\n",
        "\n",
        "\n",
        "pair_set = set(zip(first_list, second_list))\n",
        "\n",
        "print(pair_set)\n"
      ],
      "metadata": {
        "colab": {
          "base_uri": "https://localhost:8080/"
        },
        "id": "Nzz3HSTvBWmG",
        "outputId": "cd3440c8-0460-4fc8-baf3-0fb20d52a147"
      },
      "execution_count": null,
      "outputs": [
        {
          "output_type": "stream",
          "name": "stdout",
          "text": [
            "{(7, 49), (2, 4), (4, 16), (8, 64), (6, 36), (3, 9), (5, 25)}\n"
          ]
        }
      ]
    },
    {
      "cell_type": "code",
      "execution_count": null,
      "metadata": {
        "colab": {
          "base_uri": "https://localhost:8080/"
        },
        "id": "6_zlBVikC3yx",
        "outputId": "1ed02a7e-2b10-4638-84ee-42f61d33fcf4"
      },
      "outputs": [
        {
          "output_type": "stream",
          "name": "stdout",
          "text": [
            "[9, 8, 7, 6, 5, 4]\n"
          ]
        }
      ],
      "source": [
        "# 10. Write a program to reverse a List in Python\n",
        "list=[4,5,6,7,8,9]\n",
        "list.sort(reverse=True)\n",
        "print(list)"
      ]
    },
    {
      "cell_type": "code",
      "source": [
        "# 11. Write a program to clone or copy the list:\n",
        "list1=[1,2,36,4,5]\n",
        "list2=list1.copy()\n",
        "print(list2)"
      ],
      "metadata": {
        "colab": {
          "base_uri": "https://localhost:8080/"
        },
        "id": "gNNh6naCEbcm",
        "outputId": "9ef095ae-8acc-44c9-8427-bf38792c5e82"
      },
      "execution_count": null,
      "outputs": [
        {
          "output_type": "stream",
          "name": "stdout",
          "text": [
            "[1, 2, 36, 4, 5]\n"
          ]
        }
      ]
    },
    {
      "cell_type": "code",
      "source": [
        "#12 Write a program to get sum of number of digit in a list\n",
        "list=[1,2,3,4,5]\n",
        "sum=0\n",
        "for i in list:\n",
        "  sum=sum+i\n",
        "print(sum)"
      ],
      "metadata": {
        "colab": {
          "base_uri": "https://localhost:8080/"
        },
        "id": "0PqaIBPAE4ag",
        "outputId": "71d086f5-6771-44bd-8d93-202db598c21a"
      },
      "execution_count": null,
      "outputs": [
        {
          "output_type": "stream",
          "name": "stdout",
          "text": [
            "15\n"
          ]
        }
      ]
    },
    {
      "cell_type": "code",
      "source": [
        "# 13  Write a program to get the smallest number in a list\n",
        "# Note => without using reverse(), sort() and slicing operator\n",
        "list1=[34,54,65,76,2,45]\n",
        "smallest_num=list1[0]\n",
        "for i in list1:\n",
        "  if i < smallest_num:\n",
        "    smallest_num=i\n",
        "print(smallest_num)"
      ],
      "metadata": {
        "colab": {
          "base_uri": "https://localhost:8080/"
        },
        "id": "dkSRRxnhFI7w",
        "outputId": "03558828-8fa5-4a70-94d6-32117b02dbd0"
      },
      "execution_count": null,
      "outputs": [
        {
          "output_type": "stream",
          "name": "stdout",
          "text": [
            "2\n"
          ]
        }
      ]
    },
    {
      "cell_type": "code",
      "source": [
        "# 14 Write a program to print the count of even and odd number from a lis\n",
        "list=[1,2,3,4,5,6,7]\n",
        "even_count=0\n",
        "odd_count=0\n",
        "for i in list:\n",
        "  if i%2==0:\n",
        "    even_count+=1\n",
        "  else:\n",
        "    odd_count+=1\n",
        "print(\"Even count:\",even_count)\n",
        "print(\"odd count:\",odd_count)"
      ],
      "metadata": {
        "colab": {
          "base_uri": "https://localhost:8080/"
        },
        "id": "pzzNQYWmFtYI",
        "outputId": "d63611be-8660-47c0-c5dd-0e22d665be35"
      },
      "execution_count": null,
      "outputs": [
        {
          "output_type": "stream",
          "name": "stdout",
          "text": [
            "Even count: 3\n",
            "odd count: 4\n"
          ]
        }
      ]
    },
    {
      "cell_type": "code",
      "source": [
        "# -------------------IF CONDITIONS---------------\n",
        "\n"
      ],
      "metadata": {
        "id": "JYmBkEaMHIwr"
      },
      "execution_count": null,
      "outputs": []
    },
    {
      "cell_type": "code",
      "source": [
        "# 1. Write a program that takes a user input of three angles and will find out whether it can form a triangle or not.\n",
        "angle1=int(input(\"Enter the first angle :\"))\n",
        "angle2=int(input(\"Enter the second angle :\"))\n",
        "angle3=int(input(\"Enter the third angle :\"))\n",
        "\n",
        "if angle1+angle2+angle3==180:\n",
        "  print(\"This angle is triangle\")\n",
        "else:\n",
        "  print(\"This angle is not triangle\")"
      ],
      "metadata": {
        "colab": {
          "base_uri": "https://localhost:8080/"
        },
        "id": "AXprDcJ4HO3n",
        "outputId": "7b70b6de-08ac-4ae2-b7e9-e84ccf041d21"
      },
      "execution_count": null,
      "outputs": [
        {
          "output_type": "stream",
          "name": "stdout",
          "text": [
            "Enter the first angle :45\n",
            "Enter the second angle :75\n",
            "Enter the third angle :60\n",
            "This angle is triangle\n"
          ]
        }
      ]
    },
    {
      "cell_type": "code",
      "source": [
        "# 2. Write a program that will determine weather when the value of temperature and humidity is provided by the user\n",
        "temp=int(input(\"Enter the temperature :\"))\n",
        "humidity=int(input(\"Enter the humidity :\"))\n",
        "if temp>= 30 and humidity>=90:\n",
        "  print(\"hot and humid\")\n",
        "elif temp >=30 and humidity<90:\n",
        "  print(\"hot\")\n",
        "elif temp<30 and humidity>=90:\n",
        "  print(\"cool and humid\")\n",
        "else:\n",
        "  print(\"cool\")"
      ],
      "metadata": {
        "colab": {
          "base_uri": "https://localhost:8080/"
        },
        "id": "-9ZEw6sIH6zc",
        "outputId": "3b77ba22-42e8-4175-c93b-e5c79e1cee12"
      },
      "execution_count": null,
      "outputs": [
        {
          "output_type": "stream",
          "name": "stdout",
          "text": [
            "Enter the temperature :29\n",
            "Enter the humidity :89\n",
            "cool\n"
          ]
        }
      ]
    },
    {
      "cell_type": "code",
      "source": [
        "# 3. Write a program that will take user input of cost price and selling price and determines whether its a loss or a profit\n",
        "cost_price=int(input(\"enter the cost price :\"))\n",
        "selling_price=int(input(\"enter the selling price :\"))\n",
        "if selling_price > cost_price:\n",
        "  profit=selling_price-cost_price\n",
        "  print(\"proofit :\",profit)\n",
        "elif cost_price > selling_price:\n",
        "  loss=cost_price-selling_price\n",
        "  print(\"loss :\",loss)\n",
        "else:\n",
        "  print(\"no loss,no profit\")"
      ],
      "metadata": {
        "colab": {
          "base_uri": "https://localhost:8080/"
        },
        "id": "rY64m_EaMVQR",
        "outputId": "4d13b3b4-be05-4cda-c28e-073d7049ac03"
      },
      "execution_count": null,
      "outputs": [
        {
          "output_type": "stream",
          "name": "stdout",
          "text": [
            "enter the cost price :190\n",
            "enter the selling price :250\n",
            "proofit : 60\n"
          ]
        }
      ]
    },
    {
      "cell_type": "code",
      "source": [
        "#5 Program to check whether a number is divisible by 5 and 11 or not\n",
        "num=int(input(\"Enter the number :\"))\n",
        "if num%5==0 and num%11==0:\n",
        "  print(\"number is divisible both 5 and 11\")\n",
        "else:\n",
        "  print(\"not\")"
      ],
      "metadata": {
        "colab": {
          "base_uri": "https://localhost:8080/"
        },
        "id": "sabGITekN0OQ",
        "outputId": "176d6443-5dd4-4955-b163-154773a97907"
      },
      "execution_count": null,
      "outputs": [
        {
          "output_type": "stream",
          "name": "stdout",
          "text": [
            "Enter the number :55\n",
            "number is divisible both 5 and 11\n"
          ]
        }
      ]
    },
    {
      "cell_type": "code",
      "source": [
        "#6 Write a program to check whether triangle is valid or not if angles are given.\n",
        "angle1=int(input(\"Enter the first angle :\"))\n",
        "angle2=int(input(\"Enter the second angle :\"))\n",
        "angle3=int(input(\"Enter the third angle :\"))\n",
        "\n",
        "if angle1+angle2+angle3==180:\n",
        "  print(\"This triangle is valid\")\n",
        "else:\n",
        "  print(\"This triangle not valid\")"
      ],
      "metadata": {
        "colab": {
          "base_uri": "https://localhost:8080/"
        },
        "id": "4OI_5N_MOZXt",
        "outputId": "48fa771e-44de-47bf-a193-85533fab05aa"
      },
      "execution_count": null,
      "outputs": [
        {
          "output_type": "stream",
          "name": "stdout",
          "text": [
            "Enter the first angle :90\n",
            "Enter the second angle :45\n",
            "Enter the third angle :45\n",
            "This triangle is valid\n"
          ]
        }
      ]
    },
    {
      "cell_type": "code",
      "source": [
        "# 7 Write a program to check whether triangle is equilateral, scalene or isosceles\n",
        "a=int(input(\"enter the angle 1 : \"))\n",
        "b=int(input(\"enter the angle 2 :\"))\n",
        "c=int(input(\"enter the angle 3 :\"))\n",
        "if a==b==c:\n",
        "  print(\"Equilatteral triangle\")\n",
        "elif a==b or a==c :\n",
        "  print(\"Isosceles triangle\")\n",
        "else:\n",
        "  print(\"Scalene Triangle5\")"
      ],
      "metadata": {
        "colab": {
          "base_uri": "https://localhost:8080/"
        },
        "id": "FcW4zzIdPCaU",
        "outputId": "35c6e8dc-b6f7-4ce2-bead-5c9f6fd8ae2d"
      },
      "execution_count": null,
      "outputs": [
        {
          "output_type": "stream",
          "name": "stdout",
          "text": [
            "enter the angle 1 : 45\n",
            "enter the angle 2 :55\n",
            "enter the angle 3 :45\n",
            "Isosceles triangle\n"
          ]
        }
      ]
    },
    {
      "cell_type": "code",
      "source": [
        "# 8 Write a program to enter basic salary and calculate gross salary of an employee\n",
        "salary=int(input(\"Enter your salary :\"))\n",
        "if salary<=10000:\n",
        "  hra=salary*0.20\n",
        "  print(\"hra:\",hra)\n",
        "  da=salary*0.80\n",
        "  print(\"da: \",da)\n",
        "  gross=salary+hra+da\n",
        "  print(\"gross :\",gross)\n",
        "elif 10000>=salary<=20000:\n",
        "  hra=salary*0.25\n",
        "  print(\"hra:\",hra)\n",
        "  da=salary*0.90\n",
        "  print(\"da :\",da)\n",
        "  gross=salary+hra+da\n",
        "  print(\"gross :\",gross)\n",
        "elif salary>=20001:\n",
        "  hra=salary*0.30\n",
        "  print(\"hra:\",hra)\n",
        "  da=salary*0.95\n",
        "  print(\"da :\",da)\n",
        "  gross=salary+hra+da\n",
        "  print(\"gross :\",gross)\n"
      ],
      "metadata": {
        "colab": {
          "base_uri": "https://localhost:8080/"
        },
        "id": "zRos_nNQ1Imd",
        "outputId": "72a1bd5a-f72e-447d-dd63-1c0cb85d854c"
      },
      "execution_count": null,
      "outputs": [
        {
          "output_type": "stream",
          "name": "stdout",
          "text": [
            "Enter your salary :10000\n",
            "hra: 2000.0\n",
            "da:  8000.0\n",
            "gross : 20000.0\n"
          ]
        }
      ]
    },
    {
      "cell_type": "code",
      "source": [
        "# 9. Write a program to calculate the total electricity bill based on the following conditions:\n",
        "# a. The first 50 unit will be calculated with 2 rs/unit\n",
        "# b. The next 100 unit will be calculated with 5 rs/unit\n",
        "# c. The next 150 unit will be calculated with 10 rs/unit\n",
        "# d. All the other units will be calculated with 15 rs/uni\n",
        "units=int(input(\"Enter the unit :\"))\n",
        "if (units <= 50):\n",
        "        bill = units * 2;\n",
        "elif (units <= 100) :\n",
        "        bill = units * 5;\n",
        "elif (units <= 150):\n",
        "        bill = units * 10;\n",
        "\n",
        "else:\n",
        "    bill = units*15;\n",
        "\n",
        "print(\"Total electricity :\",bill)"
      ],
      "metadata": {
        "colab": {
          "base_uri": "https://localhost:8080/"
        },
        "id": "pu90q1Z20k_O",
        "outputId": "f4f63433-91b8-4d3a-d5c3-dc9c65b3ce3c"
      },
      "execution_count": null,
      "outputs": [
        {
          "output_type": "stream",
          "name": "stdout",
          "text": [
            "Enter the unit :150\n",
            "Total electricity : 1500\n"
          ]
        }
      ]
    },
    {
      "cell_type": "code",
      "source": [
        "# 10. Write a program to check whether any year is a leap year or not\n",
        "# a. A leap year is exactly divisible by 4 except for century years (years ending\n",
        "# with 00). The century year is a leap year only if it is perfectly divisible by 400.\n",
        "year=int(input(\"enter the year :\"))\n",
        "if year%4==0:\n",
        "  print(\"leap year\")\n",
        "elif year%400==0:\n",
        "  print(\"leap year\")\n",
        "else:\n",
        "  print(\"not leap year\")"
      ],
      "metadata": {
        "colab": {
          "base_uri": "https://localhost:8080/"
        },
        "id": "Z1CRiS7g5bSA",
        "outputId": "948a5859-0a76-4e1f-cd0e-a5bef5166842"
      },
      "execution_count": null,
      "outputs": [
        {
          "output_type": "stream",
          "name": "stdout",
          "text": [
            "enter the year :2004\n",
            "leap year\n"
          ]
        }
      ]
    },
    {
      "cell_type": "code",
      "source": [
        "# 11 Write a program that will reverse a four digit number.Also it checks whether the reverse\n",
        "num=int(input(\"enter the number :\"))\n",
        "temp=num\n",
        "reversed=0\n",
        "while num>0:\n",
        "  rem=num%10\n",
        "  reversed=reversed*10+rem\n",
        "  num=num//10\n",
        "if reversed==temp:\n",
        "  print(\"reversed number :\",reversed)\n",
        "else:\n",
        "  print(\"number is not reversed\")\n"
      ],
      "metadata": {
        "colab": {
          "base_uri": "https://localhost:8080/"
        },
        "id": "7SYZeZrH6S1y",
        "outputId": "06215ba4-f98e-42df-b829-815463a4f8a9"
      },
      "execution_count": null,
      "outputs": [
        {
          "output_type": "stream",
          "name": "stdout",
          "text": [
            "enter the number :1221\n",
            "reversed number : 1221\n"
          ]
        }
      ]
    },
    {
      "cell_type": "code",
      "source": [
        "#12. Write a program that will check whether the number is armstrong number or not\n",
        "num=int(input(\"Enter the Number :\"))\n",
        "sum=0\n",
        "temp=num\n",
        "while num>0:\n",
        "  rem=num%10\n",
        "  sum=sum+rem*rem*rem\n",
        "  num=num//10\n",
        "if sum==temp:\n",
        "  print(\"Armstrong number :\",sum)\n",
        "else:\n",
        "  print(\"not\")"
      ],
      "metadata": {
        "colab": {
          "base_uri": "https://localhost:8080/"
        },
        "id": "KUMU7dwTF8AJ",
        "outputId": "9bc9a7c6-382a-40cc-d372-e300e56aa2be"
      },
      "execution_count": null,
      "outputs": [
        {
          "output_type": "stream",
          "name": "stdout",
          "text": [
            "Enter the Number :153\n",
            "Armstrong number : 153\n"
          ]
        }
      ]
    }
  ],
  "metadata": {
    "colab": {
      "provenance": []
    },
    "kernelspec": {
      "display_name": "Python 3",
      "name": "python3"
    },
    "language_info": {
      "name": "python"
    }
  },
  "nbformat": 4,
  "nbformat_minor": 0
}