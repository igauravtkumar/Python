{
  "nbformat": 4,
  "nbformat_minor": 0,
  "metadata": {
    "colab": {
      "provenance": []
    },
    "kernelspec": {
      "name": "python3",
      "display_name": "Python 3"
    },
    "language_info": {
      "name": "python"
    }
  },
  "cells": [
    {
      "cell_type": "code",
      "execution_count": null,
      "metadata": {
        "colab": {
          "base_uri": "https://localhost:8080/"
        },
        "id": "3kR6n2Q76wjY",
        "outputId": "0d3bce95-b2c6-4c4d-e1fd-558f970c591f"
      },
      "outputs": [
        {
          "output_type": "stream",
          "name": "stdout",
          "text": [
            "120\n"
          ]
        }
      ],
      "source": [
        "num = [1,2,3,4,5]\n",
        "fact=1\n",
        "for i in num:\n",
        "  fact*=i\n",
        "print(fact)"
      ]
    },
    {
      "cell_type": "code",
      "source": [
        "num = 12345\n",
        "fact=1\n",
        "while num > 0:\n",
        "  rem=num%10\n",
        "  fact = fact*rem\n",
        "  num = num//10\n",
        "print(fact)"
      ],
      "metadata": {
        "colab": {
          "base_uri": "https://localhost:8080/"
        },
        "id": "VomWtNrX6-0V",
        "outputId": "fa0a52cf-2fad-4877-ad67-174cfb8e7b10"
      },
      "execution_count": null,
      "outputs": [
        {
          "output_type": "stream",
          "name": "stdout",
          "text": [
            "120\n"
          ]
        }
      ]
    },
    {
      "cell_type": "code",
      "source": [
        "num = 12345\n",
        "count=0\n",
        "while num > 0:\n",
        "  rem=num%10\n",
        "  count = count+rem\n",
        "  num = num//10\n",
        "print(count)"
      ],
      "metadata": {
        "colab": {
          "base_uri": "https://localhost:8080/"
        },
        "id": "pcnFZxpU7S1U",
        "outputId": "c675ecc3-cb44-4802-f9bb-4d66db497286"
      },
      "execution_count": null,
      "outputs": [
        {
          "output_type": "stream",
          "name": "stdout",
          "text": [
            "15\n"
          ]
        }
      ]
    },
    {
      "cell_type": "code",
      "source": [
        "num=153\n",
        "sum=0\n",
        "temp=num\n",
        "while num > 0:\n",
        "  rem=num%10\n",
        "  sum = sum+rem*rem*rem\n",
        "  num = num//10\n",
        "if temp==sum:\n",
        "  print('Armstrong ', sum)\n",
        "else:\n",
        "  print('not',sum)"
      ],
      "metadata": {
        "colab": {
          "base_uri": "https://localhost:8080/"
        },
        "id": "V43Qi_X67bU9",
        "outputId": "028cc635-b63b-40a6-bad5-e576fb7d1fd0"
      },
      "execution_count": null,
      "outputs": [
        {
          "output_type": "stream",
          "name": "stdout",
          "text": [
            "Armstrong  153\n"
          ]
        }
      ]
    },
    {
      "cell_type": "code",
      "source": [
        "a=0\n",
        "b=1\n",
        "for i in range(1,11):\n",
        "  print(a,end=\" \")\n",
        "  a,b=b,a+b"
      ],
      "metadata": {
        "colab": {
          "base_uri": "https://localhost:8080/"
        },
        "id": "eywIsAOu7w-S",
        "outputId": "74feb00f-2c2f-43bd-ba6c-4aef29a00014"
      },
      "execution_count": null,
      "outputs": [
        {
          "output_type": "stream",
          "name": "stdout",
          "text": [
            "0 1 1 2 3 5 8 13 21 34 "
          ]
        }
      ]
    },
    {
      "cell_type": "code",
      "source": [
        "num=int(input('Enter the Number : '))\n",
        "a=True\n",
        "for i in range(2,num):\n",
        "  if num%i ==0:\n",
        "    a=False\n",
        "    break\n",
        "if a==True:\n",
        "  print('Prime Number : ',num)\n",
        "else:\n",
        "  print('Not Prime ', a)"
      ],
      "metadata": {
        "colab": {
          "base_uri": "https://localhost:8080/"
        },
        "id": "XF3VNFWO8Fyc",
        "outputId": "1063dfde-0633-470c-9e9a-c4f4db2c10c7"
      },
      "execution_count": null,
      "outputs": [
        {
          "output_type": "stream",
          "name": "stdout",
          "text": [
            "Enter the Number : 13\n",
            "Prime Number :  13\n"
          ]
        }
      ]
    },
    {
      "cell_type": "code",
      "source": [
        "num1=3\n",
        "num2=5\n",
        "if num1>num2:\n",
        "  greatest = num1\n",
        "else :\n",
        "  greatest=num2\n",
        "while True:\n",
        "  if (greatest%num1==0 and greatest%num2==0):\n",
        "    print('LCM is', greatest)\n",
        "    break\n",
        "  else:\n",
        "    greatest+=1\n"
      ],
      "metadata": {
        "colab": {
          "base_uri": "https://localhost:8080/"
        },
        "id": "OCcDC5l7BRaa",
        "outputId": "f8357317-85ff-410f-ebee-9c78aa3d4f62"
      },
      "execution_count": null,
      "outputs": [
        {
          "output_type": "stream",
          "name": "stdout",
          "text": [
            "LCM is 15\n"
          ]
        }
      ]
    },
    {
      "cell_type": "code",
      "source": [
        "num1=4\n",
        "num2=6\n",
        "while num2!=0:\n",
        "  num1,num2=num2,num1%num2\n",
        "print('HCF IS : ',num1)"
      ],
      "metadata": {
        "colab": {
          "base_uri": "https://localhost:8080/"
        },
        "id": "J4PQOivGB3-C",
        "outputId": "03b03f25-e3ed-41c4-cde4-76a0f5464a85"
      },
      "execution_count": null,
      "outputs": [
        {
          "output_type": "stream",
          "name": "stdout",
          "text": [
            "HCF IS :  2\n"
          ]
        }
      ]
    },
    {
      "cell_type": "code",
      "source": [
        "num=int(input('Enter the Number : '))\n",
        "sum=0\n",
        "for i in range(1,num+1):\n",
        "  sum=sum+i\n",
        "print(sum)"
      ],
      "metadata": {
        "colab": {
          "base_uri": "https://localhost:8080/"
        },
        "id": "3y0mYK-0CC_G",
        "outputId": "9b9c0308-7133-4a24-e3e9-1ed6ffb8b0cb"
      },
      "execution_count": null,
      "outputs": [
        {
          "output_type": "stream",
          "name": "stdout",
          "text": [
            "Enter the Number : 10\n",
            "55\n"
          ]
        }
      ]
    },
    {
      "cell_type": "code",
      "source": [
        "num=int(input('Enter the Number : '))\n",
        "for i in range(1,11):\n",
        "  print(num*i)"
      ],
      "metadata": {
        "colab": {
          "base_uri": "https://localhost:8080/"
        },
        "id": "RGP4Gy0zCPbF",
        "outputId": "92af14e6-1e6a-45c2-a9b9-f5e00a28b8c5"
      },
      "execution_count": null,
      "outputs": [
        {
          "output_type": "stream",
          "name": "stdout",
          "text": [
            "Enter the Number : 11\n",
            "11\n",
            "22\n",
            "33\n",
            "44\n",
            "55\n",
            "66\n",
            "77\n",
            "88\n",
            "99\n",
            "110\n"
          ]
        }
      ]
    },
    {
      "cell_type": "code",
      "source": [
        "list1=['python', 'is', 'high', 'lever' ,'and' ,'programming' ,'language' ,'python' ,'is' ,'good' ,'language']\n",
        "dict1={}\n",
        "for i in list1:\n",
        "  if i not in dict1:\n",
        "    dict1[i]=1\n",
        "\n",
        "  else:\n",
        "    dict1[i]+=1\n",
        "print(dict1)"
      ],
      "metadata": {
        "colab": {
          "base_uri": "https://localhost:8080/"
        },
        "id": "dwFip98zCa8c",
        "outputId": "c14a4c9a-6960-4237-a754-41d8422d2980"
      },
      "execution_count": null,
      "outputs": [
        {
          "output_type": "stream",
          "name": "stdout",
          "text": [
            "{'python': 2, 'is': 2, 'high': 1, 'lever': 1, 'and': 1, 'programming': 1, 'language': 2, 'good': 1}\n"
          ]
        }
      ]
    },
    {
      "cell_type": "code",
      "source": [
        "def intToRoman(num):\n",
        "        roman_numerals = [\n",
        "                (\"M\", 1000),(\"CM\", 900),(\"D\", 500),(\"CD\", 400),\n",
        "                (\"C\", 100),(\"XC\", 90),(\"L\", 50),(\"XL\", 40),\n",
        "                (\"X\", 10),(\"IX\", 9),(\"V\", 5),(\"IV\", 4),(\"I\", 1)]\n",
        "        res = []\n",
        "        for symbol,value in roman_numerals:\n",
        "            if num==0:\n",
        "                break\n",
        "            count = num//value\n",
        "            res.append(symbol*count)\n",
        "            num-= count*value\n",
        "        return \"\".join(res)\n",
        "print(intToRoman(3749))"
      ],
      "metadata": {
        "colab": {
          "base_uri": "https://localhost:8080/"
        },
        "id": "Wnt83qrHDQK6",
        "outputId": "118d024e-de5c-4fc4-bd80-81fd9a86d576"
      },
      "execution_count": null,
      "outputs": [
        {
          "output_type": "stream",
          "name": "stdout",
          "text": [
            "MMMDCCXLIX\n"
          ]
        }
      ]
    }
  ]
}