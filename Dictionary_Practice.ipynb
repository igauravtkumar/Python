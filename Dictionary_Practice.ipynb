{
  "nbformat": 4,
  "nbformat_minor": 0,
  "metadata": {
    "colab": {
      "provenance": []
    },
    "kernelspec": {
      "name": "python3",
      "display_name": "Python 3"
    },
    "language_info": {
      "name": "python"
    }
  },
  "cells": [
    {
      "cell_type": "code",
      "execution_count": null,
      "metadata": {
        "colab": {
          "base_uri": "https://localhost:8080/"
        },
        "id": "ypNzHZatD43G",
        "outputId": "f774d7c5-a93a-4eac-f662-6331403e8384"
      },
      "outputs": [
        {
          "output_type": "stream",
          "name": "stdout",
          "text": [
            "[(0, 1), (1, 2), (3, 4), (5, 6)]\n"
          ]
        }
      ],
      "source": [
        "# 1. Write a Python script to sort (ascending and descending) a dictionary by value.\n",
        "my_d\n",
        "ict={1:2,3:4,5:6,0:1}\n",
        "dict1 = sorted(my_dict.items())\n",
        "print(dict1)"
      ]
    },
    {
      "cell_type": "code",
      "source": [
        "# 2. Write a Python script to add a key to a dictionary.\n",
        "dictionary = {0: 10, 1: 20}\n",
        "dictionary[2]=30\n",
        "print(dictionary)"
      ],
      "metadata": {
        "colab": {
          "base_uri": "https://localhost:8080/"
        },
        "id": "FatG5k7iGrOT",
        "outputId": "c0209a4c-803d-4551-9028-cd8138c406bf"
      },
      "execution_count": null,
      "outputs": [
        {
          "output_type": "stream",
          "name": "stdout",
          "text": [
            "{0: 10, 1: 20, 2: 30}\n"
          ]
        }
      ]
    },
    {
      "cell_type": "code",
      "source": [
        "# 3. Write a Python script to concatenate the following dictionaries to create a new one.\n",
        "dict1={1:10, 2:20}\n",
        "dict2={3:30, 4:40}\n",
        "dict3={5:50,6:60}\n",
        "total_dict= {**dict1,**dict2,**dict3}\n",
        "print(total_dict)\n",
        "\n"
      ],
      "metadata": {
        "colab": {
          "base_uri": "https://localhost:8080/"
        },
        "id": "TfUKyqq4HITV",
        "outputId": "107cfc36-6aab-4b08-89be-f48bd4f52c02"
      },
      "execution_count": null,
      "outputs": [
        {
          "output_type": "stream",
          "name": "stdout",
          "text": [
            "{1: 10, 2: 20, 3: 30, 4: 40, 5: 50, 6: 60}\n"
          ]
        }
      ]
    },
    {
      "cell_type": "code",
      "source": [
        "# 4. Write a Python script to check whether a given key already exists in a dictionary.\n",
        "dict1={0: 10, 1: 20}\n",
        "key=1\n",
        "if key in dict1:\n",
        "  print(\"Key exist\")\n",
        "else:\n",
        "  print(\"Key does not exist\")"
      ],
      "metadata": {
        "colab": {
          "base_uri": "https://localhost:8080/"
        },
        "id": "9VQf_d9fH_hR",
        "outputId": "9ea18469-46ed-41bc-8ad9-4b37d2cb7de4"
      },
      "execution_count": null,
      "outputs": [
        {
          "output_type": "stream",
          "name": "stdout",
          "text": [
            "Key exist\n"
          ]
        }
      ]
    },
    {
      "cell_type": "code",
      "source": [
        "# 5. Write a Python program to iterate over dictionaries using for loops.\n",
        "d = {'x': 10, 'y': 20, 'z': 30}\n",
        "for key,value in d.items():\n",
        "  print(key,value)\n"
      ],
      "metadata": {
        "colab": {
          "base_uri": "https://localhost:8080/"
        },
        "id": "PBe2EjmEIx2j",
        "outputId": "2d446bb0-fa76-44c8-eb8e-f4b407b69f83"
      },
      "execution_count": null,
      "outputs": [
        {
          "output_type": "stream",
          "name": "stdout",
          "text": [
            "x 10\n",
            "y 20\n",
            "z 30\n"
          ]
        }
      ]
    },
    {
      "cell_type": "code",
      "source": [
        "# 6. Write a Python script to generate and print a dictionary that contains a number (between 1 and n) in the form (x, x*x).\n",
        "n=int(input(\"Enter the number\"))\n",
        "d={}\n",
        "for x in range(1,n+1):\n",
        "  d[x] = x*x\n",
        "print(d)\n"
      ],
      "metadata": {
        "colab": {
          "base_uri": "https://localhost:8080/"
        },
        "id": "smSjrQ_BJD32",
        "outputId": "d6b5ea80-deea-4524-c437-c81193baeb89"
      },
      "execution_count": null,
      "outputs": [
        {
          "output_type": "stream",
          "name": "stdout",
          "text": [
            "Enter the number5\n",
            "{1: 1, 2: 4, 3: 9, 4: 16, 5: 25}\n"
          ]
        }
      ]
    },
    {
      "cell_type": "code",
      "source": [
        "#  7. Write a Python script to print a dictionary where the keys are numbers between 1 and 15 (both included) and the values are the square of the keys.\n",
        "d={}\n",
        "for x in range(1,16):\n",
        "  d[x]=x*x\n",
        "print(d)"
      ],
      "metadata": {
        "colab": {
          "base_uri": "https://localhost:8080/"
        },
        "id": "vaPoLYW2JwSW",
        "outputId": "2f2e7907-9235-48ae-9c65-c033889b2a28"
      },
      "execution_count": null,
      "outputs": [
        {
          "output_type": "stream",
          "name": "stdout",
          "text": [
            "{1: 1, 2: 4, 3: 9, 4: 16, 5: 25, 6: 36, 7: 49, 8: 64, 9: 81, 10: 100, 11: 121, 12: 144, 13: 169, 14: 196, 15: 225}\n"
          ]
        }
      ]
    },
    {
      "cell_type": "code",
      "source": [
        "# 8. Write a Python script to merge two Python dictionaries.\n",
        "d1 = {'a': 100, 'b': 200}\n",
        "d2 = {'x': 300, 'y': 200}\n",
        "merged_dict={**d1,**d2}\n",
        "print(merged_dict)"
      ],
      "metadata": {
        "colab": {
          "base_uri": "https://localhost:8080/"
        },
        "id": "tKut7JR_J-YX",
        "outputId": "cfa259f4-efdf-43d0-edb9-3ba531521711"
      },
      "execution_count": null,
      "outputs": [
        {
          "output_type": "stream",
          "name": "stdout",
          "text": [
            "{'a': 100, 'b': 200, 'x': 300, 'y': 200}\n"
          ]
        }
      ]
    },
    {
      "cell_type": "code",
      "source": [
        "# # 9. Write a Python program to iterate over dictionaries using for loops.\n",
        "# d1 = {'a': 100, 'b': 200}\n",
        "for key,value in d1.items():\n",
        "  print(key,value)"
      ],
      "metadata": {
        "colab": {
          "base_uri": "https://localhost:8080/"
        },
        "id": "LepHAldYKirp",
        "outputId": "fb370e3a-dbca-45ca-9bdc-b75acd7f6ad8"
      },
      "execution_count": null,
      "outputs": [
        {
          "output_type": "stream",
          "name": "stdout",
          "text": [
            "a 100\n",
            "b 200\n"
          ]
        }
      ]
    },
    {
      "cell_type": "code",
      "source": [
        "# 10. Write a Python program to sum all the items in a dictionary.\n",
        "d1={1: 1, 2: 4, 3: 9, 4: 16, 5: 25}\n",
        "sum_dict=sum(d1.values())\n",
        "print(sum_dict)"
      ],
      "metadata": {
        "colab": {
          "base_uri": "https://localhost:8080/"
        },
        "id": "W294kN5cK-sd",
        "outputId": "e9bcb0f9-9c70-4157-aeb4-5fe97d50cc51"
      },
      "execution_count": null,
      "outputs": [
        {
          "output_type": "stream",
          "name": "stdout",
          "text": [
            "55\n"
          ]
        }
      ]
    },
    {
      "cell_type": "code",
      "source": [
        "# 11. Write a Python program to multiply all the items in a dictionary.\n",
        "d1={1: 1, 2: 4, 3: 9, 4: 16, 5: 25}\n",
        "fact=1\n",
        "for value in d1.values():\n",
        "  fact*=value\n",
        "print(fact)"
      ],
      "metadata": {
        "id": "Z1KfLgGULZoe",
        "colab": {
          "base_uri": "https://localhost:8080/"
        },
        "outputId": "e3e2921e-84dc-44bf-e574-8a8fdad4ff65"
      },
      "execution_count": 2,
      "outputs": [
        {
          "output_type": "stream",
          "name": "stdout",
          "text": [
            "14400\n"
          ]
        }
      ]
    }
  ]
}