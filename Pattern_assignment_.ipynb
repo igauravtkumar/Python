{
  "nbformat": 4,
  "nbformat_minor": 0,
  "metadata": {
    "colab": {
      "provenance": []
    },
    "kernelspec": {
      "name": "python3",
      "display_name": "Python 3"
    },
    "language_info": {
      "name": "python"
    }
  },
  "cells": [
    {
      "cell_type": "code",
      "execution_count": 3,
      "metadata": {
        "colab": {
          "base_uri": "https://localhost:8080/"
        },
        "id": "R6V-pI3YvKnK",
        "outputId": "21a0ca41-6286-4812-936d-8b5a97e7929a"
      },
      "outputs": [
        {
          "output_type": "stream",
          "name": "stdout",
          "text": [
            "A \n",
            "A B \n",
            "A B C \n",
            "A B C D \n",
            "A B C D E \n"
          ]
        }
      ],
      "source": [
        "# que 1\n",
        "def func(n):\n",
        "  for row in range(1,n+1):\n",
        "    num=65\n",
        "    for col in range(1,row+1):\n",
        "      print(chr(num),end=\" \")\n",
        "      num+=1\n",
        "    print()\n",
        "\n",
        "func(5)"
      ]
    },
    {
      "cell_type": "code",
      "source": [
        "# que 2\n",
        "def func(n):\n",
        "  for i in range(1,6):\n",
        "    for j in range(1,i+1):\n",
        "      if i==5 or j==1 or i==j:\n",
        "        print(n,end=\" \")\n",
        "        n+=1\n",
        "      else:\n",
        "        print(\" \",end=\" \")\n",
        "\n",
        "    print()\n",
        "\n",
        "func(1)"
      ],
      "metadata": {
        "colab": {
          "base_uri": "https://localhost:8080/"
        },
        "id": "fWIjc8dCvzWS",
        "outputId": "4ba026e1-48b0-490e-8ca6-38d8e67d604e"
      },
      "execution_count": 5,
      "outputs": [
        {
          "output_type": "stream",
          "name": "stdout",
          "text": [
            "1 \n",
            "2 3 \n",
            "4   5 \n",
            "6     7 \n",
            "8 9 10 11 12 \n"
          ]
        }
      ]
    },
    {
      "cell_type": "code",
      "source": [
        "# Que 3\n",
        "def func(n):\n",
        "  for row in range(1,n+1):\n",
        "    for col in range(1,2*n):\n",
        "      if row==4 or row+col==n+1 or col-row==n-1:\n",
        "       print(\"*\",end=\" \")\n",
        "      else:\n",
        "        print(\" \",end=\" \")\n",
        "    print()\n",
        "\n",
        "func(4)"
      ],
      "metadata": {
        "colab": {
          "base_uri": "https://localhost:8080/"
        },
        "id": "lzDr5W2mwK30",
        "outputId": "0dfa742c-5304-4365-b85b-ee56d6516941"
      },
      "execution_count": 6,
      "outputs": [
        {
          "output_type": "stream",
          "name": "stdout",
          "text": [
            "      *       \n",
            "    *   *     \n",
            "  *       *   \n",
            "* * * * * * * \n"
          ]
        }
      ]
    },
    {
      "cell_type": "code",
      "source": [
        "#Que 4\n",
        "def func(n):\n",
        "  for row in range(n,0,-1):\n",
        "    for s in range(n-row):\n",
        "      print(\" \",end=\" \")\n",
        "    for col in range(1,row+1):\n",
        "      if row==5 or col==row  or col==1:\n",
        "        print(\"*\",end=\" \")\n",
        "      else:\n",
        "        print(\" \",end=\" \")\n",
        "    print()\n",
        "\n",
        "func(5)"
      ],
      "metadata": {
        "colab": {
          "base_uri": "https://localhost:8080/"
        },
        "id": "wghTWgPvwYOo",
        "outputId": "fc8a3626-f2ef-42e4-f03a-5ff86bdbaba9"
      },
      "execution_count": 17,
      "outputs": [
        {
          "output_type": "stream",
          "name": "stdout",
          "text": [
            "* * * * * \n",
            "  *     * \n",
            "    *   * \n",
            "      * * \n",
            "        * \n"
          ]
        }
      ]
    },
    {
      "cell_type": "code",
      "source": [
        "# Que 5\n",
        "def func(n):\n",
        "  for row in range(1,n+1):\n",
        "    for s in range(n-row):\n",
        "      print(\" \",end=\" \")\n",
        "    for col in range(1,row+1):\n",
        "      if row==5 or col==row  or col==1:\n",
        "        print(\"*\",end=\" \")\n",
        "      else:\n",
        "        print(\" \",end=\" \")\n",
        "    print()\n",
        "\n",
        "func(5)"
      ],
      "metadata": {
        "colab": {
          "base_uri": "https://localhost:8080/"
        },
        "id": "nkuSVl86x03F",
        "outputId": "12078061-2c77-4be9-a931-6e6e07dd2c43"
      },
      "execution_count": 18,
      "outputs": [
        {
          "output_type": "stream",
          "name": "stdout",
          "text": [
            "        * \n",
            "      * * \n",
            "    *   * \n",
            "  *     * \n",
            "* * * * * \n"
          ]
        }
      ]
    },
    {
      "cell_type": "code",
      "source": [
        "#que 6\n",
        "def func(n):\n",
        "  for row in range(1,n):\n",
        "    for s in range(n-row):\n",
        "      print(\" \",end=\"\")\n",
        "    for col in range(1,row+1):\n",
        "      print(\"*\",end=\"\")\n",
        "    print()\n",
        "  for row in range(n,0,-1):\n",
        "    for s in range(n-row):\n",
        "      print(\" \",end=\"\")\n",
        "    for col in range(1,row+1):\n",
        "      print(\"*\",end=\"\")\n",
        "    print()\n",
        "\n",
        "func(4)"
      ],
      "metadata": {
        "colab": {
          "base_uri": "https://localhost:8080/"
        },
        "id": "gxZycIGByCXT",
        "outputId": "fe6ba31a-aa08-4e54-f6aa-6cc233a091da"
      },
      "execution_count": 20,
      "outputs": [
        {
          "output_type": "stream",
          "name": "stdout",
          "text": [
            "   *\n",
            "  **\n",
            " ***\n",
            "****\n",
            " ***\n",
            "  **\n",
            "   *\n"
          ]
        }
      ]
    },
    {
      "cell_type": "code",
      "source": [
        "# que 7\n",
        "def func(n):\n",
        "  for row in range(n,0,-1):\n",
        "    for s in range(n-row):\n",
        "      print(\" \",end=\" \")\n",
        "    for col in range(1,2*row):\n",
        "      print(col,end=\" \")\n",
        "    print()\n",
        "  for row in range(2,n+1):\n",
        "    for s in range(n-row):\n",
        "      print(\" \",end=\" \")\n",
        "    for col in range(1,2*row):\n",
        "      print(col,end=\" \")\n",
        "    print()\n",
        "\n",
        "func(5)"
      ],
      "metadata": {
        "colab": {
          "base_uri": "https://localhost:8080/"
        },
        "id": "okptB0jLypJS",
        "outputId": "c60ef735-7d8b-4543-f1c4-5ac211c3833c"
      },
      "execution_count": 21,
      "outputs": [
        {
          "output_type": "stream",
          "name": "stdout",
          "text": [
            "1 2 3 4 5 6 7 8 9 \n",
            "  1 2 3 4 5 6 7 \n",
            "    1 2 3 4 5 \n",
            "      1 2 3 \n",
            "        1 \n",
            "      1 2 3 \n",
            "    1 2 3 4 5 \n",
            "  1 2 3 4 5 6 7 \n",
            "1 2 3 4 5 6 7 8 9 \n"
          ]
        }
      ]
    },
    {
      "cell_type": "code",
      "source": [
        "# que 8\n",
        "def func(n):\n",
        "  for row in range(1,n+1):\n",
        "    num=65\n",
        "    for col in range(1,n+1):\n",
        "      if row==1 or row==5 or col==1 :\n",
        "        print(chr(num),end=\" \")\n",
        "        num+=1\n",
        "      elif col==5:\n",
        "        print(\"E\",end=\" \")\n",
        "      else:\n",
        "        print(\" \",end=\" \")\n",
        "    print()\n",
        "\n",
        "func(5)"
      ],
      "metadata": {
        "colab": {
          "base_uri": "https://localhost:8080/"
        },
        "id": "N1favXCgzB7Q",
        "outputId": "9dbb50e0-c499-41ae-c994-9d26731ac508"
      },
      "execution_count": 22,
      "outputs": [
        {
          "output_type": "stream",
          "name": "stdout",
          "text": [
            "A B C D E \n",
            "A       E \n",
            "A       E \n",
            "A       E \n",
            "A B C D E \n"
          ]
        }
      ]
    },
    {
      "cell_type": "code",
      "source": [
        "# que 9\n",
        "def func(n):\n",
        "  for row in range(1,n+1):\n",
        "    for col in range(1,2*n):\n",
        "      if row==5 or col==5 or row+col==6 or col-row==4:\n",
        "        print(\"*\",end=\" \")\n",
        "      else:\n",
        "        print(\" \",end=\" \")\n",
        "    print()\n",
        "\n",
        "func(5)"
      ],
      "metadata": {
        "colab": {
          "base_uri": "https://localhost:8080/"
        },
        "id": "pnRTAZGizRJD",
        "outputId": "9ae010c1-d7c8-493a-c51c-0864877f60ad"
      },
      "execution_count": 23,
      "outputs": [
        {
          "output_type": "stream",
          "name": "stdout",
          "text": [
            "        *         \n",
            "      * * *       \n",
            "    *   *   *     \n",
            "  *     *     *   \n",
            "* * * * * * * * * \n"
          ]
        }
      ]
    },
    {
      "cell_type": "code",
      "source": [
        "# que 10\n",
        "def func(n):\n",
        "  for row in range(n,0,-1):\n",
        "    for col in range(row,0,-1):\n",
        "      print(\"*\",end=\" \")\n",
        "    for s in range(2*(n-row)):\n",
        "      print(\" \",end=\" \")\n",
        "    for col in range(row,0,-1):\n",
        "      print(\"*\",end=\" \")\n",
        "    print()\n",
        "  for row in range(n):\n",
        "    for col in range(row+1):\n",
        "      print(\"*\",end=\" \")\n",
        "    for s in range(2*(n-row-1)):\n",
        "      print(\" \",end=\" \")\n",
        "    for col in range(row+1):\n",
        "      print(\"*\",end=\" \")\n",
        "    print()\n",
        "\n",
        "\n",
        "func(4)\n"
      ],
      "metadata": {
        "colab": {
          "base_uri": "https://localhost:8080/"
        },
        "id": "oGQj9LGnzkDm",
        "outputId": "6183e2e3-bf73-41c5-c785-3b8a0316916a"
      },
      "execution_count": 25,
      "outputs": [
        {
          "output_type": "stream",
          "name": "stdout",
          "text": [
            "* * * * * * * * \n",
            "* * *     * * * \n",
            "* *         * * \n",
            "*             * \n",
            "*             * \n",
            "* *         * * \n",
            "* * *     * * * \n",
            "* * * * * * * * \n"
          ]
        }
      ]
    },
    {
      "cell_type": "code",
      "source": [
        "# que 11\n",
        "def func(n):\n",
        "  for row in range(n):\n",
        "    for col in range(row+1):\n",
        "      print(\"*\",end=\" \")\n",
        "    for s in range(2*(n-row-1)):\n",
        "      print(\" \",end=\" \")\n",
        "    for col in range(row+1):\n",
        "      print(\"*\",end=\" \")\n",
        "    print()\n",
        "  for row in range(n-1,0,-1):\n",
        "    for col in range(row,0,-1):\n",
        "      print(\"*\",end=\" \")\n",
        "    for s in range(2*(n-row)):\n",
        "      print(\" \",end=\" \")\n",
        "    for col in range(row,0,-1):\n",
        "      print(\"*\",end=\" \")\n",
        "    print()\n",
        "\n",
        "func(4)"
      ],
      "metadata": {
        "colab": {
          "base_uri": "https://localhost:8080/"
        },
        "id": "dUm0Gn2f1SZx",
        "outputId": "64f3deaa-c69d-4926-91eb-179c8fff37ed"
      },
      "execution_count": 34,
      "outputs": [
        {
          "output_type": "stream",
          "name": "stdout",
          "text": [
            "*             * \n",
            "* *         * * \n",
            "* * *     * * * \n",
            "* * * * * * * * \n",
            "* * *     * * * \n",
            "* *         * * \n",
            "*             * \n"
          ]
        }
      ]
    },
    {
      "cell_type": "code",
      "source": [
        "# que 12\n",
        "def func(n):\n",
        "  for i in range(n):\n",
        "    for j in range(n):\n",
        "      if i+j==4 or j-i==4 or i-j==4 or j+i==12:\n",
        "        print(\"*\",end=\" \")\n",
        "      else:\n",
        "        print(\" \",end=\" \")\n",
        "    print()\n",
        "func(9)"
      ],
      "metadata": {
        "colab": {
          "base_uri": "https://localhost:8080/"
        },
        "id": "7do1DblH1yJp",
        "outputId": "e2a5bf69-1454-4a58-dc48-5377856c7856"
      },
      "execution_count": 39,
      "outputs": [
        {
          "output_type": "stream",
          "name": "stdout",
          "text": [
            "        *         \n",
            "      *   *       \n",
            "    *       *     \n",
            "  *           *   \n",
            "*               * \n",
            "  *           *   \n",
            "    *       *     \n",
            "      *   *       \n",
            "        *         \n"
          ]
        }
      ]
    },
    {
      "cell_type": "code",
      "source": [
        "# que 13\n",
        "def func(n):\n",
        "  for row in range(1,n):\n",
        "    for s in range(n-row):\n",
        "      print(\" \",end=\" \")\n",
        "    for col in range(2*row-1):\n",
        "      print(\"*\",end=\" \")\n",
        "    print()\n",
        "\n",
        "  for row in range(n,0,-1):\n",
        "    for s in range(n-row):\n",
        "      print(\" \",end=\" \")\n",
        "    for col in range(2*row-1):\n",
        "      print(\"*\",end=\" \")\n",
        "    print()\n",
        "\n",
        "func(5)"
      ],
      "metadata": {
        "colab": {
          "base_uri": "https://localhost:8080/"
        },
        "id": "wLHz13XZ2TL2",
        "outputId": "e6a02298-cbfc-425b-c494-02454bf3641f"
      },
      "execution_count": 35,
      "outputs": [
        {
          "output_type": "stream",
          "name": "stdout",
          "text": [
            "        * \n",
            "      * * * \n",
            "    * * * * * \n",
            "  * * * * * * * \n",
            "* * * * * * * * * \n",
            "  * * * * * * * \n",
            "    * * * * * \n",
            "      * * * \n",
            "        * \n"
          ]
        }
      ]
    },
    {
      "cell_type": "code",
      "source": [
        "# que 14\n",
        "def func(n):\n",
        "  for row in range(n,0,-1):\n",
        "    num=65\n",
        "    for s in range(n-row):\n",
        "      print(\" \",end=\" \")\n",
        "\n",
        "    for col in range(1,2*row):\n",
        "      print(chr(num),end=\" \")\n",
        "      num+=1\n",
        "    print()\n",
        "\n",
        "\n",
        "  for row in range(2,n+1):\n",
        "    num=65\n",
        "    for s in range(n-row):\n",
        "      print(\" \",end=\" \")\n",
        "\n",
        "    for col in range(1,2*row):\n",
        "      print(chr(num),end=\" \")\n",
        "      num+=1\n",
        "    print()\n",
        "\n",
        "func(5)"
      ],
      "metadata": {
        "colab": {
          "base_uri": "https://localhost:8080/"
        },
        "id": "req4tp3L2gSv",
        "outputId": "5d9e9152-e695-44c9-d376-0dddaf169392"
      },
      "execution_count": 36,
      "outputs": [
        {
          "output_type": "stream",
          "name": "stdout",
          "text": [
            "A B C D E F G H I \n",
            "  A B C D E F G \n",
            "    A B C D E \n",
            "      A B C \n",
            "        A \n",
            "      A B C \n",
            "    A B C D E \n",
            "  A B C D E F G \n",
            "A B C D E F G H I \n"
          ]
        }
      ]
    },
    {
      "cell_type": "code",
      "source": [
        "# que 15\n",
        "def func(n):\n",
        "  for row in range(1,n+1):\n",
        "    for col in range(1,n+1):\n",
        "      if row==5 or col==1 or ((row==col) and (col>1 and col<5)):\n",
        "        print(col,end=\" \")\n",
        "      else:\n",
        "        print(\" \",end=\" \")\n",
        "    print()\n",
        "func(5)"
      ],
      "metadata": {
        "colab": {
          "base_uri": "https://localhost:8080/"
        },
        "id": "UZHMVanD37kQ",
        "outputId": "96517bba-572d-4f95-81aa-875e1f6acf8f"
      },
      "execution_count": 40,
      "outputs": [
        {
          "output_type": "stream",
          "name": "stdout",
          "text": [
            "1         \n",
            "1 2       \n",
            "1   3     \n",
            "1     4   \n",
            "1 2 3 4 5 \n"
          ]
        }
      ]
    }
  ]
}