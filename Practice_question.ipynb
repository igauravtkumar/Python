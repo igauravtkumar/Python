{
  "nbformat": 4,
  "nbformat_minor": 0,
  "metadata": {
    "colab": {
      "provenance": []
    },
    "kernelspec": {
      "name": "python3",
      "display_name": "Python 3"
    },
    "language_info": {
      "name": "python"
    }
  },
  "cells": [
    {
      "cell_type": "code",
      "execution_count": 1,
      "metadata": {
        "colab": {
          "base_uri": "https://localhost:8080/"
        },
        "id": "ulhN_0NEzbSW",
        "outputId": "2d9a3783-c68e-417b-b22d-f1c48daa8ed7"
      },
      "outputs": [
        {
          "output_type": "stream",
          "name": "stdout",
          "text": [
            "enter the first string :Reene\n",
            "enter the second string :Naina\n",
            "{'n'}\n"
          ]
        }
      ],
      "source": [
        "# 1 Write a python programe to find out common letters between two strings\n",
        "\n",
        "def common_elements():\n",
        "  str1=input(\"enter the first string :\")\n",
        "  str2=input(\"enter the second string :\")\n",
        "  s1=set(str1)\n",
        "  s2=set(str2)\n",
        "  lst=s1 & s2\n",
        "  print(lst)\n",
        "common_elements()"
      ]
    },
    {
      "cell_type": "code",
      "source": [
        "# 2 write a python programe to count the frequency of words appearing in a string\n",
        "\n",
        "def freq_element():\n",
        "  str=input(\"enter the string :\")\n",
        "  list=str.split()\n",
        "  dict={}\n",
        "  for i in list:\n",
        "    if i not in dict:\n",
        "      dict[i]=1\n",
        "    else:\n",
        "      dict[i]+=1\n",
        "  print(dict)\n",
        "\n",
        "freq_element()\n",
        ""
      ],
      "metadata": {
        "colab": {
          "base_uri": "https://localhost:8080/"
        },
        "id": "Kcw-DoP40H_o",
        "outputId": "6d110c8d-6804-4764-995b-e7cf1755017a"
      },
      "execution_count": 3,
      "outputs": [
        {
          "output_type": "stream",
          "name": "stdout",
          "text": [
            "enter the string :sheena loves eat mango and her sister also loves eating mango\n",
            "{'sheena': 1, 'loves': 2, 'eat': 1, 'mango': 2, 'and': 1, 'her': 1, 'sister': 1, 'also': 1, 'eating': 1}\n"
          ]
        }
      ]
    },
    {
      "cell_type": "code",
      "source": [
        "# 3 Write a python programe to convert two lists into a dictionary\n",
        "list1=[1,2,3]\n",
        "list2=[\"ram\",\"raj\",\"shiv\"]\n",
        "result=dict(zip(list1,list2))\n",
        "print(result)"
      ],
      "metadata": {
        "colab": {
          "base_uri": "https://localhost:8080/"
        },
        "id": "reBde0Ga3Z6B",
        "outputId": "13ae393d-b89e-448f-cd73-592ac6bde239"
      },
      "execution_count": 6,
      "outputs": [
        {
          "output_type": "stream",
          "name": "stdout",
          "text": [
            "{1: 'ram', 2: 'raj', 3: 'shiv'}\n"
          ]
        }
      ]
    },
    {
      "cell_type": "code",
      "source": [
        "# 4 Find missing number in array (using summation and xor operation)\n",
        "def get_missing_summation(a):\n",
        "  n=a[-1]\n",
        "  sum1=0\n",
        "  array=n*(n+1)//2  # find n number of array formula\n",
        "  sum1=sum(a)\n",
        "  print(array-sum1)\n",
        "\n",
        "a=[1,2,3,4,5,7]\n",
        "get_missing_summation(a)\n",
        "\n"
      ],
      "metadata": {
        "colab": {
          "base_uri": "https://localhost:8080/"
        },
        "id": "eLluWmpc4loj",
        "outputId": "00b83fc4-01af-42c3-9e38-890c11f1e4c2"
      },
      "execution_count": 7,
      "outputs": [
        {
          "output_type": "stream",
          "name": "stdout",
          "text": [
            "6\n"
          ]
        }
      ]
    },
    {
      "cell_type": "code",
      "source": [
        "# 5 Find out pairs with given sum value of an array\n",
        "\n",
        "def twosum(arr,sum):\n",
        "  arr.sort()\n",
        "  i=0\n",
        "  j=len(arr)-1\n",
        "  while i<=j:\n",
        "    if arr[i]+arr[j]>sum:\n",
        "      j-=1\n",
        "    elif arr[i]+arr[j]<sum:\n",
        "      i++1\n",
        "    elif arr[i]+arr[j]==sum:\n",
        "      print(\"values of pair are:\",arr[i],\"&\", arr[j])\n",
        "      i+=1\n",
        "      j-=1\n",
        "arr=[3,4,5,7,8,9,19,21]\n",
        "sum=17\n",
        "\n",
        "twosum(arr,sum)\n"
      ],
      "metadata": {
        "colab": {
          "base_uri": "https://localhost:8080/",
          "height": 308
        },
        "id": "J9JUkcKt85VS",
        "outputId": "c00a1a17-62d2-4326-92ee-16537fb83ab7"
      },
      "execution_count": 18,
      "outputs": [
        {
          "output_type": "error",
          "ename": "KeyboardInterrupt",
          "evalue": "",
          "traceback": [
            "\u001b[0;31m---------------------------------------------------------------------------\u001b[0m",
            "\u001b[0;31mKeyboardInterrupt\u001b[0m                         Traceback (most recent call last)",
            "\u001b[0;32m<ipython-input-18-118338120f2a>\u001b[0m in \u001b[0;36m<cell line: 19>\u001b[0;34m()\u001b[0m\n\u001b[1;32m     17\u001b[0m \u001b[0msum\u001b[0m\u001b[0;34m=\u001b[0m\u001b[0;36m17\u001b[0m\u001b[0;34m\u001b[0m\u001b[0;34m\u001b[0m\u001b[0m\n\u001b[1;32m     18\u001b[0m \u001b[0;34m\u001b[0m\u001b[0m\n\u001b[0;32m---> 19\u001b[0;31m \u001b[0mtwosum\u001b[0m\u001b[0;34m(\u001b[0m\u001b[0marr\u001b[0m\u001b[0;34m,\u001b[0m\u001b[0msum\u001b[0m\u001b[0;34m)\u001b[0m\u001b[0;34m\u001b[0m\u001b[0;34m\u001b[0m\u001b[0m\n\u001b[0m",
            "\u001b[0;32m<ipython-input-18-118338120f2a>\u001b[0m in \u001b[0;36mtwosum\u001b[0;34m(arr, sum)\u001b[0m\n\u001b[1;32m      5\u001b[0m   \u001b[0mi\u001b[0m\u001b[0;34m=\u001b[0m\u001b[0;36m0\u001b[0m\u001b[0;34m\u001b[0m\u001b[0;34m\u001b[0m\u001b[0m\n\u001b[1;32m      6\u001b[0m   \u001b[0mj\u001b[0m\u001b[0;34m=\u001b[0m\u001b[0mlen\u001b[0m\u001b[0;34m(\u001b[0m\u001b[0marr\u001b[0m\u001b[0;34m)\u001b[0m\u001b[0;34m-\u001b[0m\u001b[0;36m1\u001b[0m\u001b[0;34m\u001b[0m\u001b[0;34m\u001b[0m\u001b[0m\n\u001b[0;32m----> 7\u001b[0;31m   \u001b[0;32mwhile\u001b[0m \u001b[0mi\u001b[0m\u001b[0;34m<=\u001b[0m\u001b[0mj\u001b[0m\u001b[0;34m:\u001b[0m\u001b[0;34m\u001b[0m\u001b[0;34m\u001b[0m\u001b[0m\n\u001b[0m\u001b[1;32m      8\u001b[0m     \u001b[0;32mif\u001b[0m \u001b[0marr\u001b[0m\u001b[0;34m[\u001b[0m\u001b[0mi\u001b[0m\u001b[0;34m]\u001b[0m\u001b[0;34m+\u001b[0m\u001b[0marr\u001b[0m\u001b[0;34m[\u001b[0m\u001b[0mj\u001b[0m\u001b[0;34m]\u001b[0m\u001b[0;34m>\u001b[0m\u001b[0msum\u001b[0m\u001b[0;34m:\u001b[0m\u001b[0;34m\u001b[0m\u001b[0;34m\u001b[0m\u001b[0m\n\u001b[1;32m      9\u001b[0m       \u001b[0mj\u001b[0m\u001b[0;34m-=\u001b[0m\u001b[0;36m1\u001b[0m\u001b[0;34m\u001b[0m\u001b[0;34m\u001b[0m\u001b[0m\n",
            "\u001b[0;31mKeyboardInterrupt\u001b[0m: "
          ]
        }
      ]
    },
    {
      "cell_type": "code",
      "source": [
        "# 6 find out length of last word\n",
        "def len_last_word(A):\n",
        "  arr=A.split(' ')\n",
        "  size=len(arr)\n",
        "  if (size==1):\n",
        "    return len(A)\n",
        "\n",
        "  last_word=arr[-1]\n",
        "  print(last_word)\n",
        "A=\"netsetos\"\n",
        "len_last_word(A)\n"
      ],
      "metadata": {
        "colab": {
          "base_uri": "https://localhost:8080/"
        },
        "id": "KWte44vlBpr_",
        "outputId": "9473b20e-9f97-4420-ce28-19a6b63ebacd"
      },
      "execution_count": 13,
      "outputs": [
        {
          "output_type": "execute_result",
          "data": {
            "text/plain": [
              "8"
            ]
          },
          "metadata": {},
          "execution_count": 13
        }
      ]
    },
    {
      "cell_type": "code",
      "source": [
        "# 7 Remove Duplicates from sorted array\n",
        "list1=[1,1,2,2,2,3,4,4,5,5]\n",
        "i=list1[0]\n",
        "for j in range(0,len(list1)):\n",
        "  if list1[j]==list1[i]:\n",
        "    j-=1\n",
        "  else:\n",
        "    i+=1\n",
        "    list1[i]=list1[j]\n",
        "print(i+1)\n",
        "\n",
        "\n"
      ],
      "metadata": {
        "colab": {
          "base_uri": "https://localhost:8080/"
        },
        "id": "rk6G_K68FJ2V",
        "outputId": "1a8efafd-c5c5-4730-b376-9ea5accd965d"
      },
      "execution_count": 17,
      "outputs": [
        {
          "output_type": "stream",
          "name": "stdout",
          "text": [
            "6\n"
          ]
        }
      ]
    },
    {
      "cell_type": "code",
      "source": [
        "# 8 maximum sum array\n",
        "def max_sum_subarray(arr):\n",
        "  size=len(arr)\n",
        "  curr_sum=0\n",
        "  max_so_far=arr[0]\n",
        "  st=0\n",
        "  end=0\n",
        "  poi=0\n",
        "  for i in range(0,size):\n",
        "    curr_sum=curr_sum+arr[i]\n",
        "    if (max_so_far < curr_sum):\n",
        "      max_so_far = curr_sum\n",
        "      st=poi\n",
        "      end=i\n",
        "    elif (curr_sum < 0):\n",
        "      curr_sum=0\n",
        "      poi=i+1\n",
        "  print(\"Maxim Sum Subarray :\",max_so_far)\n",
        "  print(\"Start Index of window is :\",st)\n",
        "  print(\"End index of window is :\",end)\n",
        "\n",
        "arr=[4,-3,-2,2,3,1,-2,-3,6,-6,-4,2,1]\n",
        "max_sum_subarray(arr)\n",
        "\n",
        "\n",
        ""
      ],
      "metadata": {
        "colab": {
          "base_uri": "https://localhost:8080/"
        },
        "id": "2YuUV28THtbs",
        "outputId": "35e9be69-0494-4aeb-a0d1-9fa81355175e"
      },
      "execution_count": 34,
      "outputs": [
        {
          "output_type": "stream",
          "name": "stdout",
          "text": [
            "Maxim Sum Subarray : 7\n",
            "Start Index of window is : 3\n",
            "End index of window is : 8\n"
          ]
        }
      ]
    }
  ]
}