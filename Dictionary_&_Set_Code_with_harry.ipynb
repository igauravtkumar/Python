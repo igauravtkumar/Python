{
  "nbformat": 4,
  "nbformat_minor": 0,
  "metadata": {
    "colab": {
      "provenance": []
    },
    "kernelspec": {
      "name": "python3",
      "display_name": "Python 3"
    },
    "language_info": {
      "name": "python"
    }
  },
  "cells": [
    {
      "cell_type": "code",
      "execution_count": 80,
      "metadata": {
        "id": "dQzZ5P-scV8c"
      },
      "outputs": [],
      "source": [
        "# Dictionary --> Key value pair"
      ]
    },
    {
      "cell_type": "code",
      "source": [
        "marks={\n",
        "    'harry':100,\n",
        "    'rohan':36,\n",
        "    'shubham':78\n",
        "}\n",
        "print(marks)\n",
        "print(type(marks))"
      ],
      "metadata": {
        "colab": {
          "base_uri": "https://localhost:8080/"
        },
        "id": "EkjbRof0c6yU",
        "outputId": "5d0b1edc-9e39-4b7a-9a78-829e758f44a0"
      },
      "execution_count": 81,
      "outputs": [
        {
          "output_type": "stream",
          "name": "stdout",
          "text": [
            "{'harry': 100, 'rohan': 36, 'shubham': 78}\n",
            "<class 'dict'>\n"
          ]
        }
      ]
    },
    {
      "cell_type": "code",
      "source": [
        "print(marks['harry'])"
      ],
      "metadata": {
        "colab": {
          "base_uri": "https://localhost:8080/"
        },
        "id": "pgIfeGoJdSLt",
        "outputId": "9ca166d3-0786-43b9-f58d-d78c3898578f"
      },
      "execution_count": 82,
      "outputs": [
        {
          "output_type": "stream",
          "name": "stdout",
          "text": [
            "100\n"
          ]
        }
      ]
    },
    {
      "cell_type": "code",
      "source": [
        "marks['shubham']=73\n",
        "print(marks)"
      ],
      "metadata": {
        "colab": {
          "base_uri": "https://localhost:8080/"
        },
        "id": "1089hewYdZbU",
        "outputId": "4bdaf0c0-f7e3-4bfb-d78d-88257bc5e71d"
      },
      "execution_count": 83,
      "outputs": [
        {
          "output_type": "stream",
          "name": "stdout",
          "text": [
            "{'harry': 100, 'rohan': 36, 'shubham': 73}\n"
          ]
        }
      ]
    },
    {
      "cell_type": "code",
      "source": [
        "print(marks.items())"
      ],
      "metadata": {
        "colab": {
          "base_uri": "https://localhost:8080/"
        },
        "id": "WNTZVDy6diwI",
        "outputId": "e868c106-0ddd-410d-c93d-e0436cc9b4d8"
      },
      "execution_count": 84,
      "outputs": [
        {
          "output_type": "stream",
          "name": "stdout",
          "text": [
            "dict_items([('harry', 100), ('rohan', 36), ('shubham', 73)])\n"
          ]
        }
      ]
    },
    {
      "cell_type": "code",
      "source": [
        "print(marks.keys())"
      ],
      "metadata": {
        "colab": {
          "base_uri": "https://localhost:8080/"
        },
        "id": "TJgSJJhnfth1",
        "outputId": "932a5f18-5f44-4f83-aa07-04ca445b5f87"
      },
      "execution_count": 85,
      "outputs": [
        {
          "output_type": "stream",
          "name": "stdout",
          "text": [
            "dict_keys(['harry', 'rohan', 'shubham'])\n"
          ]
        }
      ]
    },
    {
      "cell_type": "code",
      "source": [
        "print(marks.values())"
      ],
      "metadata": {
        "colab": {
          "base_uri": "https://localhost:8080/"
        },
        "id": "KkgOG7x2fwKA",
        "outputId": "956229f3-769d-4c94-c019-c536a856fb1e"
      },
      "execution_count": 86,
      "outputs": [
        {
          "output_type": "stream",
          "name": "stdout",
          "text": [
            "dict_values([100, 36, 73])\n"
          ]
        }
      ]
    },
    {
      "cell_type": "code",
      "source": [
        "print(marks.get('harry'))\n",
        "print(marks.get('gaurav'))"
      ],
      "metadata": {
        "colab": {
          "base_uri": "https://localhost:8080/"
        },
        "id": "2__Vnr10fzK8",
        "outputId": "85bc585e-7824-4644-c93b-49e10ac021d2"
      },
      "execution_count": 87,
      "outputs": [
        {
          "output_type": "stream",
          "name": "stdout",
          "text": [
            "100\n",
            "None\n"
          ]
        }
      ]
    },
    {
      "cell_type": "code",
      "source": [
        "marks.update({'harry':78,'Gaurav':89})\n",
        "print(marks)"
      ],
      "metadata": {
        "colab": {
          "base_uri": "https://localhost:8080/"
        },
        "id": "E5hnR5pvgAwo",
        "outputId": "a4bd65ec-537e-421a-e180-34591e3ef71d"
      },
      "execution_count": 88,
      "outputs": [
        {
          "output_type": "stream",
          "name": "stdout",
          "text": [
            "{'harry': 78, 'rohan': 36, 'shubham': 73, 'Gaurav': 89}\n"
          ]
        }
      ]
    },
    {
      "cell_type": "code",
      "source": [
        "x = marks.pop('harry')   # given item remove\n",
        "print(x)\n"
      ],
      "metadata": {
        "colab": {
          "base_uri": "https://localhost:8080/"
        },
        "id": "azn-L3IbhEgS",
        "outputId": "a7212ac1-f306-4249-d4cf-0377d219c922"
      },
      "execution_count": 89,
      "outputs": [
        {
          "output_type": "stream",
          "name": "stdout",
          "text": [
            "78\n"
          ]
        }
      ]
    },
    {
      "cell_type": "code",
      "source": [
        "print(marks)"
      ],
      "metadata": {
        "colab": {
          "base_uri": "https://localhost:8080/"
        },
        "id": "coRsll0Uhb3W",
        "outputId": "603861a6-9417-45ee-b625-097f303a6936"
      },
      "execution_count": 90,
      "outputs": [
        {
          "output_type": "stream",
          "name": "stdout",
          "text": [
            "{'rohan': 36, 'shubham': 73, 'Gaurav': 89}\n"
          ]
        }
      ]
    },
    {
      "cell_type": "code",
      "source": [
        "a = marks.popitem()  # last element remove\n",
        "print(a)"
      ],
      "metadata": {
        "colab": {
          "base_uri": "https://localhost:8080/"
        },
        "id": "LJJJWKTThc5-",
        "outputId": "67e8d0bc-2038-471a-e09b-a3a8a2c9a492"
      },
      "execution_count": 91,
      "outputs": [
        {
          "output_type": "stream",
          "name": "stdout",
          "text": [
            "('Gaurav', 89)\n"
          ]
        }
      ]
    },
    {
      "cell_type": "code",
      "source": [
        "print(marks)"
      ],
      "metadata": {
        "colab": {
          "base_uri": "https://localhost:8080/"
        },
        "id": "J5QjDKJOhj5Y",
        "outputId": "6bf9aaea-f4d9-44d1-ba06-b4f0e678e7d7"
      },
      "execution_count": 92,
      "outputs": [
        {
          "output_type": "stream",
          "name": "stdout",
          "text": [
            "{'rohan': 36, 'shubham': 73}\n"
          ]
        }
      ]
    },
    {
      "cell_type": "code",
      "source": [
        "# Set --> unordered mutable"
      ],
      "metadata": {
        "id": "Xk95_TO_hu7-"
      },
      "execution_count": 93,
      "outputs": []
    },
    {
      "cell_type": "code",
      "source": [
        "set1={}\n",
        "print(type(set1))"
      ],
      "metadata": {
        "colab": {
          "base_uri": "https://localhost:8080/"
        },
        "id": "hW6lWG_kiAQe",
        "outputId": "52c1bd9d-e2df-489c-c8ed-67b530971812"
      },
      "execution_count": 94,
      "outputs": [
        {
          "output_type": "stream",
          "name": "stdout",
          "text": [
            "<class 'dict'>\n"
          ]
        }
      ]
    },
    {
      "cell_type": "code",
      "source": [
        "s = {1,3,53,74,86}\n",
        "print(s)"
      ],
      "metadata": {
        "colab": {
          "base_uri": "https://localhost:8080/"
        },
        "id": "VnmwWXDuipmv",
        "outputId": "056460e9-832f-4954-e434-2d25d4c380d3"
      },
      "execution_count": 95,
      "outputs": [
        {
          "output_type": "stream",
          "name": "stdout",
          "text": [
            "{1, 3, 53, 86, 74}\n"
          ]
        }
      ]
    },
    {
      "cell_type": "code",
      "source": [
        "set1 = {1 , 5 , 35 ,54,5,3,'harry'}\n",
        "print(set1)\n",
        "print(type(set1))"
      ],
      "metadata": {
        "colab": {
          "base_uri": "https://localhost:8080/"
        },
        "id": "H3I4EtPIiykt",
        "outputId": "ca47be68-60de-4d2e-badd-950d99dde6e7"
      },
      "execution_count": 96,
      "outputs": [
        {
          "output_type": "stream",
          "name": "stdout",
          "text": [
            "{1, 3, 35, 5, 54, 'harry'}\n",
            "<class 'set'>\n"
          ]
        }
      ]
    },
    {
      "cell_type": "code",
      "source": [
        "set1.add(566)\n",
        "print(set1)"
      ],
      "metadata": {
        "colab": {
          "base_uri": "https://localhost:8080/"
        },
        "id": "pxo1jUw0jJBn",
        "outputId": "aff09a52-d484-41eb-e1b5-3cf95fa448a0"
      },
      "execution_count": 97,
      "outputs": [
        {
          "output_type": "stream",
          "name": "stdout",
          "text": [
            "{1, 3, 35, 5, 54, 'harry', 566}\n"
          ]
        }
      ]
    },
    {
      "cell_type": "code",
      "source": [
        "set1.remove(1)\n",
        "print(set1)"
      ],
      "metadata": {
        "colab": {
          "base_uri": "https://localhost:8080/"
        },
        "id": "6mwvtJo4jxiW",
        "outputId": "04e588f5-0532-4cfc-a044-5004c49716d3"
      },
      "execution_count": 98,
      "outputs": [
        {
          "output_type": "stream",
          "name": "stdout",
          "text": [
            "{3, 35, 5, 54, 'harry', 566}\n"
          ]
        }
      ]
    },
    {
      "cell_type": "code",
      "source": [
        "print(set1.pop())"
      ],
      "metadata": {
        "colab": {
          "base_uri": "https://localhost:8080/"
        },
        "id": "H4DjUILCj35I",
        "outputId": "8bfb35aa-03c3-48e4-bda9-314575b6ed44"
      },
      "execution_count": 99,
      "outputs": [
        {
          "output_type": "stream",
          "name": "stdout",
          "text": [
            "3\n"
          ]
        }
      ]
    },
    {
      "cell_type": "code",
      "source": [
        "print(set.clear())"
      ],
      "metadata": {
        "colab": {
          "base_uri": "https://localhost:8080/"
        },
        "id": "J4iEcECaj8Xo",
        "outputId": "59523605-922e-495e-9895-e87b208bba65"
      },
      "execution_count": 100,
      "outputs": [
        {
          "output_type": "stream",
          "name": "stdout",
          "text": [
            "None\n"
          ]
        }
      ]
    },
    {
      "cell_type": "code",
      "source": [
        "s1 = {1,45,6,79}\n",
        "s2 = {7,8,1,79}"
      ],
      "metadata": {
        "id": "eMpQgsD-kC4L"
      },
      "execution_count": 101,
      "outputs": []
    },
    {
      "cell_type": "code",
      "source": [
        "print(s1.union(s2))"
      ],
      "metadata": {
        "colab": {
          "base_uri": "https://localhost:8080/"
        },
        "id": "3uu1W1bykInY",
        "outputId": "9c4d6295-d3bd-4a75-a8da-973ea81b8800"
      },
      "execution_count": 102,
      "outputs": [
        {
          "output_type": "stream",
          "name": "stdout",
          "text": [
            "{1, 6, 7, 8, 45, 79}\n"
          ]
        }
      ]
    },
    {
      "cell_type": "code",
      "source": [
        "print(s1.intersection(s2))"
      ],
      "metadata": {
        "colab": {
          "base_uri": "https://localhost:8080/"
        },
        "id": "6eelVcLLkNIL",
        "outputId": "d884d604-0707-4276-ead3-5ea00e0955d6"
      },
      "execution_count": 103,
      "outputs": [
        {
          "output_type": "stream",
          "name": "stdout",
          "text": [
            "{1, 79}\n"
          ]
        }
      ]
    },
    {
      "cell_type": "code",
      "source": [
        "print(s1.difference(s2))"
      ],
      "metadata": {
        "colab": {
          "base_uri": "https://localhost:8080/"
        },
        "id": "eS8H8WKLkRLj",
        "outputId": "21a3f1eb-f201-4a97-fb1a-146a5a509dd6"
      },
      "execution_count": 104,
      "outputs": [
        {
          "output_type": "stream",
          "name": "stdout",
          "text": [
            "{45, 6}\n"
          ]
        }
      ]
    },
    {
      "cell_type": "code",
      "source": [
        "print(s1.symmetric_difference(s2))"
      ],
      "metadata": {
        "colab": {
          "base_uri": "https://localhost:8080/"
        },
        "id": "S5Ys8MyskjKU",
        "outputId": "a7794fa2-6a7d-4e69-b037-cc454f48e0d2"
      },
      "execution_count": 105,
      "outputs": [
        {
          "output_type": "stream",
          "name": "stdout",
          "text": [
            "{6, 7, 8, 45}\n"
          ]
        }
      ]
    },
    {
      "cell_type": "code",
      "source": [
        "# que 1 - Write a programe to create a dictionary of hindi words with values as their english\n",
        "#         transalation .Provide user with an option to look it up\n",
        "\n",
        "\n",
        "words = {\n",
        "    'madad':'help',\n",
        "    'kursi':'chair',\n",
        "    'billi':'cat'\n",
        "}\n",
        "word= input('Enter the word you want meaning of : ')\n",
        "print(words[word])"
      ],
      "metadata": {
        "colab": {
          "base_uri": "https://localhost:8080/"
        },
        "id": "ySY0JtXvkrRn",
        "outputId": "b6343660-9580-4cab-a2b4-f17670eef5ca"
      },
      "execution_count": 106,
      "outputs": [
        {
          "output_type": "stream",
          "name": "stdout",
          "text": [
            "Enter the word you want meaning of : madad\n",
            "help\n"
          ]
        }
      ]
    },
    {
      "cell_type": "code",
      "source": [
        "# que 2 -> can we have a set with 18(int) and 18('str') as a value in it\n",
        "s={18,\"18\"}\n",
        "print(s)"
      ],
      "metadata": {
        "colab": {
          "base_uri": "https://localhost:8080/"
        },
        "id": "3nzeBldlljLA",
        "outputId": "6243bcd2-6c3f-4c71-ff74-fe5f679aeb29"
      },
      "execution_count": 109,
      "outputs": [
        {
          "output_type": "stream",
          "name": "stdout",
          "text": [
            "{18, '18'}\n"
          ]
        }
      ]
    },
    {
      "cell_type": "code",
      "source": [
        "# que 3 what will be length of following set s\n",
        "s = {20,20.0,\"20\"}\n",
        "print(s)\n",
        "print(len(s))"
      ],
      "metadata": {
        "colab": {
          "base_uri": "https://localhost:8080/"
        },
        "id": "KP0OFC0Zlsah",
        "outputId": "705530e4-b3f8-4c7a-d76d-a44763c2ff2e"
      },
      "execution_count": 116,
      "outputs": [
        {
          "output_type": "stream",
          "name": "stdout",
          "text": [
            "{20, '20'}\n",
            "2\n"
          ]
        }
      ]
    },
    {
      "cell_type": "code",
      "source": [
        "# que 4- s={}\n",
        "# what is type of s\n",
        "s = {}\n",
        "print(type(s))"
      ],
      "metadata": {
        "colab": {
          "base_uri": "https://localhost:8080/"
        },
        "id": "orBC49A1lw1d",
        "outputId": "da5239fe-2401-4900-e3d0-b48975e17ccd"
      },
      "execution_count": 115,
      "outputs": [
        {
          "output_type": "stream",
          "name": "stdout",
          "text": [
            "<class 'dict'>\n"
          ]
        }
      ]
    },
    {
      "cell_type": "code",
      "source": [
        "# que 5 -> Create an empty dictionary . Allow 4 friends to enter their favorite\n",
        "# language as value and use key as their names . Assume that the names are unique\n",
        "d = {}\n",
        "\n",
        "name = input('Enter friends name : ')\n",
        "lang = input('enter language name : ')\n",
        "d.update({name:lang})\n",
        "name = input('Enter friends name : ')\n",
        "lang = input('enter language name : ')\n",
        "d.update({name:lang})\n",
        "name = input('Enter friends name : ')\n",
        "lang = input('enter language name : ')\n",
        "d.update({name:lang})\n",
        "name = input('Enter friends name : ')\n",
        "lang = input('enter language name : ')\n",
        "d.update({name:lang})\n",
        "\n",
        "print(d)"
      ],
      "metadata": {
        "colab": {
          "base_uri": "https://localhost:8080/"
        },
        "id": "1vithsXMl2jf",
        "outputId": "be7f40b2-3052-4f33-9440-9b9ec7f4a03c"
      },
      "execution_count": 120,
      "outputs": [
        {
          "output_type": "stream",
          "name": "stdout",
          "text": [
            "Enter friends name : Gaurav\n",
            "enter language name : Python\n",
            "Enter friends name : Rohan\n",
            "enter language name : Assembly\n",
            "Enter friends name : Harry\n",
            "enter language name : java\n",
            "Enter friends name : shubham \n",
            "enter language name : c\n",
            "{'Gaurav': 'Python', 'Rohan': 'Assembly', 'Harry': 'java', 'shubham ': 'c'}\n"
          ]
        }
      ]
    },
    {
      "cell_type": "code",
      "source": [
        "#  que 6 If the names of 2 friends are same what will happen to the programe in problem\n",
        "# 6\n",
        "d = {}\n",
        "\n",
        "name = input('Enter friends name : ')\n",
        "lang = input('enter language name : ')\n",
        "d.update({name:lang})\n",
        "name = input('Enter friends name : ')\n",
        "lang = input('enter language name : ')\n",
        "d.update({name:lang})\n",
        "name = input('Enter friends name : ')\n",
        "lang = input('enter language name : ')\n",
        "d.update({name:lang})\n",
        "name = input('Enter friends name : ')\n",
        "lang = input('enter language name : ')\n",
        "d.update({name:lang})\n",
        "\n",
        "print(d)\n",
        "\n",
        "# update if same key\n"
      ],
      "metadata": {
        "colab": {
          "base_uri": "https://localhost:8080/"
        },
        "id": "9sX7lRUkmIht",
        "outputId": "ef86336b-f93b-4036-c7e0-32267393bdcd"
      },
      "execution_count": 121,
      "outputs": [
        {
          "output_type": "stream",
          "name": "stdout",
          "text": [
            "Enter friends name : Gaurav\n",
            "enter language name : Python\n",
            "Enter friends name : Shubham\n",
            "enter language name : C\n",
            "Enter friends name : Rohan\n",
            "enter language name : Java\n",
            "Enter friends name : Rohan\n",
            "enter language name : js\n",
            "{'Gaurav': 'Python', 'Shubham': 'C', 'Rohan': 'js'}\n"
          ]
        }
      ]
    },
    {
      "cell_type": "code",
      "source": [
        "# que 7 - if language of two friends are same what will happen to the programe\n",
        "# in problem 6\n",
        "d = {}\n",
        "\n",
        "name = input('Enter friends name : ')\n",
        "lang = input('enter language name : ')\n",
        "d.update({name:lang})\n",
        "name = input('Enter friends name : ')\n",
        "lang = input('enter language name : ')\n",
        "d.update({name:lang})\n",
        "name = input('Enter friends name : ')\n",
        "lang = input('enter language name : ')\n",
        "d.update({name:lang})\n",
        "name = input('Enter friends name : ')\n",
        "lang = input('enter language name : ')\n",
        "d.update({name:lang})\n",
        "\n",
        "print(d)"
      ],
      "metadata": {
        "colab": {
          "base_uri": "https://localhost:8080/"
        },
        "id": "ccv6VpyxmTMp",
        "outputId": "c756975f-1835-4e0d-84c8-6b8f00be8d6e"
      },
      "execution_count": 122,
      "outputs": [
        {
          "output_type": "stream",
          "name": "stdout",
          "text": [
            "Enter friends name : Gaurav\n",
            "enter language name : Python\n",
            "Enter friends name : Harry\n",
            "enter language name : Python\n",
            "Enter friends name : Shubham\n",
            "enter language name : c\n",
            "Enter friends name : Rohan\n",
            "enter language name : Java\n",
            "{'Gaurav': 'Python', 'Harry': 'Python', 'Shubham': 'c', 'Rohan': 'Java'}\n"
          ]
        }
      ]
    },
    {
      "cell_type": "code",
      "source": [
        "# que 8 -> can you change the values inside a list which is contained in set s ?\n",
        "# s = {8,7,12,'harry',[1,2]}\n",
        "\n",
        "# not because we can not add a list in set\n",
        "# secondly set not allow indexing"
      ],
      "metadata": {
        "id": "b3OwMB3Xmj9e"
      },
      "execution_count": 127,
      "outputs": []
    }
  ]
}