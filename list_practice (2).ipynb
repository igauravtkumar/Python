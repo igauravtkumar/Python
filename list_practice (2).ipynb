{
  "nbformat": 4,
  "nbformat_minor": 0,
  "metadata": {
    "colab": {
      "provenance": []
    },
    "kernelspec": {
      "name": "python3",
      "display_name": "Python 3"
    },
    "language_info": {
      "name": "python"
    }
  },
  "cells": [
    {
      "cell_type": "code",
      "execution_count": null,
      "metadata": {
        "colab": {
          "base_uri": "https://localhost:8080/"
        },
        "id": "0G5BV5i6scFz",
        "outputId": "bd66ce77-8d83-47a0-c975-1482ad703596"
      },
      "outputs": [
        {
          "output_type": "stream",
          "name": "stdout",
          "text": [
            "{40, 10, 20, 30}\n"
          ]
        }
      ],
      "source": [
        "# Write a Python program to get unique values from a list.\n",
        "list1=[10,20,20,30,40,40,40]\n",
        "myset=set(list1)\n",
        "print(myset)"
      ]
    },
    {
      "cell_type": "code",
      "source": [
        "# Write a Python program to get the frequency of elements in a list.\n",
        "list1=[10,20,20,30,40,40,40]\n",
        "d={}\n",
        "for i in list1:\n",
        "\n",
        "    d[i]=d.get(i,0)+1\n",
        "\n",
        "print(d)"
      ],
      "metadata": {
        "colab": {
          "base_uri": "https://localhost:8080/"
        },
        "id": "Bzi9LM3ztBV3",
        "outputId": "f72602b5-9417-4e27-a034-284840f9a28e"
      },
      "execution_count": null,
      "outputs": [
        {
          "output_type": "stream",
          "name": "stdout",
          "text": [
            "{10: 1, 20: 2, 30: 1, 40: 3}\n"
          ]
        }
      ]
    },
    {
      "cell_type": "code",
      "source": [
        "# Write a Python program to count the number of elements in a list within a specified range.\n",
        "list1= [1, 5, 8, 12, 15, 18, 22, 25, 30]\n",
        "low=10\n",
        "high=20\n",
        "count = sum(1 for i in list1 if low <= i <= high)\n",
        "\n",
        "print(f\"Number of elements in range [{low}, {high}]:\", count)\n",
        "\n"
      ],
      "metadata": {
        "colab": {
          "base_uri": "https://localhost:8080/"
        },
        "id": "bklYE7puu11g",
        "outputId": "268ca62b-4dbd-4d68-9264-5f28af422ffa"
      },
      "execution_count": null,
      "outputs": [
        {
          "output_type": "stream",
          "name": "stdout",
          "text": [
            "Number of elements in range [10, 20]: 3\n"
          ]
        }
      ]
    },
    {
      "cell_type": "code",
      "source": [
        "#  Check if a Number is Even or Odd\n",
        "l=[]\n",
        "for i in range(1,101):\n",
        "  if i%2==0:\n",
        "    print('Even number',i,end=' ')\n",
        "  else:\n",
        "    print('odd number', i,end=' ')"
      ],
      "metadata": {
        "colab": {
          "base_uri": "https://localhost:8080/"
        },
        "id": "PgJgDawAxYOq",
        "outputId": "53faff11-40a2-4838-8003-88d5cc6576ea"
      },
      "execution_count": null,
      "outputs": [
        {
          "output_type": "stream",
          "name": "stdout",
          "text": [
            "odd number 1 Even number 2 odd number 3 Even number 4 odd number 5 Even number 6 odd number 7 Even number 8 odd number 9 Even number 10 odd number 11 Even number 12 odd number 13 Even number 14 odd number 15 Even number 16 odd number 17 Even number 18 odd number 19 Even number 20 odd number 21 Even number 22 odd number 23 Even number 24 odd number 25 Even number 26 odd number 27 Even number 28 odd number 29 Even number 30 odd number 31 Even number 32 odd number 33 Even number 34 odd number 35 Even number 36 odd number 37 Even number 38 odd number 39 Even number 40 odd number 41 Even number 42 odd number 43 Even number 44 odd number 45 Even number 46 odd number 47 Even number 48 odd number 49 Even number 50 odd number 51 Even number 52 odd number 53 Even number 54 odd number 55 Even number 56 odd number 57 Even number 58 odd number 59 Even number 60 odd number 61 Even number 62 odd number 63 Even number 64 odd number 65 Even number 66 odd number 67 Even number 68 odd number 69 Even number 70 odd number 71 Even number 72 odd number 73 Even number 74 odd number 75 Even number 76 odd number 77 Even number 78 odd number 79 Even number 80 odd number 81 Even number 82 odd number 83 Even number 84 odd number 85 Even number 86 odd number 87 Even number 88 odd number 89 Even number 90 odd number 91 Even number 92 odd number 93 Even number 94 odd number 95 Even number 96 odd number 97 Even number 98 odd number 99 Even number 100 "
          ]
        }
      ]
    },
    {
      "cell_type": "code",
      "source": [
        "#  Swap Two Numbers Without Using a Third Variable\n",
        "a=int(input('Enter the number of A : '))\n",
        "b=int(input('Enter the number of B : '))\n",
        "c=int(input('Enter the number of C : '))\n",
        "a=a+b\n",
        "b=a-b\n",
        "a=a-b\n",
        "print(a,b)"
      ],
      "metadata": {
        "colab": {
          "base_uri": "https://localhost:8080/"
        },
        "id": "ypTGhXYoyPk8",
        "outputId": "7bd258ae-6459-4580-b5da-5ab7d752e311"
      },
      "execution_count": null,
      "outputs": [
        {
          "output_type": "stream",
          "name": "stdout",
          "text": [
            "Enter the number of A : 10\n",
            "Enter the number of B : 20\n",
            "Enter the number of C : 30\n",
            "20 10\n"
          ]
        }
      ]
    },
    {
      "cell_type": "code",
      "source": [
        "#  Check if a Number is an Armstrong Number\n",
        "num=153\n",
        "temp=num\n",
        "sum=0\n",
        "while num>0:\n",
        "  rem=num%10\n",
        "  sum=sum+rem**3\n",
        "  num=num//10\n",
        "if temp==sum:\n",
        "  print('Armstrong')\n",
        "else:\n",
        "  print('Not')"
      ],
      "metadata": {
        "colab": {
          "base_uri": "https://localhost:8080/"
        },
        "id": "dbG3XlnCy2cd",
        "outputId": "3650551d-11b1-4d77-8e15-c5c81f56e25e"
      },
      "execution_count": null,
      "outputs": [
        {
          "output_type": "stream",
          "name": "stdout",
          "text": [
            "Armstrong\n"
          ]
        }
      ]
    },
    {
      "cell_type": "code",
      "source": [
        "# Find Factorial of a Number\n",
        "num=int(input('Enter the number : '))\n",
        "fact=1\n",
        "for i in range(1,num+1):\n",
        "  fact=fact*i\n",
        "print(fact)"
      ],
      "metadata": {
        "colab": {
          "base_uri": "https://localhost:8080/"
        },
        "id": "UyzDTeCczg3U",
        "outputId": "35f1de0f-0dba-4e56-c1ba-e9f13ddb30a3"
      },
      "execution_count": null,
      "outputs": [
        {
          "output_type": "stream",
          "name": "stdout",
          "text": [
            "Enter the number : 5\n",
            "120\n"
          ]
        }
      ]
    },
    {
      "cell_type": "code",
      "source": [
        "#  Print Fibonacci Series up to N Terms\n",
        "n=int(input('Enter the number : '))\n",
        "a,b=0,1\n",
        "for i in range(n):\n",
        "  print(a,end=' ')\n",
        "  a,b=b,a+b"
      ],
      "metadata": {
        "colab": {
          "base_uri": "https://localhost:8080/"
        },
        "id": "Llt5cW8X0wX-",
        "outputId": "dc2d0044-7ee5-4290-aab8-78e9e3a1dbf7"
      },
      "execution_count": null,
      "outputs": [
        {
          "output_type": "stream",
          "name": "stdout",
          "text": [
            "Enter the number : 5\n",
            "0 1 1 2 3 "
          ]
        }
      ]
    },
    {
      "cell_type": "code",
      "source": [
        "# Find the Sum of Digits of a Number\n",
        "n=int(input('Enter the number : '))\n",
        "temp=n\n",
        "sum=0\n",
        "while n>0:\n",
        "  rem=n%10\n",
        "  sum=sum+rem\n",
        "  n=n//10\n",
        "print(sum)"
      ],
      "metadata": {
        "id": "43PsWl4C1GA9"
      },
      "execution_count": null,
      "outputs": []
    }
  ]
}